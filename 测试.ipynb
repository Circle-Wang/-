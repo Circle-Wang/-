{
 "cells": [
  {
   "cell_type": "markdown",
   "metadata": {},
   "source": [
    "### 读取单行"
   ]
  },
  {
   "cell_type": "code",
   "execution_count": null,
   "metadata": {},
   "outputs": [],
   "source": [
    "while True :\n",
    "    try:\n",
    "        a, b = map(int, input().strip().split())\n",
    "        print(a+b)\n",
    "    except:\n",
    "        break\n",
    "\n",
    "import sys \n",
    "for line in sys.stdin:\n",
    "    a = line.split()\n",
    "    print(int(a[0]) + int(a[1]))"
   ]
  },
  {
   "cell_type": "markdown",
   "metadata": {},
   "source": [
    "### 读取多行"
   ]
  },
  {
   "cell_type": "code",
   "execution_count": null,
   "metadata": {},
   "outputs": [],
   "source": [
    "n = int(input())\n",
    "for i in range(n):\n",
    "    a, b = map(int, input().strip().split())\n",
    "    print(a,b)"
   ]
  },
  {
   "cell_type": "markdown",
   "metadata": {},
   "source": [
    "### 组合数与排列\n",
    "- itertools.permutations(iterable, r=None): 生成排列情况\n",
    "- itertools.combinations(iterable, r=None): 生成组合情况"
   ]
  },
  {
   "cell_type": "code",
   "execution_count": null,
   "metadata": {},
   "outputs": [],
   "source": [
    "import math\n",
    "# 定义n和m\n",
    "n = 3\n",
    "m = 2\n",
    "# 计算排列数 A_n^m\n",
    "A_n_m = math.factorial(n) / math.factorial(n - m)\n",
    "\n",
    "def pai_lie(a,b):\n",
    "    result = 1\n",
    "    for i in range(b):\n",
    "        result *= (a-i)\n",
    "    # 可以使用 阶乘\n",
    "    # result = math.factorial(n) / math.factorial(n - m)\n",
    "    return result\n",
    "\n",
    "def zu_he(a,b):\n",
    "    return int(pai_lie(a,b)/pai_lie(b,b))\n",
    "\n",
    "zu_he(4,2)\n"
   ]
  },
  {
   "cell_type": "code",
   "execution_count": null,
   "metadata": {},
   "outputs": [],
   "source": [
    "# 直接使用math模块\n",
    "# 使用math模块中的comb函数计算组合数C(5, 2)\n",
    "math.comb(5, 6)\n",
    " \n",
    "# 使用math模块中的perm函数计算排列数P(5, 2)\n",
    "math.perm(5, 2)"
   ]
  },
  {
   "cell_type": "markdown",
   "metadata": {},
   "source": [
    "[最大子数组和](https://leetcode.cn/problems/maximum-subarray/description/)\n",
    "\n",
    "- 状态定义: dp[n]表示以第n位置结尾的子数组的最大和\n",
    "- 状态转移: dp[n] = max(dp[n-1]+nums[n],nums[n])"
   ]
  },
  {
   "cell_type": "code",
   "execution_count": null,
   "metadata": {},
   "outputs": [],
   "source": [
    "def process(nums):\n",
    "\n",
    "    dp = [0 for _ in nums]\n",
    "    dp[0] = ans = nums[0]\n",
    "\n",
    "    for i in range(1, len(nums)):\n",
    "        dp[i] = max(dp[i-1]+nums[i], nums[i])\n",
    "        ans = max(dp[i],ans)\n",
    "\n",
    "    return ans\n",
    "\n",
    "nums = [1,2,-1,-2,2,1,-2,1,4,-5,4]\n",
    "process(nums)\n"
   ]
  },
  {
   "cell_type": "markdown",
   "metadata": {},
   "source": [
    "dp[i]: 表示以i结尾的有效子序列个数\n",
    "\n",
    "dfs(pre, pre_pre, index): 截止到index位置最大的有效子串\n",
    "\n"
   ]
  },
  {
   "cell_type": "code",
   "execution_count": 53,
   "metadata": {},
   "outputs": [
    {
     "data": {
      "text/plain": [
       "4"
      ]
     },
     "execution_count": 53,
     "metadata": {},
     "output_type": "execute_result"
    }
   ],
   "source": [
    "from functools import cache\n",
    "\n",
    "def process(nums):\n",
    "    res = 0\n",
    "    @cache\n",
    "    def dfs(ans, index):\n",
    "        nonlocal res\n",
    "        if index >= len(nums):\n",
    "            res = max(res, len(ans))\n",
    "            return \n",
    "        \n",
    "        if len(ans) < 2:\n",
    "            dfs(tuple(list(ans) + [nums[index]]), index+1)\n",
    "        elif (nums[index] + ans[-1]) % 2 ==  (ans[-1] + ans[-2]) % 2:\n",
    "            dfs(tuple(list(ans) + [nums[index]]), index+1)\n",
    "        \n",
    "        dfs(ans, index+1)\n",
    "    \n",
    "    for i, num in enumerate(nums):\n",
    "        dfs((num,), i+1)\n",
    "\n",
    "    return res\n",
    "    \n",
    "\n",
    "   \n",
    "nums = [1,7,8,7,5]\n",
    "process(nums)"
   ]
  },
  {
   "cell_type": "code",
   "execution_count": 52,
   "metadata": {},
   "outputs": [
    {
     "data": {
      "text/plain": [
       "[1, 2]"
      ]
     },
     "execution_count": 52,
     "metadata": {},
     "output_type": "execute_result"
    }
   ],
   "source": [
    "tuple"
   ]
  },
  {
   "cell_type": "code",
   "execution_count": 17,
   "metadata": {},
   "outputs": [
    {
     "data": {
      "text/plain": [
       "1"
      ]
     },
     "execution_count": 17,
     "metadata": {},
     "output_type": "execute_result"
    }
   ],
   "source": [
    "[1,5,9,4,2] 3"
   ]
  },
  {
   "cell_type": "code",
   "execution_count": null,
   "metadata": {},
   "outputs": [],
   "source": []
  }
 ],
 "metadata": {
  "interpreter": {
   "hash": "0aea4d3bd9f517439094973d7e036bbe588c23e6e36cf8d45d53b47a8a90b2b4"
  },
  "kernelspec": {
   "display_name": "Python 3.8.6 64-bit",
   "language": "python",
   "name": "python3"
  },
  "language_info": {
   "codemirror_mode": {
    "name": "ipython",
    "version": 3
   },
   "file_extension": ".py",
   "mimetype": "text/x-python",
   "name": "python",
   "nbconvert_exporter": "python",
   "pygments_lexer": "ipython3",
   "version": "3.11.7"
  },
  "orig_nbformat": 4
 },
 "nbformat": 4,
 "nbformat_minor": 2
}
