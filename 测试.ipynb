{
 "cells": [
  {
   "cell_type": "markdown",
   "metadata": {},
   "source": [
    "### 读取单行"
   ]
  },
  {
   "cell_type": "code",
   "execution_count": null,
   "metadata": {},
   "outputs": [],
   "source": [
    "while True :\n",
    "    try:\n",
    "        a, b = map(int, input().strip().split())\n",
    "        print(a+b)\n",
    "    except:\n",
    "        break\n",
    "\n",
    "import sys \n",
    "for line in sys.stdin:\n",
    "    a = line.split()\n",
    "    print(int(a[0]) + int(a[1]))"
   ]
  },
  {
   "cell_type": "markdown",
   "metadata": {},
   "source": [
    "### 读取多行"
   ]
  },
  {
   "cell_type": "code",
   "execution_count": null,
   "metadata": {},
   "outputs": [],
   "source": [
    "n = int(input())\n",
    "for i in range(n):\n",
    "    a, b = map(int, input().strip().split())\n",
    "    print(a,b)"
   ]
  },
  {
   "cell_type": "markdown",
   "metadata": {},
   "source": [
    "### 组合数与排列\n",
    "- itertools.permutations(iterable, r=None): 生成排列情况\n",
    "- itertools.combinations(iterable, r=None): 生成组合情况"
   ]
  },
  {
   "cell_type": "code",
   "execution_count": null,
   "metadata": {},
   "outputs": [],
   "source": [
    "import math\n",
    "# 定义n和m\n",
    "n = 3\n",
    "m = 2\n",
    "# 计算排列数 A_n^m\n",
    "A_n_m = math.factorial(n) / math.factorial(n - m)\n",
    "\n",
    "def pai_lie(a,b):\n",
    "    result = 1\n",
    "    for i in range(b):\n",
    "        result *= (a-i)\n",
    "    # 可以使用 阶乘\n",
    "    # result = math.factorial(n) / math.factorial(n - m)\n",
    "    return result\n",
    "\n",
    "def zu_he(a,b):\n",
    "    return int(pai_lie(a,b)/pai_lie(b,b))\n",
    "\n",
    "zu_he(4,2)\n"
   ]
  },
  {
   "cell_type": "code",
   "execution_count": null,
   "metadata": {},
   "outputs": [],
   "source": [
    "# 直接使用math模块\n",
    "# 使用math模块中的comb函数计算组合数C(5, 2)\n",
    "math.comb(5, 6)\n",
    " \n",
    "# 使用math模块中的perm函数计算排列数P(5, 2)\n",
    "math.perm(5, 2)"
   ]
  },
  {
   "cell_type": "markdown",
   "metadata": {},
   "source": [
    "[最大子数组和](https://leetcode.cn/problems/maximum-subarray/description/)\n",
    "\n",
    "- 状态定义: dp[n]表示以第n位置结尾的子数组的最大和\n",
    "- 状态转移: dp[n] = max(dp[n-1]+nums[n],nums[n])"
   ]
  },
  {
   "cell_type": "code",
   "execution_count": null,
   "metadata": {},
   "outputs": [],
   "source": [
    "def process(nums):\n",
    "\n",
    "    dp = [0 for _ in nums]\n",
    "    dp[0] = ans = nums[0]\n",
    "\n",
    "    for i in range(1, len(nums)):\n",
    "        dp[i] = max(dp[i-1]+nums[i], nums[i])\n",
    "        ans = max(dp[i],ans)\n",
    "\n",
    "    return ans\n",
    "\n",
    "nums = [1,2,-1,-2,2,1,-2,1,4,-5,4]\n",
    "process(nums)\n"
   ]
  },
  {
   "cell_type": "code",
   "execution_count": null,
   "metadata": {},
   "outputs": [],
   "source": []
  },
  {
   "cell_type": "markdown",
   "metadata": {},
   "source": [
    "## 406周赛"
   ]
  },
  {
   "cell_type": "code",
   "execution_count": 4,
   "metadata": {},
   "outputs": [
    {
     "data": {
      "text/plain": [
       "'001'"
      ]
     },
     "execution_count": 4,
     "metadata": {},
     "output_type": "execute_result"
    }
   ],
   "source": [
    "def process(s):\n",
    "    s_list = list(s)\n",
    "    for i in range(len(s_list)-1):\n",
    "        if s_list[i+1] < s_list[i] and  (int(s_list[i+1]) %2 == int(s_list[i])%2):\n",
    "            s_list[i], s_list[i+1] = s_list[i+1], s_list[i]\n",
    "            break\n",
    "    return \"\".join(s_list)\n",
    "\n",
    "process(\"001\")"
   ]
  },
  {
   "cell_type": "code",
   "execution_count": null,
   "metadata": {},
   "outputs": [],
   "source": [
    "def process(nums, head):\n",
    "    nums = set(nums)\n",
    "    while head.val in nums:\n",
    "        head = head.next\n",
    "    # 找到第一个不再nums中的头节点\n",
    "    root = head\n",
    "    cur_node = head.next\n",
    "    pre_node = head\n",
    "\n",
    "    while cur_node != None:\n",
    "        if cur_node.val in nums:\n",
    "            pre_node.next = cur_node.next\n",
    "            cur_node = cur_node.next\n",
    "        else:\n",
    "            pre_node = cur_node\n",
    "            cur_node = cur_node.next\n",
    "    return root\n"
   ]
  },
  {
   "cell_type": "code",
   "execution_count": 21,
   "metadata": {},
   "outputs": [
    {
     "name": "stdout",
     "output_type": "stream",
     "text": [
      "[(5, 1), (5, 0), (4, 1), (3, 1), (3, 1), (2, 1), (1, 1), (1, 1)]\n"
     ]
    },
    {
     "data": {
      "text/plain": [
       "43"
      ]
     },
     "execution_count": 21,
     "metadata": {},
     "output_type": "execute_result"
    }
   ],
   "source": [
    "import heapq\n",
    "def process(m, n, horizontalCut, verticalCut):\n",
    "    cost = []\n",
    "    horizontalCut.sort()\n",
    "    verticalCut.sort()\n",
    "    while horizontalCut != [] or verticalCut != []:\n",
    "        if horizontalCut == []:\n",
    "            cost.append((verticalCut.pop(), 0))\n",
    "            continue\n",
    "        if verticalCut == []:\n",
    "            cost.append((horizontalCut.pop(), 1))\n",
    "            continue\n",
    "        h = horizontalCut[-1]\n",
    "        v = verticalCut[-1]\n",
    "        if h > v:\n",
    "            cost.append((horizontalCut.pop(), 1))\n",
    "        elif h < v:\n",
    "            cost.append((verticalCut.pop(), 0))\n",
    "        elif h==v:\n",
    "            pre_direct = cost[-1][1] if cost != [] else 1\n",
    "            if pre_direct == 1:\n",
    "                cost.append((horizontalCut.pop(), 1))\n",
    "            else:\n",
    "                cost.append((verticalCut.pop(), 0))\n",
    "\n",
    "    x_direct = 1\n",
    "    y_direct = 1\n",
    "    ans = 0\n",
    "    for cur_cost, cur_dirct in cost:\n",
    "        if cur_dirct == 1:\n",
    "            x_direct += 1\n",
    "            ans += y_direct * cur_cost\n",
    "        else:\n",
    "            y_direct += 1\n",
    "            ans += x_direct * cur_cost\n",
    "    return ans\n",
    "\n",
    "m = 8\n",
    "n = 2\n",
    "horizontalCut = [2,4,3,3,5,1,1]\n",
    "verticalCut = [5]\n",
    "process(m, n, horizontalCut, verticalCut)"
   ]
  },
  {
   "cell_type": "markdown",
   "metadata": {},
   "source": [
    "## 双周赛135"
   ]
  },
  {
   "cell_type": "code",
   "execution_count": 7,
   "metadata": {},
   "outputs": [
    {
     "data": {
      "text/plain": [
       "2"
      ]
     },
     "execution_count": 7,
     "metadata": {},
     "output_type": "execute_result"
    }
   ],
   "source": [
    "import collections\n",
    "def process(s):\n",
    "    ans = 0\n",
    "    s_dict = collections.defaultdict(int)\n",
    "    for i in s:\n",
    "        s_dict[i] += 1\n",
    "        s_dict[i] = 1 if s_dict[i]%3 == 0 else s_dict[i]%3\n",
    "    for i, key in s_dict.items():\n",
    "        ans += key\n",
    "    return ans\n",
    "\n",
    "process(\"aa\")"
   ]
  },
  {
   "cell_type": "code",
   "execution_count": 24,
   "metadata": {},
   "outputs": [
    {
     "data": {
      "text/plain": [
       "5"
      ]
     },
     "execution_count": 24,
     "metadata": {},
     "output_type": "execute_result"
    }
   ],
   "source": [
    "import collections\n",
    "\n",
    "def process(nums, k):\n",
    "    n = len(nums)\n",
    "    s_dict = collections.defaultdict(int)\n",
    "\n",
    "    for i in range(n // 2):\n",
    "        num1 = nums[i]\n",
    "        num2 = nums[n-i-1]\n",
    "        s_dict[abs(num1- num2)] += 1\n",
    "\n",
    "\n",
    "    ans = float(\"inf\")\n",
    "    # print(s_dict)\n",
    "    for x in s_dict:\n",
    "        if (n - s_dict[x]*2) // 2 > ans:\n",
    "            continue\n",
    "        tmp = 0\n",
    "        for i in range(n // 2):\n",
    "            num1 = nums[i]\n",
    "            num2 = nums[n-i-1]\n",
    "            if abs(num1 - num2) == x:\n",
    "                continue\n",
    "            if 0 <= x <= max(max(num1, num2), k-min(num1, num2)):\n",
    "                tmp += 1\n",
    "            else:\n",
    "                tmp += 2\n",
    "        ans = min(ans, tmp)\n",
    "        # print(x, ans)\n",
    "    return ans\n",
    "\n",
    "nums = [1,10,5,1,4,6,4,2,4,9,7,9,0,11]\n",
    "k = 12\n",
    "process(nums, k)"
   ]
  },
  {
   "cell_type": "code",
   "execution_count": 9,
   "metadata": {},
   "outputs": [
    {
     "data": {
      "text/plain": [
       "2"
      ]
     },
     "execution_count": 9,
     "metadata": {},
     "output_type": "execute_result"
    }
   ],
   "source": [
    "# 一对数字 只改变一次最大的范围为[0, max(max(num1, num2), k-min(num1, num2))]"
   ]
  },
  {
   "cell_type": "code",
   "execution_count": null,
   "metadata": {},
   "outputs": [],
   "source": [
    "import collections\n",
    "\n",
    "def process(nums, k):\n",
    "    n = len(nums)\n",
    "    s_dict = collections.defaultdict(int)\n",
    "    x = 0\n",
    "    max_count = 0\n",
    "    for i in range(n // 2):\n",
    "        s_dict[abs(nums[i] - nums[n-i-1])] += 1\n",
    "        if s_dict[abs(nums[i]- nums[n-i-1])] > max_count:\n",
    "            max_count = s_dict[abs(nums[i]- nums[n-i-1])]\n",
    "            x = abs(nums[i]- nums[n-i-1])\n",
    "    ans = 0\n",
    "    for i in range(n // 2):\n",
    "        num1 = nums[i]\n",
    "        num2 = nums[n-i-1]\n",
    "        if abs(num1- num2) == x:\n",
    "            continue\n",
    "        if 0 <= x <= max(max(num1, num2), k-min(num1, num2)):\n",
    "            ans += 1\n",
    "        else:\n",
    "            ans += 2\n",
    "\n",
    "    return ans\n",
    "\n",
    "nums = [0,1,2,3,3,6,5,4]\n",
    "k = 6\n",
    "process(nums, k)"
   ]
  }
 ],
 "metadata": {
  "interpreter": {
   "hash": "0aea4d3bd9f517439094973d7e036bbe588c23e6e36cf8d45d53b47a8a90b2b4"
  },
  "kernelspec": {
   "display_name": "Python 3.8.6 64-bit",
   "language": "python",
   "name": "python3"
  },
  "language_info": {
   "codemirror_mode": {
    "name": "ipython",
    "version": 3
   },
   "file_extension": ".py",
   "mimetype": "text/x-python",
   "name": "python",
   "nbconvert_exporter": "python",
   "pygments_lexer": "ipython3",
   "version": "3.12.4"
  },
  "orig_nbformat": 4
 },
 "nbformat": 4,
 "nbformat_minor": 2
}
