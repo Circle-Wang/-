{
 "cells": [
  {
   "cell_type": "markdown",
   "metadata": {},
   "source": [
    "### 读取单行"
   ]
  },
  {
   "cell_type": "code",
   "execution_count": null,
   "metadata": {},
   "outputs": [],
   "source": [
    "while True :\n",
    "    try:\n",
    "        a, b = map(int, input().strip().split())\n",
    "        print(a+b)\n",
    "    except:\n",
    "        break\n",
    "\n",
    "import sys \n",
    "for line in sys.stdin:\n",
    "    a = line.split()\n",
    "    print(int(a[0]) + int(a[1]))"
   ]
  },
  {
   "cell_type": "code",
   "execution_count": null,
   "metadata": {},
   "outputs": [],
   "source": [
    "arr = ['1', '1', '1', '2', '2', '2', '3']\n",
    "num_cong = arr[0]\n",
    "num_conut = 1\n",
    "reslut = 0 \n",
    "for i in range(1, len(arr)):\n",
    "    if arr[i] == num_cong:\n",
    "        num_conut += 1\n",
    "    else:\n",
    "        reslut += num_conut//2\n",
    "        num_cong = arr[i]\n",
    "        num_conut = 1\n",
    "reslut += num_conut//2\n",
    "reslut"
   ]
  },
  {
   "cell_type": "code",
   "execution_count": null,
   "metadata": {},
   "outputs": [],
   "source": [
    "sorted"
   ]
  },
  {
   "cell_type": "code",
   "execution_count": null,
   "metadata": {},
   "outputs": [],
   "source": [
    "def pai_lie(a,b):\n",
    "    result = 1\n",
    "    for i in range(b):\n",
    "        result *= (a-i)\n",
    "    return result\n",
    "pai_lie(4,3)"
   ]
  },
  {
   "cell_type": "code",
   "execution_count": null,
   "metadata": {},
   "outputs": [],
   "source": [
    "n = 3\n",
    "p = 0.5\n",
    "res = 0\n",
    "for k in range(1,n):\n",
    "    if (pai_lie(n, k)/pow(n,k)) < (1-p):\n",
    "        res = k\n",
    "        break\n",
    "res"
   ]
  },
  {
   "cell_type": "code",
   "execution_count": null,
   "metadata": {},
   "outputs": [],
   "source": [
    "def pai_lie(a,b):\n",
    "    result = 1\n",
    "    for i in range(b):\n",
    "        result *= (a-i)\n",
    "    return result\n",
    "\n",
    "def zu_he(a,b):\n",
    "    return int(pai_lie(a,b)/pai_lie(b,b))\n",
    "\n",
    "\n",
    "zu_he(4,2)"
   ]
  },
  {
   "cell_type": "code",
   "execution_count": null,
   "metadata": {},
   "outputs": [],
   "source": [
    "a = dict()\n",
    "a[(1,2)] =3"
   ]
  },
  {
   "cell_type": "markdown",
   "metadata": {},
   "source": [
    "### 读取多行"
   ]
  },
  {
   "cell_type": "code",
   "execution_count": null,
   "metadata": {},
   "outputs": [],
   "source": [
    "n = int(input())\n",
    "for i in range(n):\n",
    "    a, b = map(int, input().strip().split())\n",
    "    print(a,b)"
   ]
  },
  {
   "cell_type": "code",
   "execution_count": null,
   "metadata": {},
   "outputs": [],
   "source": [
    "\n",
    "a = [1,2,3,4]\n",
    "iterator = iter(a)\n",
    "print(next(iterator))\n",
    "a.pop(0)\n",
    "print(next(iterator))"
   ]
  },
  {
   "cell_type": "code",
   "execution_count": null,
   "metadata": {},
   "outputs": [],
   "source": [
    "import math\n",
    "math.floor(1.2)"
   ]
  },
  {
   "cell_type": "code",
   "execution_count": null,
   "metadata": {},
   "outputs": [],
   "source": [
    "4//2"
   ]
  },
  {
   "cell_type": "markdown",
   "metadata": {},
   "source": [
    "### 组合数与排列数\n",
    "- itertools.permutations(iterable, r=None): 生成排列情况\n",
    "- itertools.combinations(iterable, r=None): 生成组合情况\n",
    "- "
   ]
  },
  {
   "cell_type": "code",
   "execution_count": null,
   "metadata": {},
   "outputs": [],
   "source": [
    "import math\n",
    "# 定义n和m\n",
    "n = 3\n",
    "m = 2\n",
    "# 计算排列数 A_n^m\n",
    "A_n_m = math.factorial(n) / math.factorial(n - m)\n",
    "\n",
    "def pai_lie(n,m):\n",
    "    # 其中n>m\n",
    "    result = math.factorial(n) / math.factorial(n - m)\n",
    "    return result\n",
    "\n",
    "def zu_he(a,b):\n",
    "    return int(pai_lie(a,b)/pai_lie(b,b))\n",
    "\n",
    "\n",
    "zu_he(4,2)"
   ]
  },
  {
   "cell_type": "markdown",
   "metadata": {},
   "source": [
    "[最大子数组和](https://leetcode.cn/problems/maximum-subarray/description/)\n",
    "\n",
    "- 状态定义: dp[n]表示以第n位置结尾的子数组的最大和\n",
    "- 状态转移: dp[n] = max(dp[n-1]+nums[n],nums[n])"
   ]
  },
  {
   "cell_type": "code",
   "execution_count": null,
   "metadata": {},
   "outputs": [],
   "source": [
    "def process(nums):\n",
    "\n",
    "    dp = [0 for _ in nums]\n",
    "    dp[0] = ans = nums[0]\n",
    "\n",
    "    for i in range(1, len(nums)):\n",
    "        dp[i] = max(dp[i-1]+nums[i], nums[i])\n",
    "        ans = max(dp[i],ans)\n",
    "\n",
    "    return ans\n",
    "\n",
    "nums = [1,2,-1,-2,2,1,-2,1,4,-5,4]\n",
    "process(nums)\n"
   ]
  },
  {
   "cell_type": "markdown",
   "metadata": {},
   "source": [
    "## 周赛"
   ]
  },
  {
   "cell_type": "code",
   "execution_count": null,
   "metadata": {},
   "outputs": [],
   "source": [
    "def process(nums, queries):\n",
    "    sum_total = sum(nums)\n",
    "    nums_index = [(num, i) for i, num in enumerate(nums)]\n",
    "    nums_index_sorted = sorted(nums_index)\n",
    "    ans = []\n",
    "    delete_index = set()  # 储存已经被标记过的索引\n",
    "    for index, top_k in queries:\n",
    "        if index not in delete_index:  # 如果没被标记\n",
    "            sum_total -= nums[index]\n",
    "            delete_index.add(index)\n",
    "        while top_k > 0 and len(nums_index_sorted) > 0:\n",
    "            num, index = nums_index_sorted.pop(0)\n",
    "            if index not in delete_index:\n",
    "                sum_total -= nums[index]\n",
    "                delete_index.add(index)\n",
    "                top_k -= 1\n",
    "        ans.append(sum_total)\n",
    "    return ans\n",
    "\n",
    "nums = [1,2,2,1,2,3,1]\n",
    "queries = [[1,2],[3,3],[4,2]]\n",
    "process(nums, queries)"
   ]
  },
  {
   "cell_type": "code",
   "execution_count": null,
   "metadata": {},
   "outputs": [],
   "source": [
    "from heapq import *\n",
    "import string\n",
    "\n",
    "def process(s):\n",
    "    ans = []\n",
    "    alphabet_dict = {char: 0 for char in string.ascii_lowercase}\n",
    "    wenhao_count = 0\n",
    "    for letter in s:\n",
    "        if letter == '?':\n",
    "            wenhao_count += 1\n",
    "        else:\n",
    "            alphabet_dict[letter] += 1\n",
    "    letter_count = [(count, letter) for letter, count in alphabet_dict.items()]\n",
    "    heapify(letter_count)\n",
    "\n",
    "    beixun_letter = []\n",
    "    for _ in range(wenhao_count):\n",
    "        count, letter = heappop(letter_count)\n",
    "        beixun_letter.append(letter)\n",
    "        heappush(letter_count, (count + 1, letter))\n",
    "    beixun_letter.sort()\n",
    "    print(beixun_letter)\n",
    "    for word in s:\n",
    "        if word == '?':\n",
    "            new_word = beixun_letter.pop(0)\n",
    "            ans.append(new_word)\n",
    "        else:\n",
    "            ans.append(word)\n",
    "    print(ans)\n",
    "    return \"\".join(ans)\n",
    "\n",
    "s = \"g?xvgroui??xk?zqb?da?jan?cdhtksme\"\n",
    "process(s)"
   ]
  },
  {
   "cell_type": "code",
   "execution_count": null,
   "metadata": {},
   "outputs": [],
   "source": []
  }
 ],
 "metadata": {
  "interpreter": {
   "hash": "0aea4d3bd9f517439094973d7e036bbe588c23e6e36cf8d45d53b47a8a90b2b4"
  },
  "kernelspec": {
   "display_name": "Python 3.8.6 64-bit",
   "language": "python",
   "name": "python3"
  },
  "language_info": {
   "codemirror_mode": {
    "name": "ipython",
    "version": 3
   },
   "file_extension": ".py",
   "mimetype": "text/x-python",
   "name": "python",
   "nbconvert_exporter": "python",
   "pygments_lexer": "ipython3",
   "version": "0.0.0"
  },
  "orig_nbformat": 4
 },
 "nbformat": 4,
 "nbformat_minor": 2
}
