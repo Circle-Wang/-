{
 "cells": [
  {
   "cell_type": "code",
   "execution_count": 2,
   "metadata": {},
   "outputs": [
    {
     "name": "stderr",
     "output_type": "stream",
     "text": [
      "<>:2: SyntaxWarning: \"is\" with a literal. Did you mean \"==\"?\n",
      "<>:2: SyntaxWarning: \"is\" with a literal. Did you mean \"==\"?\n",
      "C:\\Users\\CIRCLE~1\\AppData\\Local\\Temp/ipykernel_18296/2007225919.py:2: SyntaxWarning: \"is\" with a literal. Did you mean \"==\"?\n",
      "  a is \"None\"\n"
     ]
    },
    {
     "data": {
      "text/plain": [
       "True"
      ]
     },
     "execution_count": 2,
     "metadata": {},
     "output_type": "execute_result"
    }
   ],
   "source": [
    "a = 'None'\n",
    "a is \"None\""
   ]
  },
  {
   "cell_type": "code",
   "execution_count": null,
   "metadata": {},
   "outputs": [],
   "source": [
    "while True :\n",
    "    try:\n",
    "        a, b = map(int, input().strip().split())\n",
    "        print(a+b)\n",
    "    except:\n",
    "        break\n"
   ]
  },
  {
   "cell_type": "code",
   "execution_count": null,
   "metadata": {},
   "outputs": [],
   "source": [
    "n = int(input())\n",
    "for i in range(n):\n",
    "    a, b = map(int, input().strip().split())\n",
    "    print(a,b)"
   ]
  },
  {
   "cell_type": "code",
   "execution_count": null,
   "metadata": {},
   "outputs": [],
   "source": [
    "n = int(input())\n",
    "for i in range(n):\n",
    "    x, y = map(int, input().strip().split())\n",
    "    count = 0\n",
    "    if x > y:\n",
    "        while x != y:\n",
    "            if x%3 == 0:\n",
    "                x = x/3\n",
    "                count += 1\n",
    "            else:\n",
    "                x += 1\n",
    "                count += 1\n",
    "        print(count)\n",
    "    elif x < y:\n",
    "        count = y-x\n",
    "        print(count)\n",
    "    else:\n",
    "        print(count)"
   ]
  },
  {
   "cell_type": "code",
   "execution_count": 19,
   "metadata": {},
   "outputs": [
    {
     "name": "stdout",
     "output_type": "stream",
     "text": [
      "2\n"
     ]
    }
   ],
   "source": [
    "x, y = 4, 6\n",
    "count = 0\n",
    "if x > y:\n",
    "    while x != y:\n",
    "        if x%3 == 0:\n",
    "            x = x/3\n",
    "            count += 1\n",
    "        else:\n",
    "            x += 1\n",
    "            count += 1\n",
    "    print(count)\n",
    "elif x < y:\n",
    "    count = y-x\n",
    "    print(count)\n",
    "else:\n",
    "    print(count)"
   ]
  },
  {
   "cell_type": "code",
   "execution_count": 2,
   "metadata": {},
   "outputs": [],
   "source": [
    "n = 3\n",
    "path = [[0, 0, 0, 0], \n",
    "        [0, 0, 1, 1], \n",
    "        [0, 1, 0, 1], \n",
    "        [0, 0, 1, 0]]\n",
    "weight = [[0, 0, 0, 0], \n",
    "        [0, 0, 3, 4], \n",
    "        [0, 3, 0, 5], \n",
    "        [0, 4, 5, 0]]\n",
    "\n",
    "## i 到j 安全承重\n",
    "def dps(i, k):\n",
    "    if path[i][k] == 1:\n",
    "        security_weight = weight[i][k]\n",
    "    else:\n",
    "        security_weight = float('-inf')\n",
    "\n",
    "    # 到k的其他路径\n",
    "    for j in range(len(path[i])):\n",
    "        if path[i][j] == 1:\n",
    "            security_weight = max(min(dps(j, k), weight[i][j]), security_weight)\n",
    "    return security_weight\n",
    "\n",
    "# dps(3,1)"
   ]
  },
  {
   "cell_type": "code",
   "execution_count": 21,
   "metadata": {},
   "outputs": [
    {
     "data": {
      "text/plain": [
       "False"
      ]
     },
     "execution_count": 21,
     "metadata": {},
     "output_type": "execute_result"
    }
   ],
   "source": [
    "float('-inf') > 1"
   ]
  },
  {
   "cell_type": "code",
   "execution_count": null,
   "metadata": {},
   "outputs": [],
   "source": []
  }
 ],
 "metadata": {
  "interpreter": {
   "hash": "9afc2b4a137c1ef260a208b8b14dcafe0c511635e698b6a7b46f192005b0a3f6"
  },
  "kernelspec": {
   "display_name": "Python 3.8.6 64-bit",
   "language": "python",
   "name": "python3"
  },
  "language_info": {
   "codemirror_mode": {
    "name": "ipython",
    "version": 3
   },
   "file_extension": ".py",
   "mimetype": "text/x-python",
   "name": "python",
   "nbconvert_exporter": "python",
   "pygments_lexer": "ipython3",
   "version": "3.8.6"
  },
  "orig_nbformat": 4
 },
 "nbformat": 4,
 "nbformat_minor": 2
}
