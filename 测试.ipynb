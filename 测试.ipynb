{
 "cells": [
  {
   "cell_type": "markdown",
   "metadata": {},
   "source": [
    "### 读取单行"
   ]
  },
  {
   "cell_type": "code",
   "execution_count": null,
   "metadata": {},
   "outputs": [],
   "source": [
    "while True :\n",
    "    try:\n",
    "        a, b = map(int, input().strip().split())\n",
    "        print(a+b)\n",
    "    except:\n",
    "        break\n",
    "\n",
    "\n",
    "import sys \n",
    "for line in sys.stdin:\n",
    "    a = line.split()\n",
    "    print(int(a[0]) + int(a[1]))"
   ]
  },
  {
   "cell_type": "code",
   "execution_count": null,
   "metadata": {},
   "outputs": [],
   "source": [
    "arr = ['1', '1', '1', '2', '2', '2', '3']\n",
    "num_cong = arr[0]\n",
    "num_conut = 1\n",
    "reslut = 0 \n",
    "for i in range(1, len(arr)):\n",
    "    if arr[i] == num_cong:\n",
    "        num_conut += 1\n",
    "    else:\n",
    "        reslut += num_conut//2\n",
    "        num_cong = arr[i]\n",
    "        num_conut = 1\n",
    "reslut += num_conut//2\n",
    "reslut"
   ]
  },
  {
   "cell_type": "code",
   "execution_count": null,
   "metadata": {},
   "outputs": [],
   "source": [
    "sorted"
   ]
  },
  {
   "cell_type": "code",
   "execution_count": null,
   "metadata": {},
   "outputs": [],
   "source": [
    "def pai_lie(a,b):\n",
    "    result = 1\n",
    "    for i in range(b):\n",
    "        result *= (a-i)\n",
    "    return result\n",
    "pai_lie(4,3)"
   ]
  },
  {
   "cell_type": "code",
   "execution_count": null,
   "metadata": {},
   "outputs": [],
   "source": [
    "n = 3\n",
    "p = 0.5\n",
    "res = 0\n",
    "for k in range(1,n):\n",
    "    if (pai_lie(n, k)/pow(n,k)) < (1-p):\n",
    "        res = k\n",
    "        break\n",
    "res"
   ]
  },
  {
   "cell_type": "code",
   "execution_count": null,
   "metadata": {},
   "outputs": [],
   "source": [
    "def pai_lie(a,b):\n",
    "    result = 1\n",
    "    for i in range(b):\n",
    "        result *= (a-i)\n",
    "    return result\n",
    "\n",
    "def zu_he(a,b):\n",
    "    return int(pai_lie(a,b)/pai_lie(b,b))\n",
    "\n",
    "\n",
    "zu_he(4,2)"
   ]
  },
  {
   "cell_type": "code",
   "execution_count": null,
   "metadata": {},
   "outputs": [],
   "source": [
    "a = dict()\n",
    "a[(1,2)] =3"
   ]
  },
  {
   "cell_type": "markdown",
   "metadata": {},
   "source": [
    "### 读取多行"
   ]
  },
  {
   "cell_type": "code",
   "execution_count": null,
   "metadata": {},
   "outputs": [],
   "source": [
    "n = int(input())\n",
    "for i in range(n):\n",
    "    a, b = map(int, input().strip().split())\n",
    "    print(a,b)"
   ]
  },
  {
   "cell_type": "code",
   "execution_count": null,
   "metadata": {},
   "outputs": [],
   "source": [
    "from collections import defaultdict, Counter\n",
    "b = defaultdict(list)"
   ]
  },
  {
   "cell_type": "code",
   "execution_count": null,
   "metadata": {},
   "outputs": [],
   "source": [
    "a = 1 << (ord('a') - ord('a'))\n",
    "b = 1 << (ord('b') - ord('a'))\n",
    "c = 1 << (ord('c') - ord('a'))\n",
    "print(bin(a))\n",
    "print(bin(b))\n",
    "print(bin(c))"
   ]
  },
  {
   "cell_type": "code",
   "execution_count": null,
   "metadata": {},
   "outputs": [],
   "source": [
    "a = [1,2,3]\n",
    "[i if i>1.5 else 0 for i in a]"
   ]
  },
  {
   "cell_type": "code",
   "execution_count": null,
   "metadata": {},
   "outputs": [],
   "source": [
    "给定一个非负整数 numRows，生成「杨辉三角」的前 numRows 行。\n",
    "\n",
    "在「杨辉三角」中，每个数是它左上方和右上方的数的和。\n",
    "\n",
    "numRows = 5\n",
    "[[1],[1,1],[1,2,1],[1,3,3,1],[1,4,6,4,1]]"
   ]
  },
  {
   "cell_type": "code",
   "execution_count": null,
   "metadata": {},
   "outputs": [],
   "source": [
    "num = 5\n",
    "result = [[1] * (i+1)  for i in range(num)] \n",
    "for i in range(1, num):\n",
    "    for j in range(len(result[i])):\n",
    "        if j - 1 < 0:\n",
    "            result[i][j] = result[i-1][j]\n",
    "        elif j >= len(result[i-1]):\n",
    "            result[i][j] = result[i-1][j-1]\n",
    "        else:\n",
    "            result[i][j] = result[i-1][j-1] + result[i-1][j]\n",
    "result"
   ]
  },
  {
   "cell_type": "code",
   "execution_count": null,
   "metadata": {},
   "outputs": [],
   "source": [
    "def process(num):\n",
    "    result = [[1] * (i+1)  for i in range(num)] \n",
    "    for i in range(1, num):\n",
    "        for j in range(len(result[i])):\n",
    "            if j - 1 < 0:\n",
    "                result[i][j] = result[i-1][j]\n",
    "            elif j >= len(result[i-1]):\n",
    "                result[i][j] = result[i-1][j-1]\n",
    "            else:\n",
    "                result[i][j] = result[i-1][j-1] + result[i-1][j]\n",
    "    return result\n",
    "\n",
    "process(5)     "
   ]
  },
  {
   "cell_type": "code",
   "execution_count": null,
   "metadata": {},
   "outputs": [],
   "source": [
    "res = set()\n",
    "arr = []\n",
    "nums = [1,4,-3,1,15,-9,0]\n",
    "def process(nums, target, arr, res):\n",
    "    if target < 0:\n",
    "        return res\n",
    "    if len(arr) == 3 and target == 0:\n",
    "        res.add(tuple(arr))\n",
    "        return res\n",
    "    \n",
    "    for index, num in enumerate(nums):\n",
    "        process(nums[index+1:], target, arr, res)\n",
    "        process(nums[index+1:], target-num, arr+[num], res)\n",
    "    return res\n",
    "\n",
    "process(nums, 6, arr, res)\n",
    "res2 = [[i,j,k] for i,j,k in res]\n",
    "print(res)\n",
    "res2.sort()\n",
    "res2\n"
   ]
  },
  {
   "attachments": {},
   "cell_type": "markdown",
   "metadata": {},
   "source": [
    "### 三数之和"
   ]
  },
  {
   "cell_type": "code",
   "execution_count": 24,
   "metadata": {},
   "outputs": [
    {
     "name": "stdout",
     "output_type": "stream",
     "text": [
      "1\n",
      "3\n"
     ]
    }
   ],
   "source": [
    "\n",
    "a = [1,2,3,4]\n",
    "iterator = iter(a)\n",
    "print(next(iterator))\n",
    "a.pop(0)\n",
    "print(next(iterator))"
   ]
  },
  {
   "cell_type": "code",
   "execution_count": 27,
   "metadata": {},
   "outputs": [
    {
     "name": "stdout",
     "output_type": "stream",
     "text": [
      "1\n",
      "3\n",
      "[3, 4]\n"
     ]
    }
   ],
   "source": [
    "a = [1,2,3,4]\n",
    "for i in a:\n",
    "    print(i)\n",
    "    a.pop(0)\n",
    "print(a)"
   ]
  },
  {
   "attachments": {},
   "cell_type": "markdown",
   "metadata": {},
   "source": [
    "小美现在有一串彩带，假定每一厘米的彩带上都是一种色彩。\n",
    "\n",
    "因为任务的需要，小美希望从彩带上截取一段，使得彩带中的颜色数量不超过K种。\n",
    "\n",
    "显然，这样的截取方法可能非常多。于是小美决定尽量长地截取一段。\n",
    "\n",
    "你的任务是帮助小美截取尽量长的一段，使得这段彩带上不同的色彩数量不超过K种。\n"
   ]
  },
  {
   "cell_type": "code",
   "execution_count": null,
   "metadata": {},
   "outputs": [],
   "source": [
    "from collections import defaultdict\n",
    "N, K = map(int, input().strip().split())\n",
    "arr = [int(i) for i in input().strip().split()]\n",
    "need = defaultdict(int) \n",
    "right, left = 0, 0\n",
    "longest = -1\n",
    "while right < len(arr):\n",
    "    c = arr[right]  # 进入窗口的字符\n",
    "    right += 1\n",
    "    need[c] += 1\n",
    "    while len(need) > K:\n",
    "        d = arr[left]\n",
    "        need[d] -= 1\n",
    "        if need[d] == 0:\n",
    "            del need[d] \n",
    "        left += 1\n",
    "    if (right-left) > longest:\n",
    "        longest = right-left\n",
    "print(longest)"
   ]
  },
  {
   "attachments": {},
   "cell_type": "markdown",
   "metadata": {},
   "source": [
    "小美在玩一项游戏。该游戏的目标是尽可能抓获敌人。\n",
    "\n",
    "敌人的位置将被一个二维坐标 (x, y) 所描述。\n",
    "\n",
    "小美有一个全屏技能，该技能能一次性将若干敌人一次性捕获。\n",
    "\n",
    "捕获的敌人之间的横坐标的最大差值不能大于A，纵坐标的最大差值不能大于B。\n",
    "\n",
    "现在给出所有敌人的坐标，你的任务是计算小美一次性最多能使用技能捕获多少敌人。"
   ]
  },
  {
   "cell_type": "code",
   "execution_count": null,
   "metadata": {},
   "outputs": [],
   "source": [
    "N,A,B = map(int, input().strip().split())\n",
    "enoy = []\n",
    "for _ in range(N):\n",
    "    enoy.append([int(i) for i in input().strip().split()])\n",
    "def heshi(a, point):\n",
    "    minx = a[0]\n",
    "    maxx = a[1]\n",
    "    miny = a[2]\n",
    "    maxy = a[3]\n",
    "    x = point[0]\n",
    "    y = point[1]\n",
    "    new_minx = min(minx,x)\n",
    "    new_maxx = max(maxx,x)\n",
    "    new_miny = min(miny,y)\n",
    "    new_maxy = max(maxy,y)\n",
    "    if new_maxx - new_minx <= A and new_maxy - new_miny <= B:\n",
    "        a[0] = new_minx\n",
    "        a[1] = new_maxx\n",
    "        a[2] = new_miny\n",
    "        a[3] = new_maxy\n",
    "        return True\n",
    "    else:\n",
    "        return False\n",
    "enoy.sort()\n",
    "point = [[x,x,y,y] for x,y in enoy]\n",
    "count = [0 for _ in range(N)]\n",
    "for x, y in enoy:\n",
    "    for i in range(len(point)):\n",
    "        if heshi(point[i], (x,y)):\n",
    "            count[i] += 1\n",
    "print(max(count))"
   ]
  },
  {
   "attachments": {},
   "cell_type": "markdown",
   "metadata": {},
   "source": [
    "现在小美获得了一个字符串。小美想要使得这个字符串是回文串。\n",
    "\n",
    "小美找到了你。你可以将字符串中至多两个位置改为任意小写英文字符’a’-‘z’。\n",
    "\n",
    "你的任务是帮助小美在当前制约下，获得字典序最小的回文字符串。\n",
    "\n",
    "数据保证能在题目限制下形成回文字符串。\n",
    "\n",
    "注：回文字符串：即一个字符串从前向后和从后向前是完全一致的字符串。\n",
    "\n",
    "例如字符串abcba, aaaa, acca都是回文字符串。字符串abcd, acea都不是回文字符串。"
   ]
  },
  {
   "attachments": {},
   "cell_type": "markdown",
   "metadata": {},
   "source": [
    "现在商店里有N个物品，每个物品有原价和折扣价。\n",
    "\n",
    "小美想要购买商品。小美拥有X元，一共Y张折扣券。\n",
    "\n",
    "小美需要最大化购买商品的数量，并在所购商品数量尽量多的前提下，尽量减少花费。\n",
    "\n",
    "你的任务是帮助小美求出最优情况下的商品购买数量和花费的钱数。"
   ]
  },
  {
   "attachments": {},
   "cell_type": "markdown",
   "metadata": {},
   "source": [
    "给出一些仅包含正整数，加号，乘号和等号的方程，请判断这些方程能否通过插入至多一个数位（若原方程成立则可以不插）使得方程成立。\n",
    "\n",
    "插入一个数位即将方程视为一个字符串，并将一个0到9之间的数插入中间，开头或末尾。"
   ]
  },
  {
   "cell_type": "code",
   "execution_count": null,
   "metadata": {},
   "outputs": [],
   "source": [
    "def yanzheng(strs):\n",
    "    try:\n",
    "        left, right = strs.split(\"=\")\n",
    "        return eval(left) == eval(right)\n",
    "    except:\n",
    "        return False\n",
    "\n",
    "arrs = list(\"11=0*1\")\n",
    "res = False\n",
    "\n",
    "if yanzheng(\"\".join(arrs)):\n",
    "    res = \"Yes\"\n",
    "    print(res)\n",
    "\n",
    "for i in range(len(arrs)+1):\n",
    "    for j in range(10):\n",
    "        arrs.insert(i,f\"{j}\")\n",
    "        print(arrs)\n",
    "        if yanzheng(\"\".join(arrs)):\n",
    "            res = True\n",
    "            break\n",
    "        arrs.pop(i)\n",
    "            \n",
    "    if res == True:\n",
    "        break\n",
    "print(res)"
   ]
  },
  {
   "cell_type": "code",
   "execution_count": null,
   "metadata": {},
   "outputs": [],
   "source": [
    "a = [1,2,3]\n",
    "a.insert(1,100)\n",
    "print(a)\n",
    "a.pop(1)\n",
    "print(a)"
   ]
  },
  {
   "cell_type": "code",
   "execution_count": 9,
   "metadata": {},
   "outputs": [
    {
     "data": {
      "text/plain": [
       "1.5"
      ]
     },
     "execution_count": 9,
     "metadata": {},
     "output_type": "execute_result"
    }
   ],
   "source": [
    "3/2"
   ]
  },
  {
   "cell_type": "code",
   "execution_count": 10,
   "metadata": {},
   "outputs": [
    {
     "data": {
      "text/plain": [
       "1"
      ]
     },
     "execution_count": 10,
     "metadata": {},
     "output_type": "execute_result"
    }
   ],
   "source": [
    "import math\n",
    "math.floor(1.2)"
   ]
  },
  {
   "cell_type": "code",
   "execution_count": 12,
   "metadata": {},
   "outputs": [
    {
     "data": {
      "text/plain": [
       "2"
      ]
     },
     "execution_count": 12,
     "metadata": {},
     "output_type": "execute_result"
    }
   ],
   "source": [
    "4//2"
   ]
  },
  {
   "cell_type": "code",
   "execution_count": 14,
   "metadata": {},
   "outputs": [
    {
     "data": {
      "text/plain": [
       "-1"
      ]
     },
     "execution_count": 14,
     "metadata": {},
     "output_type": "execute_result"
    }
   ],
   "source": [
    "-2//6"
   ]
  },
  {
   "cell_type": "code",
   "execution_count": 3,
   "metadata": {},
   "outputs": [
    {
     "name": "stdout",
     "output_type": "stream",
     "text": [
      "[5, 5, 5, 5, 4, 4]\n"
     ]
    }
   ],
   "source": [
    "arr = [3,1,2,5,2,4]\n",
    "def process(arr):\n",
    "    N = len(arr)\n",
    "    right_max = [0 for _ in range(N)]\n",
    "    right_max[N-1] = arr[N-1]\n",
    "    for i in range(N-2, -1,-1):\n",
    "        right_max[i] = max(arr[i], right_max[i+1])\n",
    "    print(right_max)\n",
    "process(arr)"
   ]
  },
  {
   "cell_type": "code",
   "execution_count": 6,
   "metadata": {},
   "outputs": [
    {
     "name": "stdout",
     "output_type": "stream",
     "text": [
      "[5, 5, 5, 5, 4, 4]\n",
      "3\n",
      "3\n",
      "5\n",
      "5\n",
      "5\n"
     ]
    }
   ],
   "source": [
    "arr = [3,1,2,5,2,4]\n",
    "def process(arr):\n",
    "    N = len(arr)\n",
    "    result = 0\n",
    "    right_max = [0 for _ in range(N)]\n",
    "    left_max = arr[0]\n",
    "    right_max[N-1] = arr[N-1]\n",
    "    for i in range(N-2, -1,-1):\n",
    "        right_max[i] = max(arr[i], right_max[i+1])\n",
    "    \n",
    "\n",
    "    for i in range(1,N):\n",
    "        result += max((min(left_max, right_max[i]) - arr[i]), 0)\n",
    "        left_max = max(arr[i], left_max)\n",
    "        print(left_max)\n",
    "process(arr)"
   ]
  },
  {
   "cell_type": "code",
   "execution_count": null,
   "metadata": {},
   "outputs": [],
   "source": []
  }
 ],
 "metadata": {
  "interpreter": {
   "hash": "0aea4d3bd9f517439094973d7e036bbe588c23e6e36cf8d45d53b47a8a90b2b4"
  },
  "kernelspec": {
   "display_name": "Python 3.8.6 64-bit",
   "language": "python",
   "name": "python3"
  },
  "language_info": {
   "codemirror_mode": {
    "name": "ipython",
    "version": 3
   },
   "file_extension": ".py",
   "mimetype": "text/x-python",
   "name": "python",
   "nbconvert_exporter": "python",
   "pygments_lexer": "ipython3",
   "version": "3.8.6"
  },
  "orig_nbformat": 4
 },
 "nbformat": 4,
 "nbformat_minor": 2
}
