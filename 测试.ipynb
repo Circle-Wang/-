{
 "cells": [
  {
   "cell_type": "markdown",
   "metadata": {},
   "source": [
    "### 读取单行"
   ]
  },
  {
   "cell_type": "code",
   "execution_count": null,
   "metadata": {},
   "outputs": [],
   "source": [
    "while True :\n",
    "    try:\n",
    "        a, b = map(int, input().strip().split())\n",
    "        print(a+b)\n",
    "    except:\n",
    "        break\n",
    "\n",
    "import sys \n",
    "for line in sys.stdin:\n",
    "    a = line.split()\n",
    "    print(int(a[0]) + int(a[1]))"
   ]
  },
  {
   "cell_type": "markdown",
   "metadata": {},
   "source": [
    "### 读取多行"
   ]
  },
  {
   "cell_type": "code",
   "execution_count": null,
   "metadata": {},
   "outputs": [],
   "source": [
    "n = int(input())\n",
    "for i in range(n):\n",
    "    a, b = map(int, input().strip().split())\n",
    "    print(a,b)"
   ]
  },
  {
   "cell_type": "markdown",
   "metadata": {},
   "source": [
    "### 组合数与排列\n",
    "- itertools.permutations(iterable, r=None): 生成排列情况\n",
    "- itertools.combinations(iterable, r=None): 生成组合情况"
   ]
  },
  {
   "cell_type": "code",
   "execution_count": null,
   "metadata": {},
   "outputs": [],
   "source": [
    "import math\n",
    "# 定义n和m\n",
    "n = 3\n",
    "m = 2\n",
    "# 计算排列数 A_n^m\n",
    "A_n_m = math.factorial(n) / math.factorial(n - m)\n",
    "\n",
    "def pai_lie(a,b):\n",
    "    result = 1\n",
    "    for i in range(b):\n",
    "        result *= (a-i)\n",
    "    # 可以使用 阶乘\n",
    "    # result = math.factorial(n) / math.factorial(n - m)\n",
    "    return result\n",
    "\n",
    "def zu_he(a,b):\n",
    "    return int(pai_lie(a,b)/pai_lie(b,b))\n",
    "\n",
    "zu_he(4,2)\n"
   ]
  },
  {
   "cell_type": "code",
   "execution_count": null,
   "metadata": {},
   "outputs": [],
   "source": [
    "# 直接使用math模块\n",
    "# 使用math模块中的comb函数计算组合数C(5, 2)\n",
    "math.comb(5, 6)\n",
    " \n",
    "# 使用math模块中的perm函数计算排列数P(5, 2)\n",
    "math.perm(5, 2)"
   ]
  },
  {
   "cell_type": "markdown",
   "metadata": {},
   "source": [
    "[最大子数组和](https://leetcode.cn/problems/maximum-subarray/description/)\n",
    "\n",
    "- 状态定义: dp[n]表示以第n位置结尾的子数组的最大和\n",
    "- 状态转移: dp[n] = max(dp[n-1]+nums[n],nums[n])"
   ]
  },
  {
   "cell_type": "code",
   "execution_count": null,
   "metadata": {},
   "outputs": [],
   "source": [
    "def process(nums):\n",
    "\n",
    "    dp = [0 for _ in nums]\n",
    "    dp[0] = ans = nums[0]\n",
    "\n",
    "    for i in range(1, len(nums)):\n",
    "        dp[i] = max(dp[i-1]+nums[i], nums[i])\n",
    "        ans = max(dp[i],ans)\n",
    "\n",
    "    return ans\n",
    "\n",
    "nums = [1,2,-1,-2,2,1,-2,1,4,-5,4]\n",
    "process(nums)\n"
   ]
  },
  {
   "cell_type": "markdown",
   "metadata": {},
   "source": [
    "## 406周赛"
   ]
  },
  {
   "cell_type": "code",
   "execution_count": null,
   "metadata": {},
   "outputs": [],
   "source": [
    "def process(s):\n",
    "    s_list = list(s)\n",
    "    for i in range(len(s_list)-1):\n",
    "        if s_list[i+1] < s_list[i] and  (int(s_list[i+1]) %2 == int(s_list[i])%2):\n",
    "            s_list[i], s_list[i+1] = s_list[i+1], s_list[i]\n",
    "            break\n",
    "    return \"\".join(s_list)\n",
    "\n",
    "process(\"001\")"
   ]
  },
  {
   "cell_type": "code",
   "execution_count": null,
   "metadata": {},
   "outputs": [],
   "source": [
    "def process(nums, head):\n",
    "    nums = set(nums)\n",
    "    while head.val in nums:\n",
    "        head = head.next\n",
    "    # 找到第一个不再nums中的头节点\n",
    "    root = head\n",
    "    cur_node = head.next\n",
    "    pre_node = head\n",
    "\n",
    "    while cur_node != None:\n",
    "        if cur_node.val in nums:\n",
    "            pre_node.next = cur_node.next\n",
    "            cur_node = cur_node.next\n",
    "        else:\n",
    "            pre_node = cur_node\n",
    "            cur_node = cur_node.next\n",
    "    return root\n"
   ]
  },
  {
   "cell_type": "code",
   "execution_count": null,
   "metadata": {},
   "outputs": [],
   "source": [
    "import heapq\n",
    "def process(m, n, horizontalCut, verticalCut):\n",
    "    cost = []\n",
    "    horizontalCut.sort()\n",
    "    verticalCut.sort()\n",
    "    while horizontalCut != [] or verticalCut != []:\n",
    "        if horizontalCut == []:\n",
    "            cost.append((verticalCut.pop(), 0))\n",
    "            continue\n",
    "        if verticalCut == []:\n",
    "            cost.append((horizontalCut.pop(), 1))\n",
    "            continue\n",
    "        h = horizontalCut[-1]\n",
    "        v = verticalCut[-1]\n",
    "        if h > v:\n",
    "            cost.append((horizontalCut.pop(), 1))\n",
    "        elif h < v:\n",
    "            cost.append((verticalCut.pop(), 0))\n",
    "        elif h==v:\n",
    "            pre_direct = cost[-1][1] if cost != [] else 1\n",
    "            if pre_direct == 1:\n",
    "                cost.append((horizontalCut.pop(), 1))\n",
    "            else:\n",
    "                cost.append((verticalCut.pop(), 0))\n",
    "\n",
    "    x_direct = 1\n",
    "    y_direct = 1\n",
    "    ans = 0\n",
    "    for cur_cost, cur_dirct in cost:\n",
    "        if cur_dirct == 1:\n",
    "            x_direct += 1\n",
    "            ans += y_direct * cur_cost\n",
    "        else:\n",
    "            y_direct += 1\n",
    "            ans += x_direct * cur_cost\n",
    "    return ans\n",
    "\n",
    "m = 8\n",
    "n = 2\n",
    "horizontalCut = [2,4,3,3,5,1,1]\n",
    "verticalCut = [5]\n",
    "process(m, n, horizontalCut, verticalCut)"
   ]
  },
  {
   "cell_type": "markdown",
   "metadata": {},
   "source": [
    "## 双周赛135"
   ]
  },
  {
   "cell_type": "code",
   "execution_count": null,
   "metadata": {},
   "outputs": [],
   "source": [
    "import collections\n",
    "def process(s):\n",
    "    ans = 0\n",
    "    s_dict = collections.defaultdict(int)\n",
    "    for i in s:\n",
    "        s_dict[i] += 1\n",
    "        s_dict[i] = 1 if s_dict[i]%3 == 0 else s_dict[i]%3\n",
    "    for i, key in s_dict.items():\n",
    "        ans += key\n",
    "    return ans\n",
    "\n",
    "process(\"aa\")"
   ]
  },
  {
   "cell_type": "code",
   "execution_count": null,
   "metadata": {},
   "outputs": [],
   "source": [
    "import collections\n",
    "\n",
    "def process(nums, k):\n",
    "    n = len(nums)\n",
    "    s_dict = collections.defaultdict(int)\n",
    "\n",
    "    for i in range(n // 2):\n",
    "        num1 = nums[i]\n",
    "        num2 = nums[n-i-1]\n",
    "        s_dict[abs(num1- num2)] += 1\n",
    "\n",
    "\n",
    "    ans = float(\"inf\")\n",
    "    # print(s_dict)\n",
    "    for x in s_dict:\n",
    "        if (n - s_dict[x]*2) // 2 > ans:\n",
    "            continue\n",
    "        tmp = 0\n",
    "        for i in range(n // 2):\n",
    "            num1 = nums[i]\n",
    "            num2 = nums[n-i-1]\n",
    "            if abs(num1 - num2) == x:\n",
    "                continue\n",
    "            if 0 <= x <= max(max(num1, num2), k-min(num1, num2)):\n",
    "                tmp += 1\n",
    "            else:\n",
    "                tmp += 2\n",
    "        ans = min(ans, tmp)\n",
    "        # print(x, ans)\n",
    "    return ans\n",
    "\n",
    "nums = [1,10,5,1,4,6,4,2,4,9,7,9,0,11]\n",
    "k = 12\n",
    "process(nums, k)"
   ]
  },
  {
   "cell_type": "code",
   "execution_count": null,
   "metadata": {},
   "outputs": [],
   "source": [
    "import collections\n",
    "\n",
    "def process(nums, k):\n",
    "    n = len(nums)\n",
    "    s_dict = collections.defaultdict(int)\n",
    "    x = 0\n",
    "    max_count = 0\n",
    "    for i in range(n // 2):\n",
    "        s_dict[abs(nums[i] - nums[n-i-1])] += 1\n",
    "        if s_dict[abs(nums[i]- nums[n-i-1])] > max_count:\n",
    "            max_count = s_dict[abs(nums[i]- nums[n-i-1])]\n",
    "            x = abs(nums[i]- nums[n-i-1])\n",
    "    ans = 0\n",
    "    for i in range(n // 2):\n",
    "        num1 = nums[i]\n",
    "        num2 = nums[n-i-1]\n",
    "        if abs(num1- num2) == x:\n",
    "            continue\n",
    "        if 0 <= x <= max(max(num1, num2), k-min(num1, num2)):\n",
    "            ans += 1\n",
    "        else:\n",
    "            ans += 2\n",
    "\n",
    "    return ans\n",
    "\n",
    "nums = [0,1,2,3,3,6,5,4]\n",
    "k = 6\n",
    "process(nums, k)"
   ]
  },
  {
   "cell_type": "markdown",
   "metadata": {},
   "source": [
    "## 408周赛"
   ]
  },
  {
   "cell_type": "code",
   "execution_count": null,
   "metadata": {},
   "outputs": [],
   "source": [
    "def is_prime(n):\n",
    "    if n < 2:\n",
    "        return False\n",
    "    for i in range(2, int(n**0.5) + 1):\n",
    "        if n % i == 0:\n",
    "            return False\n",
    "    return True\n",
    "\n",
    "def process(l, r):\n",
    "    l1 = math.ceil(l**0.5)\n",
    "    r1 = int(r**0.5)\n",
    "    ans = 0\n",
    "    for i in range(l1, r1+1):\n",
    "        if is_prime(i):\n",
    "            ans += 1\n",
    "            print(i)\n",
    "    return r+1-l-ans\n",
    "\n",
    "process(1, 16)\n"
   ]
  },
  {
   "cell_type": "markdown",
   "metadata": {},
   "source": [
    "dp[i][k][0]: 以i结尾长度为k的0字符的个数\n",
    "dp[i][k][1]: 以i结尾长度为k的1字符串个数\n",
    "\n",
    "dp[i][1][0]和dp[i][1][1]: 都是第i个数字本身\n",
    "k 取值为[2, i+1]遍历即可\n",
    "dp[i][k][0] = dp[i-1][k-1][0] + (s[i] is \"0\")\n",
    "dp[i][k][1] = dp[i-1][k-1][1] + (s[i] is \"1\")"
   ]
  },
  {
   "cell_type": "markdown",
   "metadata": {},
   "source": [
    "dp[i][k]: 1的个数"
   ]
  },
  {
   "cell_type": "code",
   "execution_count": null,
   "metadata": {},
   "outputs": [],
   "source": [
    "def process(s):\n",
    "    n = len(s)\n",
    "    dp = [ [ 0 for __ in range(n+1)] for _ in range(n)]\n",
    "    ans = 0\n",
    "    if s[0] == \"1\":\n",
    "        dp[0][1] = 1\n",
    "        ans += 1\n",
    "\n",
    "    for i in range(1, n):\n",
    "        if s[i] == \"1\":\n",
    "            dp[i][1] = 1\n",
    "            ans += 1\n",
    "        for k in range(2, i+2):\n",
    "            dp[i][k] = dp[i-1][k-1] + (s[i] == \"1\")\n",
    "            if (k - dp[i][k])**2 <= dp[i][k]:\n",
    "                ans += 1\n",
    "    return ans\n",
    "\n",
    "s = \"00011\"\n",
    "process(s)"
   ]
  },
  {
   "cell_type": "markdown",
   "metadata": {},
   "source": [
    "## 410周赛"
   ]
  },
  {
   "cell_type": "code",
   "execution_count": null,
   "metadata": {},
   "outputs": [],
   "source": [
    "import collections\n",
    "import functools\n",
    "\n",
    "def process(edges):\n",
    "    graph = collections.defaultdict(list)\n",
    "    for i, j in edges:\n",
    "        graph[i].append(j)\n",
    "        graph[j].append(i)\n",
    "\n",
    "    ans = 0\n",
    "    @functools.cache\n",
    "    def count_node(fa, root):\n",
    "        ans = 1\n",
    "        children = graph[root]\n",
    "        for child in children:\n",
    "            if child == fa:\n",
    "                continue\n",
    "            ans += count_node(root, child)\n",
    "        print(fa, root)\n",
    "        return ans\n",
    "\n",
    "    queue = [0]\n",
    "    visit = set()\n",
    "    while queue:\n",
    "        node = queue.pop()\n",
    "        children = graph[node]\n",
    "        visit.add(node)\n",
    "        tmp = set()\n",
    "        for child in children:\n",
    "            if child not in visit:\n",
    "                visit.add(child)\n",
    "                queue.append(child)\n",
    "                tmp.add(count_node(node, child))\n",
    "        if len(tmp) <= 1:\n",
    "            ans += 1\n",
    "    return ans\n",
    "        \n",
    "\n",
    "edges = [[0,1],[1,2],[1,3],[1,4],[0,5],[5,6],[6,7],[7,8],[0,9],[9,10],[9,12],[10,11]]\n",
    "process(edges)"
   ]
  },
  {
   "cell_type": "markdown",
   "metadata": {},
   "source": [
    "dp[i][k][v]: 截止到i, num1的最后一位是k, num2的最后一位是v的单调对数目\n",
    "初始化时: 遍历k=0开始遍历得到dp[0] = [{0: {nums[0]-0: x}},{1: {nums[0]-1: x}},....]\n",
    "dp[0][k][nums[0]-k] = 1\n",
    "\n",
    "dp[i]的k1,v1 = ans, ans为对dp[i-1]遍历k2, v2得到, 当拿到k2和v2时, 遍历k1=k2开始nums[i]结束, 每次可以得到v1=nums[i]-k1, 当v1 <= v2时将dp[i][k1][v1] = ans"
   ]
  },
  {
   "cell_type": "code",
   "execution_count": null,
   "metadata": {},
   "outputs": [],
   "source": [
    "from collections import defaultdict\n",
    "\n",
    "def process(nums):\n",
    "    MOD = 1_000_000_000 + 7\n",
    "    n = len(nums)\n",
    "    dp = [defaultdict(dict) for _ in range(n)]\n",
    "    ans = 0\n",
    "    for k in range(nums[0], -1, -1):\n",
    "        dp[0][k][nums[0]-k] = 1\n",
    "        ans += 1\n",
    "    \n",
    "    for i in range(1, n):\n",
    "        num = nums[i]\n",
    "        for k2 in dp[i-1]:\n",
    "            ans = 0\n",
    "            for v2, ans2 in dp[i-1][k2].items():  # 以k2, v2结尾的情况有ans2种\n",
    "                for k1 in range(num, k2-1, -1):\n",
    "                    v1 = num-k1\n",
    "                    if v1 <= v2:\n",
    "                        dp[i][k1][v1] = (dp[i][k1].get(v1, 0) + ans2) % MOD\n",
    "                    else:\n",
    "                        break\n",
    "                    ans += dp[i][k1][v1]\n",
    "    return ans % MOD\n",
    "    \n",
    "nums = [4]\n",
    "process(nums)"
   ]
  },
  {
   "cell_type": "code",
   "execution_count": null,
   "metadata": {},
   "outputs": [],
   "source": [
    "a = {1:2}\n",
    "a.items()"
   ]
  },
  {
   "cell_type": "markdown",
   "metadata": {},
   "source": [
    "## 411周赛"
   ]
  },
  {
   "cell_type": "markdown",
   "metadata": {},
   "source": [
    "0 > k and 1 > k\n",
    "使用滑动窗口"
   ]
  },
  {
   "cell_type": "code",
   "execution_count": null,
   "metadata": {},
   "outputs": [],
   "source": [
    "def process(s, k):\n",
    "    n = len(s)\n",
    "    left, right = 0, 0\n",
    "    cont_1 = 0\n",
    "    cont_0 = 0\n",
    "    ans = 0\n",
    "    while right < n:\n",
    "        c = s[right]\n",
    "        if c == \"0\":\n",
    "            cont_0 += 1\n",
    "        else:\n",
    "            cont_1 += 1\n",
    "        right += 1\n",
    "        \n",
    "        while cont_0 > k and cont_1 > k:   # [left, right)\n",
    "            print(left, right)\n",
    "            ans += (n-right+1)\n",
    "            d = s[left]\n",
    "            if d == \"0\":\n",
    "                cont_0 -= 1\n",
    "            else:\n",
    "                cont_1 -= 1\n",
    "            left += 1\n",
    "    return int(n * (n + 1) / 2) - ans\n",
    "\n",
    "s = \"000011\"\n",
    "k = 1\n",
    "process(s, k)\n",
    "\n"
   ]
  },
  {
   "cell_type": "markdown",
   "metadata": {},
   "source": [
    "dp[0][i]: 截至到i为止, 最后拿的是A罐子能拿到的最大能量值\n",
    "dp[1][i]: 截至到i为止, 最后拿的是B罐子能拿到的最大能量值\n",
    "\n",
    "dp[0][i] = max(dp[0][i-1]+A[i], dp[1][i-2]+A[i])\n",
    "dp[1][i] = max(dp[1][i-1]+B[i], dp[0][i-2]+B[i])\n",
    "\n",
    "dp[0][0] = A[0]\n",
    "dp[1][0] = B[0]\n",
    "\n",
    "dp[0][1] = max(dp[0][0]+A[1], B[0])\n",
    "dp[1][1] = max(dp[1][0]+B[1], A[0])\n"
   ]
  },
  {
   "cell_type": "code",
   "execution_count": null,
   "metadata": {},
   "outputs": [],
   "source": [
    "\n",
    "def process(energyDrinkA, energyDrinkB):\n",
    "    n = len(energyDrinkA)\n",
    "    dp_A = [0] * n\n",
    "    dp_B = [0] * n\n",
    "\n",
    "    dp_A[0] = energyDrinkA[0]\n",
    "    dp_B[0] = energyDrinkB[0]\n",
    "    dp_A[1] = max(dp_A[0]+energyDrinkA[1], energyDrinkB[0])\n",
    "    dp_B[1] = max(dp_B[0]+energyDrinkB[1], energyDrinkA[0])\n",
    "\n",
    "    for i in range(2, n):\n",
    "        dp_A[i] = max(dp_A[i-1] + energyDrinkA[i], dp_B[i-2] + energyDrinkA[i])\n",
    "        dp_B[i] = max(dp_B[i-1] + energyDrinkB[i], dp_A[i-2] + energyDrinkB[i])\n",
    "    \n",
    "    return max(dp_A[n-1], dp_B[n-1])\n",
    "\n",
    "\n",
    "        \n",
    "\n",
    "energyDrinkA = [4,1,1]\n",
    "energyDrinkB = [1,1,3]\n",
    "process(energyDrinkA, energyDrinkB)"
   ]
  },
  {
   "cell_type": "code",
   "execution_count": null,
   "metadata": {},
   "outputs": [],
   "source": [
    "def fun(s, k):\n",
    "    n = len(s)\n",
    "    dict_sh = [-1] * n  # 表示[left, dict_sh[left]]是不满足要求的\n",
    "    left, right = 0, 0\n",
    "    cont_1 = 0\n",
    "    cont_0 = 0\n",
    "    while right < n:\n",
    "        c = s[right]\n",
    "        if c == \"0\":\n",
    "            cont_0 += 1\n",
    "        else:\n",
    "            cont_1 += 1\n",
    "        right += 1\n",
    "        \n",
    "        while cont_0 > k and cont_1 > k:   # [left, right)\n",
    "            dict_sh[left] = right-1\n",
    "            d = s[left]\n",
    "            if d == \"0\":\n",
    "                cont_0 -= 1\n",
    "            else:\n",
    "                cont_1 -= 1\n",
    "            left += 1\n",
    "    return dict_sh\n",
    "\n",
    "def process(s, k, queries):\n",
    "    n = len(queries)\n",
    "    right_index = fun(s, k)\n",
    "    ans = [0] * n\n",
    "    for i, (l, r) in enumerate(queries):\n",
    "        tmp = int((r-l+1)*(r-l+2) / 2)\n",
    "        ans[i] = tmp\n",
    "        right = right_index[l]\n",
    "        while right != -1 and right <= r:\n",
    "            print(i)\n",
    "            ans[i] -= (r-right+1)\n",
    "            l += 1\n",
    "            right = right_index[l]\n",
    "    return ans\n",
    "\n",
    "s = \"010101\"\n",
    "k = 1\n",
    "queries = [[0,5],[1,4],[2,3]]\n",
    "print(fun(s, k))\n",
    "process(s, k, queries)"
   ]
  },
  {
   "cell_type": "markdown",
   "metadata": {},
   "source": [
    "## 412场周赛"
   ]
  },
  {
   "cell_type": "code",
   "execution_count": null,
   "metadata": {},
   "outputs": [],
   "source": [
    "import heapq\n",
    "\n",
    "def process(nums, k, multiplier):\n",
    "    MOD = 1_000_000_000 + 7\n",
    "    multiplier = multiplier % MOD\n",
    "    h = []\n",
    "    for i, num in enumerate(nums):\n",
    "        heapq.heappush(h, (num, i))\n",
    "    for _ in range(k):\n",
    "        num, index = heapq.heappop(h)\n",
    "        new_num = (num*multiplier) % MOD\n",
    "        nums[index] = new_num\n",
    "        heapq.heappush(h, (new_num, index))\n",
    "    return nums\n",
    "\n",
    "nums = [66307295,441787703,589039035,322281864]\n",
    "k = 900900704\n",
    "multiplier = 641725\n",
    "process(nums, k, multiplier)"
   ]
  },
  {
   "cell_type": "code",
   "execution_count": null,
   "metadata": {},
   "outputs": [],
   "source": [
    "MOD = 1_000_000_000 + 7\n",
    "k % MOD"
   ]
  },
  {
   "cell_type": "code",
   "execution_count": null,
   "metadata": {},
   "outputs": [],
   "source": [
    "nums = [2,1,3,5,6]\n",
    "k = 5 \n",
    "multiplier = 2\n",
    "process(nums, k, multiplier)"
   ]
  },
  {
   "cell_type": "code",
   "execution_count": null,
   "metadata": {},
   "outputs": [],
   "source": [
    "nums = [100000,2000]\n",
    "k = 2\n",
    "multiplier = 1000000"
   ]
  },
  {
   "cell_type": "code",
   "execution_count": 68,
   "metadata": {},
   "outputs": [
    {
     "data": {
      "text/plain": [
       "58"
      ]
     },
     "execution_count": 68,
     "metadata": {},
     "output_type": "execute_result"
    }
   ],
   "source": [
    "import collections\n",
    "import itertools\n",
    "\n",
    "def f(a, b):\n",
    "    count = 0\n",
    "    for i, j in zip(a, b):\n",
    "        if i != j:\n",
    "            count += 1\n",
    "        if count > 2:\n",
    "            return False\n",
    "    return True\n",
    "\n",
    "def transf(a, flag):\n",
    "    res = [0]*10\n",
    "    if flag:\n",
    "        res[0] += 1\n",
    "    while a:\n",
    "        res[a % 10] += 1\n",
    "        a //= 10\n",
    "    return \"\".join([str(i) for i in res])\n",
    "\n",
    "\n",
    "def process(nums):\n",
    "    d = collections.defaultdict(list)\n",
    "    d2 = collections.defaultdict(list)\n",
    "    for num in nums:\n",
    "        str_num_1 = transf(num, True)\n",
    "        d2[str_num_1].append(\"0\"+str(num))\n",
    "\n",
    "        str_num_2 = transf(num, False)\n",
    "        d[str_num_2].append(str(num))\n",
    "        \n",
    "    ans = 0\n",
    "    for key, value in d.items():\n",
    "        if key in d2:\n",
    "            value.extend(d2[key])\n",
    "            print(value)\n",
    "        for i, j in itertools.combinations(value, 2):\n",
    "            if f(i, j):\n",
    "                ans += 1\n",
    "            if i == j and i[0] == j[0] == \"0\":\n",
    "                ans -= 1\n",
    "    return ans\n",
    "\n",
    "nums = [886595,767627,6691,593887,857750,919155,830918,593887,593788,593788,660078,598873,310196,668007,597883,983587,897853,668700,435383,953887,631608,897853,953887,240754,593887,597883,455127,627877,643862,660087,893587,129173,228736,627877,775850,875750,50701,830255,751,729113,684778,114586,154186,593887,668700,238726]\n",
    "process(nums)\n"
   ]
  },
  {
   "cell_type": "code",
   "execution_count": 53,
   "metadata": {},
   "outputs": [
    {
     "data": {
      "text/plain": [
       "10"
      ]
     },
     "execution_count": 53,
     "metadata": {},
     "output_type": "execute_result"
    }
   ],
   "source": [
    "nums = [1,1,1,1,1]\n",
    "process(nums)"
   ]
  },
  {
   "cell_type": "code",
   "execution_count": null,
   "metadata": {},
   "outputs": [],
   "source": []
  }
 ],
 "metadata": {
  "interpreter": {
   "hash": "0aea4d3bd9f517439094973d7e036bbe588c23e6e36cf8d45d53b47a8a90b2b4"
  },
  "kernelspec": {
   "display_name": "Python 3.8.6 64-bit",
   "language": "python",
   "name": "python3"
  },
  "language_info": {
   "codemirror_mode": {
    "name": "ipython",
    "version": 3
   },
   "file_extension": ".py",
   "mimetype": "text/x-python",
   "name": "python",
   "nbconvert_exporter": "python",
   "pygments_lexer": "ipython3",
   "version": "3.11.7"
  },
  "orig_nbformat": 4
 },
 "nbformat": 4,
 "nbformat_minor": 2
}
