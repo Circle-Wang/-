{
 "cells": [
  {
   "cell_type": "markdown",
   "metadata": {},
   "source": [
    "### 读取单行"
   ]
  },
  {
   "cell_type": "code",
   "execution_count": null,
   "metadata": {},
   "outputs": [],
   "source": [
    "while True :\n",
    "    try:\n",
    "        a, b = map(int, input().strip().split())\n",
    "        print(a+b)\n",
    "    except:\n",
    "        break\n",
    "\n",
    "\n",
    "import sys \n",
    "for line in sys.stdin:\n",
    "    a = line.split()\n",
    "    print(int(a[0]) + int(a[1]))"
   ]
  },
  {
   "cell_type": "markdown",
   "metadata": {},
   "source": [
    "### 读取多行"
   ]
  },
  {
   "cell_type": "code",
   "execution_count": null,
   "metadata": {},
   "outputs": [],
   "source": [
    "n = int(input())\n",
    "for i in range(n):\n",
    "    a, b = map(int, input().strip().split())\n",
    "    print(a,b)"
   ]
  },
  {
   "cell_type": "code",
   "execution_count": 23,
   "metadata": {},
   "outputs": [
    {
     "name": "stdout",
     "output_type": "stream",
     "text": [
      "1\n"
     ]
    },
    {
     "data": {
      "text/plain": [
       "3"
      ]
     },
     "execution_count": 23,
     "metadata": {},
     "output_type": "execute_result"
    }
   ],
   "source": [
    "import bisect\n",
    "print(bisect.bisect_left([1,7,7,8,10],7))\n",
    "bisect.bisect_right([1,7,7,8,10],7)"
   ]
  },
  {
   "cell_type": "code",
   "execution_count": null,
   "metadata": {},
   "outputs": [],
   "source": [
    "from collections import defaultdict\n",
    "b = defaultdict(list)"
   ]
  },
  {
   "cell_type": "code",
   "execution_count": null,
   "metadata": {},
   "outputs": [],
   "source": [
    "a = 1 << (ord('a') - ord('a'))\n",
    "b = 1 << (ord('b') - ord('a'))\n",
    "c = 1 << (ord('c') - ord('a'))\n",
    "print(bin(a))\n",
    "print(bin(b))\n",
    "print(bin(c))"
   ]
  },
  {
   "cell_type": "code",
   "execution_count": 16,
   "metadata": {},
   "outputs": [
    {
     "name": "stdout",
     "output_type": "stream",
     "text": [
      "正负情况 100.0 100\n",
      "99\n",
      "s 199\n",
      "正负情况 198.99999999999994 199\n",
      "1790\n",
      "s 1989\n"
     ]
    }
   ],
   "source": [
    "n, m = 100, 2\n",
    "p_list = [0.5, 0.9]\n",
    "for i in range(m): \n",
    "    x = int(p_list[i]/(1-p_list[i]) * n)  # 最大加注量\n",
    "    print('正负情况',(n+x)*(1-p_list[i]), n)\n",
    "    print(x-1)\n",
    "    n = n+x-1\n",
    "    print(\"s\",n)\n",
    "\n",
    "    "
   ]
  },
  {
   "cell_type": "code",
   "execution_count": 21,
   "metadata": {},
   "outputs": [
    {
     "data": {
      "text/plain": [
       "[1, 2, 24]"
      ]
     },
     "execution_count": 21,
     "metadata": {},
     "output_type": "execute_result"
    }
   ],
   "source": [
    "sorted([1,24,2])"
   ]
  },
  {
   "cell_type": "code",
   "execution_count": null,
   "metadata": {},
   "outputs": [],
   "source": []
  },
  {
   "cell_type": "code",
   "execution_count": null,
   "metadata": {},
   "outputs": [],
   "source": []
  }
 ],
 "metadata": {
  "interpreter": {
   "hash": "9afc2b4a137c1ef260a208b8b14dcafe0c511635e698b6a7b46f192005b0a3f6"
  },
  "kernelspec": {
   "display_name": "Python 3.8.6 64-bit",
   "language": "python",
   "name": "python3"
  },
  "language_info": {
   "codemirror_mode": {
    "name": "ipython",
    "version": 3
   },
   "file_extension": ".py",
   "mimetype": "text/x-python",
   "name": "python",
   "nbconvert_exporter": "python",
   "pygments_lexer": "ipython3",
   "version": "3.8.6"
  },
  "orig_nbformat": 4
 },
 "nbformat": 4,
 "nbformat_minor": 2
}
