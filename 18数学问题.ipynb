{
 "cells": [
  {
   "cell_type": "markdown",
   "metadata": {},
   "source": [
    "## 问题1：[最小公倍数和最大公约数]()\n",
    "### 题目\n",
    "求两个数的最大公因数和最小公倍数。\n",
    "\n",
    "### 分析\n",
    "- 最大公因数采用辗转相除法(以除数和余数反复做除法运算，当余数为 0 时，取当前算式除数为最大公约数)gcd\n",
    "- 最小公倍数可以通过两数相乘再除以最大公约数得到"
   ]
  },
  {
   "cell_type": "code",
   "execution_count": null,
   "metadata": {},
   "outputs": [],
   "source": [
    "def gcd(a,b):\n",
    "    '''\n",
    "    a: 被除数\n",
    "    b: 除数\n",
    "    '''\n",
    "    if b==0: # 进入该分支说明上一轮得到余数为0，因此返回上一轮的除数(也就是a)\n",
    "        return a\n",
    "    else:\n",
    "        return gcd(b, a%b) # 如果a<b则进入该分支会得到gcd(b,a)\n",
    "gcd(3,11)\n",
    "\n",
    "def lcm(a,b):\n",
    "    return a*b*gcd(a,b)\n",
    "    \n",
    "lcm(3,11)"
   ]
  },
  {
   "cell_type": "markdown",
   "metadata": {},
   "source": [
    "## 问题2：[计数质数](https://leetcode.cn/problems/count-primes/)\n",
    "### 题目\n",
    "给定整数n, 返回所有小于非负整数n的质数的数量。\n",
    "\n",
    "### 分析\n",
    "- 埃拉托斯特尼筛法：可以判断n是否为质数(也可以返回所有的质数和),原理是遍历1到n-1，当遍历到m时把小于n的m的所有倍数标记为False，当遍历到完n时，返回没有被标记的则为小于n的质数。\n",
    "- 我们可以构造一个长度为n+1的bool型数组，进行计数\n",
    "### 优化\n",
    "- 我们可以m\\*m开始标记因为m\\*2，m\\*3..都肯定在之前被筛选2，3...等因素筛选过了。"
   ]
  },
  {
   "cell_type": "code",
   "execution_count": null,
   "metadata": {},
   "outputs": [],
   "source": [
    "def countPrimes(n:int):\n",
    "    boolarr = [True for _ in range(n+1)]\n",
    "    result = []\n",
    "    count = 0 # 用于计数\n",
    "    for index in range(2, n): # 从2开始遍历\n",
    "        if boolarr[index]:\n",
    "            j = index\n",
    "            result.append(index) # 把质数加入到结果中\n",
    "            count += 1\n",
    "            while j < n: # 将质数的倍数全部标记为False\n",
    "                boolarr[j] = False\n",
    "                j += index\n",
    "    return count, result\n",
    "\n",
    "# 优化后\n",
    "def process(n:int):\n",
    "    boolarr = [True for _ in range(n+1)]\n",
    "    count = 0 # 用于计数\n",
    "    for index in range(2, n): # 从2开始遍历\n",
    "        if boolarr[index]:\n",
    "            count += 1\n",
    "            for j in range(index*index, n, index): # 从index*index开始遍历\n",
    "                boolarr[j] = False\n",
    "    return count\n",
    "\n",
    "process(10)"
   ]
  },
  {
   "cell_type": "markdown",
   "metadata": {},
   "source": [
    "## 问题3：[七进制数](https://leetcode.cn/problems/base-7/)\n",
    "### 题目\n",
    "给定一个整数num，将其转化为7进制，并以字符串形式输出。\n",
    "### 分析\n",
    "- 一个10进制的数7，7的平方，7的立方....与其系数构成，因此将num%7得到的数则是最末尾的系数，num-系数再除以7则可完成对最后一位的舍弃。\n",
    "- 如果num为负数则可先计算其绝对值，再添加符号"
   ]
  },
  {
   "cell_type": "code",
   "execution_count": null,
   "metadata": {},
   "outputs": [],
   "source": [
    "def process(num:int):\n",
    "    if num == 0:\n",
    "        return '0'\n",
    "    sign = ''\n",
    "    result = []\n",
    "    if num < 0 :\n",
    "        num = abs(num)\n",
    "        sign = '-'\n",
    "    result.append(sign)\n",
    "    while num > 0:\n",
    "        ai = num%7\n",
    "        result.insert(1,str(ai))\n",
    "        num = (num - ai)//7\n",
    "    return ''.join(result)\n",
    "\n",
    "process(0)"
   ]
  },
  {
   "cell_type": "markdown",
   "metadata": {},
   "source": [
    "## 问题4：[阶乘后的零](https://leetcode.cn/problems/factorial-trailing-zeroes/)\n",
    "### 题目\n",
    "给定一个整数n，返回n!结果中尾随零的数量。(末尾有几个零)\n",
    "### 分析\n",
    "- n的阶乘结果中末尾出现0，意味着分解中出现了10，也就是2*5，换句话说如果我们能把[1,n]的所有数字中质因数2和5的个数求出来，就可以求出会得到末尾有多少个0了。\n",
    "- 质因数2的个数一定是大于质因数5的个数的（具体证明参见网页讨论），因此我们只用计算出[1,n]的每一个数字中因数5的个数，那就遍历每个数字m,计算m中有多少个因数是5(m不断除以5就可以了)。稍微优化一点，由于[1,n]中只有可能是5的倍数的数才包含有因数5，所以我们遍历可以只遍历[5,10,15,...n]这些数字。"
   ]
  },
  {
   "cell_type": "code",
   "execution_count": null,
   "metadata": {},
   "outputs": [],
   "source": [
    "def process(n):\n",
    "    ans = 0\n",
    "    for i in range(5,n+1,5):\n",
    "        while i%5 == 0: # 如果包含i包含有因素5\n",
    "            i = i//5\n",
    "            ans += 1\n",
    "    return ans\n",
    "process(25)"
   ]
  },
  {
   "cell_type": "markdown",
   "metadata": {},
   "source": [
    "## 问题5：[字符串相加](https://leetcode.cn/problems/add-strings/)\n",
    "### 题目\n",
    "给定两个字符串形式的非负整数 num1 和num2 ，计算它们的和并同样以字符串形式返回。\n",
    "你不能使用任何內建的用于处理大整数的库（比如BigInteger）, 也不能直接将输入的字符串转换为整数形式。\n",
    "### 分析\n",
    "- 从末尾开始遍历两个数, 将相加的结果往前进位，直到一方遍历完成, 我们可以为较短的数字高位取0，这样就避免了出现对两个字符串长度不同的处理\n",
    "- 需要注意为了处理1+9这种情况，需要在while中增加如果最高位有1则需要增加\n"
   ]
  },
  {
   "cell_type": "code",
   "execution_count": null,
   "metadata": {},
   "outputs": [],
   "source": [
    "def process(num1, num2):\n",
    "    l1 = len(num1)-1 # num1的最后一位\n",
    "    l2 = len(num2)-1 # num2的最后一位\n",
    "    jinwei = 0 # 记录是否进位\n",
    "    result = ''\n",
    "    while l1 >= 0 or l2 >= 0:\n",
    "        a = int(num1[l1]) if l1 >= 0 else 0\n",
    "        b = int(num2[l2]) if l2 >= 0 else 0\n",
    "        benwei = (a+b+jinwei)%10 # 根据上一轮的jinwei计算本位\n",
    "        jinwei = (a+b+jinwei)//10 # 更新jinwei\n",
    "        result = str(benwei) + result\n",
    "        l1 -= 1\n",
    "        l2 -= 1\n",
    "    if jinwei == 1:\n",
    "        result = '1' + result\n",
    "    return result\n",
    "\n",
    "process('1','9')"
   ]
  },
  {
   "cell_type": "markdown",
   "metadata": {},
   "source": [
    "## 问题6：[3 的幂](https://leetcode.cn/problems/power-of-three/)\n",
    "### 题目\n",
    "给定一个整数，写一个函数来判断它是否是 3 的幂次方。如果是，返回 true ；否则，返回 false 。\n",
    "### 分析\n",
    "- 不停的除以3即可"
   ]
  },
  {
   "cell_type": "code",
   "execution_count": null,
   "metadata": {},
   "outputs": [],
   "source": [
    "def process(num):\n",
    "    if num <= 0 :\n",
    "        return False\n",
    "    while num%3==0:\n",
    "        num = num//3\n",
    "    return num==1\n",
    "process(9)"
   ]
  },
  {
   "cell_type": "markdown",
   "metadata": {},
   "source": [
    "## 问题7：[打乱数组](https://leetcode.cn/problems/shuffle-an-array/)\n",
    "### 题目\n",
    "给定一个数组，要求实现两个指令函数。第一个函数“shuffle”可以随机打乱这个数组，第二个函数“reset”可以恢复原来的顺序。例如，给定一个数组[1,2,3]，如果是执行shuffle函数，则需要返回打乱后的数组，比如返回[2,1,3]；如果执行reset则返回原来的数组[1,2,3]即可。\n",
    "### 分析\n",
    "- 实现reset函数很简单，即在初始化的时候复制nums即可\n",
    "- 打乱算法采用Fisher-Yates 洗牌算法\n",
    "    - 从位置0到位置n遍历每一个数字\n",
    "    - 在遍历到位置i时, 从[i,n-1]的位置随机抽取一个位置j，交换位置i和位置j的数字。\n",
    "    - 这种算法其[0,i-1]位置可以看作是从nums中随机抽取了i个数字并不会被第二次抽取到，而[i，n-1]的数字是还没被抽取到的"
   ]
  },
  {
   "cell_type": "code",
   "execution_count": null,
   "metadata": {},
   "outputs": [],
   "source": [
    "import random\n",
    "class Solution:\n",
    "    def __init__(self, nums):\n",
    "        self.nums = nums\n",
    "        self.original = nums.copy()\n",
    "        self.lenth = len(nums)\n",
    "\n",
    "    def reset(self):\n",
    "        return self.original\n",
    "\n",
    "    def shuffle(self):\n",
    "        for i in range(self.lenth):\n",
    "            j = random.randrange(i, self.lenth) # 随机抽取i到n-1的一个数\n",
    "            self.nums[i], self.nums[j] =  self.nums[j], self.nums[i]\n",
    "        return self.nums\n",
    "  "
   ]
  },
  {
   "cell_type": "markdown",
   "metadata": {},
   "source": [
    "## 问题8：[按权重随机选择](https://leetcode.cn/problems/random-pick-with-weight/)\n",
    "### 题目\n",
    "给你一个 下标从 0 开始的正整数数组w，其中w[i]代表第i个下标的权重。请你实现一个函数 pickIndex ，它可以随机地从范围[0, w.length - 1] 内（选出并返回一个下标。选取下标i的概率为w[i]/sum(w)。\n",
    "### 分析\n",
    "- 如果w[i]比较小的情况下可以创建一个数组arr，将i重复w[i]此储存在这个数组arr中，这样在再从这个数组arr中使用random抽取即可\n",
    "- 如果w[i]比较大，则上述创建的arr会很大并且很耗时(重复w[i]遍)，因此可以考虑使用前缀和的方式，例如w=[3,1,2,4] 时，权重之和total=10，那么我们按照[1, 3], [4, 4], [5, 6], [7, 10]对[1, 10]进行划分，使得它们的长度恰好依次为3, 1, 2, 4，每个区间之间互不重合。\n",
    "- python可以使用itertools.accumulate(list)来得到累加和，具体用法可以查看[博客]()\n",
    "- 此处我们使用累加和函数直接可以得到右端点列表，例如上个例子我们可以得到[3,4,6,10]\n",
    "- 接下来我们获取[1,total]中任意一个值m，我们看看m处在[3，4，6，10]的那个区间？比如m=7，则意味着在区间[7,10]中，即返回4。因此我们可以发现我们只需要找到m在[3,4,6,10]中的最左位置即可（因为我们是闭区间可以取到3，所以当m=3时我们返回0），返回该位置坐标，我们可以使用bisect.bisect_left\n"
   ]
  },
  {
   "cell_type": "code",
   "execution_count": null,
   "metadata": {},
   "outputs": [],
   "source": [
    "import random\n",
    "import itertools\n",
    "import bisect\n",
    "class Solution:\n",
    "    def __init__(self, w):\n",
    "        self.w = w\n",
    "        self.accumul = list(itertools.accumulate(w))\n",
    "        self.total = self.accumul[-1]\n",
    "\n",
    "    def pickIndex(self) -> int:\n",
    "        m = random.randint(1, self.total) # 这里需要左右闭区间\n",
    "        return bisect.bisect_left(self.accumul, m)\n",
    "        \n",
    "a = Solution([1])\n",
    "a.pickIndex()"
   ]
  },
  {
   "cell_type": "markdown",
   "metadata": {},
   "source": [
    "## 问题9：[链表随机节点](https://leetcode.cn/problems/linked-list-random-node/)\n",
    "### 题目\n",
    "给定一个单向链表，要求设计一个算法，可以随机取得其中的一个数字。\n",
    "### 分析\n",
    "- 链表进行中序遍历并储存为列表，再从列表中抽取即可"
   ]
  },
  {
   "cell_type": "code",
   "execution_count": null,
   "metadata": {},
   "outputs": [],
   "source": [
    "import random\n",
    "\n",
    "class Solution:\n",
    "    def __init__(self, head):\n",
    "        self.linklist = []\n",
    "        cur = head\n",
    "        while cur is not None:\n",
    "            self.linklist.append(cur.val)\n",
    "            cur = cur.next\n",
    "\n",
    "    def getRandom(self):\n",
    "        return random.choice(self.linklist)"
   ]
  },
  {
   "cell_type": "markdown",
   "metadata": {},
   "source": [
    "## 问题10：[Excel表列名称](https://leetcode.cn/problems/excel-sheet-column-title/)\n",
    "### 题目\n",
    "给你一个整数 columnNumber ，返回它在 Excel 表中相对应的列名称。例如：在excel中第一列是A，所以当输入1时返回A，第3列是C所以输入3时返回C，第26列是Z，第27列是AA....\n",
    "### 分析\n",
    "- 可以把这个问题看成10进制转化为26进制的问题，需要注意的是进制转化的起点是从1开始的。并且进位之后也是从1开始。具体处理方式(减一1再加1)见网页解答，目的是使得每一位上的系数都是0-25,而1对应A，26对应Z"
   ]
  },
  {
   "cell_type": "code",
   "execution_count": null,
   "metadata": {},
   "outputs": [],
   "source": [
    "def process(columnNumber):\n",
    "    result = []\n",
    "    while columnNumber != 0:\n",
    "        ai = (columnNumber-1)%26 + 1 \n",
    "        result.insert(0, chr(ai - 1 + ord(\"A\"))) # 字符转换ai=1时转为\"A\"\n",
    "        columnNumber = (columnNumber - ai)//26\n",
    "    return ''.join(result)\n",
    "process(26)\n"
   ]
  },
  {
   "cell_type": "markdown",
   "metadata": {},
   "source": [
    "## 问题11：[二进制求和](https://leetcode.cn/problems/add-binary/)\n",
    "### 题目\n",
    "给你两个二进制字符串，返回它们的和（用二进制表示）。\n",
    "### 分析\n",
    "- 根据问题5类似的解决方式\n",
    "### 优化\n",
    "- python中int(str, 2) 可以把二进制的str转化为10进制的。"
   ]
  },
  {
   "cell_type": "code",
   "execution_count": null,
   "metadata": {},
   "outputs": [],
   "source": [
    "def process(str1, str2):\n",
    "    l1 = len(str1)-1\n",
    "    l2 = len(str2)-1\n",
    "    jinwei = 0\n",
    "    result = ''\n",
    "    while l1>=0 or l2>=0:\n",
    "        num1 = int(str1[l1]) if l1>=0 else 0\n",
    "        num2 = int(str2[l2]) if l2>=0 else 0\n",
    "        benwei = (num1 + num2 + jinwei) % 2\n",
    "        result = str(benwei) + result\n",
    "        jinwei = (num1 + num2 + jinwei)//2\n",
    "        l1 -= 1\n",
    "        l2 -= 1\n",
    "    if jinwei == 1:\n",
    "        result = '1' + result\n",
    "    return result\n",
    "\n",
    "process(\"11\",'1')\n",
    "\n"
   ]
  },
  {
   "cell_type": "markdown",
   "metadata": {},
   "source": [
    "## 问题12：[除自身以外数组的乘积](https://leetcode.cn/problems/product-of-array-except-self/)\n",
    "### 题目\n",
    "给你一个整数数组nums，返回数组answer ，其中answer[i]等于nums中除nums[i]之外其余各元素的乘积。请不要使用除法，且在O(n)时间复杂度内完成此题。例如输入为：[1,2,3,4]，输出[2\\*3\\*4,1\\*3\\*4,1\\*2\\*4,1\\*2\\*3]即[24,12,8,6]\n",
    "### 分析\n",
    "- 由于不能使用除法，并且如果列表中含有0那么使用除法将会有问题\n",
    "- 根据135分糖果得到的启发，我们可以维护两个列表L，R。L[i]表示nums中第i个位置的左侧(不包括第i个位置)所有数字之和，R[i]表示第i个数字的右侧所有数字之和。因此我们向获得answer[i] = L[i] * R[i]即可\n",
    "- 注意L和R的端点值初始化"
   ]
  },
  {
   "cell_type": "code",
   "execution_count": null,
   "metadata": {},
   "outputs": [],
   "source": [
    "def process(nums):\n",
    "    lenth = len(nums)\n",
    "    L, R = [0]*lenth, [0]*lenth \n",
    "    # 初始化\n",
    "    L[0] = 1\n",
    "    R[lenth-1] = 1\n",
    "\n",
    "    for i in range(1, lenth):\n",
    "        L[i] = nums[i-1] * L[i-1]\n",
    "    for j in range(lenth-2, -1, -1):\n",
    "        R[j] = nums[j+1] * R[j+1]\n",
    "        \n",
    "    answer = [L[i]*R[i] for i in range(lenth)]\n",
    "    return answer\n",
    "\n",
    "process([2,7,2,4])"
   ]
  },
  {
   "cell_type": "markdown",
   "metadata": {},
   "source": [
    "## 问题13：[最少移动次数使数组元素相等 II](https://leetcode.cn/problems/minimum-moves-to-equal-array-elements-ii/)\n",
    "### 题目\n",
    "给你一个长度为n的整数数组nums ，返回使所有数组元素相等需要的最少移动数。在一步操作中，你可以使数组中的一个元素+1或者-1。例如：输入为nums = [1,2,3]，可以进行如下变换->[2,2,3]->[2,2,2]，因此我们只需要2步即可，输出2\n",
    "### 分析\n",
    "- 仔细分析可以直到有两个数[a,b]，如果a大于b则我们使得a,b变为[a,b]区间内任何一个数m，所需要的步骤都是一样的(类比于数轴上的点距离关系)，因此对于一个数组，我们只需要使得其所有的数都变为该数组的中位数即可(必须为整数)"
   ]
  },
  {
   "cell_type": "code",
   "execution_count": 2,
   "metadata": {},
   "outputs": [
    {
     "data": {
      "text/plain": [
       "2"
      ]
     },
     "execution_count": 2,
     "metadata": {},
     "output_type": "execute_result"
    }
   ],
   "source": [
    "def process(nums):\n",
    "    sorted_nums = sorted(nums)\n",
    "    mid_num = sorted_nums[len(nums)//2]\n",
    "    return sum([abs(i-mid_num) for i in sorted_nums])\n",
    "process([1,2,3])"
   ]
  },
  {
   "cell_type": "markdown",
   "metadata": {},
   "source": [
    "## 问题14：[多数元素](https://leetcode.cn/problems/majority-element/)\n",
    "### 题目\n",
    "给定一个大小为n的数组nums，返回其中的多数元素。多数元素是指在数组中出现次数大于⌊ n/2 ⌋的元素。\n",
    "### 分析\n",
    "- 采用擂台打法即可，采用number记录下当前擂主，weight记录下当前擂主个数。遍历整个数组，如果i != 擂主number，则weight-=1，否则weight+=1.如果weight减为0了则更换擂主。"
   ]
  },
  {
   "cell_type": "code",
   "execution_count": null,
   "metadata": {},
   "outputs": [],
   "source": [
    "def process(nums):\n",
    "    number = None\n",
    "    weight = 0\n",
    "    for i in nums:\n",
    "        if weight == 0:\n",
    "            number = i\n",
    "            weight = 1\n",
    "        else:\n",
    "            if i == number:\n",
    "                weight += 1\n",
    "            else:\n",
    "                weight -= 1\n",
    "    return number"
   ]
  },
  {
   "cell_type": "markdown",
   "metadata": {},
   "source": [
    "## 问题15：[用 Rand7() 实现 Rand10()](https://leetcode.cn/problems/implement-rand10-using-rand7/)\n",
    "### 题目\n",
    "给定方法 rand7 可生成 [1,7] 范围内的均匀随机整数，试写一个方法 rand10 生成 [1,10] 范围内的均匀随机整数。你只能调用 rand7() 且不能调用其他方法。\n",
    "### 分析\n",
    "- 已知一个函数可以生成a-b随机数，怎么加工出c-d随机数？\n",
    "    - 将生成a-b随机数的函数，变成生成0和1的等概率随机函数A(大于中点为1，小于中点为0)\n",
    "    - 利用二进制位得到生成0-(d-c)的随机函数，最后再加c即可。\n",
    "- 本题由于可以得到[1,7]的随机数，因此每次调用如果生成的数是[1,3]则认为是0，如果是[5,7]则认为是1，否则重新调用。通过上述方式我们可以得到二进制随机数rand2(),由于本题需要生成1-10，因此我们可以调用rand2()4次，可以得到，我们就可以得到[0,15]的随机数了，我们只取用[0,9]其余丢弃，这样我们就得到rand9()随机数产生函数了，最后再加1即可。\n",
    "- 从二进制转化为十进制，可以采用<<运算符号更快(或者乘以2的次幂), 注意<<需要打括号，运算先后顺序。"
   ]
  },
  {
   "cell_type": "code",
   "execution_count": 55,
   "metadata": {},
   "outputs": [
    {
     "data": {
      "text/plain": [
       "9"
      ]
     },
     "execution_count": 55,
     "metadata": {},
     "output_type": "execute_result"
    }
   ],
   "source": [
    "import random\n",
    "# 给定的一个生成随机数的函数\n",
    "def rand7():\n",
    "    return random.randint(1,7)\n",
    "\n",
    "def rand2():\n",
    "    a = rand7()\n",
    "    if 1<=a<=3:\n",
    "        return 0 \n",
    "    elif 5<=a<=7:\n",
    "        return 1\n",
    "    else:\n",
    "        return rand2()\n",
    "\n",
    "def rand10():\n",
    "    t = (rand2()<<3) + (rand2()<<2) + (rand2()<<1) + (rand2())\n",
    "    if t > 9:\n",
    "        return rand10()\n",
    "    else:\n",
    "        return t+1\n",
    "\n",
    "rand10()"
   ]
  },
  {
   "cell_type": "markdown",
   "metadata": {},
   "source": [
    "## 问题16：[快乐数](https://leetcode.cn/problems/happy-number/solution/kuai-le-shu-by-leetcode-solution/)\n",
    "### 题目\n",
    "编写一个算法来判断一个数 n 是不是快乐数。快乐数定义:对于一个正整数，每一次将该数替换为它每个位置上的数字的平方和。然后重复这个过程直到这个数变为1,也可能是无限循环但始终变不到1。如果这个过程结果为1，那么这个数就是快乐数。例如：n=19，则第一次n=1\\*\\*2+9\\*\\*2 =82, 第二次n=8\\*\\*2+2*\\*2=68，第三次n=6\\*\\*2+8*\\*2=100，第4次n=1*\\*2+0*\\*2+0*\\*2=1，所以n为快乐数。\n",
    "### 分析\n",
    "- 可以使用while循环不断取位(a=n%10, n=n//10), 就可以得到下一个迭代数了。\n",
    "- 问题在于如何判断n不为快乐数，在循环过程中迭代n可能出现3种情况，第一种就是降为1，第二种就是不同循环，第三种就是无限变大，经过讨论(见网页)其实不会出现一直变大的情况，因此我们只用判断是否出现循环即可(采用一个集合进行储存)"
   ]
  },
  {
   "cell_type": "code",
   "execution_count": 12,
   "metadata": {},
   "outputs": [
    {
     "data": {
      "text/plain": [
       "True"
      ]
     },
     "execution_count": 12,
     "metadata": {},
     "output_type": "execute_result"
    }
   ],
   "source": [
    "def get_next(n):\n",
    "    total = 0\n",
    "    while n != 0:\n",
    "        wei = n%10\n",
    "        total += wei * wei\n",
    "        n = n//10\n",
    "    return total\n",
    "\n",
    "def process(n):\n",
    "    seen = set()\n",
    "    while (n != 1) and (n not in seen):\n",
    "        seen.add(n)\n",
    "        n = get_next(n)   \n",
    "    return n == 1\n",
    "\n",
    "process(19)"
   ]
  },
  {
   "cell_type": "code",
   "execution_count": null,
   "metadata": {},
   "outputs": [],
   "source": []
  }
 ],
 "metadata": {
  "interpreter": {
   "hash": "0aea4d3bd9f517439094973d7e036bbe588c23e6e36cf8d45d53b47a8a90b2b4"
  },
  "kernelspec": {
   "display_name": "Python 3.8.6 64-bit",
   "language": "python",
   "name": "python3"
  },
  "language_info": {
   "codemirror_mode": {
    "name": "ipython",
    "version": 3
   },
   "file_extension": ".py",
   "mimetype": "text/x-python",
   "name": "python",
   "nbconvert_exporter": "python",
   "pygments_lexer": "ipython3",
   "version": "3.8.6"
  },
  "orig_nbformat": 4
 },
 "nbformat": 4,
 "nbformat_minor": 2
}
