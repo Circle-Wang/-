{
 "cells": [
  {
   "cell_type": "markdown",
   "metadata": {},
   "source": [
    "## 栈\n",
    "- 特性：先进后出，后进先出\n",
    "- Stack()创建一个空的新栈\n",
    "- push(item)将一个新项添加进栈的顶部\n",
    "- pop()从栈中删除顶部项，栈会被修改\n",
    "- peek()从栈返回顶部，不会修改栈\n",
    "- isEmpty()测试栈是否为空，返回布尔值\n",
    "- size()返回栈中item的数量"
   ]
  },
  {
   "cell_type": "code",
   "execution_count": 5,
   "metadata": {},
   "outputs": [],
   "source": [
    "class Stack():\n",
    "    def __init__(self):\n",
    "        self.items=[]\n",
    "    def push(self,item):\n",
    "        self.items.append(item)\n",
    "    def pop(self):\n",
    "        return self.items.pop()  # 返回从数组尾部抽取最后一个元素，并更改数组\n",
    "    def peek(self):\n",
    "        return self.items[-1]\n",
    "    def isEmpty(self):\n",
    "        return self.items == []\n",
    "    def size(self):\n",
    "        return len(self.items)"
   ]
  },
  {
   "cell_type": "markdown",
   "metadata": {},
   "source": [
    "- 应用：每个web浏览器都有一个返回按钮，你查看过的网页会以栈的形式存放，模拟回退"
   ]
  },
  {
   "cell_type": "code",
   "execution_count": 6,
   "metadata": {},
   "outputs": [
    {
     "name": "stdout",
     "output_type": "stream",
     "text": [
      "www.2.com\n"
     ]
    }
   ],
   "source": [
    "s = Stack()\n",
    "def get_request(url):\n",
    "    s.push(url)\n",
    "def showCurrentPage():\n",
    "    s.pop()\n",
    "def back():\n",
    "    print(s.pop())\n",
    "\n",
    "get_request('www.1.com')\n",
    "get_request('www.2.com')\n",
    "get_request('www.3.com')\n",
    "#显示当前页面\n",
    "showCurrentPage()\n",
    "\n",
    "#返回之前页面\n",
    "back()\n"
   ]
  },
  {
   "cell_type": "markdown",
   "metadata": {},
   "source": [
    "## 队列\n",
    "- 特性：先进先出，后进后出\n",
    "- Queue():创建一个空的队列\n",
    "- enqueue(item):将新项添加到队列尾部\n",
    "- dequeue():从队列首删除，队列会被修改\n",
    "- isEmpty():查看队列是否为空\n",
    "- size():返回队列中的项个数"
   ]
  },
  {
   "cell_type": "code",
   "execution_count": null,
   "metadata": {},
   "outputs": [],
   "source": [
    "class Queue():\n",
    "    def __init__(self):\n",
    "        self.items=[]\n",
    "    def enqueue(self, item):\n",
    "        self.items.insert(0, item)\n",
    "    def dequeue(self):\n",
    "        return self.items.pop()\n",
    "    def isEmpty(self):\n",
    "        return self.items==[]\n",
    "    def size(self):\n",
    "        return len(self.items)"
   ]
  },
  {
   "cell_type": "markdown",
   "metadata": {},
   "source": [
    "- 应用：烫手的山芋\n",
    "- 游戏介绍：六个人围成圈，自定义排列顺序，第一个人手里有个山芋，需要在计时器1秒后将山芋传递给下一个孩子，以此类推，规则是在计时器每七秒时，手里有山芋的孩子退出游戏。该游戏直到剩下一个孩子时候获胜。请使用队列实现该游戏策略，排在第几个位置会最终获胜（第0秒山芋在裁判里,第一秒的时候在第一个孩子手里，第二秒的时候传递了第一次，到了第二个孩子手里）\n",
    "- 准则：队头孩子的手里永远要有山芋"
   ]
  },
  {
   "cell_type": "code",
   "execution_count": null,
   "metadata": {},
   "outputs": [],
   "source": [
    "queue_men=Queue()\n",
    "men=['A','B','C','D','E','F']\n",
    "#将人写入队列\n",
    "for i in men:\n",
    "    queue_men.enqueue(i)\n",
    "while queue_men.size() > 1:\n",
    "    #7s山芋会被传递6次\n",
    "    for i in range(6):\n",
    "        item = queue_men.dequeue()  #出队列\n",
    "        queue_men.enqueue(item)     #入队列\n",
    "    queue_men.dequeue()#踢除队列头部的那个人\n",
    "print('获胜者为:',queue_men.dequeue())"
   ]
  },
  {
   "cell_type": "markdown",
   "metadata": {},
   "source": [
    "## 双端队列\n",
    "- 与普通队列相比可以在双端进行数据的插入和删除，提供了单数据结构中栈和队列的特性\n",
    "- Deque()创建一个新的deque。不需要参数，返回deque\n",
    "- addFront(item)将一个新项添加到deque的首部\n",
    "- addRear(item)将一个新项目添加到deque的尾部\n",
    "- removeFront()从deque中删除首项，deque被修改\n",
    "- removeRear()从deque中删除尾项，deque被修改\n",
    "- isEmpty()测试deque是否为空，返回布尔值\n",
    "- size()返回deque中项数。"
   ]
  },
  {
   "cell_type": "code",
   "execution_count": null,
   "metadata": {},
   "outputs": [],
   "source": [
    "class Deque():\n",
    "    def __init__(self):\n",
    "        self.items=[]\n",
    "    def isEmpty(self):\n",
    "        return self.items==[]\n",
    "    def size(self):\n",
    "        return len(self.items)\n",
    "    def addFront(self,item):    # 右端作为前端\n",
    "        self.items.append(item) \n",
    "    def addRear(self,item):\n",
    "        self.items.insert(0,item)\n",
    "    def removeFront(self):\n",
    "        return self.items.pop()  # 从最右端\n",
    "    def removeRear(self):\n",
    "        return self.items.pop(0) # 从最左端\n",
    "    "
   ]
  },
  {
   "cell_type": "markdown",
   "metadata": {},
   "source": [
    "- 应用：回文检查\n",
    "- 回文是一个字符串，读取首尾相同的字符：例如radar\n",
    "- 将字符串放进双端队列，每次从双端队列中取出头和尾，进行比较，如果不相等退出返回Fasle，相等就返回True."
   ]
  },
  {
   "cell_type": "code",
   "execution_count": null,
   "metadata": {},
   "outputs": [],
   "source": [
    "def isHuiWen(s):\n",
    "    ex = True\n",
    "    q = Deque()\n",
    "    #把str放入双端队列中\n",
    "    for i in s:\n",
    "        q.addFront(i)\n",
    "    for i in range(len(s)//2):\n",
    "        front = q.removeFront()\n",
    "        rear = q.removeRea\n",
    "        if front != rear:\n",
    "            ex = False\n",
    "            break\n",
    "    return ex"
   ]
  },
  {
   "cell_type": "code",
   "execution_count": null,
   "metadata": {},
   "outputs": [],
   "source": [
    "print (isHuiWen('adda'))"
   ]
  },
  {
   "cell_type": "code",
   "execution_count": 7,
   "metadata": {},
   "outputs": [
    {
     "data": {
      "text/plain": [
       "['b', 'e', '0']"
      ]
     },
     "execution_count": 7,
     "metadata": {},
     "output_type": "execute_result"
    }
   ],
   "source": []
  },
  {
   "cell_type": "code",
   "execution_count": null,
   "metadata": {},
   "outputs": [],
   "source": []
  }
 ],
 "metadata": {
  "interpreter": {
   "hash": "9afc2b4a137c1ef260a208b8b14dcafe0c511635e698b6a7b46f192005b0a3f6"
  },
  "kernelspec": {
   "display_name": "Python 3.8.6 64-bit",
   "name": "python3"
  },
  "language_info": {
   "codemirror_mode": {
    "name": "ipython",
    "version": 3
   },
   "file_extension": ".py",
   "mimetype": "text/x-python",
   "name": "python",
   "nbconvert_exporter": "python",
   "pygments_lexer": "ipython3",
   "version": "3.8.6"
  },
  "metadata": {
   "interpreter": {
    "hash": "9afc2b4a137c1ef260a208b8b14dcafe0c511635e698b6a7b46f192005b0a3f6"
   }
  },
  "orig_nbformat": 2
 },
 "nbformat": 4,
 "nbformat_minor": 2
}
