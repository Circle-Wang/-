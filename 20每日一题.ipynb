{
 "cells": [
  {
   "cell_type": "markdown",
   "metadata": {},
   "source": [
    "# 本单元用于记录LeetCode每日一题"
   ]
  },
  {
   "cell_type": "markdown",
   "metadata": {},
   "source": [
    "## 问题1：[HTML 实体解析器](https://leetcode.cn/problems/html-entity-parser/description/)\n",
    "### 题目\n",
    "字符串替换, 将字符串中的特殊符号, 根据规则转化为指定符号。\n",
    "\n",
    "### 分析\n",
    "- 使用正则表达式进行划分, 由于我们发现待替换的字符串中都是“&xxx;”的形式，因此我们使用正则表达式进行分组\n",
    "- re.split(r\"(&[^&;]+;)\", text):\n",
    "    - [^&;]: 表示匹配不包括&和;符号\n",
    "    - +: 表示前面的匹配至少出现一次\n",
    "    - [^&;]+: 表示必须匹配一个非&和非;的字符\n",
    "    - (): 表示将内部匹配到的东西作为一个分组整体返回(保证了分割字符中包含有&;) \n",
    "\n",
    "### 优化\n",
    "- 直接使用replace(目标值, 更换值)进行替换即可\n"
   ]
  },
  {
   "cell_type": "code",
   "execution_count": null,
   "metadata": {},
   "outputs": [],
   "source": [
    "import re\n",
    "def process(text):\n",
    "    word_dict = {\"&quot;\":\"\\\"\",\"&apos;\":\"\\'\",\"&amp;\":\"&\", \"&gt;\":\">\",\"&lt;\":\"<\",\"&frasl;\":\"/\"}\n",
    "    word_list = re.split(r\"(&[^&;]+;)\", text)\n",
    "    print(word_list)\n",
    "    for index, word in enumerate(word_list):\n",
    "        if word in word_dict:\n",
    "            word_list[index] = word_dict[word]\n",
    "    return \"\".join(word_list)\n",
    "\n",
    "text = \"and I quote: &quot;...&quot;\"\n",
    "process(text)\n"
   ]
  },
  {
   "cell_type": "markdown",
   "metadata": {},
   "source": [
    "## 问题1：[]()\n",
    "### 题目\n",
    "\n",
    "\n",
    "### 分析\n",
    "\n",
    "\n",
    "### 注意\n",
    "\n",
    "\n",
    "### 优化\n"
   ]
  },
  {
   "cell_type": "code",
   "execution_count": 1,
   "metadata": {},
   "outputs": [
    {
     "data": {
      "text/plain": [
       "[1, 7, 7, 8, 10]"
      ]
     },
     "execution_count": 1,
     "metadata": {},
     "output_type": "execute_result"
    }
   ],
   "source": [
    "import bisect\n",
    "a = [1,7,7,8,10]\n",
    "bisect.bisect_left(a,7)\n",
    "a"
   ]
  },
  {
   "cell_type": "code",
   "execution_count": null,
   "metadata": {},
   "outputs": [],
   "source": [
    "import bisect\n",
    "def process(arr):\n",
    "    stack = []\n",
    "    for i in arr:\n",
    "        "
   ]
  },
  {
   "cell_type": "markdown",
   "metadata": {},
   "source": [
    "## 问题1：[]()\n",
    "### 题目\n",
    "\n",
    "\n",
    "### 分析\n",
    "\n",
    "\n",
    "### 注意\n",
    "\n",
    "\n",
    "### 优化\n"
   ]
  },
  {
   "cell_type": "code",
   "execution_count": null,
   "metadata": {},
   "outputs": [],
   "source": []
  }
 ],
 "metadata": {
  "kernelspec": {
   "display_name": "base",
   "language": "python",
   "name": "python3"
  },
  "language_info": {
   "codemirror_mode": {
    "name": "ipython",
    "version": 3
   },
   "file_extension": ".py",
   "mimetype": "text/x-python",
   "name": "python",
   "nbconvert_exporter": "python",
   "pygments_lexer": "ipython3",
   "version": "3.10.9"
  }
 },
 "nbformat": 4,
 "nbformat_minor": 2
}
