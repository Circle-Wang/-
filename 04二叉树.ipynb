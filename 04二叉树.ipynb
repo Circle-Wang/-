{
 "cells": [
  {
   "cell_type": "markdown",
   "metadata": {},
   "source": [
    "## 二叉树\n",
    "- 根节点\n",
    "- 左叶子节点\n",
    "- 右页子节点\n",
    "- 子树\n",
    "- 循环遍历采用list中pop()和append()操作\n",
    "![原始图片](附件图片\\遍历.png)\n",
    "- 深层遍历\n",
    "    - 前序遍历：对每一颗子树，先头节点，再左子树，最后右子树 1,2,4,5,3,6,7\n",
    "    - 中序遍历：对每一颗子树，先左子树，再头节点，最后右子树 4,2,5,1,6,3,7\n",
    "    - 后序遍历：对每一颗子树，先左子树，再右子树，最后头节点 4,5,2,6,7,3,1\n"
   ]
  },
  {
   "cell_type": "code",
   "execution_count": 6,
   "metadata": {},
   "outputs": [],
   "source": [
    "#封装节点对象\n",
    "class Node():\n",
    "    def __init__(self,item):\n",
    "        self.item = item\n",
    "        self.left = None\n",
    "        self.right = None"
   ]
  },
  {
   "cell_type": "code",
   "execution_count": 7,
   "metadata": {},
   "outputs": [],
   "source": [
    "class Tree():\n",
    "    def __init__(self):   # 构造出空的二叉树\n",
    "        self._root = None # root指向第一个节点的地址，如果root指向了空，则意味着该二叉树为空\n",
    "\n",
    "    # 向二叉树中插入新的节点这里插入的时候都是满层插入的，先左后右\n",
    "    def addNode(self,item):\n",
    "        node = Node(item)\n",
    "        # 如果第一次被调用\n",
    "        if self._root == None:\n",
    "            self._root = node\n",
    "            return\n",
    "        # 如果上式没有执行，则向非空的树中插入，按层遍历\n",
    "        cur = self._root\n",
    "        queue = [cur]\n",
    "        while queue:\n",
    "            n = queue.pop(0)\n",
    "            if n.left != None:\n",
    "                queue.append(n.left)\n",
    "            else:\n",
    "                n.left = node\n",
    "                break\n",
    "            \n",
    "            if n.right != None:\n",
    "                queue.append(n.right)\n",
    "            else:\n",
    "                n.right = node\n",
    "                break\n",
    "\n",
    "\n",
    "    # 广度优先遍历二叉树\n",
    "    def travel(self):\n",
    "        # 如果树为空\n",
    "        if self._root==None:\n",
    "            print('这是空树')\n",
    "        # 如果树不为空\n",
    "        cur = self._root\n",
    "        queue = [cur]\n",
    "        while queue:\n",
    "            n = queue.pop(0) # 先进的先出\n",
    "            print(n.item)\n",
    "            if n.left != None: # 先左进队列\n",
    "                queue.append(n.left)\n",
    "            if n.right != None: # 再右进队列\n",
    "                queue.append(n.right)\n",
    "    \n",
    "    # 以下是深度优先遍历\n",
    "    # 前序遍历\n",
    "    def forward(self,root):\n",
    "        if root==None:\n",
    "            return\n",
    "        print(root.item)\n",
    "        self.forward(root.left)\n",
    "        self.forward(root.right)\n",
    "\n",
    "    # 中序遍历\n",
    "    def middle(self,root):\n",
    "        if root==None:\n",
    "            return\n",
    "        self.middle(root.left)\n",
    "        print(root.item)\n",
    "        self.middle(root.right)\n",
    "\n",
    "    # 后序遍历\n",
    "    def back(self,root):\n",
    "        if root==None:\n",
    "            return\n",
    "        self.back(root.left)\n",
    "        self.back(root.right)\n",
    "        print(root.item)\n",
    "            \n"
   ]
  },
  {
   "cell_type": "code",
   "execution_count": 8,
   "metadata": {},
   "outputs": [],
   "source": [
    "tree=Tree()\n",
    "tree.addNode(1)\n",
    "tree.addNode(2)\n",
    "tree.addNode(3)\n",
    "tree.addNode(4)\n",
    "tree.addNode(5)\n",
    "tree.addNode(6)\n",
    "#前序：1，2，4，5，3，6，7\n",
    "# tree.forward(tree._root)\n",
    "\n",
    "#中序：4，2，5，1，6，3，7\n",
    "# tree.middle(tree._root)\n",
    "\n",
    "#后序:4,5,2,6,7,3,1\n",
    "# tree.back(tree._root)"
   ]
  },
  {
   "cell_type": "markdown",
   "metadata": {},
   "source": [
    "### 问题二：\n",
    "统计二叉树每一层的宽度.\n",
    "- 利用广度优先遍历，每次入队列的时候更新下一层的最右节点。出队列的时候判定下当前节点是否为当前层的最右节点"
   ]
  },
  {
   "cell_type": "code",
   "execution_count": null,
   "metadata": {},
   "outputs": [],
   "source": [
    "def levelcount(tree):\n",
    "    queue = [tree._root]  # 头节点放进队列\n",
    "    cur_end = tree._root  # 当前层最右节点,初始为头节点\n",
    "    next_end = None  # 下一层最右节点\n",
    "    level_count = 0  # 计数每层节点\n",
    "    i = 1 # 记录层数\n",
    "    while queue:\n",
    "        cur = queue.pop(0) \n",
    "        level_count += 1 # 由于当前层弹出了一个数所以，当前层计数增加\n",
    "        if cur.left != None: \n",
    "            queue.append(cur.left)\n",
    "            next_end = cur.left     #更新下一层的最右节点\n",
    "        if cur.right != None: \n",
    "            queue.append(cur.right)\n",
    "            next_end = cur.right    #更新下一层的最右节点\n",
    "\n",
    "# 当弹出该层最右节点的时候，下一个弹出的一定是下一层节点,\n",
    "# 且下一层的最右节点一定已经出现了。\n",
    "        if cur == cur_end : \n",
    "            print(\"第\",i,\"层节点数为：\",level_count)\n",
    "            level_count = 0 # 计数归零 \n",
    "            i += 1          # 记录层数\n",
    "            cur_end = next_end  # 锁定下一层的最右节点\n",
    "\n",
    "levelcount(tree)"
   ]
  },
  {
   "cell_type": "markdown",
   "metadata": {},
   "source": [
    "## 排序二叉树\n",
    "- 插入节点的时候的时候一定要遵从：比根节点小的一定要插入在树的左侧，否则插入在右侧\n",
    "![原始图片](附件图片\\排序二叉树.png)"
   ]
  },
  {
   "cell_type": "code",
   "execution_count": 2,
   "metadata": {},
   "outputs": [],
   "source": [
    "# 封装节点对象\n",
    "class Node():\n",
    "    def __init__(self,item):\n",
    "        self.item = item\n",
    "        self.left = None\n",
    "        self.right = None\n",
    "\n",
    "# 排序二叉树\n",
    "class SortTree():\n",
    "    def __init__(self):#构造出空的二叉树\n",
    "        self._root=None\n",
    "    \n",
    "    def insertNode(self,item):\n",
    "        node = Node(item)\n",
    "        # 如果树为空\n",
    "        if self._root == None:\n",
    "            self._root = node\n",
    "            return\n",
    "\n",
    "        # 树为非空\n",
    "        cur = self._root\n",
    "        while True:\n",
    "            if node.item > cur.item:   # 往右插入\n",
    "                if cur.right == None:\n",
    "                    cur.right = node\n",
    "                    break\n",
    "                else:\n",
    "                    cur = cur.right    #偏移下一个\n",
    "            else:             #往左插\n",
    "                if cur.left == None:\n",
    "                    cur.left=node\n",
    "                    break\n",
    "                else:\n",
    "                    cur=cur.left       #偏移下一个\n",
    "\n",
    "    def find(self,item):\n",
    "        if self._root==None:\n",
    "            print('这是空树')\n",
    "            return\n",
    "        cur = self._root\n",
    "        while cur != None:\n",
    "            if item == cur.item:\n",
    "                return True\n",
    "            elif item > cur.item:\n",
    "                cur = cur.right\n",
    "            else:\n",
    "                cur = cur.left\n",
    "        return False"
   ]
  },
  {
   "cell_type": "code",
   "execution_count": 4,
   "metadata": {},
   "outputs": [
    {
     "data": {
      "text/plain": [
       "False"
      ]
     },
     "execution_count": 4,
     "metadata": {},
     "output_type": "execute_result"
    }
   ],
   "source": [
    "tree=SortTree()\n",
    "tree.insertNode(3)\n",
    "tree.insertNode(8)\n",
    "tree.insertNode(5)\n",
    "tree.insertNode(7)\n",
    "tree.insertNode(6)\n",
    "tree.find(3)"
   ]
  },
  {
   "cell_type": "markdown",
   "metadata": {},
   "source": [
    "## 序列化与反序列化\n",
    "将一棵树通过数组或者其他输出来保存一棵二叉树的结构以及内容\n",
    "- 1.可以用先序，中序，后序的遍历的方式来保存树，注意没有的子节点用None来代替\n",
    "- 2.采用什么序列保存，就采用什么序列来重构"
   ]
  },
  {
   "cell_type": "code",
   "execution_count": 9,
   "metadata": {},
   "outputs": [],
   "source": [
    "# 先根据先序遍历的方式来保存\n",
    "def savetree(root, a):\n",
    "    if root == None :\n",
    "        a.append(None)\n",
    "    else:\n",
    "        a.append(root.item)\n",
    "        savetree(root.left, a)\n",
    "        savetree(root.right, a)\n",
    "    return \"储存完毕\"\n",
    "\n",
    "a=[]  # 储存树的列表\n",
    "savetree(tree._root,a) # 储存树\n",
    "\n",
    "# 按先序构建树\n",
    "def buildtree(a):\n",
    "    if a == []:\n",
    "        return None\n",
    "    value = a.pop(0)\n",
    "    if value == None:\n",
    "        return None\n",
    "    head = Node(value) # 递归序\n",
    "    head.left = buildtree(a)\n",
    "    head.right = buildtree(a)\n",
    "    return head\n",
    "tree2 = Tree()\n",
    "tree2._root = buildtree(a) # 捕获树的根节点\n"
   ]
  },
  {
   "cell_type": "markdown",
   "metadata": {},
   "source": [
    "## 问题二\n",
    "二叉树有如下结构：left,right,parent。给你二叉树中的某个节点，返回该节点的后继节点。(后继节点指：在中序遍历的情况下，该节点的下一个节点)\n",
    "\n",
    "- 技巧：一个节点x的中序遍历的后继节点，有这样的性质：\n",
    "    - 如果x没有右树，向上找父节点,并且自己是该父节点的左孩子(如果是右孩子，则继续向上找父节点), 则此父节点就是x的后续节点\n",
    "    - 如果x有右树，则x的后继一定是右树上的最左节点\n",
    "\n"
   ]
  },
  {
   "cell_type": "code",
   "execution_count": null,
   "metadata": {},
   "outputs": [],
   "source": [
    "def find_succeed_node(head):\n",
    "    if head.right == None:       # 无右子树的情况\n",
    "        parent = head.parent\n",
    "        while (parent != None and parent.left != head):\n",
    "            # 直到找到当前节点是其父节点的左孩子为止\n",
    "            head = parent\n",
    "            parent = head.parent\n",
    "        return parent\n",
    "    else:   # 有右子树的情况\n",
    "        while head.left != None: # 找到最左节点为止\n",
    "            head = head.left\n",
    "        return head"
   ]
  },
  {
   "cell_type": "markdown",
   "metadata": {},
   "source": [
    "## 问题三\n",
    "请把纸条竖着放在桌⼦上，然后从纸条的下边向上⽅对折，压出折痕后再展开。此时有1条折痕，突起的⽅向指向纸条的背⾯，这条折痕叫做“下”折痕 ；突起的⽅向指向纸条正⾯的折痕叫做“上”折痕。如果每次都从下边向上⽅对折，对折N次。请从上到下计算出所有折痕的⽅向。 \n",
    "\n",
    "给定折的次数N,请返回从上到下的折痕的数组，若为下折痕则对应元素为\"down\",若为上折痕则为\"up\"\n",
    "\n",
    "- 注意：从第二次开始，每一次折都会从上一次的折痕的上下方出现新的折痕，上方出现凹折痕，下方出现凸折痕，最后从上到下打印其实就是一棵二叉树的中序遍历\n",
    "- 编程实现主要，利用递归模拟一棵树的中序遍历，利用层数来控制递归回调。左头右。"
   ]
  },
  {
   "cell_type": "code",
   "execution_count": 1,
   "metadata": {},
   "outputs": [
    {
     "name": "stdout",
     "output_type": "stream",
     "text": [
      "凹\n",
      "凹\n",
      "凸\n",
      "凹\n",
      "凹\n",
      "凸\n",
      "凸\n"
     ]
    }
   ],
   "source": [
    "# i：表示当前节点层数，N：表示总折叠次数，也就是树的高度，status：表示当是“凸\"还是\"凹\"，也就是左是凹，右是凸。类似于left和right的控制\n",
    "# 利用i和N的相对大小来控制中序递归\n",
    "\n",
    "def print_process(i, N, status):\n",
    "    if i >= N :\n",
    "        return print(status) # 发现来到最后一层打印返回\n",
    "    print_process(i+1, N, \"凹\")\n",
    "    print(status) \n",
    "    print_process(i+1, N, \"凸\")\n",
    "N = 3\n",
    "print_process(1, N, \"凹\")\n"
   ]
  },
  {
   "cell_type": "code",
   "execution_count": null,
   "metadata": {},
   "outputs": [],
   "source": []
  }
 ],
 "metadata": {
  "interpreter": {
   "hash": "9afc2b4a137c1ef260a208b8b14dcafe0c511635e698b6a7b46f192005b0a3f6"
  },
  "kernelspec": {
   "display_name": "Python 3.8.6 64-bit",
   "name": "python3"
  },
  "language_info": {
   "codemirror_mode": {
    "name": "ipython",
    "version": 3
   },
   "file_extension": ".py",
   "mimetype": "text/x-python",
   "name": "python",
   "nbconvert_exporter": "python",
   "pygments_lexer": "ipython3",
   "version": "3.8.6"
  },
  "orig_nbformat": 2
 },
 "nbformat": 4,
 "nbformat_minor": 2
}
