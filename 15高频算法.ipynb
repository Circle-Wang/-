{
 "cells": [
  {
   "cell_type": "markdown",
   "metadata": {},
   "source": [
    "## 问题1\n",
    "给定一个数组，并指定一个位置，该位置左边的数称为左部分，右边的数称为右部分，把左右部分整体交换。要求空间复杂度O(1)\n",
    "\n",
    "分析：\n",
    "- 把左部分逆序，把右部分逆序，最后整体逆序\n",
    "\n",
    "改进：\n",
    "- k会把arr分成两部分，把长的部分与短的部分交换，被交换的短的部分交换后就不动了。接下来继续是把短的部分与长的部分交换，直到是两部分都等长了，最后再交换一次就可以了。\n",
    "- 例子：\\[a,b,c,d,e,  f,g\\],k=5\n",
    "    - \\[f,g|c,d,e, a,b\\]\n",
    "    - \\[f,g,a,b|e, c,d\\]\n",
    "    - \\[f,g,a,b,|d, c|e\\]\n",
    "    - \\[f,g,a,b,c,d,e\\]"
   ]
  },
  {
   "cell_type": "code",
   "execution_count": null,
   "metadata": {},
   "outputs": [],
   "source": [
    "def process(arr, index):\n",
    "    # 把左部分逆序\n",
    "    l = 0\n",
    "    r = index - 1\n",
    "    while l < r:\n",
    "        arr[l], arr[r] = arr[r], arr[l]\n",
    "        l += 1\n",
    "        r -= 1\n",
    "    # 把右部分逆序\n",
    "    l = index\n",
    "    r = len(arr) - 1\n",
    "    while l < r:\n",
    "        arr[l], arr[r] = arr[r], arr[l]\n",
    "        l += 1\n",
    "        r -= 1\n",
    "    # 整体逆序\n",
    "    l = 0\n",
    "    r = len(arr) - 1\n",
    "    while l < r:\n",
    "        arr[l], arr[r] = arr[r], arr[l]\n",
    "        l += 1\n",
    "        r -= 1\n",
    "    return\n",
    "arr = [1,2,3,4,5,6,7]\n",
    "process(arr,3)\n",
    "arr"
   ]
  },
  {
   "cell_type": "markdown",
   "metadata": {},
   "source": [
    "## 问题2: [加工随机数]()\n",
    "- 已知一个函数，可以生成1-5随机数，怎么加工出1-7随机数？\n",
    "    - 先得到生成返回0和1的等概率函数c(这里是大于3为1，小于3为0，等于3重新调用)\n",
    "    - 将范围转化为二进制形式,最终得到0-6的等概率生成函数(此处是需要三位二进制位，即调用三次函数c)，如果得到的数字大于了6，再重复操作。\n",
    "    - 得到0-6的等概率生成函数后，再加1即可得到1-7\n",
    "\n",
    "- 拓展：已知一个函数，可以生成a-b随机数，怎么加工出c-d随机数？\n",
    "    - 将生成a-b随机数的函数，变成生成0和1的等概率随机函数A(大于中点为1，小于中点为0)\n",
    "    - 利用二进制位得到生成0-(d-c)的随机函数，最后再加c即可。\n"
   ]
  },
  {
   "cell_type": "code",
   "execution_count": null,
   "metadata": {},
   "outputs": [],
   "source": [
    "import random\n",
    "# 给定的一个生成随机数的函数\n",
    "def f():\n",
    "    return random.randint(1,5)\n",
    "# 得到一个返回0，1的随机变量函数\n",
    "def c():\n",
    "    t = f()\n",
    "    while (t == 3):\n",
    "        t = f()\n",
    "    return 1 if t < 3 else 0\n",
    "# 得到返回指定区间的随机数函数\n",
    "def g():\n",
    "    t = (c()<<2) + (c()<<1) + c()\n",
    "    while t > 6 :\n",
    "        t = (c()<<2) + (c()<<1) + c()\n",
    "    return t+1"
   ]
  },
  {
   "cell_type": "markdown",
   "metadata": {},
   "source": [
    "## 问题3: 超级水王问题\n",
    "给定一个数组arr,长度为N，如果数组中某个数出现的次数>N/2，打印这个数，如果没有这样的数，则不用打印。\n",
    "- 每次删除两个不同的数，直到没数可删的时候，剩下的那个数就 *可能是* 是我们要找的数(例2,3,4,5,1,1)，要是没有剩下，说明没有这样的数。\n",
    "- 将第一步得到的数进行遍历，记录下出现次数如果大于N/2则返回，否则不存在。\n",
    "\n",
    "重点：如何使用有限的两个变量来遍历一遍数组从而得留下来的数\n",
    "- 设置HP变量和cand变量，初始值均为0，指针从数组开始进行遍历。\n",
    "    - HP==0说明无候选，则将当前指向的数更新为候选cand，HP++\n",
    "    - HP!=0,且当前指向的数不等于cand,则HP--\n",
    "    - HP!=0,且当前指向的数等于cand,则HP++\n",
    "    - 遍历完成以后，HP=0说明无留下来的数，HP>0说明cand就是我们留下来的数。\n",
    "\n",
    "\n",
    "\n",
    "    \n"
   ]
  },
  {
   "cell_type": "code",
   "execution_count": null,
   "metadata": {},
   "outputs": [],
   "source": [
    "import random\n",
    "arr = [random.randint(1,3) for i in range(10)]\n",
    "def process(arr):\n",
    "    HP = 0\n",
    "    cand = 0\n",
    "    for i in arr:\n",
    "        if HP == 0 :\n",
    "            cand = i\n",
    "            HP = 1\n",
    "        elif cand == i :\n",
    "            HP += 1\n",
    "        else :\n",
    "            HP -= 1\n",
    "    if HP == 0:\n",
    "        return \"无\"\n",
    "    elif arr.count(cand) > len(arr)/2:\n",
    "        return cand\n",
    "    else:\n",
    "        return \"无\"\n",
    "print(arr)\n",
    "process(arr)"
   ]
  },
  {
   "cell_type": "markdown",
   "metadata": {},
   "source": [
    "### 拓展\n",
    "给定一个数组arr,长度为N，以及K，如果数组中某个数出现的次数>N/K，打印这个数，如果没有这样的数，则不用打印。\n",
    "- 每次删掉K个不同的数。\n",
    "    - 具体的删法是将HP设置为K-1个元素的字典，键为数组中的数，值为该数出现的次数\n",
    "    - 判断逻辑是：候选有相等则对应hp++;如果候选满了且当前指向与候选中的数都不同则所有候选血量均-1(如果有候选的hp减到0，删除该条);如果候选没有满将当前指向放入字典中对应的hp为1。\n",
    "- 最后验证HP中所有剩余的键，是否大于N/K。"
   ]
  },
  {
   "cell_type": "code",
   "execution_count": null,
   "metadata": {},
   "outputs": [],
   "source": [
    "import random\n",
    "arr = [random.randint(1,3) for i in range(10)]\n",
    "def process(arr, k):\n",
    "    HP = dict()\n",
    "    for i in arr:\n",
    "        if i in HP.keys():\n",
    "            HP[i] += 1\n",
    "        elif len(HP) < (k-1) :\n",
    "            HP[i] = 1\n",
    "        else :\n",
    "            key = list(HP.keys())\n",
    "            for dic in key:\n",
    "                HP[dic] -= 1\n",
    "                if HP[dic] == 0:\n",
    "                    del HP[dic]\n",
    "    if len(HP) == 0:\n",
    "        return []\n",
    "    else:\n",
    "        ans = []\n",
    "        for i in HP:\n",
    "           if arr.count(i) > len(arr)/k:\n",
    "               ans.append(i)\n",
    "        return ans\n",
    "print(arr)\n",
    "process(arr, 3)"
   ]
  },
  {
   "cell_type": "markdown",
   "metadata": {},
   "source": [
    "## 问题4\n",
    "输入一个int类型的值N，构造一个长度为N的数组并返回，要求：对任意的i<k<j,都满足arr\\[i\\] + arr\\[j\\] != arr\\[k\\]*2\n",
    "\n",
    "- 分析：\n",
    "    - 如果长度为N且满足上述条件的数组arr，则我们可以进行两种变换(奇变换，偶变换)产生两组长度分别为N的数组(arr1,arr2)仍满足上述问题要求\n",
    "    - 将得到的两组奇偶变换后的长度为N的数组(arr1,arr2)拼起来，最后得到的将会是长度为2N的满足上述条件的数组\n",
    "    - 奇变换：将数组中每个数字*2+1\n",
    "    - 偶变换：将数组中每个数字*2\n",
    "    - 原理:在拼起来的数组中如果i，j落入同一侧，必然达标；如果i在奇数侧，j在偶数侧，则一个奇数加上一个偶数不可能得到一个整数的2倍。\n",
    "- 采用递归形式，得到一半数据量(向上取整)的符合条件的数组"
   ]
  },
  {
   "cell_type": "code",
   "execution_count": 2,
   "metadata": {},
   "outputs": [
    {
     "data": {
      "text/plain": [
       "[1, 17, 9, 5, 21, 3, 19, 11, 7, 2, 18, 10, 6, 22, 4, 20, 12, 8]"
      ]
     },
     "execution_count": 2,
     "metadata": {},
     "output_type": "execute_result"
    }
   ],
   "source": [
    "def process(N:int):\n",
    "    if N==1:\n",
    "        return [1]\n",
    "    odd_ans = process((N+1)//2) # 奇变换数列\n",
    "    even_ans = process(N//2)    # 偶变换数列\n",
    "    ans = [i*2 for i in even_ans] + [i*2-1 for i in odd_ans]\n",
    "    return ans\n",
    "process(5)"
   ]
  },
  {
   "cell_type": "markdown",
   "metadata": {},
   "source": [
    "## 问题5\n",
    "长度为N的数组arr，一定可以组成N^2个数值。例如:arr=\\[3,1,2\\],则组成的数值对有(3,3)(3,1)(3,2)(1,3)(1,1)(1,2)(2,3)(2,1)(2,2).对以上数值对进行排序，先排第一维，第一维度相等的时候排第二维度，即可得到数值对的排序了。\n",
    "\n",
    "问：给定一个数组arr(长度为N,可能会有重复的数字)和整数k，返回第k小的数值对。\n",
    "\n",
    "- 分析：\n",
    "    - 第k小的数的第一维度其实是可以估算出来的，将arr排序之后，第(k-1)//N + 1个数字就是第k小的第一维度的数\n",
    "    - 要求第二维度的数，我们需要知道在arr中第一维的数字(上一步已经得到的)在arr中有多少个(a)，以及比第一维的数字小的有多少个(m),由于第一维数字小的数有m个，因此我们只需要找以第一维度数字开头，并且第k-m*N小的数。当我们在排列第二维度的时候，我们发现每个a个数值对都是一样的，因此第二维度是arr中第(k-m*N-1)//a + 1个数\n",
    "\n",
    "改进：以上做法的时间复杂度是O(NlogN),主要是在排序的部分，我们发现其实我们只需要实现的是：在无序数组中找到第k大的数就可以了，不一定需要排序，因此我们可以使用bfprt算法来实现时间复杂度是O(N)的算法。"
   ]
  },
  {
   "cell_type": "code",
   "execution_count": null,
   "metadata": {},
   "outputs": [],
   "source": [
    "def process(arr, k):\n",
    "    arrcopy = arr.copy()\n",
    "    arrcopy.sort()\n",
    "    N = len(arrcopy)\n",
    "    firstNumber =  arrcopy[(k-1)//N]\n",
    "    firstSize = 0\n",
    "    lessFirst = 0\n",
    "    for i in arr:\n",
    "        if i < firstNumber:\n",
    "            lessFirst += 1\n",
    "        elif i == firstNumber:\n",
    "            firstSize += 1\n",
    "    rest = k - lessFirst * N\n",
    "    secondNumber  = arrcopy[(rest-1)//firstSize]\n",
    "    return (firstNumber, secondNumber)\n",
    "    \n",
    "arr = [1,2,3,4,2,3]\n",
    "process(arr, 14)"
   ]
  },
  {
   "cell_type": "markdown",
   "metadata": {},
   "source": [
    "## 问题6: Jump Game II\n",
    "给定一个正数数组arr,arr\\[i\\] = j表示从位置i开始,跳一步可以往右越过随意的1~j个位置,你一开始在0位置，请问跳到N-1 位置，至少跳几步？\n",
    "\n",
    "比如:\\[4,1,9,1,1,1,1,4,1,1,1\\],开始你在0位置,你可以自由往右跳4个位置,但是你选择跳到2位置(9所在的位置),从这里就可以一下跳到N-1位置了,因为9很大所以一下子可以跳到最后一个位置。所以步数返回2.\n",
    "\n",
    "- 分析：\n",
    "    - 如果告诉你4步以内能跳到的最大位置，能不能计算5步以内能跳到的最大位置呢？可以，将4步以内跳到的所有位置均加上其能往前跳的最大距离，取最大，就得到了5步以内能跳到的最大距离\n",
    "    - jump:步数，cur:不超过jump步能到达的最远距离，next:不超过jump+1步能到达的最远距离\n",
    "    - 初始化参数均为0，当指针index指向某一位时.如果index <= cur,更新next=max(next, index + arr\\[index\\]); 如果index > cur , jump++ , cur = next, next重置为0，并进行更新操作next=max(next, index + arr\\[index\\])\n",
    "    - 直到index移动到arr尾部，返回最后的结果jump。\n"
   ]
  },
  {
   "cell_type": "code",
   "execution_count": null,
   "metadata": {},
   "outputs": [],
   "source": [
    "# 需要返回路径\n",
    "def process(arr):\n",
    "    jump = 0\n",
    "    cur = 0\n",
    "    next = (-1, None)\n",
    "    ans = []\n",
    "    for i in range(len(arr)):\n",
    "        if cur >= len(arr):\n",
    "            return jump, ans\n",
    "        if i > cur:\n",
    "            jump += 1\n",
    "            cur = next[0]\n",
    "            ans.append(next[1])\n",
    "\n",
    "        if i + arr[i] > next[0] :\n",
    "            # 当next更新的时候，记录下是在那个点更新的\n",
    "            next = (i + arr[i], i)\n",
    "arr = [2,5,14,1,12,1,4,1,1,1]\n",
    "process(arr)"
   ]
  },
  {
   "cell_type": "markdown",
   "metadata": {},
   "source": [
    "## 问题7\n",
    "给定一个整数数组arr,可以自由选择数字组成序列，返回这些序列中最长的连续数值子序列长度。例如：arr = \\[-100,-99,7,-98,300,-101\\],则它的子序列中最长的那个连续数值序列是\\[-101,-100,-99,-98\\]，所以返回4。要求时间复杂度为O(N)\n",
    "- 分析\n",
    "    - 可以通过设置两个map，分别记录“以数字a为首的连续序列有长”,\"以数字a为尾的连续序列有多长\" ,在遍历数组的时候需要对两个map分别查找和操作。\n",
    "    - 当搜索到数字n时，查找头map中有没有n+1的键，查找尾map中有没有n-1的键，然后分别进行相关的操作。\n",
    "    - 头map中搜索到了n+1键:找到头部,并且能根据\"值\"获取得到tail数字，计算更新后的长度，写入头map中，删除n+1为头的键；并且尾map中n的值需要被删除(因为n被融合了)，尾部tail数字为键的值需要更新。\n",
    "    - 尾map中搜索到了n-1键:找到尾部,并且能根据\"值\"获取得到start数字，计算更新后的长度，写入尾map中，并删除n-1为尾的键；并且头map中n的值需要被删除(因为n被融合了)，头部start数字为键的值需要更新。\n",
    "    - 我们还需要一个集合来避免重复数字对其进行影响。\n",
    "- 改进\n",
    "    - 以上操作我们可以采用一个map来是实现尾部，头部，以及去重的功能，map:键指的是以该数字为头或者为尾，值表示长度。遍历数组的时候，如果map中存在相同的键则忽略。如果没有相同则搜索n+1的键和n-1的键是否存在，若n-1存在则其只可能作为尾部,若n+1存在则其只可能作为头部，因此可以计算出连接后的头部数字n-？，和尾部数字n+？，并更改这两个键的“值”."
   ]
  },
  {
   "cell_type": "code",
   "execution_count": null,
   "metadata": {},
   "outputs": [],
   "source": [
    "def process(arr):\n",
    "    dic = {}\n",
    "    for i in arr:\n",
    "        if i not in dic.keys():\n",
    "            dic[i] = 1\n",
    "            # 找到尾部数字\n",
    "            tail = (i+1) + dic.get(i+1) - 1 if dic.get(i+1) else i  \n",
    "            # 找到首部数字\n",
    "            start = (i-1) - dic.get(i-1) + 1 if dic.get(i-1) else i\n",
    "            lenth = tail - start + 1\n",
    "            # 只更新首部和尾部数字\n",
    "            dic[tail] = lenth\n",
    "            dic[start] = lenth\n",
    "    return max(dic.values())\n",
    "    \n",
    "arr = [1,10,4,6,8]\n",
    "process(arr)"
   ]
  },
  {
   "cell_type": "markdown",
   "metadata": {},
   "source": [
    "## 问题8\n",
    "给定长度为m的字符串aim，以及一个长度为n的字符串str，问能否再str中找到一个长度为m的连续子串，使得这个字串刚好由aim的m个字符组成，顺序无所谓，返回任意满足条件的一个子串的起始位置，没有则返回-1.例如：str = “akcabbaabca”，aim = “abac”，则str中“abca”就是这样的子串。\n",
    "\n",
    "- 分析\n",
    "    - 怎么判断两个字符串是符合条件的？两个字符串长度一样，且每个字符有相同个数。基于这种判断可以将str根据aim长度连续滑动的分成len(str)-len(aim)+1组，每一组长度都是len(aim),然后再查询每一组是否与aim有相同词频。O(N*m)\n",
    "    - 上述过程可以进行一定的优化从而达到一定的O(N)复杂度.\n",
    "        - 在初始获取aim之后可以得到一张map，键表示字符，值表示出现次数。\n",
    "        - 在str中设置一个长度为len(aim)的滑动窗,当向右滑动的时候，最左边会出去一个字符，最右边会进入窗口一个字符，出去一个字符map对应位置+1，进去一个字符map对应位置-1。只有出去的数字可以使得无效标识--或不变，进入窗口的数字可以使得无效标识++或不变。\n",
    "        - 如果出去的数使得map对应数字从负数更靠近0了，则无效标识--；如果进去的数使得map对应数字由负数更负了，或者仍然是负数，意味着进入的是数无效的，无效标识++。每一次滑动，都判断无效标识符是否为0，如果为0，返回当前的滑动窗口的开头。如果回到最后都没有使得无效标识为0则，返回-1\n"
   ]
  },
  {
   "cell_type": "code",
   "execution_count": null,
   "metadata": {},
   "outputs": [],
   "source": [
    "def process(str1, aim):\n",
    "    arr = list(str1)\n",
    "    aim = list(aim)\n",
    "    invalid = 0\n",
    "    dic = {i:0 for i in aim} # 欠债表\n",
    "\n",
    "    # 构造欠债表\n",
    "    for i in aim:\n",
    "        dic[i] += 1\n",
    "\n",
    "    # 前len(aim)窗口返回的结果\n",
    "    for i in range(len(aim)):\n",
    "        dic[arr[i]] = dic.get(arr[i], 0) - 1\n",
    "        if dic[arr[i]] < 0:\n",
    "            invalid += 1\n",
    "    if invalid == 0:\n",
    "        return 0\n",
    "\n",
    "    # 窗口开始移动了\n",
    "    for j in range(len(arr)-len(aim)):\n",
    "        if dic[arr[j]] < 0:\n",
    "            invalid -= 1\n",
    "        dic[arr[j]] += 1\n",
    "\n",
    "        if dic.get(arr[j+len(aim)], 0) <= 0 :\n",
    "            invalid += 1\n",
    "        dic[arr[j+len(aim)]] = dic.get(arr[j+len(aim)], 0) - 1\n",
    "        # 判断是否可以输出\n",
    "        if invalid == 0:\n",
    "            return j+1\n",
    "    \n",
    "    return False\n",
    "a = \"addkbsbdbdi\"\n",
    "b = \"bdi\"\n",
    "process(a,b)"
   ]
  },
  {
   "cell_type": "markdown",
   "metadata": {},
   "source": [
    "## 问题9\n",
    "整型数组arr长度为n(3 <= n <= 10^4)。最初每个数字是<=200的正数且满足如下条件：\n",
    "- 1、arr\\[0\\] <= arr\\[1\\]      (第一个数字<=第二个数字)\n",
    "- 2、arr\\[n-1\\] <= arr\\[n-2\\]  (最后一个数<=倒数第二个数)\n",
    "- 3、arr\\[i\\] <= max(arr\\[i-1\\],arr\\[i+1\\])\n",
    "\n",
    "但是arr中有些数数字出现了丢失，例如k位置的数字丢失之后变成了0，问给定丢失后的数组arr，原数组有多少种情况(arr能复原成几种情况)?例如：\\[6，0，9\\]复原只有成\\[6，9，9\\],所以返回1.\n",
    "\n",
    "- 分析：\n",
    "    - 从最后一个位置(N-1)往前调用递归函数f(arr,i,v,s): i,v表示arr\\[i\\]变成v,且arr\\[i\\]与arr\\[i+1\\]具有s的关系(s有三个取值<,=,>),返回值是符合要求的情况数。\n",
    "    - 递归函数f(arr,i,v,s)解析：\n",
    "        - 当i=0的时候(此时考虑的是第一个位置)。s是<=的情况：arr\\[i\\] == 0,则达标应该return 1；如果arr\\[i\\]!=0,意味着arr\\[i\\]不是缺失的，只有当v=arr\\[i\\]的时候才能返回1。s是>的情况：直接返回0\n",
    "        - 当i!=0的时候，若arr\\[i\\]!=0且v!=arr\\[i\\]，则说明这个位置不是缺失的,不能改，所以返回0\n",
    "        - 当前两个条件满足时，说明i这个位置可以变成v。接下来判断s，如果s是<=，说明i-1位置随意变(1~200),递归(但是要注意此时传入的s需要随着你传入的v改变而改变)。如果s是>,说明i-1位置只能是(v~200)，递归。"
   ]
  },
  {
   "cell_type": "code",
   "execution_count": null,
   "metadata": {},
   "outputs": [],
   "source": [
    "def process(arr, i, v, s):\n",
    "    if i == 0:\n",
    "        if s in [0,1]:\n",
    "            if arr[i] == 0:\n",
    "                return 1\n",
    "            elif v == arr[i]:\n",
    "                return 1\n",
    "            else:\n",
    "                return 0\n",
    "        else:\n",
    "            return 0\n",
    "\n",
    "    # i != 0 \n",
    "    if arr[i] != 0 and arr[i] != v:\n",
    "        return 0\n",
    "\n",
    "    # arr[i] = 0 或者 arr[i] = v, 且i != 0,说明i位置可以换成v\n",
    "    ways = 0\n",
    "    if s in [0,1]:\n",
    "        for value in range(1,10):\n",
    "            s_ = 0 if v > value else (1 if v == value else 2) \n",
    "            ways += process(arr, i-1, value, s_)\n",
    "        return ways\n",
    "    else :\n",
    "        for value in range(v,10):\n",
    "            s_ = 0 if v > value else (1 if v == value else 2)\n",
    "            ways += process(arr, i-1, value, s_)\n",
    "        return ways\n",
    "\n",
    "\n",
    "arr = [6,0,9]\n",
    "N = len(arr)\n",
    "if arr[N-1] != 0:\n",
    "    print(process(arr, N-1, arr[N-1], 2))\n",
    "else:\n",
    "    ways = 0\n",
    "    for i in range(1,201):\n",
    "        ways += process(arr, N-1, i, 2) \n",
    "    print(ways)\n",
    "    "
   ]
  },
  {
   "cell_type": "markdown",
   "metadata": {},
   "source": [
    "## 问题10：[寻找右区间](https://leetcode.cn/problems/find-right-interval/)\n",
    "### 题目\n",
    "给你一个区间数组intervals，其中intervals[i] = [start_i, end_i]，且每个start_i都不同。区间i的右侧区间可以记作区间j，并满足start_j>=end_i，且start_j最小化。返回一个由每个区间i的右侧区间的**最小起始位置**组成的数组。如果某个区间i不存在对应的右侧区间，则下标i处的值设为-1。\n",
    "### 分析\n",
    "- 每一个元素是[]，可以在每个list后面append当前list所在的index，之后再进行排序这样就保存了原来的index位置。再使用二分查找的方式找到当前区间的最近右区间。\n",
    "- list也能比较大小的，[1,2]<[3], [3,4]>[3]"
   ]
  },
  {
   "cell_type": "code",
   "execution_count": 3,
   "metadata": {},
   "outputs": [
    {
     "data": {
      "text/plain": [
       "[-1, 0, 1]"
      ]
     },
     "execution_count": 3,
     "metadata": {},
     "output_type": "execute_result"
    }
   ],
   "source": [
    "import bisect\n",
    "def process(interval):\n",
    "    lenth = len(interval)\n",
    "    for i, item in enumerate(interval):\n",
    "        item.append(i)  # 记录每个list的index\n",
    "    sort_interval = sorted(interval)\n",
    "    ans = [-1] * lenth  # 返回结果\n",
    "    for _, end, id in sort_interval:\n",
    "        i = bisect.bisect_left(sort_interval, [end]) # 找到sort_interval中元素，比[end]\n",
    "        # 如果[end]大于sort_interval中所有元素则i=lenth\n",
    "        if i < lenth:\n",
    "            ans[id] = sort_interval[i][2] # sort_interval[i]那个右侧区间的最小起始位置\n",
    "    return ans\n",
    "\n",
    "process([[3,4],[2,3],[1,2]])\n",
    "\n",
    "\n"
   ]
  },
  {
   "cell_type": "markdown",
   "metadata": {},
   "source": [
    "## 问题11：[Floyd阈值距离内最少邻居](https://leetcode.cn/problems/find-the-city-with-the-smallest-number-of-neighbors-at-a-threshold-distance/)\n",
    "### 题目\n",
    "有 n 个城市，按从 0 到 n-1 编号。给你一个边数组 edges，其中 edges[i] = [起点, 终点, 距离权重] 代表 起点 和 终点 两个城市之间的双向加权边，距离阈值是一个整数 distanceThreshold。返回能通过某些路径到达其他城市数目最少、且路径距离最大为 distanceThreshold 的城市。如果有多个这样的城市，则返回编号最大的城市。\n",
    "\n",
    "### 分析\n",
    "- 先通过Floyd算法,得到所有相邻两个点的最短距离\n",
    "- 遍历最后的邻接矩阵，统计在阈值distanceThreshold内的最少邻居城市"
   ]
  },
  {
   "cell_type": "code",
   "execution_count": 1,
   "metadata": {},
   "outputs": [
    {
     "data": {
      "text/plain": [
       "3"
      ]
     },
     "execution_count": 1,
     "metadata": {},
     "output_type": "execute_result"
    }
   ],
   "source": [
    "import copy\n",
    "\n",
    "## Floyd算法\n",
    "def floyd(edges):\n",
    "    edges_copy = copy.deepcopy(edges)\n",
    "    length = len(edges)\n",
    "    for k in range(length):  ## 每次将一个点作为中介点更新图\n",
    "        ## 以下是在更新图\n",
    "        for i in range(length):\n",
    "            for j in range(length):\n",
    "                edges_copy[i][j] = min(edges_copy[i][j], edges_copy[i][k]+edges_copy[k][j])\n",
    "    return edges_copy\n",
    "\n",
    "\n",
    "def process(n: int, edges, distanceThreshold: int):\n",
    "    ## 得到符合要求的邻接矩阵\n",
    "    graph = [[float(\"inf\") if i!=j else 0 for j in range(n)] for i in range(n)]\n",
    "    for edge in edges:\n",
    "        graph[edge[0]][edge[1]] = edge[2]\n",
    "        graph[edge[1]][edge[0]] = edge[2]\n",
    "\n",
    "    graph_floyd = floyd(graph)   ## 得到Floyd更新后的邻接矩阵\n",
    "\n",
    "    result = -1\n",
    "    min_node = float(\"inf\")  # 最少邻居数\n",
    "\n",
    "    for i in range(n):\n",
    "        count = sum([1 for j in graph_floyd[i] if j <= distanceThreshold])  # 统计在阈值内的城市数\n",
    "        if count <= min_node:\n",
    "            min_node = count\n",
    "            result = i\n",
    "\n",
    "    return result\n",
    "\n",
    "n = 4\n",
    "edges = [[0,1,3],[1,2,1],[1,3,4],[2,3,1]]\n",
    "distanceThreshold = 4\n",
    "\n",
    "process(n, edges, distanceThreshold)\n"
   ]
  },
  {
   "cell_type": "markdown",
   "metadata": {},
   "source": [
    "## 问题12：[]()\n",
    "### 题目"
   ]
  },
  {
   "cell_type": "code",
   "execution_count": null,
   "metadata": {},
   "outputs": [],
   "source": []
  },
  {
   "cell_type": "markdown",
   "metadata": {},
   "source": [
    "## 问题13：[]()\n",
    "### 题目"
   ]
  },
  {
   "cell_type": "code",
   "execution_count": null,
   "metadata": {},
   "outputs": [],
   "source": []
  }
 ],
 "metadata": {
  "interpreter": {
   "hash": "0aea4d3bd9f517439094973d7e036bbe588c23e6e36cf8d45d53b47a8a90b2b4"
  },
  "kernelspec": {
   "display_name": "Python 3.8.6 64-bit",
   "language": "python",
   "name": "python3"
  },
  "language_info": {
   "codemirror_mode": {
    "name": "ipython",
    "version": 3
   },
   "file_extension": ".py",
   "mimetype": "text/x-python",
   "name": "python",
   "nbconvert_exporter": "python",
   "pygments_lexer": "ipython3",
   "version": "3.10.9"
  },
  "metadata": {
   "interpreter": {
    "hash": "9afc2b4a137c1ef260a208b8b14dcafe0c511635e698b6a7b46f192005b0a3f6"
   }
  },
  "orig_nbformat": 2
 },
 "nbformat": 4,
 "nbformat_minor": 2
}
