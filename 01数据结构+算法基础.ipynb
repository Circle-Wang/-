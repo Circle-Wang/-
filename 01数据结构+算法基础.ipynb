{
 "cells": [
  {
   "cell_type": "markdown",
   "metadata": {},
   "source": [
    "## 时间复杂度\n",
    "- 评判规则：量化算法执行的操作/执行步骤的数量\n",
    "- 最重要的项：时间复杂度中最有意义的项\n",
    "- 大O记法：O（量化表达式最有意义的项）"
   ]
  },
  {
   "cell_type": "markdown",
   "metadata": {},
   "source": [
    "## 算法基础\n",
    "\n",
    "### 时间复杂度\n",
    "- 固定时间操作：常见算数运算，常见位运算，赋值，比较，自增，数组寻址\n",
    "- PS：以上操作虽然是固定时间的，但是每个操作固定的时间都是不同的,例如数组寻址就会比位运算符要慢\n",
    "- 当时间复杂度一致的时候，我们需要比拼常数项的时候，也不能直接根据系数来比较，原因如上。这种时候一般采用大样本估计的方法来实验。\n",
    "- 估算时间复杂度具体方法：\n",
    "    - （1）需要将每个算法步骤列出来，并且每个步骤必须拆分成固定时间操作\n",
    "    - （2）求和固定时间\n",
    "- 注意：时间复杂度不能数for的层数，不能从代码结构上估计时间复杂度\n",
    "- 注意：必须要假设最差的情况来计算时间复杂度\n",
    "- 递归复杂度的计算是使用Master公式\n",
    "    - $T(N) = a*T(N/b) + O(N^d)$\n",
    "    - 若log(b,a) > d ——> O(N^log(a,b))\n",
    "    - 若log(b,a) = d ——> O((N^d)*logN)\n",
    "    - 若log(b,a) < d ——> O(N^d)\n",
    "\n",
    "### 额外空间复杂度\n",
    "- 如果需要完成流程必须申请额外数组，则称为O($N$)的时间复杂度\n",
    "- 如果生成的是有限几个变量，则称为O($1$)的时间复杂度\n",
    "\n",
    "### 对数器\n",
    "- 1.产生一个随机数组\n",
    "```\n",
    "import random\n",
    "[random.randint(1,10) for i in range(10)]#生成固定长度的一组[1,10)的随机整数数组\n",
    "[random.randint(1,10) for i in range(random.randint(1,10))]#生成随机长度的一组[1,10)的随机整数数组\n",
    "\n",
    "```\n",
    "- 2.想要测的算法a，以及一个一定对的算法b\n",
    "- 3.根据这个随机数组，来测试算法a和算法b的正确性，来进行修改。\n",
    "```\n",
    "lsit1 == list2\n",
    "```\n",
    "- 4.多次实验"
   ]
  },
  {
   "cell_type": "markdown",
   "metadata": {},
   "source": [
    "## 实操\n",
    "- 比较增加列表地两种方法的效率\n",
    "- timeit模块：测试代码块运行速度\n",
    "    - timeit.Timer(stmt,setup):第一个参数表示需要执行的语句块（str），第二个参数指执行时所需要的设置。\n",
    "    - timeit.Timer.timeit（number=1000000），该函数返回代码块执行的平均耗时。"
   ]
  },
  {
   "cell_type": "code",
   "execution_count": null,
   "metadata": {},
   "outputs": [],
   "source": [
    "def test01():\n",
    "    alist=[]\n",
    "    for i in range(1000):\n",
    "        alist.append(i)\n",
    "    return alist"
   ]
  },
  {
   "cell_type": "code",
   "execution_count": null,
   "metadata": {},
   "outputs": [],
   "source": [
    "def test02():\n",
    "    alist=[]\n",
    "    for i in range(1000):\n",
    "        alist +=[i]\n",
    "    return alist"
   ]
  },
  {
   "cell_type": "code",
   "execution_count": null,
   "metadata": {},
   "outputs": [],
   "source": [
    "def test03():\n",
    "    alist=[i for i in range(1000)]\n",
    "    return alist"
   ]
  },
  {
   "cell_type": "code",
   "execution_count": null,
   "metadata": {},
   "outputs": [],
   "source": [
    "def test04():\n",
    "    alist=list(range(1000))\n",
    "    return alist"
   ]
  },
  {
   "cell_type": "code",
   "execution_count": null,
   "metadata": {},
   "outputs": [],
   "source": [
    "from timeit import Timer\n",
    "if __name__=='__main__':\n",
    "    t1=Timer('test01()',setup='from __main__ import test01')\n",
    "    second1=t1.timeit(1000)#计算1000次\n",
    "    \n",
    "    t2=Timer('test02()',setup='from __main__ import test02')\n",
    "    second2=t2.timeit(1000)\n",
    "\n",
    "    t3=Timer('test03()',setup='from __main__ import test03')\n",
    "    second3=t3.timeit(1000)\n",
    "\n",
    "    t4=Timer('test04()',setup='from __main__ import test04')\n",
    "    second4=t4.timeit(1000)\n",
    "\n",
    "    print('第一种平均用时{}，\\n第一种平均用时{}，\\n第一种平均用时{}，\\n第一种平均用时{}。'.format(second1,second2,second3,second4))\n"
   ]
  }
 ],
 "metadata": {
  "kernelspec": {
   "display_name": "Python 3.8.6 64-bit",
   "name": "python386jvsc74a57bd09afc2b4a137c1ef260a208b8b14dcafe0c511635e698b6a7b46f192005b0a3f6"
  },
  "language_info": {
   "codemirror_mode": {
    "name": "ipython",
    "version": 3
   },
   "file_extension": ".py",
   "mimetype": "text/x-python",
   "name": "python",
   "nbconvert_exporter": "python",
   "pygments_lexer": "ipython3",
   "version": "3.8.6"
  },
  "metadata": {
   "interpreter": {
    "hash": "9afc2b4a137c1ef260a208b8b14dcafe0c511635e698b6a7b46f192005b0a3f6"
   }
  },
  "orig_nbformat": 2
 },
 "nbformat": 4,
 "nbformat_minor": 2
}
