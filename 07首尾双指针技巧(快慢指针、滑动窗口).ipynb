{
 "cells": [
  {
   "cell_type": "markdown",
   "metadata": {},
   "source": [
    "## 首尾指针技巧\n",
    "- 1.首尾指针一般存在规律，但是不严格，只需要满足制定一个指针运动的规则，保证再指针运动过的数不会对之后结果产生影响，就可以采用首尾指针法。\n",
    "- 2.规则的制订需要有一定的技术背景\n"
   ]
  },
  {
   "cell_type": "markdown",
   "metadata": {},
   "source": [
    "## 问题1\n",
    "给定一个有序数组，其中值可能有正，有负，也有0，返回每个数字平方以后有多少种不同的结果。"
   ]
  },
  {
   "cell_type": "code",
   "execution_count": null,
   "metadata": {},
   "outputs": [],
   "source": [
    "import random\n",
    "arr = sorted([random.randrange(-10,20) for i in range(20)]) #生成长度为10的随机数\n",
    "L = 0\n",
    "R = len(arr)-1\n",
    "count = 0\n",
    "leftAbs = 0     # 储存左指针的绝对值\n",
    "rightAbs = 0    # 储存右指针的绝对值\n",
    "\n",
    "while L <= R :  # 比较当前左右指针的位置，一旦超过就停止\n",
    "    count += 1\n",
    "    leftAbs = abs(arr[L])\n",
    "    rightAbs = abs(arr[R])\n",
    "\n",
    "    if leftAbs < rightAbs:\n",
    "        # 移动右侧指针\n",
    "        while abs(arr[R]) == rightAbs: # 移动到绝对值不等于rightAbs的位置\n",
    "            R -= 1\n",
    "    elif leftAbs > rightAbs :\n",
    "        # 移动左指针\n",
    "        while abs(arr[L]) == leftAbs: # 移动到绝对值不等于leftAbs的位置\n",
    "            L += 1\n",
    "    elif leftAbs == rightAbs:\n",
    "        # 同时移动左右指针\n",
    "        while abs(arr[R]) == rightAbs and R >= L: # 防止R或者L移动过界限\n",
    "            R -= 1\n",
    "        while abs(arr[L]) == leftAbs and R >= L: # 左右指针同时移动\n",
    "            L += 1\n",
    "print(arr)\n",
    "count"
   ]
  },
  {
   "cell_type": "markdown",
   "metadata": {},
   "source": [
    "## 问题2\n",
    "有一个数组，其中值先递减再递增，请问数组中有多少个不同的数。\n",
    "- 分析：解决问题相同，不过这个时候可以不用使用绝对值了"
   ]
  },
  {
   "cell_type": "code",
   "execution_count": 2,
   "metadata": {},
   "outputs": [
    {
     "name": "stdout",
     "output_type": "stream",
     "text": [
      "[9, 7, 6, 5, 3, 0, -1, -2, 0, 4, 6, 8, 9]\n"
     ]
    },
    {
     "data": {
      "text/plain": [
       "10"
      ]
     },
     "execution_count": 2,
     "metadata": {},
     "output_type": "execute_result"
    }
   ],
   "source": [
    "arr=[9,7,6,5,3,0,-1,-2,0,4,6,8,9]\n",
    "L = 0\n",
    "R = len(arr)-1\n",
    "count = 0\n",
    "left = 0     # 储存左指针的数值\n",
    "right = 0    # 储存右指针的数值\n",
    "while L <= R :  # 比较当前左右指针的位置，一旦超过就停止\n",
    "    count += 1\n",
    "    left = arr[L]\n",
    "    right = arr[R]\n",
    "    if left < right:\n",
    "        while arr[R] == right: # 移动到数值不等于right的位置\n",
    "            R -= 1\n",
    "    elif left > right :\n",
    "        while arr[L] == left: # 移动到数值不等于left的位置\n",
    "            L += 1\n",
    "    elif left == right:\n",
    "        while arr[R] == right and R >= L: # 防止R或者L移动过界限\n",
    "            R -= 1\n",
    "        while arr[L] == left and R >= L: # 左右指针同时移动\n",
    "            L += 1\n",
    "print(arr)\n",
    "count"
   ]
  },
  {
   "cell_type": "markdown",
   "metadata": {},
   "source": [
    "## 问题3\n",
    "给定一个数组，每个数代表砖块，将其数组想象为用砖块铺成的一个容器，求解该容器能容纳多少单位的水。\n",
    "\n",
    "分析：\n",
    "- 生成一个辅助数组rightmax，rightmax[i]表示位置i ~ N-1中数字最大的是谁(包括i位置)\n",
    "- 注意在移动的时候，可以左右指针一起移动，也可以单一移动左指针."
   ]
  },
  {
   "cell_type": "code",
   "execution_count": 39,
   "metadata": {},
   "outputs": [
    {
     "name": "stdout",
     "output_type": "stream",
     "text": [
      "[3, 4, 19, 16, 25, 5]\n"
     ]
    },
    {
     "data": {
      "text/plain": [
       "3"
      ]
     },
     "execution_count": 39,
     "metadata": {},
     "output_type": "execute_result"
    }
   ],
   "source": [
    "import random\n",
    "arr = [random.randrange(1,50) for i in range(6)]\n",
    "# 生成辅助数组记录第i个数的右侧，即第i~N个数的最大值\n",
    "rightmax = [arr[-1]]\n",
    "for i in range(len(arr)-2, -1, -1):\n",
    "    if arr[i] > rightmax[0]:\n",
    "        rightmax = [arr[i]] + rightmax\n",
    "    else:\n",
    "        rightmax = [rightmax[0]] + rightmax\n",
    "\n",
    "L = 1       # 左标签\n",
    "R = len(arr) - 2    # 右标签\n",
    "water = 0   # 记录水分\n",
    "leftmax = arr[L-1] # 初始的左部最大值 \n",
    "while L <= R:\n",
    "    if leftmax <= rightmax[L]:\n",
    "        water = water + max(leftmax - arr[L], 0)\n",
    "        leftmax = max(leftmax, arr[L]) #更新当前左部最大值\n",
    "        L += 1\n",
    "        \n",
    "    if leftmax > rightmax[R]:\n",
    "        water = water + max(rightmax[R] - arr[R],0)\n",
    "        R -= 1\n",
    "print(arr)\n",
    "water"
   ]
  },
  {
   "cell_type": "code",
   "execution_count": 40,
   "metadata": {},
   "outputs": [
    {
     "name": "stdout",
     "output_type": "stream",
     "text": [
      "[25, 25, 25, 25, 25, 5]\n"
     ]
    },
    {
     "data": {
      "text/plain": [
       "3"
      ]
     },
     "execution_count": 40,
     "metadata": {},
     "output_type": "execute_result"
    }
   ],
   "source": [
    "def process(arr):\n",
    "    # 生成辅助数组\n",
    "    rightmax = [arr[-1]]\n",
    "    for i in range(len(arr)-2, -1,-1):\n",
    "        if arr[i] > rightmax[0]:\n",
    "            rightmax = [arr[i]] + rightmax\n",
    "        else:\n",
    "            rightmax = [rightmax[0]] + rightmax\n",
    "    print(rightmax)\n",
    "    L = 1       # 左标签\n",
    "    R = len(arr) - 2    # 右标签\n",
    "    water = 0   # 记录水分\n",
    "    leftmax = arr[L-1] # 初始的左部最大值 \n",
    "    while L <= R:  \n",
    "        if leftmax <= rightmax[L]:\n",
    "            water = water + max(leftmax - arr[L], 0)\n",
    "            leftmax = max(leftmax, arr[L])\n",
    "            L += 1\n",
    "        else:\n",
    "            water = water + (rightmax[L] - arr[L])\n",
    "            leftmax = max(leftmax, arr[L])\n",
    "            L += 1\n",
    "\n",
    "        # 由于先移动的L, 因此在移动R前要先判断下\n",
    "        if leftmax > rightmax[R] and L<=R: # 只有这种情况才能确保R移动,不能有else，因为当leftmax < rightmax[R]当前格子的水不一定就是(leftmax-arr[R])\n",
    "            water = water + (rightmax[R] - arr[R])\n",
    "            R -= 1\n",
    "    return water\n",
    "\n",
    "process(arr)"
   ]
  },
  {
   "cell_type": "markdown",
   "metadata": {},
   "source": [
    "## 荷兰国旗问题(划分)\n",
    "给定一个数组，并指定一个值，将小于这个值的数全部在左边，等于这个值的数在中间，大于这个值的数在右边。并返回等于这个数所在的区间下标。"
   ]
  },
  {
   "cell_type": "code",
   "execution_count": null,
   "metadata": {},
   "outputs": [],
   "source": [
    "def partition(arr, value):\n",
    "    less = -1          #左边指针\n",
    "    more = len(arr)    #右边指针\n",
    "    L = 0\n",
    "    while L < more:    # 当遍历指针L碰到more指针的时候停止遍历\n",
    "        if arr[L] < value:\n",
    "            less += 1\n",
    "            arr[L], arr[less] = arr[less], arr[L]\n",
    "            L += 1\n",
    "        elif arr[L] > value:\n",
    "            more -= 1\n",
    "            arr[L], arr[more] = arr[more], arr[L]\n",
    "        else:               # 当前值等于目标值\n",
    "            L += 1\n",
    "    # 最后结束时less为下于value的最后一个值的下标，more为大于value的最小一个值下标\n",
    "    return (less+1, more-1)\n",
    "\n"
   ]
  },
  {
   "cell_type": "markdown",
   "metadata": {},
   "source": [
    "## 问题4：[两数之和(II)-输入有序数组](https://leetcode-cn.com/problems/two-sum-ii-input-array-is-sorted/)\n",
    "在一个增序的整数数组里找到两个数，使它们的和为给定值。已知有且只有一对解。返回这两个数的下标值(下标从1开始计数)\n",
    "\n",
    "分析：\n",
    "- 利用双指针的技巧，一个left指向最左端(最小值)，right指向最右端(最大值)，如果arr\\[left] + arr\\[right] = target则返回位置。如果arr\\[left] + arr\\[right] < target,为了使和变大，只能让left右移动，再继续判断。如果arr\\[left] + arr\\[right] > target,为了使和变小，只能让right左移动，再继续判断。直到判断出结果"
   ]
  },
  {
   "cell_type": "code",
   "execution_count": 52,
   "metadata": {},
   "outputs": [
    {
     "data": {
      "text/plain": [
       "[1, 2]"
      ]
     },
     "execution_count": 52,
     "metadata": {},
     "output_type": "execute_result"
    }
   ],
   "source": [
    "def process(arr, target):\n",
    "    left = 0\n",
    "    right = len(arr)-1\n",
    "    while arr[left] + arr[right] != target:\n",
    "        if arr[left] + arr[right] < target:\n",
    "            left += 1\n",
    "        else:\n",
    "            right -= 1\n",
    "    return [left+1, right+1]\n",
    "numbers = [2,7,11,15]\n",
    "target = 9\n",
    "process(numbers, target)"
   ]
  },
  {
   "cell_type": "markdown",
   "metadata": {},
   "source": [
    "## 问题5：[合并两个有序数组](https://leetcode-cn.com/problems/merge-sorted-array/)\n",
    "给定两个有序数组，把两个数组合并为一个。\n",
    "输入是两个数组和它们分别的长度m和n。其中第一个数组的长度被延长至m + n，多出的n位被0填补。题目要求把第二个数组归并到第一个数组上，不需要开辟额外空间。\n",
    "输入：nums1 = \\[1,2,3,0,0,0], m = 3, nums2 = \\[2,5,6], n = 3; 输出：\\[1,2,2,3,5,6]\n",
    "\n",
    "分析：\n",
    "- 由于是两个序列都是有序的，因此我们使用两个指针m,n都指向各自数字的末尾例如m = 2，n = 2,然后比较，谁大，就把数字复制到nums1的末尾，然后自己向左移动一位，再进行比较。直到一方已经没有数字可以比了，只需要将另一方的数字复制过去(这里我们只用处理当nums1没有数字可以比较，得把nums2的剩余数字复制过去，因为nums2没有数字比较就说明nums1已经拼好了)"
   ]
  },
  {
   "cell_type": "code",
   "execution_count": 43,
   "metadata": {},
   "outputs": [
    {
     "data": {
      "text/plain": [
       "[1, 2, 2, 3, 5, 6]"
      ]
     },
     "execution_count": 43,
     "metadata": {},
     "output_type": "execute_result"
    }
   ],
   "source": [
    "def process(nums1, nums2, m, n):\n",
    "    pos = m + n - 1\n",
    "    m = m-1\n",
    "    n = n-1\n",
    "    while n >= 0 and m >= 0:\n",
    "        if nums1[m] >= nums2[n]:\n",
    "            nums1[pos] =  nums1[m]\n",
    "            m -= 1\n",
    "            pos -= 1\n",
    "        else:\n",
    "            nums1[pos] =  nums2[n]\n",
    "            n -= 1\n",
    "            pos -= 1\n",
    "\n",
    "    if m < 0:\n",
    "        print('ke')\n",
    "        while n >= 0:\n",
    "             nums1[pos] = nums2[n]\n",
    "             n -= 1\n",
    "             pos -= 1\n",
    "    return nums1\n",
    "nums1 = [1,2,3,0,0,0]\n",
    "m = 3\n",
    "nums2 = [2,5,6]\n",
    "n = 3\n",
    "process(nums1, nums2, m, n)\n"
   ]
  },
  {
   "cell_type": "markdown",
   "metadata": {},
   "source": [
    "## 问题6：[环形链表 II](https://leetcode-cn.com/problems/linked-list-cycle-ii/)\n",
    "具体分析见03链表——快慢指针\n",
    "\n",
    "给定一个链表，返回链表开始入环的第一个节点。 如果链表无环，则返回null\n",
    "\n",
    "分析：\n",
    "给定两个指针，分别命名为 slow 和 fast，起始位置在链表的开头。每次 fast 前进两步，slow 前进一步。如果 fast可以走到尽头，那么说明没有环路；如果 fast 可以无限走下去，那么说明一定有环路，且一定存在一个时刻 slow 和 fast 相遇。当 slow 和 fast 第一次相遇时，我们将 fast 重新移动到链表开头，并\n",
    "让 slow 和 fast 每次都前进一步。当 slow 和 fast 第二次相遇时，相遇的节点即为环路的开始点。"
   ]
  },
  {
   "cell_type": "code",
   "execution_count": 44,
   "metadata": {},
   "outputs": [],
   "source": [
    "# 判断一个链表是否为环\n",
    "def getLoopNode(head):\n",
    "    if head == None or head.next == None:\n",
    "        return False\n",
    "    fast = head\n",
    "    slow = head\n",
    "    while True:\n",
    "        if not (fast and fast.next): return # 如果走到了尽头返回\n",
    "        fast = fast.next.next\n",
    "        slow = slow.next\n",
    "        if slow == fast:\n",
    "            break\n",
    "    # 否则就是个环，接下来要找到入环第一个节点\n",
    "    fast = head\n",
    "    while (fast != slow):\n",
    "        fast = fast.next\n",
    "        slow = slow.next\n",
    "    return slow\n"
   ]
  },
  {
   "cell_type": "markdown",
   "metadata": {},
   "source": [
    "## 问题7：[最小覆盖子串——滑动窗口](https://leetcode-cn.com/problems/minimum-window-substring/)\n",
    "给你一个字符串s、一个字符串t。返回s中涵盖t所有字符的最短连续子字符串。如果s中不存在涵盖t所有字符的子串，则返回空字符串 \"\" 。例：s = \"ADOBECODEBANC\", t = \"ABC\"，则我们返回s的字串“BANC”\n",
    "\n",
    "分析：\n",
    "- 滑动窗口模板：\n",
    "    - 1、我们在字符串S中使用双指针中的左右指针技巧，初始化 left = right = 0，把索引左闭右开区间 [left, right) 称为一个「窗口」。\n",
    "    - 2、我们先不断地增加 right 指针扩大窗口 [left, right)，直到窗口中的字符串符合要求（包含了T中的所有字符）。\n",
    "    - 3、此时，我们停止增加right，转而不断增加left指针缩小窗口[left, right)，直到窗口中的字符串不再符合要求(不包含T中的所有字符了)。同时，每次增加 left，我们都要更新一轮结果。\n",
    "    - 4、重复第2和第3步，直到right到达字符串S的尽头。\n",
    "    \n",
    "```python\n",
    "# 记录需要的字母以及次数\n",
    "for c in t:\n",
    "    need[c] += 1\n",
    "\n",
    "while (right < len(s)):\n",
    "    # c 是将移入窗口的字符\n",
    "    char c = s[right];\n",
    "    # 右移窗口\n",
    "    right += 1;\n",
    "    # 进行窗口内数据的一系列更新\n",
    "    ...\n",
    "\n",
    "    /*** debug 输出的位置 ***/\n",
    "    print(\"window:[\", left, \",\", right, \")\");\n",
    "    /********************/\n",
    "\n",
    "    # 判断左侧窗口是否要收缩\n",
    "    while (window needs shrink) {\n",
    "        # d是将移出窗口的字符\n",
    "        char d = s[left];\n",
    "        # 左移窗口\n",
    "        left++;\n",
    "        # 进行窗口内数据的一系列更新\n",
    "```\n",
    "- 字典技巧：有时候我们需要实现对一个字典某个键进行计数，但是可能这个字典初始化的时候是没有这个键，直接调用dic\\[k] += 1就会报错，因为dic没有这个键，因此可以使用dict\\[k] = dict.setdefault(k, 0) + 1, 意思是如果k不是dic中的键，则会创建一个键为k值为0的键值对，并且执行dic\\[k] += 1的操作.更简单的使用是collections.defaultdict方法(需要import)。"
   ]
  },
  {
   "cell_type": "code",
   "execution_count": 45,
   "metadata": {},
   "outputs": [
    {
     "data": {
      "text/plain": [
       "'BANC'"
      ]
     },
     "execution_count": 45,
     "metadata": {},
     "output_type": "execute_result"
    }
   ],
   "source": [
    "from collections import defaultdict \n",
    "\n",
    "def process(s, t):\n",
    "    '''\n",
    "    s: 全部字符串\n",
    "    t: 需要去用来匹配的字符串\n",
    "    '''\n",
    "    left, right = 0, 0 # 初始化\n",
    "    need = defaultdict(int)   # 记录所需字母及其次数, 保持need在循环过程中不变\n",
    "    window = defaultdict(int) # 窗口\n",
    "    valid = 0   # valid表示窗口中已经满足的字母个数，用于收缩窗口的判断条件\n",
    "    start = 0   # 记录字串开始位置index\n",
    "    end = 0     # 记录字串结束位置index\n",
    "    minlenth = float('inf')\n",
    "\n",
    "    # 初始化need字典\n",
    "    for c in t:\n",
    "        need[c] = need.setdefault(c, 0) + 1\n",
    "    n = len(s)\n",
    "\n",
    "    while right < n:\n",
    "        # 将要进入窗口的字符\n",
    "        c = s[right]\n",
    "        \n",
    "        if c in need:\n",
    "            window[c] += 1   # 加入窗口,同一个字母可以多次加入\n",
    "            if window[c] == need[c]:\n",
    "                valid += 1\n",
    "\n",
    "        # 判断收缩条件\n",
    "        while valid == len(need):\n",
    "            d = s[left]\n",
    "            if d in need:\n",
    "                window[d] -= 1\n",
    "                # 有可能window中字符d有多个\n",
    "                if window[d] < need[d]:\n",
    "                    valid -= 1\n",
    "                    # 更新end和start, 能进到此处说明该字符如果离开窗口则窗口内将不满足条件，因此离开前需要记录。此时的left时满足条件的，并没有右移\n",
    "                    if right - left + 1 < minlenth:\n",
    "                        start = left\n",
    "                        end = right\n",
    "                        minlenth = end - start + 1\n",
    "            # 滑动左窗口\n",
    "            left += 1\n",
    "        # 滑动右窗口\n",
    "        right += 1\n",
    "    if minlenth == float('inf') :\n",
    "        return ''\n",
    "    else:\n",
    "        return s[start:end+1] \n",
    "\n",
    "s = \"ADOBECODEBANC\"\n",
    "t = \"ACB\"\n",
    "process(s, t)"
   ]
  },
  {
   "cell_type": "markdown",
   "metadata": {},
   "source": [
    "## 问题8：[平方数之和](https://leetcode-cn.com/problems/sum-of-square-numbers/)\n",
    "给定一个非负整数c,你要判断是否存在两个整数a和b，使得a^2 + b^2 = c。\n",
    "\n",
    "分析\n",
    "- 双指针初始时left = 0，right = c，如果left^2 + right^2 < c,则移动left += 1；如果left^2 + right^2 > c,则移动right -= 1,如果等号成立则返回true，当双指针相碰时，仍没有找到则退出。\n",
    "- 优化：我们的right指针可以从sqrt(c)的位置开始向左移动。"
   ]
  },
  {
   "cell_type": "code",
   "execution_count": 46,
   "metadata": {},
   "outputs": [
    {
     "data": {
      "text/plain": [
       "True"
      ]
     },
     "execution_count": 46,
     "metadata": {},
     "output_type": "execute_result"
    }
   ],
   "source": [
    "import math\n",
    "def process(c):\n",
    "    left = 0\n",
    "    right = math.floor(math.sqrt(c))\n",
    "    while left <= right:\n",
    "        if left**2 + right**2 == c:\n",
    "            return True\n",
    "        elif left**2 + right**2 < c:\n",
    "            left += 1\n",
    "        else:\n",
    "            right -= 1\n",
    "    return False\n",
    "c = 8\n",
    "process(c)"
   ]
  },
  {
   "cell_type": "markdown",
   "metadata": {},
   "source": [
    "## 问题9：[验证回文字符串 Ⅱ](https://leetcode-cn.com/problems/valid-palindrome-ii/)\n",
    "给定一个非空字符串 s，最多删除一个字符。判断是否能成为回文字符串。\n",
    "\n",
    "分析：\n",
    "- 首尾指针，如果出现s\\[left] != s\\[right]，分情况探究s\\[left+1] == s\\[right] 或者 s\\[left] == s\\[right-1]\n",
    "- s\\[left+1] == s\\[right]: 我们将s\\[left+1:right+1]交给递归函数去判断是否成立，但是得告诉递归函数这是已经犯过一次错了，因此递归函数中需要count的记录\n",
    "- s\\[left] == s\\[right-1]: 我们将s\\[left:right]交给递归函数去判断是否成立\n",
    "- 取上述两种情况的or\n",
    "- 代码精简：构造一个函数f(s)输入是s，返回值是s是否为回文。在首尾指针遍历的时候，如果出现!=，则分别对s\\[left+1:right+1]和s\\[left:right]使用f()，最终答案就是这两个函数返回值的or\n"
   ]
  },
  {
   "cell_type": "code",
   "execution_count": 47,
   "metadata": {},
   "outputs": [
    {
     "data": {
      "text/plain": [
       "True"
      ]
     },
     "execution_count": 47,
     "metadata": {},
     "output_type": "execute_result"
    }
   ],
   "source": [
    "# 只是递归函数\n",
    "def process(s, count):\n",
    "    if count > 1:\n",
    "        return False\n",
    "    left = -1\n",
    "    right = len(s)\n",
    "    while left < right:\n",
    "        left += 1\n",
    "        right -= 1\n",
    "        if s[left] != s[right]:\n",
    "            if s[left+1] != s[right]:\n",
    "                ans1 = False\n",
    "            else:\n",
    "                ans1 = process(s[left+1:right+1], count+1)\n",
    "                \n",
    "            if s[left] != s[right-1]:\n",
    "                ans2 = False\n",
    "            else:\n",
    "                ans2 = process(s[left:right], count+1)\n",
    "            return ans1 or ans2\n",
    "    return True\n",
    "s = \"aguokepatgbnvfqmgmlcupuufxoohdfpgjdmysgvhmvffcnqxjjxqncffvmhvgsymdjgpfdhooxfuupuculmgmqfvnbgtapekouga\"\n",
    "process(s, 0)\n"
   ]
  },
  {
   "cell_type": "markdown",
   "metadata": {},
   "source": [
    "## 问题10：[通过删除字母匹配到字典里最长单词](https://leetcode-cn.com/problems/longest-word-in-dictionary-through-deleting/)\n",
    "归并两个有序数组的变形题。\n",
    "\n",
    "\n",
    "给你一个字符串s和一个字符串数组dictionary作为字典，找出并返回字典中最长的字符串，该字符串可以通过删除s中的某些字符得到。如果答案不止一个，返回长度最长且字典序最小的字符串。如果答案不存在，则返回空字符串。例如：s = \"abpcplea\", dictionary = \\[\"ale\",\"apple\",\"monkey\",\"plea\"]，则我们可以通过删除s种某些字符从而得到apple，ale，plea这几个字符串，我们返回最长的\"apple\"\n",
    "\n",
    "分析：\n",
    "- 由于是删除s中的某些数使得能匹配上列表中的元素，这个问题就在探究，列表中的元素是否是s的子序列。因此我们可以写出一个函数来判断是否为s的子序列\n",
    "    - 遍历s，如果s\\[i] == sub\\[j], 则 i+=1, j+=1，如果不等于则i += 1，直到sub被匹配完，则说明sub是s的子序列\n",
    "- 找到这些序列之后，可以对这些序列进行比较，从而找到最长的且字典序最小的\n",
    "\n"
   ]
  },
  {
   "cell_type": "code",
   "execution_count": 57,
   "metadata": {},
   "outputs": [
    {
     "data": {
      "text/plain": [
       "'aaa'"
      ]
     },
     "execution_count": 57,
     "metadata": {},
     "output_type": "execute_result"
    }
   ],
   "source": [
    "def isSubsequence(subseq, s):\n",
    "    j = 0\n",
    "    for i in range(len(s)):\n",
    "        if s[i] == subseq[j]:\n",
    "            j += 1\n",
    "            if j == len(subseq):\n",
    "                return True\n",
    "    return False\n",
    "\n",
    "def process(s, dictionary):\n",
    "    best_str = \"\"\n",
    "    for sub in dictionary:\n",
    "        if isSubsequence(sub, s):\n",
    "            if len(sub) > len(best_str):\n",
    "                best_str = sub\n",
    "            elif len(sub) == len(best_str):\n",
    "                best_str = min(sub, best_str)\n",
    "    return best_str\n",
    "\n",
    "s = \"aaa\"\n",
    "dictionary = [\"aaa\",\"aa\",\"a\"]\n",
    "process(s, dictionary)\n"
   ]
  },
  {
   "cell_type": "markdown",
   "metadata": {},
   "source": [
    "## 问题11:[至多包含 K 个不同字符的最长子串](https://leetcode-cn.com/problems/longest-substring-with-at-most-k-distinct-characters/)\n",
    "定一个字符串s，找出至多包含k个不同字符的最长子串T\n",
    "例如：s = \"eceba\", k = 2.则T为 \"ece\"，有两个不同的字符\"e\"和\"c\",且长度为 3。\n",
    "\n",
    "分析：\n",
    "- 滑动窗口模板，滑动right的时候，如果s\\[right]不在集合dict中，则放入dict，接下来判定dict中长度是否超过k，如果超过则滑动left\n",
    "- 获取s\\[left]，并将dict\\[s\\[left]]的值-1，直到dict\\[s\\[left]] == 0 则剔除del dict\\[s\\[left]], 并停止滑动左窗口。\n",
    "- 最大窗口问题需要在进入缩小判定后就记录最大位置，最小窗口则应该是彻底离开时才记录"
   ]
  },
  {
   "cell_type": "code",
   "execution_count": 67,
   "metadata": {},
   "outputs": [
    {
     "name": "stdout",
     "output_type": "stream",
     "text": [
      "3 1\n",
      "4 2\n"
     ]
    },
    {
     "data": {
      "text/plain": [
       "2"
      ]
     },
     "execution_count": 67,
     "metadata": {},
     "output_type": "execute_result"
    }
   ],
   "source": [
    "from collections import defaultdict\n",
    "def process(s, k):\n",
    "    need = defaultdict(int) \n",
    "    right, left = 0, 0\n",
    "    longest = -1\n",
    "    while right < len(s):\n",
    "        c = s[right]\n",
    "        need[c] += 1\n",
    "        while len(need) > k:\n",
    "            d = s[left]\n",
    "            need[d] -= 1\n",
    "            # 最大窗口问题需要在进入缩小判定后就记录最大，完整长度应该是(right-1)-left+1\n",
    "            if (right-left) > longest:\n",
    "                longest = right-left\n",
    "            if need[d] == 0:\n",
    "                del need[d]\n",
    "            # 滑动左窗口\n",
    "            left += 1\n",
    "        # 滑动右窗口\n",
    "        right += 1\n",
    "        \n",
    "    # 说明根本没有移动左窗口，就已经结束了\n",
    "    if longest == -1:\n",
    "        return len(s)\n",
    "    return longest\n",
    "s = \"eceba\"#\"bckcackse\"\n",
    "k = 2\n",
    "process(s, k)"
   ]
  },
  {
   "cell_type": "code",
   "execution_count": null,
   "metadata": {},
   "outputs": [],
   "source": []
  }
 ],
 "metadata": {
  "kernelspec": {
   "display_name": "Python 3.8.6 64-bit",
   "language": "python",
   "name": "python3"
  },
  "language_info": {
   "codemirror_mode": {
    "name": "ipython",
    "version": 3
   },
   "file_extension": ".py",
   "mimetype": "text/x-python",
   "name": "python",
   "nbconvert_exporter": "python",
   "pygments_lexer": "ipython3",
   "version": "3.8.6"
  },
  "metadata": {
   "interpreter": {
    "hash": "9afc2b4a137c1ef260a208b8b14dcafe0c511635e698b6a7b46f192005b0a3f6"
   }
  },
  "orig_nbformat": 2,
  "vscode": {
   "interpreter": {
    "hash": "0aea4d3bd9f517439094973d7e036bbe588c23e6e36cf8d45d53b47a8a90b2b4"
   }
  }
 },
 "nbformat": 4,
 "nbformat_minor": 2
}
