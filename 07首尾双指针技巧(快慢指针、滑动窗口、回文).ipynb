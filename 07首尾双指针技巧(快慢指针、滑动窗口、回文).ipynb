{
 "cells": [
  {
   "cell_type": "markdown",
   "metadata": {},
   "source": [
    "# 首尾指针技巧\n",
    "- 1.首尾指针一般存在规律，但是不严格，只需要满足制定一个指针运动的规则，保证再指针运动过的数不会对之后结果产生影响，就可以采用首尾指针法。\n",
    "- 2.规则的制订需要有一定的技术背景\n"
   ]
  },
  {
   "cell_type": "markdown",
   "metadata": {},
   "source": [
    "## 问题1\n",
    "给定一个有序数组，其中值可能有正，有负，也有0，返回每个数字平方以后有多少种不同的结果。"
   ]
  },
  {
   "cell_type": "code",
   "execution_count": null,
   "metadata": {},
   "outputs": [],
   "source": [
    "import random\n",
    "arr = sorted([random.randrange(-10,20) for i in range(20)]) #生成长度为10的随机数\n",
    "L = 0\n",
    "R = len(arr)-1\n",
    "count = 0\n",
    "leftAbs = 0     # 储存左指针的绝对值\n",
    "rightAbs = 0    # 储存右指针的绝对值\n",
    "\n",
    "while L <= R :  # 比较当前左右指针的位置，一旦超过就停止\n",
    "    count += 1\n",
    "    leftAbs = abs(arr[L])\n",
    "    rightAbs = abs(arr[R])\n",
    "\n",
    "    if leftAbs < rightAbs:\n",
    "        # 移动右侧指针\n",
    "        while abs(arr[R]) == rightAbs: # 移动到绝对值不等于rightAbs的位置\n",
    "            R -= 1\n",
    "    elif leftAbs > rightAbs:\n",
    "        # 移动左指针\n",
    "        while abs(arr[L]) == leftAbs:  # 移动到绝对值不等于leftAbs的位置\n",
    "            L += 1\n",
    "    elif leftAbs == rightAbs:\n",
    "        # 同时移动左右指针\n",
    "        while abs(arr[R]) == rightAbs and R >= L: # 防止R或者L移动过界限\n",
    "            R -= 1\n",
    "        while abs(arr[L]) == leftAbs and R >= L: # 左右指针同时移动\n",
    "            L += 1\n",
    "print(arr)\n",
    "count"
   ]
  },
  {
   "cell_type": "markdown",
   "metadata": {},
   "source": [
    "## 问题2\n",
    "有一个数组，其中值先递减再递增，请问数组中有多少个不同的数。\n",
    "- 分析：解决问题相同，不过这个时候可以不用使用绝对值了"
   ]
  },
  {
   "cell_type": "code",
   "execution_count": null,
   "metadata": {},
   "outputs": [],
   "source": [
    "arr=[9, 7, 6, 5, 3, 0, -1, -2, 0, 4, 6, 8, 9]\n",
    "L = 0\n",
    "R = len(arr)-1\n",
    "count = 0\n",
    "left = 0     # 储存左指针的数值\n",
    "right = 0    # 储存右指针的数值\n",
    "while L <= R :  # 比较当前左右指针的位置，一旦超过就停止\n",
    "    count += 1\n",
    "    left = arr[L]\n",
    "    right = arr[R]\n",
    "    if left < right:\n",
    "        while arr[R] == right: # 移动到数值不等于right的位置\n",
    "            R -= 1\n",
    "    elif left > right :\n",
    "        while arr[L] == left: # 移动到数值不等于left的位置\n",
    "            L += 1\n",
    "    elif left == right:\n",
    "        while arr[R] == right and R >= L: # 防止R或者L移动过界限\n",
    "            R -= 1\n",
    "        while arr[L] == left and R >= L: # 左右指针同时移动\n",
    "            L += 1\n",
    "print(arr)\n",
    "count"
   ]
  },
  {
   "attachments": {},
   "cell_type": "markdown",
   "metadata": {},
   "source": [
    "## 问题3: 数组接水问题\n",
    "给定一个数组，每个数代表砖块，将其数组想象为用砖块铺成的一个容器，求解该容器能容纳多少单位的水。\n",
    "\n",
    "分析：\n",
    "- 生成一个辅助数组rightmax，rightmax[i]表示位置i ~ N-1中数字最大的是谁(包括i位置)\n",
    "- 注意在移动的时候，可以左右指针一起移动，也可以单一移动左指针."
   ]
  },
  {
   "cell_type": "code",
   "execution_count": 5,
   "metadata": {},
   "outputs": [],
   "source": [
    "import random\n",
    "arr = [random.randrange(1,50) for i in range(6)]\n",
    "\n",
    "\n",
    "def process(arr):\n",
    "    water = 0   # 记录最终水量\n",
    "    rightMax = [arr[-1]]   # 生成辅助数组记录第i个数的右侧，即位置[i, N-1]的最大值\n",
    "    for i in range(len(arr)-2, -1, -1):\n",
    "        if arr[i] > rightMax[0]:\n",
    "            rightMax.insert(0, arr[i])\n",
    "        else:\n",
    "            rightMax.insert(0, rightMax[0])\n",
    "\n",
    "    L = 1               # 左指针\n",
    "    R = len(arr) - 2    # 右指针\n",
    "    \n",
    "    leftMax = arr[L-1]  # 记录当前L位置左边的最大值，即位置[0,L)中的最大值\n",
    "    while L <= R:\n",
    "\n",
    "        if leftMax <= rightMax[L]:   ## 若不满足条件则左指针不移动\n",
    "            water = water + max(leftMax - arr[L], 0) # 当前位置的水量只与左边有关(如果当前位置砖块大于左边最大值砖块，则无法蓄水)\n",
    "            leftMax = max(leftMax, arr[L])           # 更新当前左部最大值(用于右指针的判断)\n",
    "            L += 1\n",
    "\n",
    "        if leftMax > rightMax[R]:   ## 若不满足条件则右指针不移动(不可能同时不满足, 因为rightMax[L]>=rightMax[R])\n",
    "            water = water + max(rightMax[R] - arr[R], 0) # 水的长度只与右边有关\n",
    "            R -= 1\n",
    "\n",
    "print(\"arr:\", arr)\n",
    "process(arr)"
   ]
  },
  {
   "cell_type": "code",
   "execution_count": 7,
   "metadata": {},
   "outputs": [
    {
     "name": "stdout",
     "output_type": "stream",
     "text": [
      "arr: [40, 29, 15, 44, 13, 17]\n",
      "[44, 44, 44, 44, 17, 17]\n"
     ]
    },
    {
     "data": {
      "text/plain": [
       "40"
      ]
     },
     "execution_count": 7,
     "metadata": {},
     "output_type": "execute_result"
    }
   ],
   "source": [
    "## 第二种理解方法\n",
    "def process(arr):\n",
    "    # 生成辅助数组\n",
    "    rightMax = [arr[-1]]\n",
    "    water = 0   # 记录最终水量\n",
    "    for i in range(len(arr)-2, -1, -1):\n",
    "        if arr[i] > rightMax[0]:\n",
    "            rightMax.insert(0, arr[i])\n",
    "        else:\n",
    "            rightMax.insert(0, rightMax[0])\n",
    "\n",
    "    print(rightMax)\n",
    "    L = 1               # 左标签\n",
    "    R = len(arr) - 2    # 右标签\n",
    "    \n",
    "    leftMax = arr[L-1] # 初始的左部最大值 \n",
    "    while L <= R:\n",
    "        if leftMax <= rightMax[L]:\n",
    "            water = water + max(leftMax - arr[L], 0)\n",
    "            leftMax = max(leftMax, arr[L])\n",
    "            L += 1\n",
    "        else:\n",
    "            water = water + (rightMax[L] - arr[L])\n",
    "            leftMax = max(leftMax, arr[L])\n",
    "            L += 1\n",
    "\n",
    "        # 由于先移动的L, 因此在移动R前要先判断下\n",
    "        if leftMax > rightMax[R] and L<=R: # 只有这种情况才能确保R移动,不能有else，因为当leftMax < rightMax[R]当前格子的水不一定就是(leftMax-arr[R])\n",
    "            water = water + (rightMax[R] - arr[R])\n",
    "            R -= 1\n",
    "    return water\n",
    "print(\"arr:\", arr)\n",
    "process(arr)"
   ]
  },
  {
   "cell_type": "code",
   "execution_count": null,
   "metadata": {},
   "outputs": [],
   "source": [
    "### 第三种解法\n",
    "def process(arr):\n",
    "    N = len(arr)\n",
    "    result = 0\n",
    "    right_max = [0 for _ in range(N)]\n",
    "    left_max = arr[0]\n",
    "    right_max[N-1] = arr[N-1]   # 右侧大的数组\n",
    "    for i in range(N-2, -1,-1):\n",
    "        right_max[i] = max(arr[i], right_max[i+1])\n",
    "    \n",
    "\n",
    "    for i in range(1,N): \n",
    "        # 最外层的max是防止在最高点时出现问题\n",
    "        result += max((min(left_max, right_max[i]) - arr[i]), 0) # min(left_max, right_max[i])表示影响当前接水量的板块\n",
    "        left_max = max(arr[i], left_max)\n",
    "    return result"
   ]
  },
  {
   "cell_type": "markdown",
   "metadata": {},
   "source": [
    "## 荷兰国旗问题(划分)\n",
    "给定一个数组，并指定一个值，将小于这个值的数全部在左边，等于这个值的数在中间，大于这个值的数在右边。并返回等于这个数所在的区间下标。"
   ]
  },
  {
   "cell_type": "code",
   "execution_count": null,
   "metadata": {},
   "outputs": [],
   "source": [
    "def partition(arr, value):\n",
    "    less = -1          # 左边指针\n",
    "    more = len(arr)    # 右边指针\n",
    "    L = 0\n",
    "    while L < more:    # 当遍历指针L碰到more指针的时候停止遍历\n",
    "        if arr[L] < value:\n",
    "            less += 1\n",
    "            arr[L], arr[less] = arr[less], arr[L]\n",
    "            L += 1\n",
    "        elif arr[L] > value:\n",
    "            more -= 1\n",
    "            arr[L], arr[more] = arr[more], arr[L]\n",
    "        else:               # 当前值等于目标值\n",
    "            L += 1\n",
    "    # 最后结束时less为下于value的最后一个值的下标，more为大于value的最小一个值下标\n",
    "    return (less+1, more-1)\n",
    "\n"
   ]
  },
  {
   "cell_type": "markdown",
   "metadata": {},
   "source": [
    "## 问题4：[两数之和(II)-输入有序数组](https://leetcode-cn.com/problems/two-sum-ii-input-array-is-sorted/)\n",
    "在一个增序的整数数组里找到两个数，使它们的和为给定值。已知有且只有一对解。返回这两个数的下标值(下标从1开始计数)\n",
    "\n",
    "分析：\n",
    "- 利用双指针的技巧，一个left指向最左端(最小值)，right指向最右端(最大值)，如果arr\\[left] + arr\\[right] = target则返回位置。如果arr\\[left] + arr\\[right] < target,为了使和变大，只能让left右移动，再继续判断。如果arr\\[left] + arr\\[right] > target,为了使和变小，只能让right左移动，再继续判断。直到判断出结果"
   ]
  },
  {
   "cell_type": "code",
   "execution_count": null,
   "metadata": {},
   "outputs": [],
   "source": [
    "def process(arr, target):\n",
    "    left = 0\n",
    "    right = len(arr)-1\n",
    "    while arr[left] + arr[right] != target:\n",
    "        if arr[left] + arr[right] < target:\n",
    "            left += 1\n",
    "        else:\n",
    "            right -= 1\n",
    "    return [left+1, right+1]\n",
    "numbers = [2,7,11,15]\n",
    "target = 9\n",
    "process(numbers, target)"
   ]
  },
  {
   "cell_type": "markdown",
   "metadata": {},
   "source": [
    "## 问题5：[合并两个有序数组](https://leetcode-cn.com/problems/merge-sorted-array/)\n",
    "给定两个有序数组，把两个数组合并为一个。\n",
    "输入是两个数组和它们分别的长度m和n。其中第一个数组的长度被延长至m + n，多出的n位被0填补。题目要求把第二个数组归并到第一个数组上，不需要开辟额外空间。\n",
    "输入：nums1 = \\[1,2,3,0,0,0], m = 3, nums2 = \\[2,5,6], n = 3; 输出：\\[1,2,2,3,5,6]\n",
    "\n",
    "分析：\n",
    "- 由于是两个序列都是有序的，因此我们使用两个指针m,n都指向各自数字的末尾例如m = 2，n = 2,然后比较，谁大，就把数字复制到nums1的末尾，然后自己向左移动一位，再进行比较。直到一方已经没有数字可以比了，只需要将另一方的数字复制过去(这里我们只用处理当nums1没有数字可以比较，得把nums2的剩余数字复制过去，因为nums2没有数字比较就说明nums1已经拼好了)"
   ]
  },
  {
   "cell_type": "code",
   "execution_count": null,
   "metadata": {},
   "outputs": [],
   "source": [
    "def process(nums1, nums2, m, n):\n",
    "    pos = m + n - 1\n",
    "    m = m-1\n",
    "    n = n-1\n",
    "    while n >= 0 and m >= 0:\n",
    "        if nums1[m] >= nums2[n]:\n",
    "            nums1[pos] =  nums1[m]\n",
    "            m -= 1\n",
    "            pos -= 1\n",
    "        else:\n",
    "            nums1[pos] =  nums2[n]\n",
    "            n -= 1\n",
    "            pos -= 1\n",
    "\n",
    "    if m < 0:\n",
    "        print('ke')\n",
    "        while n >= 0:\n",
    "             nums1[pos] = nums2[n]\n",
    "             n -= 1\n",
    "             pos -= 1\n",
    "    return nums1\n",
    "nums1 = [1,2,3,0,0,0]\n",
    "m = 3\n",
    "nums2 = [2,5,6]\n",
    "n = 3\n",
    "process(nums1, nums2, m, n)\n"
   ]
  },
  {
   "cell_type": "markdown",
   "metadata": {},
   "source": [
    "## 问题6：[环形链表 II](https://leetcode-cn.com/problems/linked-list-cycle-ii/)\n",
    "具体分析见03链表——快慢指针\n",
    "\n",
    "给定一个链表，返回链表开始入环的第一个节点。 如果链表无环，则返回null\n",
    "\n",
    "分析：\n",
    "给定两个指针，分别命名为 slow 和 fast，起始位置在链表的开头。每次 fast 前进两步，slow 前进一步。如果 fast可以走到尽头，那么说明没有环路；如果 fast 可以无限走下去，那么说明一定有环路，且一定存在一个时刻 slow 和 fast 相遇。当 slow 和 fast 第一次相遇时，我们将 fast 重新移动到链表开头，并\n",
    "让 slow 和 fast 每次都前进一步。当 slow 和 fast 第二次相遇时，相遇的节点即为环路的开始点。"
   ]
  },
  {
   "cell_type": "code",
   "execution_count": null,
   "metadata": {},
   "outputs": [],
   "source": [
    "# 判断一个链表是否为环\n",
    "def getLoopNode(head):\n",
    "    if head == None or head.next == None:\n",
    "        return False\n",
    "    fast = head\n",
    "    slow = head\n",
    "    while True:\n",
    "        if not (fast and fast.next): return # 如果走到了尽头返回\n",
    "        fast = fast.next.next\n",
    "        slow = slow.next\n",
    "        if slow == fast:\n",
    "            break\n",
    "    # 否则就是个环，接下来要找到入环第一个节点\n",
    "    fast = head\n",
    "    while (fast != slow):\n",
    "        fast = fast.next\n",
    "        slow = slow.next\n",
    "    return slow\n"
   ]
  },
  {
   "cell_type": "markdown",
   "metadata": {},
   "source": [
    "## 问题8：[平方数之和](https://leetcode-cn.com/problems/sum-of-square-numbers/)\n",
    "给定一个非负整数c,你要判断是否存在两个整数a和b，使得a^2 + b^2 = c。\n",
    "\n",
    "分析\n",
    "- 双指针初始时left = 0，right = c，如果left^2 + right^2 < c,则移动left += 1；如果left^2 + right^2 > c,则移动right -= 1,如果等号成立则返回true，当双指针相碰时，仍没有找到则退出。\n",
    "- 优化：我们的right指针可以从sqrt(c)的位置开始向左移动。"
   ]
  },
  {
   "cell_type": "code",
   "execution_count": null,
   "metadata": {},
   "outputs": [],
   "source": [
    "import math\n",
    "def process(c):\n",
    "    left = 0\n",
    "    right = math.floor(math.sqrt(c))\n",
    "    while left <= right:\n",
    "        if left**2 + right**2 == c:\n",
    "            return True\n",
    "        elif left**2 + right**2 < c:\n",
    "            left += 1\n",
    "        else:\n",
    "            right -= 1\n",
    "    return False\n",
    "c = 8\n",
    "process(c)"
   ]
  },
  {
   "cell_type": "markdown",
   "metadata": {},
   "source": [
    "## 问题9：[验证回文字符串 Ⅱ](https://leetcode-cn.com/problems/valid-palindrome-ii/)\n",
    "给定一个非空字符串 s，最多删除一个字符。判断是否能成为回文字符串。\n",
    "\n",
    "分析：\n",
    "- 首尾指针，如果出现s\\[left] != s\\[right]，分情况探究s\\[left+1] == s\\[right] 或者 s\\[left] == s\\[right-1]\n",
    "- s\\[left+1] == s\\[right]: 我们将s\\[left+1:right+1]交给递归函数去判断是否成立，但是得告诉递归函数这是已经犯过一次错了，因此递归函数中需要count的记录\n",
    "- s\\[left] == s\\[right-1]: 我们将s\\[left:right]交给递归函数去判断是否成立\n",
    "- 取上述两种情况的or\n",
    "- 代码精简：构造一个函数f(s)输入是s，返回值是s是否为回文。在首尾指针遍历的时候，如果出现!=，则分别对s\\[left+1:right+1]和s\\[left:right]使用f()，最终答案就是这两个函数返回值的or\n"
   ]
  },
  {
   "cell_type": "code",
   "execution_count": null,
   "metadata": {},
   "outputs": [],
   "source": [
    "# 只是递归函数\n",
    "def process(s, count):\n",
    "    if count > 1:\n",
    "        return False\n",
    "    left = -1\n",
    "    right = len(s)\n",
    "    while left < right:\n",
    "        left += 1\n",
    "        right -= 1\n",
    "        if s[left] != s[right]:\n",
    "            if s[left+1] != s[right]:\n",
    "                ans1 = False\n",
    "            else:\n",
    "                ans1 = process(s[left+1:right+1], count+1)\n",
    "                \n",
    "            if s[left] != s[right-1]:\n",
    "                ans2 = False\n",
    "            else:\n",
    "                ans2 = process(s[left:right], count+1)\n",
    "            return ans1 or ans2\n",
    "    return True\n",
    "s = \"aguokepatgbnvfqmgmlcupuufxoohdfpgjdmysgvhmvffcnqxjjxqncffvmhvgsymdjgpfdhooxfuupuculmgmqfvnbgtapekouga\"\n",
    "process(s, 0)\n"
   ]
  },
  {
   "cell_type": "markdown",
   "metadata": {},
   "source": [
    "## 拓展1: 回文判断\n",
    "判断一个字符串是否为回文"
   ]
  },
  {
   "cell_type": "code",
   "execution_count": null,
   "metadata": {},
   "outputs": [],
   "source": [
    "def process(s):\n",
    "    \"\"\"\n",
    "    注意: 若s为单个字符,则认为是非回文\n",
    "    \"\"\"\n",
    "    if len(s) == 1:\n",
    "        return False\n",
    "    left = -1\n",
    "    right = len(s)\n",
    "    while left < right:\n",
    "        left += 1\n",
    "        right -= 1\n",
    "        if s[left] != s[right]:\n",
    "            return False\n",
    "    return True\n",
    "\n",
    "process('a')"
   ]
  },
  {
   "cell_type": "markdown",
   "metadata": {},
   "source": [
    "## 拓展2: [回文子串（中心拓展）](https://leetcode.cn/problems/palindromic-substrings/)\n",
    "### 题目\n",
    "给你一个字符串s，请你统计并返回这个字符串中“回文子串”的数目。具有不同开始位置或结束位置的子串，即使是由相同的字符组成，也会被视作不同的子串。\n",
    "### 分析\n",
    "- 如果列举出所有的子串再判断是否为回文，这种方式时间复杂度为$O(N^3)$，因此我们采用中心拓展的方式：枚举每一个可能的回文中心，然后用两个指针分别向左右两边拓展，当两个指针指向的元素相同的时候就拓展，否则停止拓展。\n",
    "- 我们需要考虑回文长度是奇数和回文长度是偶数的两种情况。如果回文长度是奇数，那么回文中心是一个字符；如果回文长度是偶数，那么中心是两个字符。\n",
    "- 可以做两次循环来分别枚举奇数长度和偶数长度的回文，但是我们也可以用一个循环搞定。\n",
    "    - 假设n=4，我们可以把可能的回文中心列出来：[中心左起点，中心终点]\n",
    "    - [0,0]\\: 表示回文中心为0这个位置，并且是奇长度\n",
    "    - [0,1]\\: 表示回文中心为0和1这两个位置，也就意味着是偶长度\n",
    "    - [1,1],[1,2],[2,2],[2,3],[3,3]这样就列举出了所有的回文中心了，无论奇偶。\n",
    "- 归纳对于长度为n的数据，我们只需要遍历2*n-1个回文中心即可找出所有的回文子串了。\n",
    "- 上述遍历可以的左右断点可以使用[i/2, i/2+i%2]，让i从0遍历到2*n-1即可完成这种遍历了。\n",
    "- 注意同一个回文中心，不同的长度代表的就是不同的子串，因此在只要进入循环里就是需要记录的子串结果"
   ]
  },
  {
   "cell_type": "code",
   "execution_count": null,
   "metadata": {},
   "outputs": [],
   "source": [
    "def process(s):\n",
    "    n = len(s)\n",
    "    ans = []\n",
    "    for i in range(n*2-1):\n",
    "        left = i//2\n",
    "        right = left + i%2\n",
    "        while left>=0 and right<n and s[left]==s[right]:\n",
    "            ans.append(s[left:right+1])\n",
    "            left -= 1\n",
    "            right += 1\n",
    "    return ans\n",
    "\n",
    "process(\"abcc\")"
   ]
  },
  {
   "cell_type": "markdown",
   "metadata": {},
   "source": [
    "## 拓展3：[最长回文子串](https://leetcode.cn/problems/longest-palindromic-substring/)\n",
    "### 题目\n",
    "给你一个字符串s，找到s中最长的回文子串。\n",
    "\n",
    "### 分析\n",
    "- 前一题已经知道采用中心拓展的方式可以找到所有的回文子串，本题只需要记录下最长的那一个即可"
   ]
  },
  {
   "cell_type": "code",
   "execution_count": null,
   "metadata": {},
   "outputs": [],
   "source": [
    "def process(s):\n",
    "    n = len(s)\n",
    "    ans = ''\n",
    "    max_len = 0\n",
    "    for i in range(n*2-1):\n",
    "        left = i//2\n",
    "        right = left + i%2\n",
    "        while left>=0 and right<n and s[left]==s[right]:\n",
    "            if right+1-left > max_len:\n",
    "                ans = s[left:right+1]\n",
    "                max_len = right+1-left\n",
    "            left -= 1\n",
    "            right += 1\n",
    "    return ans\n",
    "\n",
    "process(\"abcc\")"
   ]
  },
  {
   "cell_type": "markdown",
   "metadata": {},
   "source": [
    "## 问题10：[通过删除字母匹配到字典里最长单词](https://leetcode-cn.com/problems/longest-word-in-dictionary-through-deleting/)\n",
    "\n",
    "归并两个有序数组的变形题。\n",
    "\n",
    "\n",
    "给你一个字符串s和一个字符串数组dictionary作为字典，找出并返回字典中最长的字符串，该字符串可以通过删除s中的某些字符得到。如果答案不止一个，返回长度最长且字典序最小的字符串。如果答案不存在，则返回空字符串。例如：s = \"abpcplea\", dictionary = \\[\"ale\",\"apple\",\"monkey\",\"plea\"]，则我们可以通过删除s种某些字符从而得到apple，ale，plea这几个字符串，我们返回最长的\"apple\"\n",
    "\n",
    "分析：\n",
    "- 由于是删除s中的某些数使得能匹配上列表中的元素，这个问题就在探究，列表中的元素是否是s的子序列。因此我们可以写出一个函数来判断是否为s的子序列\n",
    "    - 遍历s，如果s\\[i] == sub\\[j], 则 i+=1, j+=1，如果不等于则i += 1，直到sub被匹配完，则说明sub是s的子序列\n",
    "- 找到这些序列之后，可以对这些序列进行比较，从而找到最长的且字典序最小的\n",
    "\n"
   ]
  },
  {
   "cell_type": "code",
   "execution_count": null,
   "metadata": {},
   "outputs": [],
   "source": [
    "def isSubsequence(subseq, s):\n",
    "    j = 0\n",
    "    for i in range(len(s)):\n",
    "        if s[i] == subseq[j]:\n",
    "            j += 1\n",
    "            if j == len(subseq):\n",
    "                return True\n",
    "    return False\n",
    "\n",
    "def process(s, dictionary):\n",
    "    best_str = \"\"\n",
    "    for sub in dictionary:\n",
    "        if isSubsequence(sub, s):\n",
    "            if len(sub) > len(best_str):\n",
    "                best_str = sub\n",
    "            elif len(sub) == len(best_str):\n",
    "                best_str = min(sub, best_str)\n",
    "    return best_str\n",
    "\n",
    "s = \"aaa\"\n",
    "dictionary = [\"aaa\",\"aa\",\"a\"]\n",
    "process(s, dictionary)\n"
   ]
  },
  {
   "cell_type": "markdown",
   "metadata": {},
   "source": [
    "## 问题11：[字典序最小回文串](https://leetcode.cn/problems/lexicographically-smallest-palindrome/)\n",
    "给定一个字符串s, 在一步操作中, 你可以用其他小写英文字母替换s中的一个字符。请你执行尽可能少的操作，使s变成一个回文串 。如果执行最少操作次数的方案不止一种，则只需选取字典序最小的方案。\n",
    "\n",
    "分析：\n",
    "- 使用首尾指针的方法, 由于需要字典序最小, 则当right和left字母不一致时, 将left换为最小的在字母即可(由于尽可能少操作所以最好只更换一边)"
   ]
  },
  {
   "cell_type": "code",
   "execution_count": 4,
   "metadata": {},
   "outputs": [
    {
     "data": {
      "text/plain": [
       "'abba'"
      ]
     },
     "execution_count": 4,
     "metadata": {},
     "output_type": "execute_result"
    }
   ],
   "source": [
    "def process(s):\n",
    "    left, right = 0, len(s)-1\n",
    "    ans = ['' for _ in s]\n",
    "    while left <= right:\n",
    "        if s[left] == s[right]:\n",
    "            ans[left] = s[left]\n",
    "            ans[right] = s[right]\n",
    "        else:\n",
    "            ans[left] = min(s[left], s[right])\n",
    "            ans[right] = ans[left]\n",
    "        left += 1\n",
    "        right -= 1\n",
    "\n",
    "    return \"\".join(ans)\n",
    "    \n",
    "\n",
    "process(\"abcd\")"
   ]
  },
  {
   "cell_type": "markdown",
   "metadata": {},
   "source": [
    "# 滑动窗口\n",
    "\n",
    "- 滑动窗口模板：\n",
    "    - 1、我们在字符串S中使用双指针中的左右指针技巧，初始化 left = right = 0，把索引左闭右开区间 [left, right) 称为一个「窗口」。\n",
    "    - 2、我们先不断地增加 right 指针扩大窗口 [left, right)，直到窗口中的字符串符合要求。\n",
    "    - 3、此时，我们停止增加right，转而不断增加left指针缩小窗口[left, right)，直到窗口中的字符串不再符合要求。同时，每次增加 left，我们都要更新一轮结果。\n",
    "    - 4、重复第2和第3步，直到right到达字符串S的尽头。\n",
    "    - 滑动窗口用来处理连续满足一定条件的连续区间的性质（长度等）问题的，两个指针都起始于原点，并一前一后向终点前进。\n",
    "\n",
    "- 注意:\n",
    "    - 最大类型的滑动窗口问题，在缩小窗口之后(第二个while循环之后判定)。\n",
    "    - 最小窗口问题，在第二个while循环内判定。\n",
    "    \n",
    "```python\n",
    "left, right = 0, 0\n",
    "\n",
    "while (right < len(s)):\n",
    "    # c 是将移入窗口的字符\n",
    "    c = s[right];\n",
    "    # 右移窗口\n",
    "    right += 1;\n",
    "    # 进行窗口内数据的一系列更新\n",
    "    ...\n",
    "\n",
    "    /*** debug 输出的位置 ***/\n",
    "    print(\"window:[\", left, \",\", right, \")\");\n",
    "    /********************/\n",
    "\n",
    "    # 判断左侧窗口是否要收缩\n",
    "    while (window needs shrink) {\n",
    "        # d是将移出窗口的字符\n",
    "        d = s[left];\n",
    "        # 进行窗口内数据的一系列更新, 此时[left, right)是满足要求的\n",
    "        ...\n",
    "\n",
    "        # 左移窗口\n",
    "        left++;\n",
    "        \n",
    "```\n",
    "\n",
    "https://blog.csdn.net/qq_43152052/article/details/102840715\n"
   ]
  },
  {
   "cell_type": "markdown",
   "metadata": {},
   "source": [
    "## 问题11:[至多包含 K 个不同字符的最长子串](https://leetcode-cn.com/problems/longest-substring-with-at-most-k-distinct-characters/)\n",
    "### 题目\n",
    "定一个字符串s，找出至多包含k个不同字符的最长子串T\n",
    "例如：s = \"eceba\", k = 2.则T为 \"ece\"，有两个不同的字符\"e\"和\"c\",且长度为 3。\n",
    "\n",
    "### 分析\n",
    "- 滑动窗口模板，滑动right的时候，如果s\\[right]不在集合dict中，则放入dict，接下来判定dict中长度是否超过k，如果超过则滑动left\n",
    "- 获取s\\[left]，并将dict\\[s\\[left]]的值-1，直到dict\\[s\\[left]] == 0 则剔除del dict\\[s\\[left]], 并停止滑动左窗口。\n",
    "- 最大窗口问题需要在退出第二个while之后判断，此时[left, right)是窗口中的字符串"
   ]
  },
  {
   "cell_type": "code",
   "execution_count": 50,
   "metadata": {},
   "outputs": [
    {
     "data": {
      "text/plain": [
       "3"
      ]
     },
     "execution_count": 50,
     "metadata": {},
     "output_type": "execute_result"
    }
   ],
   "source": [
    "from collections import defaultdict\n",
    "\n",
    "def process(s:str, k:int):\n",
    "    need = defaultdict(int) \n",
    "    right, left = 0, 0\n",
    "    longest = -1\n",
    "    \n",
    "    while right < len(s):\n",
    "        c = s[right]  # 进入窗口的字符\n",
    "        right += 1\n",
    "        need[c] += 1\n",
    "\n",
    "        # 判断缩小窗口的条件\n",
    "        while len(need) > k:\n",
    "            d = s[left]\n",
    "            need[d] -= 1\n",
    "            if need[d] == 0:\n",
    "                del need[d] \n",
    "            # 滑动左窗口\n",
    "            left += 1\n",
    "        \n",
    "        # 最大窗口问题需要在退出第二个while之后判断，此时[left, right)是窗口中的字符串\n",
    "        if (right-left) > longest:\n",
    "            longest = right-left\n",
    "        \n",
    "    return longest\n",
    "    \n",
    "s = \"eceba\" #\"bckcackse\"\n",
    "k = 2\n",
    "process(s, k)"
   ]
  },
  {
   "cell_type": "markdown",
   "metadata": {},
   "source": [
    "## 问题12：[最小覆盖子串——滑动窗口](https://leetcode-cn.com/problems/minimum-window-substring/)\n",
    "### 题目\n",
    "给你一个字符串s、一个字符串t。返回s中涵盖t所有字符的最短连续子字符串。如果s中不存在涵盖t所有字符的子串，则返回空字符串 \"\" 。例：s = \"ADOBECODEBANC\", t = \"ABC\"，则我们返回s的字串“BANC”\n",
    "\n",
    "### 分析\n",
    "- 字典技巧：有时候我们需要实现对一个字典某个键进行计数，但是可能这个字典初始化的时候是没有这个键，直接调用dic\\[k] += 1就会报错，因为dic没有这个键，因此可以使用dict\\[k] = dict.setdefault(k, 0) + 1, 意思是如果k不是dic中的键，则会创建一个键为k值为0的键值对，并且执行dic\\[k] += 1的操作.更简单的使用是collections.defaultdict方法(需要import)。"
   ]
  },
  {
   "cell_type": "code",
   "execution_count": 1,
   "metadata": {},
   "outputs": [
    {
     "data": {
      "text/plain": [
       "'BANC'"
      ]
     },
     "execution_count": 1,
     "metadata": {},
     "output_type": "execute_result"
    }
   ],
   "source": [
    "from collections import defaultdict \n",
    "\n",
    "def process(s, t):\n",
    "    '''\n",
    "    s: 全部字符串\n",
    "    t: 需要去用来匹配的字符串\n",
    "    '''\n",
    "    left, right = 0, 0 # 初始化\n",
    "    need = defaultdict(int)   # 记录所需字母及其次数, 保持need在循环过程中不变\n",
    "    window = defaultdict(int) # 窗口\n",
    "    valid = 0   # valid表示窗口中已经满足的字母个数，用于收缩窗口的判断条件\n",
    "    start = 0   # 记录字串开始位置index\n",
    "    end = 0     # 记录字串结束位置index\n",
    "    minlenth = float('inf')\n",
    "\n",
    "    # 初始化need字典\n",
    "    for c in t:\n",
    "        need[c] = need.setdefault(c, 0) + 1\n",
    "        # 或者直接写need[c] += 1\n",
    "    n = len(s)\n",
    "\n",
    "    while right < n:\n",
    "        # 将要进入窗口的字符\n",
    "        c = s[right]\n",
    "        # 滑动右窗口\n",
    "        right += 1\n",
    "\n",
    "        if c in need:\n",
    "            window[c] += 1   # 加入窗口,同一个字母可以多次加入\n",
    "            if window[c] == need[c]:\n",
    "                valid += 1\n",
    "\n",
    "        # 判断收缩条件\n",
    "        while valid == len(need):\n",
    "            d = s[left]\n",
    "            if d in need:\n",
    "                window[d] -= 1\n",
    "                # 有可能window中字符d有多个\n",
    "                if window[d] < need[d]:\n",
    "                    valid -= 1\n",
    "                    # 更新end和start, 能进到此处说明该字符如果离开窗口则窗口内将不满足条件，因此离开前需要记录。\n",
    "                    # 此时[left, right) 是满足条件的\n",
    "                    if right - left < minlenth:\n",
    "                        start = left\n",
    "                        end = right-1\n",
    "                        minlenth = end - start + 1\n",
    "            # 滑动左窗口\n",
    "            left += 1\n",
    "    \n",
    "\n",
    "    return \"\" if minlenth == float('inf') else s[start:end+1]\n",
    "\n",
    "\n",
    "s = \"ADOBECODEBANC\"\n",
    "t = \"ACB\"\n",
    "process(s, t)"
   ]
  },
  {
   "cell_type": "markdown",
   "metadata": {},
   "source": [
    "## 题目13：[无重复字符的最长子串](https://leetcode.cn/problems/longest-substring-without-repeating-characters/)\n",
    "### 题目\n",
    "给定一个字符串 s ，请你找出其中不含有重复字符的 最长子串的长度。例如:s = \"abcabcbb\", 输出:3, 最长不重复子串为\"abc\"\n",
    "\n",
    "### 分析\n",
    "- 采用一个字典,记录窗口中的子串的每一个字符，收缩条件是当c字符在字典中记录的个数大于0了(也就说明在之前已经出现了)。\n",
    "- 停止收缩的条件是，当d字符取除后等于1了。说明此时窗口中已经没用重复字符了。可以不用再收缩了。\n",
    "- 注意最大问题在第二个while后进行记录。"
   ]
  },
  {
   "cell_type": "code",
   "execution_count": 49,
   "metadata": {},
   "outputs": [
    {
     "data": {
      "text/plain": [
       "2"
      ]
     },
     "execution_count": 49,
     "metadata": {},
     "output_type": "execute_result"
    }
   ],
   "source": [
    "from collections import defaultdict\n",
    "\n",
    "def process(s:str):\n",
    "    n = len(s)\n",
    "    \n",
    "    left, right = 0, 0\n",
    "    start, end = 0, 0  # 记录最长子串的起止index,[start, end)\n",
    "\n",
    "    window = defaultdict(int)\n",
    "    max_len = 0\n",
    "    valid = False\n",
    "\n",
    "    while right < n:\n",
    "        c = s[right]\n",
    "        right += 1\n",
    "        if window[c] > 0: # 说明已经存在了，需要缩小窗口了\n",
    "            valid = True \n",
    "        window[c] += 1\n",
    "\n",
    "        # 缩小窗口\n",
    "        while valid:\n",
    "            d = s[left]\n",
    "            if window[d] > 1: # 说明找到了那个重复的字母了，排除重复字母d之后，可以不用再缩小了\n",
    "                valid = False\n",
    "            window[d] -= 1\n",
    "            left += 1\n",
    "        \n",
    "        # 对于最大窗口问题，需要在退出缩小窗口后进行判断\n",
    "        if right-left > max_len:  # 此时window中是[left, right), 是满足题意的。\n",
    "            start = left\n",
    "            end = right\n",
    "            max_len = right-left\n",
    "\n",
    "    return max_len\n",
    "\n",
    "process(\"aab\")\n"
   ]
  },
  {
   "cell_type": "markdown",
   "metadata": {},
   "source": [
    "## 题目14：[滑动窗口最大值](https://leetcode.cn/problems/sliding-window-maximum/)\n",
    "### 题目\n",
    "给你一个整数数组 nums，有一个大小为 k 的滑动窗口从数组的最左侧移动到数组的最右侧。你只可以看到在滑动窗口内的 k 个数字。滑动窗口每次只向右移动一位。\n",
    "返回滑动窗口中的最大值 。例如：nums = [1,3,-1,-3,5,3,6,7], k = 3，则返回：[3,3,5,5,6,7]\n",
    "\n",
    "\n",
    "### 分析\n",
    "- 采用滑动窗口的模板，当窗口内内容大于c时，滑动左窗口\n",
    "- 可以采用一个列表记录窗口内的数字\n",
    "- 这个问题需要在第二个while中记录结果\n",
    "\n",
    "### 优化\n",
    "- 由于使用列表来记录计算最大值时间复杂度很高，因此采用大根堆来替代，python中使用heapq.heapify(list)来将一个列表变成小根堆(我们需要的是大根堆所以需要做转换)。\n",
    "- 由于还需要从大根堆中pop出不再window的数字，因此我们需要记录每个元素的下标，因此采用(-num, index)的方式放入list中，再进行构建小根堆(对于num来说就是大根堆了).\n",
    "- 由于大根堆无法根据位置来pop出离开window的元素，但我们只需要知道最大值是否在window中即可，如果不在则pop出这个最大值(因为这个位置的值将永远不会再进入到window中了)，并且要注意把所有的不再窗口里的堆顶元素去掉，因此使用while"
   ]
  },
  {
   "cell_type": "code",
   "execution_count": 12,
   "metadata": {},
   "outputs": [
    {
     "data": {
      "text/plain": [
       "[1]"
      ]
     },
     "execution_count": 12,
     "metadata": {},
     "output_type": "execute_result"
    }
   ],
   "source": [
    "import heapq\n",
    "\n",
    "def process(nums, k):\n",
    "    n = len(nums)\n",
    "    result = []\n",
    "    window = []\n",
    "    heapq.heapify(window)  # 构建小根堆\n",
    "\n",
    "    left, right = 0, 0\n",
    "    while right < n:\n",
    "        c = nums[right]\n",
    "        heapq.heappush(window, (-c, right))  # (-num, index)将放入堆中\n",
    "        right += 1\n",
    "        \n",
    "\n",
    "        while right-left >= k:\n",
    "            result.append(-window[0][0])  # 此时window[0]就是最小的那个元素,对于num来说就是最大的\n",
    "            left += 1\n",
    "            while window[0][1] < left:       # 如果此时堆顶的元素的index < left，说明该元素已经不再窗口里了, 并且需要把所有小于left的堆顶元素都去掉\n",
    "                heapq.heappop(window)\n",
    "                if window == []:\n",
    "                    break\n",
    "\n",
    "    return result\n",
    "\n",
    "process([1], 1)"
   ]
  },
  {
   "cell_type": "markdown",
   "metadata": {},
   "source": [
    "## 题目15：[替换后的最长重复字符](https://leetcode.cn/problems/longest-repeating-character-replacement/)\n",
    "### 题目\n",
    "给你一个字符串 s 和一个整数 k 。你可以选择字符串中的任一字符，并将其更改为任何其他大写英文字符。该操作最多可执行 k 次。在执行上述操作后，返回包含相同字母的最长子字符串的长度。例如：s = \"ABAB\", k = 2，用两个'A'替换为两个'B'，因此输出4.\n",
    "\n",
    "\n",
    "\n",
    "### 分析\n",
    "- 主要是如何设计出收缩窗口条件: 窗口的大小与最多字符个数之间的差值表示可以替换的字符个数, 如果这个个数大于k则收缩窗口。\n",
    "- 需要一个字典来储存字符出现的个数.max(dict.keys(), key=dict.get)来取得出现次数最多的是那个字符, 并记录最大字符个数\n"
   ]
  },
  {
   "cell_type": "code",
   "execution_count": 16,
   "metadata": {},
   "outputs": [
    {
     "data": {
      "text/plain": [
       "4"
      ]
     },
     "execution_count": 16,
     "metadata": {},
     "output_type": "execute_result"
    }
   ],
   "source": [
    "from collections import defaultdict\n",
    "\n",
    "def process(s:str, k):\n",
    "    n = len(s)\n",
    "    window = defaultdict(int)\n",
    "    left, right = 0, 0\n",
    "    result = 0\n",
    "\n",
    "    while right < n:\n",
    "        c = s[right]\n",
    "        window[c] += 1\n",
    "        max_str = max(window.keys(), key=window.get)  # 出现最多的那个字符\n",
    "        max_rep = window[max_str]                     # 最多重复次数\n",
    "        right += 1\n",
    "        while right - left - max_rep > k :\n",
    "            d = s[left]\n",
    "            window[d] -= 1\n",
    "            max_str = max(window.keys(), key=window.get)  # 出现最多的那个字符\n",
    "            max_rep = window[max_str]                     # 最多重复次数\n",
    "            left += 1\n",
    "        \n",
    "        result = max(result, right - left)\n",
    "    \n",
    "    return result\n",
    "\n",
    "process(\"AABABBA\", k = 1)\n",
    "        "
   ]
  },
  {
   "cell_type": "markdown",
   "metadata": {},
   "source": [
    "## 题目16：[找到字符串中所有字母异位词](https://leetcode.cn/problems/find-all-anagrams-in-a-string/)\n",
    "### 题目\n",
    "给定两个字符串s和p，找到s中所有p的异位词的子串，返回这些子串的起始索引。异位词:指由相同字母重排列形成的字符串（包括相同的字符串）。例如：s=\"cbaebabacd\", p=\"abc\"，s的所有子串中是p的异位词的有\"cba\",\"bac\"因此返回这个两个子串的起始坐标[0, 6]\n",
    "\n",
    "### 分析\n",
    "- 类似于12题，我们需要采用使用一个need字典来记录我们需要的字符个数, window记录当前窗口的字符数，直接采用比较的方式进行两个字典的比较。\n",
    "- 由于窗口大小一定等于p的长度，因此我们在移动right的时候left也需要移动的，并且要同时更新window\n",
    "- 因此我们的left和right就不能从0开始了。(固定窗口大小的题目)\n"
   ]
  },
  {
   "cell_type": "code",
   "execution_count": 19,
   "metadata": {},
   "outputs": [
    {
     "data": {
      "text/plain": [
       "[0, 1, 2]"
      ]
     },
     "execution_count": 19,
     "metadata": {},
     "output_type": "execute_result"
    }
   ],
   "source": [
    "from collections import defaultdict\n",
    "\n",
    "def process(s, p):\n",
    "    if len(s) < len(p):\n",
    "        return []\n",
    "    needs = defaultdict(int)\n",
    "    window = defaultdict(int)\n",
    "    result = []\n",
    "\n",
    "    ## 记录需要的那些字符串\n",
    "    for index in range(len(p)):\n",
    "        needs[p[index]] += 1\n",
    "        window[s[index]] += 1\n",
    "    \n",
    "    left, right = 0, len(p)\n",
    "    ## 需要先判断一次\n",
    "    if needs == window:\n",
    "            result.append(left)\n",
    "\n",
    "    while right < len(s):\n",
    "        c = s[right]\n",
    "        d = s[left]\n",
    "        window[c] += 1\n",
    "        window[d] -= 1\n",
    "        if window[d] == 0:\n",
    "            del window[d]\n",
    "        left += 1\n",
    "        right += 1 ## 此时窗口内的字符是[left, right)\n",
    "\n",
    "        if needs == window:\n",
    "            result.append(left)\n",
    "\n",
    "    return result\n",
    "        \n",
    "s=\"abab\"\n",
    "p=\"ab\"\n",
    "process(s, p)"
   ]
  },
  {
   "cell_type": "code",
   "execution_count": 8,
   "metadata": {},
   "outputs": [
    {
     "data": {
      "text/plain": [
       "False"
      ]
     },
     "execution_count": 8,
     "metadata": {},
     "output_type": "execute_result"
    }
   ],
   "source": []
  },
  {
   "cell_type": "code",
   "execution_count": null,
   "metadata": {},
   "outputs": [],
   "source": []
  }
 ],
 "metadata": {
  "kernelspec": {
   "display_name": "Python 3.8.6 64-bit",
   "language": "python",
   "name": "python3"
  },
  "language_info": {
   "codemirror_mode": {
    "name": "ipython",
    "version": 3
   },
   "file_extension": ".py",
   "mimetype": "text/x-python",
   "name": "python",
   "nbconvert_exporter": "python",
   "pygments_lexer": "ipython3",
   "version": "0.0.0"
  },
  "metadata": {
   "interpreter": {
    "hash": "9afc2b4a137c1ef260a208b8b14dcafe0c511635e698b6a7b46f192005b0a3f6"
   }
  },
  "orig_nbformat": 2,
  "vscode": {
   "interpreter": {
    "hash": "0aea4d3bd9f517439094973d7e036bbe588c23e6e36cf8d45d53b47a8a90b2b4"
   }
  }
 },
 "nbformat": 4,
 "nbformat_minor": 2
}
