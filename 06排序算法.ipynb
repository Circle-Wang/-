{
 "cells": [
  {
   "cell_type": "markdown",
   "metadata": {},
   "source": [
    "### 冒泡排序\n",
    "- 1.将列表中的两个列表元素进行两两大小比较，将较大的数值逐步向后移动\n",
    "- 2.时间复杂度：O($n^2$)"
   ]
  },
  {
   "cell_type": "code",
   "execution_count": null,
   "metadata": {},
   "outputs": [],
   "source": [
    "#将列表元素最大值找出，放在最后\n",
    "def sort(alist):\n",
    "    for j in range(0,len(alist)-1):# 控制内层循环需要比较的次数\n",
    "        for i in range(0,len(alist)-1-j):\n",
    "            if alist[i] > alist[i+1]:\n",
    "                alist[i], alist[i+1] = alist[i+1], alist[i]\n",
    "    return alist\n",
    "blist = [4,11,6,8,2,9]\n",
    "alist = blist.copy()\n",
    "sort(alist)"
   ]
  },
  {
   "cell_type": "markdown",
   "metadata": {},
   "source": [
    "### 选择排序\n",
    "- 1.直接将列表最大值找出(两两比较)，放在最后位置，在外层循环里才进行交换\n",
    "- 2.时间复杂度：O($n^2$)\n"
   ]
  },
  {
   "cell_type": "code",
   "execution_count": 1,
   "metadata": {},
   "outputs": [
    {
     "data": {
      "text/plain": [
       "[2, 4, 8, 9, 11, 16]"
      ]
     },
     "execution_count": 1,
     "metadata": {},
     "output_type": "execute_result"
    }
   ],
   "source": [
    "def sort(alist):\n",
    "    for j in range(0,len(alist)-1):#循环\n",
    "        max = 0 #max中存储的是列表中元素值最大的数的下标\n",
    "        for i in range(0,len(alist)-1-j):\n",
    "            if alist[max] < alist[i+1]:\n",
    "                max = i+1\n",
    "        # 将最大值的位置与列表末尾位置交换\n",
    "        alist[max], alist[len(alist)-1-j] = alist[len(alist)-1-j], alist[max]\n",
    "    return alist\n",
    "alist = [4,11,16,8,2,9]\n",
    "sort(alist)"
   ]
  },
  {
   "cell_type": "markdown",
   "metadata": {},
   "source": [
    "### 插入排序\n",
    "- 1.分解需求，从0-0有序，到0-1有序，到0-2有序，...到0-N有序\n",
    "- 2.在每一步需求中，从最后一个数字(标记)开始，向左比较，如果标记的数比左边的数大，则交换，并继续比较交换后的左边的数，直到不满足，就停止，转向下一个需求。\n",
    "- 3.完成最后一个需求以后，排序完成\n",
    "- 特点：插入排序的效率与数据状况有关系，选择排序和冒泡排序与数据状况无关\n",
    "- 4.时间复杂度：O($n^2$)\n",
    "\n",
    "![图](附件图片\\插入排序.png)"
   ]
  },
  {
   "cell_type": "code",
   "execution_count": null,
   "metadata": {},
   "outputs": [],
   "source": [
    "alist=[3,8,5,7,6]\n",
    "[3,  8,5,7,6]\n",
    "[3,8,  5,7,6]\n",
    "[3,5,8,  7,6]\n",
    "[3,5,7,8,  6]\n",
    "[3,5,6,7,8  ]"
   ]
  },
  {
   "cell_type": "code",
   "execution_count": null,
   "metadata": {},
   "outputs": [],
   "source": [
    "def sort(alist):\n",
    "    for i in range(1,len(alist)):\n",
    "        while i >= 1:\n",
    "            if alist[i] < alist[i-1]: # 比较自己与左边的数据\n",
    "                alist[i], alist[i-1] = alist[i-1], alist[i]#如果判定成立，交换位置\n",
    "                i -= 1  # 由于交换了位置，更新标记点\n",
    "            else:\n",
    "                break\n",
    "    return alist"
   ]
  },
  {
   "cell_type": "code",
   "execution_count": null,
   "metadata": {},
   "outputs": [],
   "source": [
    "alist=[4,11,6,88,2]\n",
    "sort(alist)"
   ]
  },
  {
   "cell_type": "markdown",
   "metadata": {},
   "source": [
    "### 希尔排序\n",
    "- 特殊的插入排序，或者说插入排序是分组为1希尔排序\n",
    "- 希尔排序(Shell Sort)是插入排序的一种。也称缩小增量排序，是直接插入排序算法的一种更高效的改进版本,该方法的基本思想是：先将整个待排元素序列分割成若干个子序列（由相隔某个“增量(gap)”的元素组成的）分别进行直接插入排序，然后依次缩减增量再进行排序，待整个序列中的元素基本有序（增量足够小）时，再对全体元素进行一次直接插入排序。因为直接插入排序在元素基本有序的情况下（接近最好情况），效率是很高的，因此希尔排序在时间效率比直接插入排序有较大提高。\n",
    "![1](附件图片\\希尔1.png)\n",
    "![1](附件图片\\希尔2.png)\n"
   ]
  },
  {
   "cell_type": "code",
   "execution_count": null,
   "metadata": {},
   "outputs": [],
   "source": [
    "# step1实现了增量为gap的希尔排序\n",
    "gap = len(alist)//2\n",
    "for i in range(gap,len(alist)):\n",
    "    while i >= 1:\n",
    "        if alist[i] < alist[i-gap]: #小就放左边\n",
    "            alist[i], alist[i-gap] = alist[i-gap], alist[i]  # 还得再比较有序部分的第一个数据\n",
    "            i -= gap\n",
    "        else:\n",
    "            break\n",
    "print(alist)\n"
   ]
  },
  {
   "cell_type": "code",
   "execution_count": null,
   "metadata": {},
   "outputs": [],
   "source": [
    "# step2每一轮缩小增量来进行排序\n",
    "gap = len(alist)//2\n",
    "while gap >= 1:\n",
    "    # 分组排列\n",
    "    for i in range(gap,len(alist)):\n",
    "        while i >= 1:\n",
    "            if alist[i] < alist[i-gap]: #小就放左边\n",
    "                alist[i], alist[i-gap] = alist[i-gap], alist[i]#还得再比较有序部分的第一个数据\n",
    "                i -= gap\n",
    "            else:\n",
    "                break\n",
    "    gap = gap//2"
   ]
  },
  {
   "cell_type": "code",
   "execution_count": 2,
   "metadata": {},
   "outputs": [
    {
     "data": {
      "text/plain": [
       "[2, 3, 3, 4, 5, 6, 44, 51]"
      ]
     },
     "execution_count": 2,
     "metadata": {},
     "output_type": "execute_result"
    }
   ],
   "source": [
    "def sort(alist):\n",
    "    gap=len(alist)//2\n",
    "    while gap >= 1:\n",
    "        for i in range(gap, len(alist)):\n",
    "            while i >= 1:\n",
    "                if alist[i] < alist[i-gap]: #小就放左边\n",
    "                    alist[i], alist[i-gap] = alist[i-gap], alist[i]#还得再比较有序部分的第一个数据\n",
    "                    i -= gap\n",
    "                else:\n",
    "                    break\n",
    "        gap = gap//2  # 增量缩减\n",
    "    return alist\n",
    "alist=[3,4,51,2,3,44,5,6]\n",
    "sort(alist)"
   ]
  },
  {
   "cell_type": "markdown",
   "metadata": {},
   "source": [
    "### 快速排序（分治法）\n",
    "- 例子:6,1,2,7,9,3,4,5,10,8\n",
    "- 设定一个基数，一般设定为low指针所在的位置，储存在mid的变量中.(相当于low这个位置的这个数已经被存下来了)\n",
    "- 设定两个变量一个为low(对应列表第一个数据的下标)，一个为high(对应列表最后一个数据)\n",
    "    - 1、从右往左开始偏移high,需要将high指向的数值跟基数大小比较,如果high指向的数值>基数则让high向左偏移一位，直到high指向的数值小于了基数，则停止high的偏移。将high指向的数值赋值在low的位置(如果之前选取的基数不是low位置的数，那么这个时候你的low位置的数就已经找不回来了)，然后开始偏移low\n",
    "    - 2、从左往右偏移low，需要将low指向的数值跟基数大小比较，如果low指向的数值<=基数则让low向右偏移一位，直到low指向的数值大于等于了基数，则停止low的偏移。将low指向的数值赋值在high的位置，然后开始偏移high(从之前的high的位置开始，不是从头)\n",
    "    - 3、当重复1,2之后，当low和high在一个位置的时候，把基数放在这个重叠的位置。\n",
    "    - 4、完成1，2，3以后会发现在mid的左边都是小于mid的数，mid的右边都是大于mid的数，然后再分别在mid的左右两边再次递归实施1,2,3最终结束\n",
    "- 注意：基数我们必须是low指针指向的位置，但是我们可以在确定基数之前，把low指针的位置所指的数与high之前的数随机换个位置，这样可以提升时间。\n",
    "- 注意：移动low和high的逻辑中有一个必须要包含等号，不然会出现死循环的。\n",
    "- 时间复杂度：O($nlog(n)$)"
   ]
  },
  {
   "cell_type": "code",
   "execution_count": 17,
   "metadata": {},
   "outputs": [
    {
     "data": {
      "text/plain": [
       "[1, 2, 3, 3, 4, 5, 6, 7, 8, 9, 10]"
      ]
     },
     "execution_count": 17,
     "metadata": {},
     "output_type": "execute_result"
    }
   ],
   "source": [
    "# 一个递归函数\n",
    "import random\n",
    "def sort(alist, start, end):\n",
    "    low = start\n",
    "    high = end\n",
    "    if low > high:  # 在最后迭代可能出现start<end\n",
    "        return \n",
    "    # # 随机选取一个位置与第一个位置交换（可以提升时间）\n",
    "    # pivot = random.randint(start,end)   \n",
    "    # alist[pivot], alist[start] = alist[start], alist[pivot]\n",
    "    mid = alist[low]\n",
    "    while low < high:\n",
    "        while low < high:   # 开始移动末尾指针\n",
    "            if alist[high] > mid:\n",
    "                high -= 1\n",
    "            else:\n",
    "                alist[low] = alist[high]\n",
    "                break\n",
    "\n",
    "        while low < high:   # 开始移动首指针\n",
    "            if alist[low] <= mid:\n",
    "                low += 1\n",
    "            else:\n",
    "                alist[high] = alist[low]\n",
    "                break\n",
    "    alist[low] = mid    # 或者alist[high]=mid，因为退出while循环只有可能是low=high\n",
    "    \n",
    "    # 将sort的操作作用到基数左侧部分\n",
    "    sort(alist, start, low-1)\n",
    "    # 将sort的操作作用到基数右侧部分\n",
    "    sort(alist, low+1, end)\n",
    "    return alist\n",
    "alist=[6,1,2,7,9,3,3,4,5,10,8]\n",
    "sort(alist, 0, len(alist)-1)"
   ]
  },
  {
   "cell_type": "markdown",
   "metadata": {},
   "source": [
    "### 归并排序\n",
    "采用\"分治\"的策略，即先将数组按照完全二叉树的方式进行分开，然后根据分开的信息，再将分好的数组进行合并(对两个有序数组进行合并)，最后再返回上一层。\n",
    "- 我们定义一个辅助函数Merge(arr1, arr2)，用于合并两个有序数组，给定两个有序数组，返回组合后的数组\n"
   ]
  },
  {
   "cell_type": "code",
   "execution_count": null,
   "metadata": {},
   "outputs": [],
   "source": [
    "def merge(arr1, arr2):\n",
    "    index1, index2 = 0, 0\n",
    "    result = []\n",
    "    while index1<len(arr1) and index2<len(arr2):\n",
    "        if arr1[index1] <= arr2[index2]:\n",
    "            result.append(arr1[index1])\n",
    "            index1 += 1\n",
    "        else:\n",
    "            result.append(arr2[index2])\n",
    "            index2 += 1\n",
    "    # 退出的时候一定有一个数组的index=len(arr),因此需要把另一个数组剩下的加上。\n",
    "    result += arr1[index1:]\n",
    "    result += arr2[index2:]\n",
    "    return result\n",
    "\n",
    "def sort(arr):\n",
    "    if len(arr) <= 1:\n",
    "        return arr\n",
    "    mid = len(arr)//2\n",
    "    left = sort(arr[:mid])  # 得到mid左边数据排好序的列表\n",
    "    right = sort(arr[mid:]) # 得到mid右边数据排好序的列表\n",
    "    return merge(left, right)   \n",
    "arr = [1,23,3,-1,23,4,2,3,1]\n",
    "sort(arr)"
   ]
  },
  {
   "cell_type": "markdown",
   "metadata": {},
   "source": [
    "## 问题1：[快速选择](https://leetcode-cn.com/problems/kth-largest-element-in-an-array/)\n",
    "在未排序的数组中找到第 k 小的元素(升序排序之后在第k位，k=0,1...)。例如：\\[3,2,1,5,6,4] 和 k = 2,我们需要返回2\n",
    "\n",
    "分析：\n",
    "- 可以参照快速排序的方法，因为每次快排之后都可以找到基数x的是第q大的，并且还能保证x左边一定是小于x，右边一定是大于x\n",
    "- 辅助函数partition返回给定值value的位次。注意到partition会改变数组，因此我们必须保证每次\\[L,R]中必须有第k小的数\n",
    "- 技巧: partition函数是不稳定的，在一些极限的情况下分割会在O(n^2)的时间复杂度。因此我们需用要random来随机选择基数\n",
    "- arr\\[a:b]；这种方法切割会产生新的内存，即按照这个方式切出来的列表与原来列表不共用内存。\n",
    "- 荷兰国旗问题partition"
   ]
  },
  {
   "cell_type": "code",
   "execution_count": 17,
   "metadata": {},
   "outputs": [
    {
     "data": {
      "text/plain": [
       "2"
      ]
     },
     "execution_count": 17,
     "metadata": {},
     "output_type": "execute_result"
    }
   ],
   "source": [
    "import random\n",
    "def partition(arr, value):\n",
    "    '''\n",
    "    arr: 未排序数组\n",
    "    value: 将arr重新排列使得value左边的数都小于value, value右边的数都大于value\n",
    "    return: value所在的重排列数组arr的index区间\n",
    "    '''\n",
    "    less = -1         # 永远指向小于value的最后一个位置\n",
    "    more = len(arr)   # 永远指向大于value的第一个位置\n",
    "    L = 0   # 用于锁定等于value的值\n",
    "    while L < more:\n",
    "        if arr[L] < value:\n",
    "            less += 1\n",
    "            arr[L], arr[less] = arr[less], arr[L] # less永远指向小于value的最后一个位置\n",
    "            L += 1   # 这里注意L会向前走是因为换过来的数一定是等于value或者不需要再判断的\n",
    "        elif arr[L] > value:\n",
    "            more -= 1\n",
    "            arr[L], arr[more] = arr[more], arr[L]   # more永远指向大于value的第一个位置\n",
    "        else:\n",
    "            L += 1\n",
    "    return (less+1, more-1)\n",
    "\n",
    "# 在arr中[L,R]区域中找到arr中的第k小的数(k=0,1,2,3,4...)\n",
    "# 但是得保证[L,R]中一定有第k小的数\n",
    "def getLessNumber(arr, k):\n",
    "    '''\n",
    "    arr: 未排序数组\n",
    "    k: 需要寻找arr升序排列后第k的位置. k = 0,1,...,len(arr)-1\n",
    "    return: arr升序排列后第k位置的数值\n",
    "    '''\n",
    "    if len(arr) == 1:\n",
    "        return arr[0]\n",
    "    value = arr[random.randint(0, len(arr)-1)]\n",
    "    (less, more) = partition(arr, value)    #荷兰国旗问题会改变原数组\n",
    "    if less <= k and k <= more:\n",
    "        return arr[k]\n",
    "    elif k < less:\n",
    "        return getLessNumber(arr[:less], k)\n",
    "    elif k > more:\n",
    "        return getLessNumber(arr[more+1:], k-more-1)\n",
    "\n",
    "# 测试示例\n",
    "arr = [3,2,1,5,6,4]\n",
    "arrcopy = arr.copy()\n",
    "getLessNumber(arrcopy, 1) # 返回第2大的数"
   ]
  },
  {
   "cell_type": "markdown",
   "metadata": {},
   "source": [
    "## 问题2：[前K个高频元素(桶排序)](https://leetcode-cn.com/problems/top-k-frequent-elements/)\n",
    "给你一个整数数组nums和一个整数k ，请你返回其中出现频率前k高的元素。你可以按任意顺序返回答案。例如：nums = \\[1,1,1,2,2,3], k=2，我们返回\\[1,2]\n",
    "\n",
    "桶排序的意思是为每个值设立一个桶，桶内记录这个值出现的次数(或其它属性)，然后对桶进行排序。\n",
    "\n",
    "分析：\n",
    "- 在对桶进行排序的时候我们可以生成一个全为None的列表list，列表list的下标是桶中的元素对应的属性(此例中是计数)，列表list的元素也是列表(存放原数组中的数字))，例如list\\[2] = \\[4,5]指的是arr中，5，4出现了2次，list\\[4] = \\[]指的是原数组中没有数出现过4次"
   ]
  },
  {
   "cell_type": "code",
   "execution_count": 29,
   "metadata": {},
   "outputs": [
    {
     "data": {
      "text/plain": [
       "[2, 3]"
      ]
     },
     "execution_count": 29,
     "metadata": {},
     "output_type": "execute_result"
    }
   ],
   "source": [
    "from collections import defaultdict\n",
    "\n",
    "def process(arr, k):\n",
    "    # 记录每个数字出现次数，得到桶\n",
    "    count = defaultdict(int)\n",
    "    N = len(arr)\n",
    "    for i in arr:\n",
    "        count[i] += 1\n",
    "\n",
    "    # 对桶进行排序(采用二维数组方式i表示属性例如长度,次数....L[i]表示元素)\n",
    "    L = [[] for _ in range(N+1)]    # 由于下标表示出现次数因此长度需要N+1\n",
    "    max_count = 0                   # 记录下单个数字出现的最大次数\n",
    "    for key, i in count.items():\n",
    "        L[i].append(key)            # 此处注意下标i表示是数字key出现的次数\n",
    "        max_count = max(max_count,i)\n",
    "\n",
    "    # 生成结果列表\n",
    "    ans = []\n",
    "    for i in range(max_count, -1, -1):      # 从‘出现max_count次'开始迭代，因为刚才记录了最多单个数字最多才出现max_count次\n",
    "        if L[i] != []:\n",
    "            ans = ans + L[i]\n",
    "        if len(ans) >= k:\n",
    "            break\n",
    "    return ans\n",
    "    \n",
    "\n",
    "nums = [1,2,3,2,3]\n",
    "k = 2\n",
    "process(nums, k)"
   ]
  },
  {
   "cell_type": "markdown",
   "metadata": {},
   "source": [
    "## 问题3：[根据字符出现频率排序](https://leetcode-cn.com/problems/sort-characters-by-frequency/)\n",
    "给定一个字符串，请将字符串里的字符按照出现的频率降序排列。例如：输入\"tree\"，返回\"eert\"\n",
    "\n",
    "\n",
    "分析：\n",
    "- 根据桶排序的方式来进行即可，先记录下每个字符出现的次数，放置在桶里\n",
    "- 根据桶中的值，来得到一个新的列表L，列表下标表示字符出现次数，列表元素是\\[]里面存放字符,例如L\\[2] = \\['f','s']表示字符f和s都出现两次\n",
    "\n",
    "方法二：\n",
    "- 得到桶之后，采用大根堆的方式来进行，python中需要加载基本库heapq(常用方法如下)\n",
    "    - heapq.heapify(list):将列表中元素转化为小根堆(会改变元素顺序), 列表元素可以是元组，生成堆时会根据元组第1个位置的大小(如果第一个位置相同会判断第二个位置))来作为值生成小根堆\n",
    "    - heapq.heappush(heap, item)：向heap中添加元素并生成堆\n",
    "    - heapq.heappop(heap) ：把heap中最小的元素弹出，并删除(会改变heap的元素个数)\n",
    "- 我们这里要利用桶来生成的是大根堆，因此我们将桶里的键值对，生成(-value, key)为元素的列表L,对L构造小根堆，(这样就是对(value, key)构造的大根堆)\n",
    "- 然后依次弹出即可。"
   ]
  },
  {
   "cell_type": "code",
   "execution_count": 33,
   "metadata": {},
   "outputs": [
    {
     "data": {
      "text/plain": [
       "'eeeiitrk'"
      ]
     },
     "execution_count": 33,
     "metadata": {},
     "output_type": "execute_result"
    }
   ],
   "source": [
    "from collections import defaultdict\n",
    "def process1(arr):\n",
    "    # 记录每个数字出现次数，得到桶\n",
    "    count = defaultdict(int)\n",
    "    N = len(arr)\n",
    "    for i in arr:\n",
    "        count[i] += 1\n",
    "\n",
    "    # 对桶进行排序\n",
    "    L = [[] for i in range(N+1)]    # 由于下标表示出现次数因此长度需要N+1\n",
    "    for key, i in count.items():\n",
    "        L[i].append(key)            # 此出注意下标是出现的次数\n",
    "\n",
    "    # 生成结果字符串\n",
    "    ans = ''\n",
    "    for i in range(N, -1, -1):      # 下标表示出现次数，因此从‘出现N次'开始迭代\n",
    "        if L[i] == []:\n",
    "            continue\n",
    "        for ele in L[i]:\n",
    "            ans = ans + ele*i\n",
    "    return ans\n",
    "arr = \"tree\"\n",
    "process1(arr)"
   ]
  },
  {
   "cell_type": "markdown",
   "metadata": {},
   "source": [
    "#### 方法二"
   ]
  },
  {
   "cell_type": "code",
   "execution_count": 38,
   "metadata": {},
   "outputs": [
    {
     "data": {
      "text/plain": [
       "'eert'"
      ]
     },
     "execution_count": 38,
     "metadata": {},
     "output_type": "execute_result"
    }
   ],
   "source": [
    "import heapq \n",
    "def process2(arr):\n",
    "    # 记录每个数字出现次数，得到桶\n",
    "    count = defaultdict(int)\n",
    "    N = len(arr)\n",
    "    for i in arr:\n",
    "        count[i] += 1\n",
    "\n",
    "    # 生成大根堆\n",
    "    L = [(-value, key) for key, value in count.items()]\n",
    "    heapq.heapify(L)    # 会直接改变L\n",
    "\n",
    "    # 生成结果字符串\n",
    "    ans = ''\n",
    "    while L:\n",
    "        ele = heapq.heappop(L)\n",
    "        ans = ans + ele[1] * (-ele[0])\n",
    "    return ans\n",
    "arr = \"tree\"\n",
    "process2(arr)"
   ]
  },
  {
   "cell_type": "markdown",
   "metadata": {},
   "source": [
    "## 问题4：[颜色分类(荷兰国旗问题)](https://leetcode-cn.com/problems/sort-colors/)\n",
    "给定一个包含红色、白色和蓝色，一共n个元素的数组，原地对它们进行排序，使得相同颜色的元素相邻，并按照红色、白色、蓝色顺序排列。此题中，我们使用整数0、1和2分别表示红色、白色和蓝色。例如：nums = \\[2,0,2,1,1,0]，返回\\[0,0,1,1,2,2]\n",
    "\n",
    "分析：\n",
    "- 我们采用双指针的方式来遍历，less=0从左往右，more=len(arr)-1从右往左。\n",
    "- 指针i从左往右进行遍历。\n",
    "    - 当arr\\[i] == 0,则交换arr\\[less]和arr\\[i],并且i++，less++\n",
    "    - 当arr\\[i] == 2,则交换arr\\[more]和arr\\[i]，more-- 。但是此时i不能++，因为交换过来的arr\\[more]并没有进行过判定，因此在这种情况下，需要继续判定新换过来的arr\\[i]的情况，因此需要循环判定，直到退出循环以后说明\\arr[i] != 2,但是我们让要判断其他情况，所以将此种情况放在大循环的第一个。\n",
    "    - arr\\[i] == 1,则i++\n",
    "    - 当i >= more停止遍历\n"
   ]
  },
  {
   "cell_type": "code",
   "execution_count": 6,
   "metadata": {},
   "outputs": [
    {
     "name": "stdout",
     "output_type": "stream",
     "text": [
      "(2, 5)\n"
     ]
    },
    {
     "data": {
      "text/plain": [
       "[0, 0, 1, 1, 1, 1, 2, 2]"
      ]
     },
     "execution_count": 6,
     "metadata": {},
     "output_type": "execute_result"
    }
   ],
   "source": [
    "# 将会返回1所在的下标[a,b]\n",
    "def process1(arr):\n",
    "    less, i = 0, 0      # less指第一个1的index\n",
    "    more = len(arr)-1   # more指最后一个1的index\n",
    "    while i <= more:\n",
    "        while i <= more and arr[i] == 2:    # 这里用循环是因为当more与i位置交换之后，i位置的数仍没有被判定过\n",
    "            arr[more], arr[i] = arr[i], arr[more]\n",
    "            more -= 1\n",
    "        if arr[i] == 0:                     # 这里不采用循环是因为less一定在i之后，所以换过来的数字一定已经判定过了的\n",
    "            arr[i], arr[less] = arr[less], arr[i]\n",
    "            less += 1\n",
    "        i += 1\n",
    "    return (less, more)\n",
    "\n",
    "# ### 以下有个等价方案的荷兰国旗问题\n",
    "# def process2(arr):\n",
    "#     less = -1  # 等于0的最后一个位置\n",
    "#     more = len(arr) # 等于2的第一个位置\n",
    "#     i = 0\n",
    "#     while i < more:\n",
    "#         if arr[i] == 0:\n",
    "#             less += 1\n",
    "#             arr[i], arr[less] = arr[less], arr[i]\n",
    "#             i += 1\n",
    "#         elif arr[i] == 2:\n",
    "#             more -= 1\n",
    "#             arr[more], arr[i] = arr[i], arr[more]\n",
    "#         else:\n",
    "#             i += 1\n",
    "#     return (less+1, more-1)\n",
    "    \n",
    "    \n",
    "a = [0,1,1,1,2,0,2,1]\n",
    "print(process2(a))\n",
    "a"
   ]
  },
  {
   "cell_type": "code",
   "execution_count": null,
   "metadata": {},
   "outputs": [],
   "source": []
  }
 ],
 "metadata": {
  "interpreter": {
   "hash": "9afc2b4a137c1ef260a208b8b14dcafe0c511635e698b6a7b46f192005b0a3f6"
  },
  "kernelspec": {
   "display_name": "Python 3.8.6 64-bit",
   "language": "python",
   "name": "python3"
  },
  "language_info": {
   "codemirror_mode": {
    "name": "ipython",
    "version": 3
   },
   "file_extension": ".py",
   "mimetype": "text/x-python",
   "name": "python",
   "nbconvert_exporter": "python",
   "pygments_lexer": "ipython3",
   "version": "3.8.6"
  },
  "metadata": {
   "interpreter": {
    "hash": "9afc2b4a137c1ef260a208b8b14dcafe0c511635e698b6a7b46f192005b0a3f6"
   }
  },
  "orig_nbformat": 2
 },
 "nbformat": 4,
 "nbformat_minor": 2
}
