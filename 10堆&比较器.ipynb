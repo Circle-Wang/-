{
 "cells": [
  {
   "cell_type": "markdown",
   "metadata": {},
   "source": [
    "# 堆结构\n",
    "- 1)用数组想象的完全二叉树结构\n",
    "- 2)完全二叉树中如果每棵子树的最大值都在顶部就是大根堆\n",
    "- 3)完全二叉树中如果每棵子树的最小值都在顶部就是小根堆\n",
    "- 4)堆结构的heapInsert和heapify操作\n",
    "- 5)堆结构的增大和减小\n",
    "- 6)优先级队列结构，就是堆结构\n",
    "\n",
    "完全二叉树：要么是满的，要么是从左到右一次变满的,具体的，如果从数组中建立完全二叉树\\[1,....,n\\]，则如果的头节点的位置是i，则左节点是2*i+1，有节点是2*i+2，父节点是\\[i-1/2\\]向下取整。\n",
    "\n",
    "大根堆的建立:加入一个数当在数组最后位置，根据公式\\[i-1/2\\],找到父节点进行比较，如果自己比父节点大，那么与父节点换位置并且继续向上找父节点，直到自己比父节点小或者自己没有父节点为止。\n",
    "\n",
    "小根堆的建立:加入一个数当在数组最后位置，根据公式\\[i-1/2\\],找到父节点进行比较，如果自己比父节点小，那么与父节点换位置并且继续向上找父节点，直到自己比父节点大或者自己没有父节点为止。\n",
    "\n",
    "方法heapInsert（上浮）：在末尾加入元素，并检查是否满足堆条件，如果不满足则，往上看，找父节点的方法，互换位置。（必须保证在进行插入之前已经具备堆条件）\n",
    "\n",
    "方法heapify（下沉）：向下看，当堆结构中的只有0号位置被改变了，调用该方法使得其重新变为堆。以重建大根堆为例，具体操作：将最后堆的最后一个元素放到0号位置(0号位置被踢走了，用最后一个元素来填位置)，根据公式找到子节点，互换根节点与子结点中最大的一个的位置并继续向下找，直到根节点比俩子节点都要大为止（或者到了最底层）\n",
    "\n",
    "变量heapSize：表示你对这个数组只看前heapSize个元素，并把其制造成堆的结构\n",
    "\n",
    "\n",
    "堆排序：利用堆来排序，先将一个乱序数组排成大根堆结构，再将堆结构中0位置(最大值)取出放到数组最后(交换最后一个位置和0位置的数),然后heapSize-1，再使用方法heapify重新使得除最后一个数字外的数组形成大根堆。循环往复，最终heapSize=0时返回。\n",
    "\n"
   ]
  },
  {
   "cell_type": "markdown",
   "metadata": {},
   "source": [
    "## 大根堆"
   ]
  },
  {
   "cell_type": "code",
   "execution_count": 1,
   "metadata": {},
   "outputs": [
    {
     "data": {
      "text/plain": [
       "[32, 31, 4, 23, 14, 1, 0, 2, 11, 2, 3]"
      ]
     },
     "execution_count": 1,
     "metadata": {},
     "output_type": "execute_result"
    }
   ],
   "source": [
    "arr = [11,23,4,32,14,1,0,2,31,2,3]\n",
    "\n",
    "def heapBuild(arr, heapSize):\n",
    "    if len(arr) <= 1:\n",
    "        return arr \n",
    "    # for i in range(heapSize):   # 构建大根堆从头部开始调用heapInsert,O(N*logN)\n",
    "    #     heapInsert(arr, i)\n",
    "    for i in range(heapSize-1,-1,-1): # 构建大根堆从尾部开始调用heapify, O(N)\n",
    "       heapify(arr, i, heapSize)\n",
    "\n",
    "\n",
    "# 将大根堆中index位置的数插入进大根堆中，往上看\n",
    "def heapInsert(arr,index):\n",
    "    while index != 0:\n",
    "        father = (index-1)//2 # father节点\n",
    "        if arr[index] > arr[father]:\n",
    "            arr[index], arr[father] = arr[father], arr[index]\n",
    "            index = father\n",
    "        else:\n",
    "            break\n",
    "\n",
    "# 将大根堆中index位置向下查询，并采取交换使其变成大根堆，往下看\n",
    "def heapify(arr, index, heapSize):\n",
    "    while (index*2+1) < heapSize:\n",
    "        if arr[2*index+1] < arr[2*index+2] and ((2*index+2) < heapSize):\n",
    "            largest = 2*index + 2\n",
    "        else:\n",
    "            largest = 2*index + 1 # 先在子树中决出最大值的坐标\n",
    "        \n",
    "        if arr[largest] > arr[index] :  # 若子树中最大值比当前节点数值大，则互换位置\n",
    "            arr[index], arr[largest] = arr[largest], arr[index]\n",
    "            index = largest\n",
    "        else:\n",
    "            break\n",
    "          \n",
    "        \n",
    "heapBuild(arr, 11)\n",
    "arr"
   ]
  },
  {
   "cell_type": "markdown",
   "metadata": {},
   "source": [
    "### 大根堆结构来排序\n",
    "根据大根堆结构的性质，我们可以知道，数组最大值一定在0位置处，因此我们可以将大根堆0位置和数组最后一个位置交换(最大值就在末尾了)，然后采用heapify方法，在heapSize-1的情况下再构建大根堆(使得前heapSize-1再形成大根堆)，之后再将最大的元素放末尾(倒数第二)。直到heapSize=0为止"
   ]
  },
  {
   "cell_type": "code",
   "execution_count": 16,
   "metadata": {},
   "outputs": [
    {
     "data": {
      "text/plain": [
       "[31, 23, 14, 11, 2, 1, 0, 4, 2, 3, 32]"
      ]
     },
     "execution_count": 16,
     "metadata": {},
     "output_type": "execute_result"
    }
   ],
   "source": [
    "arr = [32, 31, 4, 23, 14, 1, 0, 2, 11, 2, 3]  # 已经是一个大根堆结构了\n",
    "heapSize = len(arr)\n",
    "# heapSize指的是整个堆的长度，并不是位置\n",
    "for heapSize in range(len(arr), 0, -1):\n",
    "    arr[0], arr[heapSize-1] = arr[heapSize-1], arr[0]\n",
    "    heapify(arr, 0, heapSize-1)\n",
    "arr"
   ]
  },
  {
   "cell_type": "markdown",
   "metadata": {},
   "source": [
    "## 小根堆"
   ]
  },
  {
   "cell_type": "code",
   "execution_count": 14,
   "metadata": {},
   "outputs": [
    {
     "data": {
      "text/plain": [
       "[0, 2, 1, 23, 2, 11, 4, 32, 31, 14, 3]"
      ]
     },
     "execution_count": 14,
     "metadata": {},
     "output_type": "execute_result"
    }
   ],
   "source": [
    "arr = [11,23,4,32,14,1,0,2,31,2,3]\n",
    "\n",
    "def heapBuild(arr, heapSize):\n",
    "    if len(arr) <= 1:\n",
    "        return arr \n",
    "    for i in range(heapSize-1,-1,-1):\n",
    "       heapify(arr,i,heapSize)\n",
    "\n",
    "\n",
    "#向上看\n",
    "def heapInsert(arr,index):\n",
    "    while index != 0:\n",
    "        father = (index-1)//2 # father节点\n",
    "        if arr[index] > arr[father]:\n",
    "            arr[index], arr[father] = arr[father], arr[index]\n",
    "            index = father\n",
    "        else:\n",
    "            break\n",
    "#向下看\n",
    "def heapify(arr,index,heapSize):\n",
    "    while (index*2+1) < heapSize:\n",
    "        least = index #储存最小的坐标\n",
    "        if arr[2*index+1] > arr[2*index+2] and ((2*index+2) < heapSize):\n",
    "            least = 2*index+2\n",
    "        else:\n",
    "            least = 2*index+1 #先在子树中决出最小值\n",
    "        \n",
    "        if arr[least] < arr[index] :\n",
    "            arr[index], arr[least] = arr[least], arr[index]\n",
    "            index = least\n",
    "        else:\n",
    "            break\n",
    "          \n",
    "heapBuild(arr,11)\n",
    "arr"
   ]
  },
  {
   "cell_type": "markdown",
   "metadata": {},
   "source": [
    "### 问题1\n",
    "已知一个数组，这个数字是几乎有序的(如果想排成完全有序则每个元素移动的距离不会超过K的位置)，现在采用一种方法对其进行排序。\n",
    "\n",
    "分析:\n",
    "- 将前K个数放进小根堆里，取出小根堆第一个位置的数放在数组0位置。\n",
    "- 再将第K+1个数放入小根堆，也就是1——K+1组成小根堆，取出小根堆第一个位置的数放在1位置\n",
    "- 依次到最后，不过需要注意最后的时候小根堆可能没有K个数了。\n",
    "\n",
    "python自带有堆结构：\n",
    "- heapq.heapify(heap):让列表具备堆的特征（初始化）\n",
    "- heapq.heappush(list,12):将12添加进堆结构中（需要保证list为一个堆）\n",
    "- heapq.heappop(heap):弹出堆中最小元素,并重构堆\n",
    "- 可以创建一个元组堆（value,key），也就是把带数字的元组类型推入堆中，并且我们可以通过识别key来更改value的值，并且仍然是堆。(具体应用见《11动态规划》)\n",
    "\n"
   ]
  },
  {
   "cell_type": "code",
   "execution_count": 2,
   "metadata": {},
   "outputs": [
    {
     "data": {
      "text/plain": [
       "[0, 1, 2, 2, 3, 4, 11, 14, 23, 31]"
      ]
     },
     "execution_count": 2,
     "metadata": {},
     "output_type": "execute_result"
    }
   ],
   "source": [
    "## 采用系统的构建堆的方法\n",
    "from heapq import * \n",
    "\n",
    "arr = [11,23,4,32,14,1,0,2,31,2,3]\n",
    "k = 6\n",
    "sorted_arr = []\n",
    "a = arr[0:k+1] \n",
    "heapify(a)      # 将前K+1构成小根堆\n",
    "sorted_arr.append(heappop(a))  # 提取堆中的最小值\n",
    "\n",
    "for i in range(k+1, len(arr)):\n",
    "    heappush(a, arr[i])\n",
    "    sorted_arr.append(heappop(a))\n",
    "for i in range(k-1):\n",
    "    sorted_arr.append(heappop(a))\n",
    "sorted_arr"
   ]
  },
  {
   "cell_type": "markdown",
   "metadata": {},
   "source": [
    "# 比较器\n",
    "在python3中我们需要用“from functools import cmp_to_key”来导入重载比较器，这样才可以在sorted函数中使用参数key=cmp_to_key(comp)。从而达到自定义比较的办法。\n",
    "\n",
    "自定义函数comp(o1,o2)规则：\n",
    "- 如果函数comp(o1,o2)返回-1,则表示o1在前面\n",
    "- 如果函数comp(o1,o2)返回1,则表示o2在前面\n",
    "- 如果函数comp(o1,o2)返回0,则表示o1和o2一样\n",
    "\n",
    "python没有重载比较器，但是可以使用“i ,j= sorted(\\[i,j\\])”来进行比较以及交换\n"
   ]
  },
  {
   "cell_type": "code",
   "execution_count": 8,
   "metadata": {},
   "outputs": [
    {
     "name": "stdout",
     "output_type": "stream",
     "text": [
      "1.58 4 王五\n",
      "1.68 1 李四\n",
      "1.78 1 张三\n",
      "1.81 2 周六\n",
      "1.81 1 周七\n"
     ]
    }
   ],
   "source": [
    "## 定义学生类\n",
    "class Student():\n",
    "    def __init__(self,height,name,classes):\n",
    "        self.height = height\n",
    "        self.name = name\n",
    "        self.classes = classes\n",
    "\n",
    "## 重载比较器(按照身高排序)\n",
    "from functools import cmp_to_key\n",
    "def myCom(student1, student2):\n",
    "    if student1.height < student2.height:\n",
    "        return -1       # 身高低的排前面\n",
    "    elif student1.height == student2.height:\n",
    "        return 0\n",
    "    elif student1.height > student2.height:\n",
    "        return 1\n",
    "\n",
    "# 实例化学生\n",
    "student1 = Student(1.78,\"张三\",1)\n",
    "student2 = Student(1.68,\"李四\",1)\n",
    "student3 = Student(1.58,\"王五\",4)\n",
    "student4 = Student(1.81,\"周六\",2)\n",
    "student5 = Student(1.81,\"周七\",1)\n",
    "classes =[student1, student2, student3, student4, student5]\n",
    "classes.sort(key = cmp_to_key(myCom))\n",
    "for i in classes:\n",
    "    print(i.height, i.classes, i.name) \n",
    "\n"
   ]
  },
  {
   "cell_type": "code",
   "execution_count": 12,
   "metadata": {},
   "outputs": [
    {
     "name": "stdout",
     "output_type": "stream",
     "text": [
      "1 1.68 李四\n",
      "1 1.78 张三\n",
      "1 1.81 周七\n",
      "2 1.81 周六\n",
      "4 1.58 王五\n"
     ]
    }
   ],
   "source": [
    "# 更简单的方式\n",
    "classes =[student1, student2, student3, student4, student5]\n",
    "# 先根据班级排序，再根据身高排序\n",
    "b = sorted(classes, key=lambda x: (x.classes, x.height))\n",
    "for i in b:\n",
    "    print(i.classes, i.height, i.name)"
   ]
  },
  {
   "cell_type": "code",
   "execution_count": null,
   "metadata": {},
   "outputs": [],
   "source": []
  }
 ],
 "metadata": {
  "interpreter": {
   "hash": "9afc2b4a137c1ef260a208b8b14dcafe0c511635e698b6a7b46f192005b0a3f6"
  },
  "kernelspec": {
   "display_name": "Python 3.8.6 64-bit",
   "language": "python",
   "name": "python3"
  },
  "language_info": {
   "codemirror_mode": {
    "name": "ipython",
    "version": 3
   },
   "file_extension": ".py",
   "mimetype": "text/x-python",
   "name": "python",
   "nbconvert_exporter": "python",
   "pygments_lexer": "ipython3",
   "version": "3.8.6"
  },
  "metadata": {
   "interpreter": {
    "hash": "9afc2b4a137c1ef260a208b8b14dcafe0c511635e698b6a7b46f192005b0a3f6"
   }
  },
  "orig_nbformat": 2
 },
 "nbformat": 4,
 "nbformat_minor": 2
}
