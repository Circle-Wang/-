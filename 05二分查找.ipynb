{
 "cells": [
  {
   "cell_type": "markdown",
   "metadata": {},
   "source": [
    "## 二分查找\n",
    "- 一般运用在有序容器中\n",
    "- 时间复杂度：O($log_2n$)\n",
    "### 运用：\n",
    "- 1.在有序数组中找数 \n",
    "- 2.在有序数组中找>=某个数的最左侧位置 \n",
    "- 3.在有序数组中找<=某个数的最右侧位置 \n",
    "- 4.找局部最小值\n",
    "### 边界条件总结：\n",
    "- 1、到底是left=mid+1（right=mid-1），还是left=mid（right=mid）？:\n",
    "    - 主要看mid的哪个数字是否已经完全丧失了最后答案的资格，比如在例题1中，只要进入了arr[mid] < number则意味着mid这个点已经完全失去了称为最后结果得那个index因此我们更新左右指针的时候是+-1的。又比如问题5中，如果进入arr[mid] != arr[mid+1]，但是mid这个点仍然可以能是我们最后的答案，所以right=mid。\n",
    "- 2、while 循环条件应该是left<=right还是left < right?\n",
    "    - 主要看更新指针的时候如果没有right = mid(或者left=mid)的情况那么就使用left<=righ，但凡又一个条件语句里有right = mid(或者left=mid)，我们都应该写成left < right来防止死循环。\n"
   ]
  },
  {
   "cell_type": "markdown",
   "metadata": {},
   "source": [
    "### 1.在有序数组中找数"
   ]
  },
  {
   "cell_type": "code",
   "execution_count": null,
   "metadata": {},
   "outputs": [],
   "source": [
    "def sort(alist, item):   # item是我们要查找的元素\n",
    "    mid = len(alist)//2   # 中间元素下标\n",
    "    low = 0               # 第一个列表元素下标\n",
    "    high = len(alist)-1     # 最后个列表元素下标\n",
    "    mid = low+(high-low)//2   # 中间元素下标\n",
    "    find = False\n",
    "    while low <= high:\n",
    "        if item > alist[mid]:\n",
    "            low = mid+1\n",
    "            mid = low+(high-low)//2   # 中点(下中点)位置,防止溢出写法\n",
    "        elif item < alist[mid]:\n",
    "            high = mid-1\n",
    "            mid = low+(high-low)//2\n",
    "        else:\n",
    "            find = True\n",
    "            break\n",
    "    return find\n",
    "\n",
    "\n",
    "## 例子\n",
    "alist=[1,2,3,4,5,6,7,49,122]\n",
    "sort(alist, 49)\n",
    "'''\n",
    "小技巧：\n",
    "1.N//2等价于N>>1\n",
    "2.N*2等价于N<<1\n",
    "3.N*2+1等价于(N<<1) | 1\n",
    "'''"
   ]
  },
  {
   "cell_type": "markdown",
   "metadata": {},
   "source": [
    "### 2.在有序数组中找>=某个数的最左侧位置\n",
    "如果这个数就是在数组中，将会返回这个数的第一次出现的位置"
   ]
  },
  {
   "cell_type": "code",
   "execution_count": null,
   "metadata": {},
   "outputs": [],
   "source": [
    "arr=[1,2,3,3,4,5,5,5,6,10,12,21,23]\n",
    "def findleft(arr, number):\n",
    "    L = 0\n",
    "    R = len(arr)-1\n",
    "    index = '无' # 如果没有被找到index就不会被更新\n",
    "    while L <= R:\n",
    "        mid = L +((R-L)>>1)\n",
    "        if arr[mid] >= number:\n",
    "            index = mid    # 记录满足的>=的数字的位置\n",
    "            R = mid-1\n",
    "        else:\n",
    "            L = mid+1\n",
    "    return index\n",
    "findleft(arr,2)\n"
   ]
  },
  {
   "cell_type": "markdown",
   "metadata": {},
   "source": [
    "### 3.在有序数组中找<=某个数的最右侧位置 \n",
    "如果这个数就是在数组中，将会返回这个数的最后一次出现的位置"
   ]
  },
  {
   "cell_type": "code",
   "execution_count": null,
   "metadata": {},
   "outputs": [],
   "source": [
    "arr=[1,2,3,3,4,5,5,5,6,10,12,21,23]\n",
    "def findright(arr, number):\n",
    "    L = 0\n",
    "    R = len(arr)-1\n",
    "    index = '无' # 如果没有被找到index就不会被更新\n",
    "    while L <= R:\n",
    "        mid = L + ((R-L)>>1)\n",
    "        if arr[mid] <= number:\n",
    "            index = mid # 记录满足的>=的数字的位置\n",
    "            L = mid+1\n",
    "        else:\n",
    "            R = mid-1\n",
    "    return index\n",
    "findright(arr, 5)"
   ]
  },
  {
   "cell_type": "markdown",
   "metadata": {},
   "source": [
    "### 4.找局部最小值\n",
    "局部最小的定义：\n",
    "- 1)第0位置的数小于第1位置的数，叫做局部最小\n",
    "- 2)第N位置的数小于第N-1位置的数，叫做局部最小\n",
    "- 3)i位置的数小于第i-1以及i+1的数，则i叫做局部最小\n",
    "\n",
    "问题：一个数组arr无序，且每个相邻元素不等，求一个局部最小点"
   ]
  },
  {
   "cell_type": "code",
   "execution_count": null,
   "metadata": {},
   "outputs": [],
   "source": [
    "import random\n",
    "arr = [56,34,25,56,78,24,14,18]\n",
    "def lessIndex(arr):\n",
    "    if arr == []:\n",
    "        return \"空数组\"\n",
    "    ## 先判断两个端点是否为局部最小点\n",
    "    if arr[0] < arr[1]:\n",
    "        return 0\n",
    "    if arr[len(arr)-1] < arr[len(arr)-2]:\n",
    "        return len(arr)-1\n",
    "    L = 1\n",
    "    R = len(arr)-2\n",
    "    while L <= R:\n",
    "        mid = L+((R-L)>>1)\n",
    "        if arr[mid] > arr[mid+1]: \n",
    "            L = mid+1   # 如果进入到该条件则意味着mid绝不可能是正确答案\n",
    "        elif arr[mid] > arr[mid-1]:\n",
    "            R = mid-1\n",
    "        else:\n",
    "            return mid\n",
    "    return L\n",
    "\n",
    "arr[lessIndex(arr)]"
   ]
  },
  {
   "cell_type": "markdown",
   "metadata": {},
   "source": [
    "## 问题1: [x的平方根](https://leetcode-cn.com/problems/sqrtx/)\n",
    "计算并返回 a 的平方根(向下取整/只找整数部分)，其中 a 是非负整数。\n",
    "\n",
    "分析：\n",
    "- 其实我们是想找使得f(x) = x^2 - a = 0的解 ，由于这是连续函数，因此采用二分法，先看区间\\[0, a]\n",
    "    - mid = (left + right)//2 如果 a//mid == mid 则说明mid就是我们所要找的数，否则根据大小来缩小left 和right\n",
    "    - 这道题难点在于边界条件，返回什么。"
   ]
  },
  {
   "cell_type": "code",
   "execution_count": null,
   "metadata": {},
   "outputs": [],
   "source": [
    "def process(a):\n",
    "    if a == 0 or a == 1:\n",
    "        return a\n",
    "    left = 0\n",
    "    right = a\n",
    "    while left <= right:\n",
    "        mid = left + (right-left)//2 # 当left和right很靠近的时候mid = left，因此循环里是判断过left的. \n",
    "        if mid * mid > a:\n",
    "            right = mid -1\n",
    "        elif mid * mid == a:\n",
    "            return mid\n",
    "        else:\n",
    "            left = mid + 1\n",
    "    return left-1   # 当搜索到正确答案的时候一定会进入mid*mid<0 的这个条件，因此退出的时候left一定是>right,并且是被加1了的\n",
    "process(8)\n",
    "    "
   ]
  },
  {
   "cell_type": "code",
   "execution_count": 4,
   "metadata": {},
   "outputs": [
    {
     "data": {
      "text/plain": [
       "27"
      ]
     },
     "execution_count": 4,
     "metadata": {},
     "output_type": "execute_result"
    }
   ],
   "source": [
    "3**3"
   ]
  },
  {
   "cell_type": "markdown",
   "metadata": {},
   "source": [
    "## 问题2: [在排序数组中查找元素的第一个和最后一个位置](https://leetcode-cn.com/problems/find-first-and-last-position-of-element-in-sorted-array/)\n",
    "给定一个增序的整数数组和一个值，查找该值第一次和最后一次出现的位置。例：nums = \\[5,7,7,8,8,10], target = 8,则返回\\[3,4], 若不存在则返回-1.\n",
    "\n",
    "分析：\n",
    "- 我们这个问题可以分解为找到target第一次出现在区间的位置，找到target最后一次出现在区间的位置，因此可以写两个二分函数来进行\n",
    "- 最重要的还是边界处理。\n",
    "- 初始化的时候left 和 right都标记为index的位置，然后根据闭区间来做。"
   ]
  },
  {
   "cell_type": "code",
   "execution_count": null,
   "metadata": {},
   "outputs": [],
   "source": [
    "def fristIndex(arr, target):\n",
    "    left = 0\n",
    "    right = len(arr)-1\n",
    "    index = None\n",
    "    while left <= right :\n",
    "        mid = left + (right-left)//2\n",
    "        if arr[mid] >= target :      # 说明第一次出现在[left, mid-1]\n",
    "            index = mid\n",
    "            right = mid - 1\n",
    "        else:                       # 说明第一次出现在[mid+1, right]\n",
    "            left = mid + 1\n",
    "    # 出循环的时候一定是left > right，但有可能是没有找到target，所以我们需要做出判断\n",
    "    if index==None or arr[index] != target:\n",
    "        return -1\n",
    "    else:\n",
    "        return index\n",
    "\n",
    "def lastIndex(arr, target):\n",
    "    left = 0\n",
    "    right = len(arr)-1\n",
    "    index = None\n",
    "    while left <= right :\n",
    "        mid = left + (right - left)//2\n",
    "        if arr[mid] <= target :      # 说明最后一次出现在[mid+1, right]\n",
    "            index = mid\n",
    "            left = mid + 1\n",
    "        else:                       # 说明最后一次出现在[left, mid-1]\n",
    "            right = mid - 1\n",
    "    if index==None or arr[index] != target:\n",
    "        return -1\n",
    "    else:\n",
    "        return index\n",
    "\n",
    "def getFirst_LastIndex(arr, target):\n",
    "    if len(arr) == 0:\n",
    "        return [-1, -1]\n",
    "    if fristIndex(arr, target) == -1:\n",
    "        return [-1, -1]\n",
    "    return [fristIndex(arr, target), lastIndex(arr, target)]\n",
    "\n",
    "arr = [0,1,1,1,1,20,20,31]\n",
    "getFirst_LastIndex(arr, -1)"
   ]
  },
  {
   "cell_type": "markdown",
   "metadata": {},
   "source": [
    "## 问题3: [搜索旋转排序数组 II](https://leetcode-cn.com/problems/search-in-rotated-sorted-array-ii/)\n",
    "一个原本增序的数组被首尾相连后按某个位置断开(如\\[1,2,2,3,4,5] → \\[2,3,4,5,1,2]，在第一位和第二位断开)，我们称其为旋转数组。给定一个值，判断这个值是否存在于这个为旋转数组中。\n",
    "\n",
    "分析：\n",
    "- 依然可以使用二分法，只不过在判断中点和target的时候，需要判断中点和左右端点的大小，如果arr\\[mid] > arr\\[left]，说明\\[left,mid]是排好序的，如果arr\\[mid] < arr\\[left]说明\\[mid, right] 是排好序的。我们的target落在排好序的区间则正常二分即可,如果不满足条件，我们就在另一个仍然是旋转数组中继续寻找。\n",
    "- 所以我们是先判断能否确定排好序的区间，再看target是否在区间内.\n",
    "- while的条件是left <= right, 当left和right相等的时候还要判断一下。边界条件就看在循环之中手否每一步都有判断到\n"
   ]
  },
  {
   "cell_type": "code",
   "execution_count": null,
   "metadata": {},
   "outputs": [],
   "source": [
    "def process(arr, target):\n",
    "    left = 0\n",
    "    right = len(arr) -1\n",
    "    while left <= right:    \n",
    "        mid = left + (right-left)//2\n",
    "        if arr[mid] == target:\n",
    "            return True\n",
    "            \n",
    "        if arr[mid] > arr[left]:    # 说明左边是排好序的[left, mid]\n",
    "            if target >= arr[left] and target <= arr[mid]:\n",
    "                right = mid - 1\n",
    "            else:       # target不在排好序的区间里\n",
    "                left = mid + 1\n",
    "        elif arr[mid] == arr[left]: # 无法判断左右两边谁是排好序的\n",
    "            left += 1\n",
    "        elif arr[mid] < arr[left]:  # 说明右边是排好序的[mid,right]\n",
    "            if target >= arr[mid] and target <= arr[right]:\n",
    "                left = mid + 1\n",
    "            else:\n",
    "                right = mid - 1\n",
    "    return False\n",
    "nums =[1,0,1,1,1]\n",
    "target = 0\n",
    "process(nums, target)\n"
   ]
  },
  {
   "cell_type": "markdown",
   "metadata": {},
   "source": [
    "## 问题4: [寻找旋转排序数组中的最小值 II](https://leetcode-cn.com/problems/find-minimum-in-rotated-sorted-array-ii/)\n",
    "已知一个长度为n的数组，预先按照升序排列，经由1到n次旋转后，得到输入数组。(每次旋转只是把最后一个位置的数字放到第首位置，称为旋转一次)，例如\n",
    "\\[0,1,4,4,5,6,7] ——> \\[7,0,1,4,4,5,6](旋转1次)，请你找出并返回输入数组中的最小元素\n",
    "\n",
    "分析：\n",
    "- 我们可以使用二分来找到没有排好序的部分(类似上一题)，说明一定是这个数最小(但是如果是相等却也不一定,直到能等到left >= right的时候返回left)\n",
    "- 比较arr\\[left]和arr\\[mid]是不行的,会出现错过的现象，具体参看讨论区第一帖。\n",
    "    - 比较arr[left] 和arr[mid]只能确定那一边是有序的，并不能确定另一边是无序的，换句话说当arr[mid] > arr[left]时，只能说明[left, mid]时有序的，但不能说明[mid, right]是无序的，而本题我们需要的是确定那边是无序的才行。"
   ]
  },
  {
   "cell_type": "code",
   "execution_count": null,
   "metadata": {},
   "outputs": [],
   "source": [
    "def process(arr):\n",
    "    left = 0\n",
    "    right = len(arr) - 1\n",
    "    while left < right:\n",
    "        mid = left + (right-left)//2\n",
    "        if arr[mid] > arr[right]:  # 说明[mid, right]是没有排好序的\n",
    "            print(1)\n",
    "            left = mid + 1\n",
    "        elif arr[mid] == arr[right]:\n",
    "            print(2)\n",
    "            right -= 1\n",
    "        elif arr[mid] < arr[right]: # 说明[left, mid]是没有排好序的\n",
    "            print(3)\n",
    "            right = mid  # 这里没有right = mid-1,是因为我们仍需要的对mid的数字进行验证。\n",
    "    \n",
    "    return arr[left]\n",
    "\n",
    "arr = [3,1,1]\n",
    "process(arr)\n"
   ]
  },
  {
   "cell_type": "markdown",
   "metadata": {},
   "source": [
    "## 问题5: [有序数组中的单一元素](https://leetcode-cn.com/problems/single-element-in-a-sorted-array/)\n",
    "给定一个只包含整数的有序数组，每个元素都会出现两次，唯有一个数只会出现一次，找出这个数。例如：\\[1,1,2,3,3,4,4,8,8]，返回2\n",
    "\n",
    "分析：\n",
    "- 这题可以采用^(异或)来做，因为N^N=0, 0^N=N，因此可以这个来求得单独出现的字符，不过这个时间复杂度是O(N).\n",
    "- 由于这题给出了数组数有序的，因此采用二分法可以使得时间复杂度在O(logN).\n",
    "    - left = 0, right = len(arr)-1, 如果arr\\[mid] == arr\\[mid+1],说明单个数字一定在\\[mid+2, right]区间里;若arr\\[mid] != arr\\[mid+1]，则说明单个数字一定在\\[left, mid]中.不过我们必须保证mid为偶数，如果mid不为偶数则需要把mid-1.(为的是保证mid指向一定是成对数字的第一个数字)\n",
    "- 知识点：当我们在循环的时候mid一般是left+right向下取整，所以当left和right靠得很近的时候left = mid。因此在缩小区间的条件里，如果出现left = mid的时候意为着此时区间不会被减小，陷入死循环，因此这种情况下，我们应当把mid=(left+right+1)//2(上取整)\n"
   ]
  },
  {
   "cell_type": "code",
   "execution_count": null,
   "metadata": {},
   "outputs": [],
   "source": [
    "def process(arr):\n",
    "    left = 0\n",
    "    right = len(arr) - 1\n",
    "    while left < right:\n",
    "        mid = left + (right - left)//2\n",
    "        mid = (mid//2) * 2              # 保证是偶数\n",
    "        if arr[mid] == arr[mid+1]:\n",
    "            left = mid + 2\n",
    "        else:\n",
    "            right = mid\n",
    "    return arr[left]\n",
    "\n",
    "arr = [1,1,2,3,3,4,4,8,8]\n",
    "process(arr)"
   ]
  },
  {
   "cell_type": "markdown",
   "metadata": {},
   "source": [
    "## 问题6: [寻找两个正序数组的中位数](https://leetcode-cn.com/problems/median-of-two-sorted-arrays/)\n",
    "给定两个大小分别为m和n的正序(从小到大)数组nums1和nums2。请你找出并返回这两个正序数组合并之后数组的中位数。例如：nums1 = \\[1,2], nums2 = \\[3,4]，合并之后为\\[1,2,3,4] ，则中位数为(2+3)/2=2.5。要求时间复杂度在O(log(m+n))\n",
    "\n",
    "方法一分析：\n",
    "- 由于找中位数，其实就是想要找到两个数组中第K小(最小的数称为第1小的数)的数(如果m+n为奇数则K=(m+n+1)//2, 如果m+n为偶数则要求找到第K=(m+n)//2和第K+1小的数的平均数),因此我们可以构造一个辅助函数，用来找两个有序数组中第K小的数(process)。\n",
    "- 如何找两个有序数组(arr1,arr2)中的第K小的数：\n",
    "    - 比较arr1\\[K//2-1] 和 arr2\\[K//2-1]的大小(这里使用K//2-1，是第K//2小的数)，如果arr1\\[K//2-1]更大，说明在组合数组之后第K小的数一定不可能出现在arr2数组的前K//2个数里面。因此我们可以排除K//2个数，即在arr1和arr2\\[K//2:]这两个新数组里找第(K-K//2)大的数。（虽然第K小的数也不会在arr1的后K//2数中，但是不能说排除K//2个数字）\n",
    "    - 递归的终止条件: 如果K = 1，我们只需要比较两个传入数组的第一个位置的最小值即可；如果传入的中有一个是空数组，我们直接返回另一个数组的arr\\[K-1]即可\n",
    "    - 我们需要注意的是在判断arr1\\[K//2-1] 和 arr2\\[K//2-1]的大小时候，可能会出现下标溢出，这个时候我们需要把下标溢出数组的midValue设置为无穷大(即一定会舍弃掉另一个数组的前K//2个数，因为此时第K小的数一定不会出现在长数组的前K//2个数里)\n",
    "    - 写代码时候Vv，Cc，这些字母使用的时候注意大小写。\n",
    "    - 设置无穷大可是float('+-inf')\n",
    "- 可以有稍微小的时间复杂度优化，前面提到如果arr1\\[K//2-1]更大，说明在组合数组之后第K小的数一定不可能出现在arr2数组的前K//2个数里面，也一定不在arr1的后K//2中，但是我们在排除之后我们仍然需要找的是新数组的第K-K//2大的数。（因为你排除比大的并不能使得我们目标数字往前移动）\n"
   ]
  },
  {
   "cell_type": "code",
   "execution_count": null,
   "metadata": {},
   "outputs": [],
   "source": [
    "def process(arr1, arr2, K):\n",
    "    # 如果传入数组存在空集\n",
    "    if arr1 == []:\n",
    "        return arr2[K-1]\n",
    "    elif arr2 == []:\n",
    "        return arr1[K-1]\n",
    "\n",
    "    # K = 1\n",
    "    if K==1:\n",
    "        return min(arr1[0], arr2[0])\n",
    "    \n",
    "    # 为了处理下标溢出的情况,设置无穷大，一定会舍弃掉没有溢出下标的数组的前K//2个\n",
    "    midValue1 = float('inf') if len(arr1) <= K//2-1 else arr1[K//2-1]\n",
    "    midValue2 = float('inf') if len(arr2) <= K//2-1 else arr2[K//2-1]\n",
    "    if midValue1 >= midValue2:\n",
    "        return process(arr1, arr2[K//2:], K-K//2)\n",
    "        # return process(arr1[:K//2+1], arr2[K//2:], K-K//2)  优化后的公式\n",
    "    else:\n",
    "        return process(arr1[K//2:], arr2, K-K//2)\n",
    "        # return process(arr1[K//2:], arr2[:K//2+1], K-K//2) 优化后的公式\n",
    "\n",
    "def main(arr1, arr2):\n",
    "    n = len(arr1)\n",
    "    m = len(arr2)\n",
    "    if (n+m)%2 == 1:\n",
    "        return process(arr1, arr2, (n+m+1)//2)\n",
    "    else:\n",
    "        return (process(arr1, arr2, (n+m)//2) + process(arr1, arr2, (n+m)//2+1))/2\n",
    "\n",
    "nums1 =[1,3]\n",
    "nums2 = [2]\n",
    "main(nums1, nums2)\n"
   ]
  },
  {
   "cell_type": "code",
   "execution_count": null,
   "metadata": {},
   "outputs": [],
   "source": []
  }
 ],
 "metadata": {
  "interpreter": {
   "hash": "9afc2b4a137c1ef260a208b8b14dcafe0c511635e698b6a7b46f192005b0a3f6"
  },
  "kernelspec": {
   "display_name": "Python 3.8.6 64-bit",
   "language": "python",
   "name": "python3"
  },
  "language_info": {
   "codemirror_mode": {
    "name": "ipython",
    "version": 3
   },
   "file_extension": ".py",
   "mimetype": "text/x-python",
   "name": "python",
   "nbconvert_exporter": "python",
   "pygments_lexer": "ipython3",
   "version": "3.8.6"
  },
  "metadata": {
   "interpreter": {
    "hash": "9afc2b4a137c1ef260a208b8b14dcafe0c511635e698b6a7b46f192005b0a3f6"
   }
  },
  "orig_nbformat": 2
 },
 "nbformat": 4,
 "nbformat_minor": 2
}
