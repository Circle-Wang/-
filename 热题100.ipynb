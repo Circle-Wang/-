{
 "cells": [
  {
   "cell_type": "markdown",
   "metadata": {},
   "source": [
    "## 问题1：[最长连续序列](https://leetcode.cn/problems/longest-consecutive-sequence/description/)\n",
    "### 题目\n",
    "给定一个未排序的整数数组nums, 找出数字连续的最长序列(不要求序列元素在原数组中连续)的长度。\n",
    "\n",
    "请你设计并实现时间复杂度为 O(n) 的算法解决此问题。\n",
    "\n",
    "### 分析\n",
    "- 由于需要时间复杂度为n的算法, 所以我们不能排序. 为解决序列问题需要, 明确每一个数时候能对最终的答案有贡献, 使用哈希表来记录每一个数字所在的连续序列长度。比如，如果存在2,3,4的连续序列, 则哈希表中2,3,4对应的值即为3(表示这些值所在连续序列的长度)\n",
    "- 遍历nums, 当出现i时, 判断i是否已经被使用过了(已经在哈希表中), 如果是则跳过。如果不是则需要加入到hash表中。\n",
    "    - 对于新加入的值我们需要考察是否该值会使得某两个区间合并，比如已经存在[1，3]区间和[5,6]区间，如果加入4，则可以将连续区间扩大为[1，6]\n",
    "    - 因此我们只需要考察哈希表中3，5的值，将hash(3) + hash(5) + 1 即为合并后的长度\n",
    "    - 注意: 我们此时需要更新区间[1,6]中每一个对应的hash值吗？其实不用我们发现我们只用更新端点的值即可(只用更新1,6对应的值), 因为2，3，4，5这些值在下一次碰见时是没有任何作用的"
   ]
  },
  {
   "cell_type": "code",
   "execution_count": 11,
   "metadata": {},
   "outputs": [
    {
     "name": "stdout",
     "output_type": "stream",
     "text": [
      "{100: 1}\n",
      "{100: 1, 4: 1}\n",
      "{100: 1, 4: 1, 200: 1}\n",
      "{100: 1, 4: 1, 200: 1, 1: 1}\n",
      "{100: 1, 4: 2, 200: 1, 1: 1, 3: 2}\n",
      "{100: 1, 4: 4, 200: 1, 1: 4, 3: 2, 2: 4}\n"
     ]
    },
    {
     "data": {
      "text/plain": [
       "4"
      ]
     },
     "execution_count": 11,
     "metadata": {},
     "output_type": "execute_result"
    }
   ],
   "source": [
    "def process(nums):\n",
    "    hash_dict = {}\n",
    "    ans = 0\n",
    "    for i in nums:\n",
    "        if i not in hash_dict:\n",
    "            left_inter = hash_dict.get(i-1, 0)\n",
    "            right_inter = hash_dict.get(i+1, 0)\n",
    "            current_inter = left_inter + right_inter + 1\n",
    "            # 更新最大值\n",
    "            ans = max(ans, current_inter)\n",
    "            # 更新端点值\n",
    "            hash_dict[i] = current_inter\n",
    "            hash_dict[i - left_inter] = current_inter\n",
    "            hash_dict[i + right_inter] = current_inter\n",
    "            print(hash_dict)\n",
    "    return ans\n",
    "\n",
    "nums = [100,4,200,1,3,2]\n",
    "process(nums)"
   ]
  },
  {
   "cell_type": "markdown",
   "metadata": {},
   "source": [
    "## 问题2：[字母异位词分组](https://leetcode.cn/problems/group-anagrams/description/)\n",
    "### 题目\n",
    "给你一个字符串数组，请你将 字母异位词 组合在一起。可以按任意顺序返回结果列表。\n",
    "\n",
    "字母异位词: 是由重新排列源单词的所有字母得到的一个新单词。\n",
    "### 分析\n",
    "- 使用一种特殊的哈希方法, 将每个元素映射成为一个则26位的字符串: ord(字母)-97表示位置, 如果出现了1次则对应位置上+1, 最后返回一个字符串，表示这个单词的特征, 最后可以使用tuple([1,2,3])的方式实现作为键."
   ]
  },
  {
   "cell_type": "code",
   "execution_count": null,
   "metadata": {},
   "outputs": [],
   "source": [
    "from collections import defaultdict\n",
    "\n",
    "def hash_word(word):\n",
    "    ans = [0] * 26\n",
    "    for i in word:\n",
    "        ans[ord(i)-97] += 1\n",
    "    return str(ans)\n",
    "\n",
    "def process(strs):\n",
    "    hash_map = defaultdict(list)\n",
    "    for word in strs:\n",
    "        hash_map[hash_word(word)].append(word)\n",
    "    \n",
    "    return [value for _, value in hash_map.items()]\n",
    "\n",
    "strs = [\"bdddddddddd\",\"bbbbbbbbbbc\"]\n",
    "process(strs)\n",
    "hash_word(\"bdddddddddd\")"
   ]
  }
 ],
 "metadata": {
  "kernelspec": {
   "display_name": "Python 3",
   "language": "python",
   "name": "python3"
  },
  "language_info": {
   "codemirror_mode": {
    "name": "ipython",
    "version": 3
   },
   "file_extension": ".py",
   "mimetype": "text/x-python",
   "name": "python",
   "nbconvert_exporter": "python",
   "pygments_lexer": "ipython3",
   "version": "3.12.4"
  }
 },
 "nbformat": 4,
 "nbformat_minor": 2
}
