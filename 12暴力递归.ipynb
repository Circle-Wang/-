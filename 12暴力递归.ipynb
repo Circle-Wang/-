{
 "cells": [
  {
   "cell_type": "markdown",
   "metadata": {},
   "source": [
    "# 暴力递归\n",
    "- 1、把问题转化为缩小了的同类问题的子问题\n",
    "- 2、有明确的不需要继续进行递归的条件(base case)\n",
    "- 3、当得到子问题的结果之后，在进行决策\n",
    "- 4、不记录每一个子问题的解"
   ]
  },
  {
   "cell_type": "markdown",
   "metadata": {},
   "source": [
    "## 问题1\n",
    "汉诺塔问题:将最左侧的杆上的圆环放到，最右侧的杆上，且在转移过程中必须遵循小圆环必须在大圆环上方。\n",
    "\n",
    "分析：\n",
    "将n个圆盘从左(from)->右(target)的大步骤：\n",
    "- 考虑将前1~n-1个圆盘从左->中(middle)\n",
    "- 将第n个圆盘从左->右\n",
    "- 将前1~n-1个圆盘从中->右\n",
    "    - 考虑将前1~n-2个圆盘从中->左\n",
    "    - 将第n-1个圆盘从中->右\n",
    "    - 将前1~n-2个圆盘从左->右\n",
    "        - 。。。。\n",
    "        - 。。。。\n",
    "- base case：将第1个圆盘从xx->xx\n",
    "- 我们可以发现到每次转移的过程from->target都是变量，所以递归函数中需要告知from,middle,target\n"
   ]
  },
  {
   "cell_type": "code",
   "execution_count": null,
   "metadata": {},
   "outputs": [],
   "source": [
    "def process(N, start, target, middle):\n",
    "    if N == 1:\n",
    "        print(\"将\",N,\"号圆盘\",\"从\",start,\"移动到\",target)\n",
    "        return\n",
    "    process(N-1, start, middle, target)\n",
    "    print(\"将\",N,\"号圆盘\",\"从\",start,\"移动到\",target)\n",
    "    process(N-1, middle, target, start)\n",
    "process(4,\"左\",\"右\",\"中\")\n"
   ]
  },
  {
   "cell_type": "markdown",
   "metadata": {},
   "source": [
    "## 问题2\n",
    "给定一个栈，逆序这个栈，且不能产生新的变量栈，使用递归函数.(我们使用列表来模拟栈)\n"
   ]
  },
  {
   "cell_type": "code",
   "execution_count": null,
   "metadata": {},
   "outputs": [],
   "source": [
    "stack = [3,2,1,4,5,2]\n",
    "\n",
    "# 这个函数实现了将这个栈的第一个元素取出来，并把其他元素按顺序压进去\n",
    "def process(stack):\n",
    "    a = stack.pop()\n",
    "    if stack != []:\n",
    "        r = process(stack)\n",
    "        stack.append(a)\n",
    "        return r\n",
    "    else:\n",
    "        return a\n",
    "\n",
    "def reverse(stack):\n",
    "    if stack == []:\n",
    "        return \n",
    "    else:\n",
    "        a = process(stack) #此时获取了栈最底层的数,并且使得栈更新了\n",
    "        reverse(stack)  #递归，只有当栈变成空了才能被返回\n",
    "        stack.append(a)     #将最后获得的那个数压进去\n",
    "\n",
    "reverse(stack)\n",
    "stack"
   ]
  },
  {
   "cell_type": "markdown",
   "metadata": {},
   "source": [
    "## 问题3\n",
    "打印一个字符串的所有子序列(例abcd,注意这里和子串的差别:字串指的是连续按顺序截取bc，子序列是按照相对顺序截取cd)。\n",
    "\n",
    "分析：根据每一个位置的字符分出两条岔,要or不要，形成一个二叉树，最后返回最后一层的组合\n",
    "\n",
    "收获：如果递归里面是两条路径，则不用使用分支条件语句，直接两个递归相连接就好了。"
   ]
  },
  {
   "cell_type": "code",
   "execution_count": null,
   "metadata": {},
   "outputs": [],
   "source": [
    "str = \"bfs\"\n",
    "substr = \"\"\n",
    "all = []\n",
    "\n",
    "## N用来记录位置,substr指字串,all用来保存所有子串的列表\n",
    "def process(str,N,substr,all):\n",
    "    if N == len(str):\n",
    "        all.append(substr)\n",
    "        return \n",
    "    else:\n",
    "        # 如果这个字母选择要\n",
    "        yes = substr + str[N]\n",
    "        process(str, N+1, yes, all)\n",
    "\n",
    "        #如果这个字母选择不要\n",
    "        process(str, N+1, substr, all)\n",
    "\n",
    "process(str,0,substr,all)"
   ]
  },
  {
   "cell_type": "markdown",
   "metadata": {},
   "source": [
    "## 问题4\n",
    "打印一个字符串的全部排列\n",
    "#### 方法一\n",
    "利用一个集合来储存使用过的位置，遍历循环整个字符串，并用substr来记录所有排列的组合形式，最后加入all列表中"
   ]
  },
  {
   "cell_type": "code",
   "execution_count": null,
   "metadata": {},
   "outputs": [],
   "source": [
    "used = set() #用来储存用过的字符串的位置\n",
    "str = \"bfa\"\n",
    "substr = \"\"\n",
    "all = []\n",
    "def process(str, used, substr, all):\n",
    "    if len(substr) == len(str):\n",
    "        all.append(substr)\n",
    "        return\n",
    "    else:\n",
    "        for i in range(len(str)):\n",
    "            if i not in used:\n",
    "                used.add(i)\n",
    "                process(str, used, substr+str[i], all)\n",
    "                used.remove(i)\n",
    "process(str, used, substr, all)\n",
    "all"
   ]
  },
  {
   "cell_type": "markdown",
   "metadata": {},
   "source": [
    "#### 方法二\n",
    "通过对一个数组的每个位置的交换，从而实现全排列，第i个位置及其以后的数都可以来到i的位置\n",
    "- 0位置可以是原来的0位置(交换)\n",
    "    - 1位置可以是1位置的数(交换)\n",
    "        - 2位置的数可以是2位置的数(交换)\n",
    "        - ...\n",
    "    - 1位置可以是2位置的数(交换)\n",
    "    - ...\n",
    "    - 1位置可以是N位置的数(交换)\n",
    "- 0位置可以是原来的1位置的数(交换)\n",
    "- ....\n",
    "- 0位置可以是原来的N位置的数(交换)\n",
    "\n",
    "这里注意到，每次递归之后仍然需要恢复现场才行，也就是要交换回来。"
   ]
  },
  {
   "cell_type": "code",
   "execution_count": null,
   "metadata": {},
   "outputs": [],
   "source": [
    "str = \"bfb\"\n",
    "arr = list(str)\n",
    "all = []\n",
    "def process(arr,N):\n",
    "    if N == len(arr):\n",
    "        all.append(\"\".join(arr))\n",
    "        return\n",
    "    for i in range(N, len(arr)):\n",
    "        arr[N], arr[i] = arr[i], arr[N]\n",
    "        process(arr, N+1)\n",
    "        arr[N], arr[i] = arr[i], arr[N]\n",
    "\n",
    "process(arr,0)\n",
    "all"
   ]
  },
  {
   "cell_type": "markdown",
   "metadata": {},
   "source": [
    "## 问题5\n",
    "打印一个字符串的全部排列，要求不出现重复的排列(这里重复是指由于字符串中存在多个相同的字母，从而导致出来的substr可能是有重复的)。当然可以在前一题的基础上把结果上进行去重。\n",
    "\n",
    "分支限界：利用一个集合记录该位置的数，另一种情况发生递归时，可以将其杀死。(例如我已经跑过第一个位置是a的递归了，那个当下一次出现同一位置a进行递归时，将其分支杀死,在源头杀死)"
   ]
  },
  {
   "cell_type": "code",
   "execution_count": 2,
   "metadata": {},
   "outputs": [
    {
     "name": "stdout",
     "output_type": "stream",
     "text": [
      "{'f'}\n",
      "{'b'}\n",
      "{'b'}\n",
      "set()\n",
      "{'f'}\n",
      "{'f'}\n",
      "{'f'}\n",
      "set()\n"
     ]
    },
    {
     "data": {
      "text/plain": [
       "['bfb', 'bbf', 'fbb']"
      ]
     },
     "execution_count": 2,
     "metadata": {},
     "output_type": "execute_result"
    }
   ],
   "source": [
    "str = \"bfb\"\n",
    "arr = list(str)\n",
    "used = set(str)\n",
    "all = []\n",
    "def process(arr,N):\n",
    "    if N == len(arr):\n",
    "        all.append(\"\".join(arr))\n",
    "        return\n",
    "    used = set(str) #这里需要重新得到used\n",
    "    for i in range(N,len(arr)):\n",
    "        if arr[i] in used :\n",
    "            used.remove(arr[i])\n",
    "            arr[N], arr[i] = arr[i], arr[N]\n",
    "            process(arr,N+1)\n",
    "            arr[N], arr[i] = arr[i], arr[N]\n",
    "        \n",
    "process(arr,0)\n",
    "all"
   ]
  },
  {
   "cell_type": "markdown",
   "metadata": {},
   "source": [
    "## 问题6(从左往右模型)\n",
    "规定1与A对应，2与B对应，3与C对应...那么一个数字字符串比如“111”可以转化为“AAA”、“KA”、“AK”。问给定一个数字字符串，有多少种转化方法\n",
    "\n",
    "分析：\n",
    "- 递归函数中传递参数(只要不是指针之类的)，再被返回时仍然时递归前的模样\n",
    "- 在这题中可以对不同情况进行限定，如果进行到第N个字符，如果字符是1-2则可能有两种情况，如果字符是3-9，则只有一种情况"
   ]
  },
  {
   "cell_type": "code",
   "execution_count": null,
   "metadata": {},
   "outputs": [],
   "source": [
    "arr = \"9211234126\"\n",
    "all = []\n",
    "substr = \"\"\n",
    "def process(arr, N, all, substr):\n",
    "    if N == len(arr):\n",
    "        all.append(substr)\n",
    "        return 1\n",
    "\n",
    "    if arr[N] == \"0\":   #如果数字是0也没办法转化\n",
    "        return 0\n",
    "    \n",
    "    if arr[N] == \"1\":\n",
    "        substr1 = substr + chr(int(arr[N:N+1])+64)   #收集转化得到的字符\n",
    "        count = process(arr, N+1,  all, substr1)\n",
    "        if N+2 <= len(arr): # 保证接下来一定是2个数，否则arr[N:N+2]可能会得到一个数\n",
    "            substr2 = substr + chr(int(arr[N:N+2])+64)\n",
    "            count = count + process(arr, N+2,  all, substr2)\n",
    "    elif arr[N] == \"2\":\n",
    "        substr1 = substr + chr(int(arr[N:N+1])+64)   #收集转化得到的字符\n",
    "        count = process(arr, N+1,  all, substr1)\n",
    "        if N+2 <= len(arr) and int(arr[N:N+2]) <= 26: # 保证接下来一定是可以合理的书\n",
    "            substr2 = substr + chr(int(arr[N:N+2])+64)\n",
    "            count = count + process(arr, N+2,  all, substr2)\n",
    "    else:                                   #剩下的情况就是3-9了\n",
    "        substr1 = substr + chr(int(arr[N:N+1])+64)\n",
    "        count = process(arr, N+1,  all, substr1)\n",
    "    return count\n",
    "\n",
    "print(process(arr,0,all,substr))\n",
    "all"
   ]
  },
  {
   "cell_type": "markdown",
   "metadata": {},
   "source": [
    "## 问题7(从左往右模型-背包问题)\n",
    "有两个长度均为N的数组,每个位置分别代表该件产品weight和value。现在你有一个背包，可容纳重量为bag，请问在不超过容纳重量的前提下，装下货物的最大价值为多少?\n",
    "\n",
    "分析：\n",
    "- 剩余空间不要小于0\n",
    "- 可以选择要或者不要这件商品，剩下的进行递归\n",
    "- 递归函数中有的参数，指的是由上文给到下文的信息。而递归函数返回的参数是指后文给到前文的信息\n",
    "- 这里的process返给上一层的信息是：“我这层可以给你增加的最大重量是xxx”"
   ]
  },
  {
   "cell_type": "code",
   "execution_count": null,
   "metadata": {},
   "outputs": [],
   "source": [
    "weights = [20, 5, 8, 4, 11]\n",
    "values = [17, 8, 14, 45, 12]\n",
    "bag = 40\n",
    "maxValue = 0 \n",
    "# rest指剩余的重量\n",
    "def process(weights, N, rest):\n",
    "    if N == len(weights):\n",
    "        return 0\n",
    "    if rest < 0 :\n",
    "        return 0\n",
    "\n",
    "    ## 有货物有空间，当前货物要\n",
    "    if rest >= weights[N]:\n",
    "        maxValue1 = values[N] + process(weights, N+1, rest-weights[N])\n",
    "    else:\n",
    "        maxValue1 = 0 #如果当前重量超过了剩余，则不能我不能加入我当前的重量\n",
    "    \n",
    "    ## 当前货物不要\n",
    "    maxValue2 = process(weights, N+1, rest) \n",
    "    return max(maxValue1, maxValue2)\n",
    "    \n",
    "process(weights, 0, bag)\n"
   ]
  },
  {
   "cell_type": "markdown",
   "metadata": {},
   "source": [
    "## 问题8 (范围上尝试模型)\n",
    "给定一个整型数组arr，代表数值不同的纸牌排成一条线，玩家A和玩家B每次拿走一张纸牌，规定玩家A先拿，玩家B后拿，但是每个玩家每次只能拿走最左边或者最右边的纸牌，玩家A和玩家B都绝顶聪明。请返回最后获胜者的分数\n",
    "\n",
    "分析：\n",
    "- 我们需要两个得分函数，一个是先手得分f,指如果你是先手能拿到的最大分数。一个是后手得分函数s，指如果你是后手能拿到的最大分数。\n",
    "- 先手能拿到的最大分数应该是max(拿最左边+后手得分函数，拿最右边+后手得分函数)\n",
    "- 后手能拿到的最大分数应该是min(下一次先手，下一次右先手)，这里min是指后手得分是对手决定的，对手一定会让你拿到下一轮的最低分。"
   ]
  },
  {
   "cell_type": "code",
   "execution_count": 15,
   "metadata": {},
   "outputs": [
    {
     "name": "stdout",
     "output_type": "stream",
     "text": [
      "29\n",
      "19\n"
     ]
    }
   ],
   "source": [
    "arr = [20, 5, 8, 4, 11]\n",
    "def first(L, R):\n",
    "    # 如果只剩一张牌\n",
    "    if L == R:\n",
    "        return arr[L]\n",
    "    score1 = arr[L] + second(L+1, R)\n",
    "    score2 = arr[R] + second(L, R-1)\n",
    "    return max(score1, score2)\n",
    "\n",
    "def second(L, R):\n",
    "    if L == R:\n",
    "        return 0    #这里注意到\n",
    "    score1 = first(L+1, R)\n",
    "    score2 = first(L, R-1)\n",
    "    return min(score1, score2) #这里取min是指\n",
    "\n",
    "print(first(0, len(arr)-1))\n",
    "print(second(0, len(arr)-1))"
   ]
  },
  {
   "cell_type": "markdown",
   "metadata": {},
   "source": [
    "## 问题9 N皇后问题\n",
    "在N*N的棋盘上要摆放N个皇后，要求任何两个皇后不同行、不同列，也(2个)不再一条斜线上。问n皇后的摆法有多少种？(皇后是一样的，但是位置不同算一种))\n",
    "\n",
    "分析：\n",
    "- 由于要在N*N中摆放N个皇后因此，每一行必须也只能有1个皇后\n",
    "- 可以从第一行开始\"试\",如果第一个皇后摆第一个位置,那么第二个皇后有几种可能？并且每种可能会导致第三行皇后有几种可能？知道出现第i行的皇后有0种可能的时候,回退到第i-1行试下一种可能。直到第一行的皇后都试完了\n",
    "- 采用数组记录每一行的皇后的坐标(其实只需要记录\"列\")\n",
    "- 共斜线的判定法则是|X1-X2|==|Y1-Y2|是否成立(横纵坐标差的绝对值是否相等。)\n",
    "- 注意：将一个列表加入一个列表中的的时候要注意深浅复制"
   ]
  },
  {
   "cell_type": "code",
   "execution_count": 1,
   "metadata": {},
   "outputs": [
    {
     "data": {
      "text/plain": [
       "[[0, 2, 4, 1, 3],\n",
       " [0, 3, 1, 4, 2],\n",
       " [1, 3, 0, 2, 4],\n",
       " [1, 4, 2, 0, 3],\n",
       " [2, 0, 3, 1, 4],\n",
       " [2, 4, 1, 3, 0],\n",
       " [3, 0, 2, 4, 1],\n",
       " [3, 1, 4, 2, 0],\n",
       " [4, 1, 3, 0, 2],\n",
       " [4, 2, 0, 3, 1]]"
      ]
     },
     "execution_count": 1,
     "metadata": {},
     "output_type": "execute_result"
    }
   ],
   "source": [
    "N = 5\n",
    "arr = [-1]*N\n",
    "all = []\n",
    "#判断皇后摆放是否合适\n",
    "def isValid(arr, N, j):\n",
    "    #搜索前N个皇后的位置，一旦出现共斜线或者共列就返回False\n",
    "    for i in range(0, N):\n",
    "        if arr[i] == j or abs(i-N) == abs(arr[i]-j):\n",
    "            return False\n",
    "    return True\n",
    "\n",
    "\n",
    "def process(arr, N):\n",
    "    if N == len(arr):\n",
    "        all.append(arr.copy())\n",
    "        return 1\n",
    "\n",
    "    res = 0\n",
    "    #尝试所有列\n",
    "    for j in range(0, len(arr)):\n",
    "        if isValid(arr, N, j):\n",
    "            arr[N] = j\n",
    "            res = res + process(arr, N+1)\n",
    "    return res\n",
    "\n",
    "process(arr, 0)\n",
    "all"
   ]
  },
  {
   "cell_type": "code",
   "execution_count": null,
   "metadata": {},
   "outputs": [],
   "source": []
  }
 ],
 "metadata": {
  "interpreter": {
   "hash": "9afc2b4a137c1ef260a208b8b14dcafe0c511635e698b6a7b46f192005b0a3f6"
  },
  "kernelspec": {
   "display_name": "Python 3.8.6 64-bit",
   "name": "python3"
  },
  "language_info": {
   "codemirror_mode": {
    "name": "ipython",
    "version": 3
   },
   "file_extension": ".py",
   "mimetype": "text/x-python",
   "name": "python",
   "nbconvert_exporter": "python",
   "pygments_lexer": "ipython3",
   "version": "3.8.6"
  },
  "metadata": {
   "interpreter": {
    "hash": "9afc2b4a137c1ef260a208b8b14dcafe0c511635e698b6a7b46f192005b0a3f6"
   }
  },
  "orig_nbformat": 2
 },
 "nbformat": 4,
 "nbformat_minor": 2
}
