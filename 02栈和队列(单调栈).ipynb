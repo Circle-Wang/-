{
 "cells": [
  {
   "cell_type": "markdown",
   "metadata": {},
   "source": [
    "## 栈\n",
    "- 特性：先进后出，后进先出\n",
    "- Stack()创建一个空的新栈\n",
    "- push(item)将一个新项添加进栈的顶部\n",
    "- pop()从栈中删除顶部项，栈会被修改\n",
    "- peek()从栈返回顶部，不会修改栈\n",
    "- isEmpty()测试栈是否为空，返回布尔值\n",
    "- size()返回栈中item的数量"
   ]
  },
  {
   "cell_type": "code",
   "execution_count": 1,
   "metadata": {},
   "outputs": [],
   "source": [
    "class Stack():\n",
    "    def __init__(self):\n",
    "        self.items=[]\n",
    "    def push(self,item):\n",
    "        self.items.append(item)\n",
    "    def pop(self):\n",
    "        return self.items.pop()  # 返回从数组尾部抽取最后一个元素，并更改数组\n",
    "    def peek(self):\n",
    "        return self.items[-1]\n",
    "    def isEmpty(self):\n",
    "        return self.items == []\n",
    "    def size(self):\n",
    "        return len(self.items)"
   ]
  },
  {
   "cell_type": "markdown",
   "metadata": {},
   "source": [
    "- 应用：每个web浏览器都有一个返回按钮，你查看过的网页会以栈的形式存放，模拟回退"
   ]
  },
  {
   "cell_type": "code",
   "execution_count": 2,
   "metadata": {},
   "outputs": [
    {
     "name": "stdout",
     "output_type": "stream",
     "text": [
      "www.2.com\n"
     ]
    }
   ],
   "source": [
    "s = Stack()\n",
    "def get_request(url):\n",
    "    s.push(url)\n",
    "def showCurrentPage():\n",
    "    s.pop()\n",
    "def back():\n",
    "    print(s.pop())\n",
    "\n",
    "get_request('www.1.com')\n",
    "get_request('www.2.com')\n",
    "get_request('www.3.com')\n",
    "#显示当前页面\n",
    "showCurrentPage()\n",
    "\n",
    "#返回之前页面\n",
    "back()\n"
   ]
  },
  {
   "cell_type": "markdown",
   "metadata": {},
   "source": [
    "## 队列\n",
    "- 特性：先进先出，后进后出\n",
    "- Queue():创建一个空的队列\n",
    "- enqueue(item):将新项添加到队列尾部\n",
    "- dequeue():从队列首删除，队列会被修改\n",
    "- isEmpty():查看队列是否为空\n",
    "- size():返回队列中的项个数"
   ]
  },
  {
   "cell_type": "code",
   "execution_count": 3,
   "metadata": {},
   "outputs": [],
   "source": [
    "class Queue():\n",
    "    def __init__(self):\n",
    "        self.items=[]\n",
    "    def enqueue(self, item):\n",
    "        self.items.insert(0, item)\n",
    "    def dequeue(self):\n",
    "        return self.items.pop()\n",
    "    def isEmpty(self):\n",
    "        return self.items==[]\n",
    "    def size(self):\n",
    "        return len(self.items)"
   ]
  },
  {
   "cell_type": "markdown",
   "metadata": {},
   "source": [
    "- 应用：烫手的山芋\n",
    "- 游戏介绍：六个人围成圈，自定义排列顺序，第一个人手里有个山芋，需要在计时器1秒后将山芋传递给下一个孩子，以此类推，规则是在计时器每七秒时，手里有山芋的孩子退出游戏。该游戏直到剩下一个孩子时候获胜。请使用队列实现该游戏策略，排在第几个位置会最终获胜（第0秒山芋在裁判里,第一秒的时候在第一个孩子手里，第二秒的时候传递了第一次，到了第二个孩子手里）\n",
    "- 准则：队头孩子的手里永远要有山芋"
   ]
  },
  {
   "cell_type": "code",
   "execution_count": 4,
   "metadata": {},
   "outputs": [
    {
     "name": "stdout",
     "output_type": "stream",
     "text": [
      "获胜者为: E\n"
     ]
    }
   ],
   "source": [
    "queue_men = Queue()\n",
    "men=['A','B','C','D','E','F']\n",
    "#将人写入队列\n",
    "for i in men:\n",
    "    queue_men.enqueue(i)\n",
    "while queue_men.size() > 1:\n",
    "    #7s山芋会被传递6次\n",
    "    for i in range(6):\n",
    "        item = queue_men.dequeue()  #出队列\n",
    "        queue_men.enqueue(item)     #入队列\n",
    "    queue_men.dequeue()#踢除队列头部的那个人\n",
    "print('获胜者为:',queue_men.dequeue())"
   ]
  },
  {
   "cell_type": "markdown",
   "metadata": {},
   "source": [
    "## 双端队列\n",
    "- 与普通队列相比可以在双端进行数据的插入和删除，提供了单数据结构中栈和队列的特性\n",
    "- Deque()创建一个新的deque。不需要参数，返回deque\n",
    "- addFront(item)将一个新项添加到deque的首部\n",
    "- addRear(item)将一个新项目添加到deque的尾部\n",
    "- removeFront()从deque中删除首项，deque被修改\n",
    "- removeRear()从deque中删除尾项，deque被修改\n",
    "- isEmpty()测试deque是否为空，返回布尔值\n",
    "- size()返回deque中项数。"
   ]
  },
  {
   "cell_type": "code",
   "execution_count": 5,
   "metadata": {},
   "outputs": [],
   "source": [
    "class Deque():\n",
    "    def __init__(self):\n",
    "        self.items=[]\n",
    "    def isEmpty(self):\n",
    "        return self.items==[]\n",
    "    def size(self):\n",
    "        return len(self.items)\n",
    "    def addFront(self,item):    # 右端作为前端\n",
    "        self.items.append(item) \n",
    "    def addRear(self,item):\n",
    "        self.items.insert(0,item)\n",
    "    def removeFront(self):\n",
    "        return self.items.pop()  # 从最右端\n",
    "    def removeRear(self):\n",
    "        return self.items.pop(0) # 从最左端\n"
   ]
  },
  {
   "cell_type": "markdown",
   "metadata": {},
   "source": [
    "- 应用：回文检查\n",
    "- 回文是一个字符串，读取首尾相同的字符：例如radar\n",
    "- 将字符串放进双端队列，每次从双端队列中取出头和尾，进行比较，如果不相等退出返回Fasle，相等就返回True."
   ]
  },
  {
   "cell_type": "code",
   "execution_count": 6,
   "metadata": {},
   "outputs": [],
   "source": [
    "def isHuiWen(s):\n",
    "    ex = True\n",
    "    q = Deque()\n",
    "    #把str放入双端队列中\n",
    "    for i in s:\n",
    "        q.addFront(i)\n",
    "    for i in range(len(s)//2):\n",
    "        front = q.removeFront()\n",
    "        rear = q.removeRea\n",
    "        if front != rear:\n",
    "            ex = False\n",
    "            break\n",
    "    return ex"
   ]
  },
  {
   "cell_type": "markdown",
   "metadata": {},
   "source": [
    "## 问题1：[最大和查询](https://leetcode.cn/problems/maximum-sum-queries/description/)\n",
    "### 题目\n",
    "给你两个整数数组 nums1 和 nums2 ，一个二维数组 queries ，其中 queries[i] = [xi, yi] 。\n",
    "对于第 i 个查询，找到所有满足 nums1[j] >= xi 且 nums2[j] >= yi 的下标 j (0 <= j < n) ，并给出最大 nums1[j] + nums2[j] 的 最大值 ，如果不存在满足条件的 j 则返回 -1 。\n",
    "\n",
    "返回数组 answer ，其中 answer[i] 是第 i 个查询的答案。\n",
    "\n",
    "### 分析\n",
    "- 当我们根据一维进行num1进行降序之后, 再对目标查询遍历时只用遍历一次nums1即可(因为遍历过的并且有价值的都已经被放到单调栈中了)。\n",
    "- 有两个问题需要明确：1、单调栈中需要按照什么规则进行存储元素？2、该如何根据这个规则来更新单调栈？\n",
    "    - 问题1: 我们使用单调栈储存是因为有一些num1+num2的值是比较大, 但可能因为num2比较小, 导致那些num1+num2比较大但都不能满足基础题目要求。因此我们需要存储num1+num2可能比较小,但num2比较大的，因此我们的规则是，根据num1+num2降序，且num2升序排列(第一个优先级是num1+num2降序)\n",
    "    - 问题2: 由于规则明确了, 因此在更新栈时，第一步：判断栈尾部的元素num1+num2是否小于即将插入的值, 如果小于则抛出栈尾元素(这些都有没有价值了, 因为我们存在一个num1+num2更大的, 且num2也更大的)，循环上述步骤，直到栈尾部元素num1+num2>=即将插入的元素。(不可能出现待插入的num1+num2大于栈尾元素，且num2还小于栈尾num2, 因为我们是根据num1降序排列的，所以待插入的num1都一定<=栈中现存的)。第二步: 完成第一步之后, 栈尾部的num1+num2一定是>=即将插入的元素的，此时再判断待插入元素的num2是否大于栈尾部的num2, 若大于则插入，若不大于则不插入完成迭代。\n",
    "- 最后单调栈中元素为: (num2, num1+num2), num1+num2的数值单调下降, 再根据num2单调上升。单调栈栈尾的item一定是num2最大的,但num1+num2是最小的, 只有这样的item才有价值"
   ]
  },
  {
   "cell_type": "code",
   "execution_count": 7,
   "metadata": {},
   "outputs": [
    {
     "data": {
      "text/plain": [
       "[6, 10, 7]"
      ]
     },
     "execution_count": 7,
     "metadata": {},
     "output_type": "execute_result"
    }
   ],
   "source": [
    "from bisect import bisect_left\n",
    "\n",
    "def process(nums1, nums2, queries):\n",
    "    # 将数据queries按照第一个x进行降序\n",
    "    sorted_nums = sorted([(nums1[i], nums2[i]) for i in range(len(nums1))], key=lambda x: -x[0])\n",
    "    sorted_queries = sorted([(queries[i][0], queries[i][1], i) for i in range(len(queries))], key=lambda x: -x[0])\n",
    "    answer = [-1 for _ in queries]\n",
    "    j = 0              # 遍历sorted_nums的指针\n",
    "    sorted_stack = []  # 单调栈, 元素为(num2, num1+num2), 根据num1+num2的数值单调下降, 即栈尾的num1+num2是最小的。再根据num2单调上升\n",
    "\n",
    "    for x, y, index in sorted_queries:\n",
    "        # j没有被更新, 因为之前的sorted_nums都不用再查询了\n",
    "        while j < len(sorted_nums) and sorted_nums[j][0] >= x: \n",
    "            num1, num2 = sorted_nums[j]   # num1是满足>=x的\n",
    "            j += 1  # 可以验证下一个了sorted_nums\n",
    "\n",
    "            ## 更新单调栈(完成以下更新，一定能满足单调栈符合规则)\n",
    "            ## 如果当前的num1+num2比栈尾的更大, 则抛出栈尾的(这些item将不具有价值, 因为存在一个num1+num2>=你,且num2>=你的数)\n",
    "            while sorted_stack != [] and sorted_stack[-1][1] <= num1+num2:\n",
    "                sorted_stack.pop()\n",
    "            ## 如果num2大于了栈尾部的num2, 则将当前的(num2, num1+num2)压入栈内, 此时栈中的num1+num2是>num1+num2的\n",
    "            if sorted_stack == [] or num2 > sorted_stack[-1][0]:\n",
    "                sorted_stack.append((num2, num1+num2))\n",
    "\n",
    "        # 此时sorted_stack中存放的都是符合num1>x的(num2, num1+num2)的item, 并且单调栈按num1+num2降序, num2升序排列\n",
    "        k = bisect_left(sorted_stack, (y, 0))  # 使用二分法找到大于num2的最左边位置(即最大的num1+num2)\n",
    "\n",
    "        if k != len(sorted_stack): # 如果(y, 0)没被放在末尾, 则说明存在num2>=y\n",
    "            answer[index] = sorted_stack[k][1]\n",
    "    \n",
    "    return answer\n",
    "\n",
    "nums1 = [4,3,1,2]\n",
    "nums2 = [2,4,9,5]\n",
    "queries = [[4,1],[1,3],[2,5]]\n",
    "\n",
    "process(nums1, nums2, queries)"
   ]
  },
  {
   "cell_type": "markdown",
   "metadata": {},
   "source": [
    "# 单调栈\n",
    "单调栈的数据结构特点:\n",
    "- 记录的数据会加在最上面, 丢掉的数据也从最上面开始(后进先出的特点)\n",
    "- 由于记录t[i]之前, 会将<=t[i]的栈顶元素抛弃掉, 因此整个栈符合某一种单调规律(单调性)\n",
    "\n",
    "如果满足上述特点, 即我们可以用单调栈的数据结构进行记录. 模板代码如下:\n",
    "```python\n",
    "...\n",
    "sequence = []\n",
    "st = [] # 单调栈\n",
    "for num in sequence:\n",
    "    while st != [] and st[-1] <= num:  # 如果栈顶不为空, 且栈顶元素满足某种弹出条件(此例为num>栈顶元素)\n",
    "        st.pop()   # 弹出栈顶元素(这个元素以后不用再用到了)\n",
    "    \n",
    "    if st != []: # 如果栈顶存在元素\n",
    "        ...      # 逻辑代码\n",
    "\n",
    "    st.append(num)  # 将这个元素放入栈顶\n",
    "    ...\n",
    "```\n",
    "\n",
    "- 单调栈精髓: 及时去掉无用数据, 保证栈中数据有序"
   ]
  },
  {
   "cell_type": "markdown",
   "metadata": {},
   "source": [
    "## 问题2：[(单调栈)下一个更大元素 I](https://leetcode.cn/problems/next-greater-element-i/)\n",
    "### 题目\n",
    "给你两个 没有重复元素 的数组 nums1 和 nums2，其中nums1是nums2的子集(nums1 < nums2)。对于每个nums1中的元素num，我们首先需要再nums2中找到j，使得num == nums2[j], 之后要在nums2中确定nums2[j]的下一个更大元素。如果不存在下一个更大元素，那么本次查询的答案是-1。\n",
    "\n",
    "### 分析\n",
    "- 典型的查找下一个更大元素的问题，可以使用单调栈来解决。\n",
    "- 我们首先遍历nums2，得到nums2的每个元素的下一个更大元素, 我们使用过一个哈希表了储存(方便num1查询), 键为nums2[i], 值为nums2[i]的下一个更大元素。\n",
    "- 根据单调栈模板, 当栈顶元素小于当前元素时(栈顶元素时没用的), 因此弹出。若栈顶不为空(说明存在下一个更大元素), 则记录哈希表(nums2[i]: 栈顶元素)，否则记录(nums2[i]: -1)表示当前元素不存在下一个最大元素。最后都需要将当前元素压入栈中\n"
   ]
  },
  {
   "cell_type": "code",
   "execution_count": null,
   "metadata": {},
   "outputs": [],
   "source": [
    "def process(nums1, nums2):\n",
    "    next_better = dict()     # 存储nums2中每个元素右边第一个比它大的元素\n",
    "    st = []  # 单调栈\n",
    "    for num in nums2[::-1]:  # 需要倒序遍历\n",
    "        while st and st[-1] <= num:    # 栈顶元素比num小，出栈\n",
    "            st.pop()\n",
    "        # 判断栈顶元素是否为空\n",
    "        if st:                         # 栈不为空\n",
    "            next_better[num] = st[-1]  \n",
    "        else:                          # 栈为空\n",
    "            next_better[num] = -1\n",
    "        st.append(num)  # 栈顶元素入栈\n",
    "\n",
    "    res = []   # 查询结果\n",
    "    for num in nums1:\n",
    "        res.append(next_better[num])\n",
    "    return res"
   ]
  },
  {
   "cell_type": "markdown",
   "metadata": {},
   "source": [
    "## 问题2：[(单调栈)下一个更大元素 II](https://leetcode.cn/problems/next-greater-element-ii/)\n",
    "### 题目\n",
    "给定一个循环数组 nums (nums[nums.length - 1] 的下一个元素是 nums[0])，返回 nums 中每个元素的 下一个更大元素 。\n",
    "\n",
    "数字 x 的 下一个更大的元素 是按数组遍历顺序，这个数字之后的第一个比它更大的数，这意味着你应该循环地搜索它的下一个更大的数。如果不存在，则输出 -1 。\n",
    "\n",
    "### 分析\n",
    "- 与前一题类似，我们使用单调栈(栈顶元素小于栈底元素, 由下至上单调递减), 由于我们要循环因此我们可以循环两次遍历，第一次遍历结束的结果不要清空，第二次从后往前遍历时即可对第一次为-1的那些值更新了.\n"
   ]
  },
  {
   "cell_type": "code",
   "execution_count": 15,
   "metadata": {},
   "outputs": [
    {
     "data": {
      "text/plain": [
       "[2, 3, 4, -1, 4]"
      ]
     },
     "execution_count": 15,
     "metadata": {},
     "output_type": "execute_result"
    }
   ],
   "source": [
    "def process(nums):\n",
    "    st = []  # 单调栈\n",
    "    ans = []\n",
    "    for num in nums[::-1]:  # 依然是倒序遍历\n",
    "        while st != [] and num >= st[-1]:  # 如果当前元素比栈顶元素大则抛出栈顶元素\n",
    "            st.pop()\n",
    "\n",
    "        if st != []:\n",
    "            ans.append(st[-1])\n",
    "        else:\n",
    "            ans.append(-1)\n",
    "        st.append(num) # 放入栈顶\n",
    "    # 第二次遍历\n",
    "    for index, num in enumerate(nums[::-1]):\n",
    "        while st != [] and num >= st[-1]:\n",
    "            st.pop()\n",
    "        if st != []:\n",
    "            ans[index] = st[-1]\n",
    "        else:\n",
    "           ans[index] = -1\n",
    "        st.append(num) # 放入栈顶\n",
    "\n",
    "    return ans[::-1]\n",
    "\n",
    "nums = [1,2,3,4,3]\n",
    "process(nums)"
   ]
  },
  {
   "cell_type": "code",
   "execution_count": null,
   "metadata": {},
   "outputs": [],
   "source": []
  },
  {
   "cell_type": "markdown",
   "metadata": {},
   "source": [
    "## 问题2：[(单调栈)子数组的最小值之和](https://leetcode.cn/problems/sum-of-subarray-minimums/)\n",
    "### 题目\n",
    "给定一个整数数组 arr, arr 中的每个（连续）子数组, 将每个连续数组中的最小值求和，返回求和结果。由于答案可能很大，因此 返回答案模 10^9 + 7\n",
    "\n",
    "### 分析\n",
    "- 直接使用暴力求解(先求出每个子数组，再求和)的时间复杂度为$O(n^2)$, 我们分析可以知道, 每一个元素i其实都有一个辐射范围, 在辐射范围中所有包含i的子数组的最小值其实都是i。\n",
    "- 假设元素E的下标为index，那么子数组的左边界应该在(left,i]中选取，子数组的右边界应该在[i,right)中选取。因此我们可以得到E ∗ (index−left)∗(right−index)为元素E的“贡献值”, 因此我们只需要求出所有元素的贡献值求和即可。其中left为元素E左边第一个小于E的下标, rigt为元素E右边第一个小于E的下标\n",
    "- 如何求解一个元素E的左右辐射范围呢？其实就是在求元素E左边的下一个最小值的下标为left，元素E右边的下一个最小值下标为right。单调栈问题：求数组中当前元素x左边第一个小于x的元素以及右边第一个小于x的元素。\n",
    "- 单调栈解法: \n",
    "    - 从左向右遍历数组，并维护一个单调递增的栈，遍历当前元素 arr[i]，如果遇到当前栈顶的元素大于等于arr[i]则将栈顶元素弹出，直到栈顶的元素小于 arr[i]，此时栈顶的元素即为左边第一个小于 arr[i] 的元素。\n",
    "    - 从右向左遍历数组，维护一个单调递增的栈，遍历当前元素 arr[i]，如果遇到当前栈顶的元素大于arr[i]则将其弹出，直到栈顶的元素小于等于 arr[i]，栈顶的元素即为右边第一个小于等于 arr[i]的元素。\n",
    "- 注意为了保证子数组的不重不漏: **向左找第一个小于等于E的元素, 向右找第一个小于E的元素**\n"
   ]
  },
  {
   "cell_type": "code",
   "execution_count": 8,
   "metadata": {},
   "outputs": [
    {
     "data": {
      "text/plain": [
       "22"
      ]
     },
     "execution_count": 8,
     "metadata": {},
     "output_type": "execute_result"
    }
   ],
   "source": [
    "def process(arr):\n",
    "    n = len(arr)\n",
    "    left_arr = []\n",
    "    right_arr = []\n",
    "\n",
    "    monoStack = []  # 元素是(index, num)\n",
    "    for index, num in enumerate(arr):\n",
    "        while monoStack != [] and monoStack[-1][1] > num:  # 向左找第一个小于等于E的元素\n",
    "            monoStack.pop()\n",
    "\n",
    "        ## 此时栈顶元素 =< num\n",
    "        left_arr.append(monoStack[-1][0] if monoStack != [] else -1)  # 如果单调栈非空则记录下栈顶元素下标，如果为空意味着影响范围可以到最左边\n",
    "        monoStack.append((index, num))\n",
    "    \n",
    "    monoStack = []\n",
    "    for index in range(n-1, -1, -1):\n",
    "        num = arr[index]\n",
    "        while monoStack != [] and monoStack[-1][1] >= num:   # 向右找第一个小于E的元素\n",
    "            monoStack.pop()\n",
    "\n",
    "        ## 此时栈顶元素 < num\n",
    "        right_arr.insert(0, monoStack[-1][0] if monoStack != [] else n)  # 如果为空意味着影响范围可以到最右边位置\n",
    "        monoStack.append((index, num))\n",
    "\n",
    "    ans = 0\n",
    "    for index, num in enumerate(arr):\n",
    "        ans += num * (index - left_arr[index]) * (right_arr[index] - index)\n",
    "\n",
    "    return ans\n",
    "\n",
    "process([3,1,2,4,1])\n"
   ]
  },
  {
   "cell_type": "markdown",
   "metadata": {},
   "source": [
    "## 问题3：[好子数组的最大分数](https://leetcode.cn/problems/maximum-score-of-a-good-subarray/)\n",
    "### 题目\n",
    "给你一个整数数组 nums （下标从 0 开始）和一个整数 k 。请找出一个子数组(i, j)的最大分数，且要求i <= k <= j。\n",
    "- 分数定义为:min(nums[i], nums[i+1], ..., nums[j]) * (j - i + 1)。\n",
    "\n",
    "请你返回最大可能分数 。\n",
    "\n",
    "### 分析\n",
    "- 采用两个辅助数组left_next_min[i], right_next_min[i], 这可以使用单调栈实现。\n",
    "    - left_next_min[i]：表示i左边小于nums[i]的最近下标\n",
    "    - right_next_min[i]：表示i右边小于nums[i]的最近下标。\n",
    "- 对于任意位置i, 我可以找到一个区间[left+1, right-1]使得nums[i]是这个区间的最小值，这个区间的长度为right-1-(left+1)+1，乘以nums[i]的值就是最大分数。就是当前i可以拿到的最大分数 \n",
    "- 将每一个位置的最大分数取最大值即可。"
   ]
  },
  {
   "cell_type": "code",
   "execution_count": 9,
   "metadata": {},
   "outputs": [
    {
     "name": "stdout",
     "output_type": "stream",
     "text": [
      "[-1, 0, 0, 2, 2, 4] [6, 2, 6, 4, 6, 6]\n"
     ]
    },
    {
     "data": {
      "text/plain": [
       "15"
      ]
     },
     "execution_count": 9,
     "metadata": {},
     "output_type": "execute_result"
    }
   ],
   "source": [
    "\n",
    "def process(nums, k):\n",
    "    n = len(nums)\n",
    "    left_next_min = [-1] * n   # 左边小于nums[i]的最近下标\n",
    "    right_next_min = [n] * n   # 右边小于nums[i]的最近下标, 默认为n\n",
    "\n",
    "    monoStack = []  # 单调栈(栈顶元素大于下面)\n",
    "    # 从左往右遍历得到left_next_min, 如果左边没有小于自身值的元素, 则为-1\n",
    "    for index, num in enumerate(nums):\n",
    "        while monoStack != [] and num <= nums[monoStack[-1]]:  # 当前数值小于等于栈顶结构\n",
    "            monoStack.pop()  # 比num大的数据都可以抛弃了\n",
    "        \n",
    "        if monoStack != []:  # 若栈顶还有元素, 则说明当前index位置的左边小于num的最小下标就是栈顶元素的下标\n",
    "            left_next_min[index] = monoStack[-1]\n",
    "        \n",
    "        monoStack.append(index)  # 把num下标加入到单调栈中\n",
    "    \n",
    "    monoStack.clear()\n",
    "    # 从右往左遍历得到right_next_min, 如果右边没有小于自身值的元素, 则为n\n",
    "    for index in range(n - 1, -1, -1):\n",
    "        while monoStack != [] and nums[index] <= nums[monoStack[-1]]:\n",
    "            monoStack.pop()\n",
    "        \n",
    "        if monoStack != []:    # 若栈顶还有元素, 则说明当前index位置的右边小于num的最小下标就是栈顶元素的下标\n",
    "            right_next_min[index] = monoStack[-1]\n",
    "        \n",
    "        monoStack.append(index)\n",
    "    print(left_next_min, right_next_min)\n",
    "    # 完成left_next_min和right_next_min的构建后, 我们可以计算最后的最大值了\n",
    "    ans = 0\n",
    "    for num, left, right in zip(nums, left_next_min, right_next_min):\n",
    "        if (left+1) <= k <= (right-1):  # 因为right和left的位置是严格小于num的, 而我们需要的是大于num的长度\n",
    "            ans = max(ans, num * (right - left -1))   # 区间长度为right-1-(left+1)+1\n",
    "    \n",
    "    return ans\n",
    "        \n",
    "nums = [1,4,3,7,4,5]\n",
    "k = 3\n",
    "process(nums, k)"
   ]
  },
  {
   "cell_type": "markdown",
   "metadata": {},
   "source": [
    "# 每日一题\n"
   ]
  },
  {
   "cell_type": "markdown",
   "metadata": {},
   "source": [
    "## 问题4：[元素和最小的山形三元组 I](https://leetcode.cn/problems/minimum-sum-of-mountain-triplets-i/description/)\n",
    "### 题目\n",
    "给你一个数组nums。请给出**元素和**最小的山形三元组，并返回其元素和, 如果不存在这样的三元组，则返回 -1。\n",
    "\n",
    "山形三元组(i, j, k)定义如下:\n",
    "- i < j < k (不一定相邻)\n",
    "- nums[i] < nums[j] < nums[k]\n",
    "\n",
    "### 分析\n",
    "- 这种三元组的题目，通常是枚举中间的数。枚举nums[j], 我们需要求出j左边所有元素的最小值和右边所有元素的最小值。\n",
    "- 因此我们可以使用前后缀分解的方式来求出right_min, right_min[i]表示nums[i]右边所有元素的最小值。\n",
    "- 枚举nums[j], 我们只需要找到j左边的元素最小值和右边的元素最小值(right_min[j])，如果这三个数满足山形三元组条件, 即可以更新最小值。\n"
   ]
  },
  {
   "cell_type": "code",
   "execution_count": null,
   "metadata": {},
   "outputs": [],
   "source": [
    "def process(nums):\n",
    "    n = len(nums)\n",
    "    right_min = [-1] * n       # right_min[i]表示nums[i]右边所有元素的最小值。\n",
    "    right_min[n-1] = nums[n-1] # 初始化最右边的元素\n",
    "    for i in range(n-2, -1, -1):\n",
    "        right_min[i] = min(nums[i], right_min[i+1])\n",
    "    \n",
    "    left_min = float(\"inf\")\n",
    "    ans = float(\"inf\")\n",
    "    for i in range(n-1):      # 由于遍历的是中间的元素, 因此最后终点为n-1\n",
    "        left_min = min(left_min, nums[i])\n",
    "        if left_min < nums[i] > right_min[i+1]:  # 注意这里是加一\n",
    "            ans = min(ans, nums[i] + left_min + right_min[i+1])\n",
    "    return ans if ans < float(\"inf\") else -1\n",
    "            \n",
    "\n",
    "\n",
    "\n"
   ]
  }
 ],
 "metadata": {
  "kernelspec": {
   "display_name": "Python 3.8.6 64-bit",
   "language": "python",
   "name": "python3"
  },
  "language_info": {
   "codemirror_mode": {
    "name": "ipython",
    "version": 3
   },
   "file_extension": ".py",
   "mimetype": "text/x-python",
   "name": "python",
   "nbconvert_exporter": "python",
   "pygments_lexer": "ipython3",
   "version": "3.11.7"
  },
  "metadata": {
   "interpreter": {
    "hash": "9afc2b4a137c1ef260a208b8b14dcafe0c511635e698b6a7b46f192005b0a3f6"
   }
  },
  "orig_nbformat": 2,
  "vscode": {
   "interpreter": {
    "hash": "0aea4d3bd9f517439094973d7e036bbe588c23e6e36cf8d45d53b47a8a90b2b4"
   }
  }
 },
 "nbformat": 4,
 "nbformat_minor": 2
}
