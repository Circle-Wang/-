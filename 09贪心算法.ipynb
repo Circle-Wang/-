{
 "cells": [
  {
   "cell_type": "markdown",
   "metadata": {},
   "source": [
    "## 贪心算法\n",
    "- 1.利用一种局部最功利的标准，总是做出看起来最好的选择\n",
    "- 2.难点在于证明：局部最功利的标准可以得到全局最优解\n",
    "- 3.贪心算法的学习主要增加阅历和经验"
   ]
  },
  {
   "cell_type": "markdown",
   "metadata": {},
   "source": [
    "## 问题1\n",
    "给定一个字符串组成的数组strs,必须把所有可能的字符串拼接起来，返回所有可能的拼接结果中，字典序最小的结果\n",
    "\n",
    "字典序：把字符串放到字典中，谁在前面谁的字典序就小，例如arg就会比bl前。计算机如何处理呢？- 1)如果两个字符串长度一样，将其看成26位进制数的比较，a的位数最高 - 2)如果不一样长，短的那个要补全0到跟长的那个一样长，在做比较\n",
    "\n",
    "排序策略应该是：a+b<=b+a,则a排在b前面，否则a排在b后面。即定义一种比较大小的规则，若a+b < b+a，则a排在b前面，否则b排在a前面。根据这样比较大小的规则之后可以对任意列表进行排序。最终从小到大排序后的结果就是最后结果。\n",
    "\n",
    "- 方法一：这里注意应当使用递归来完成全排列，收集所有可能的情况，再进行比较。而且要注意在使用递归完成全排列的时候需要一定要在每次递归后面删除当前变量。\n",
    "- 方法二：由于python中无法重载排序，所以不能那个按照我们上述说明的方法来进行排序，只能自己写重写排序算法。\n"
   ]
  },
  {
   "cell_type": "markdown",
   "metadata": {},
   "source": [
    "### 方法一"
   ]
  },
  {
   "cell_type": "code",
   "execution_count": null,
   "metadata": {},
   "outputs": [],
   "source": [
    "## 为完成全排列需要使用一个数组来记录已经用过的变量的位置\n",
    "use = []\n",
    "all = [] #收集所有的句子\n",
    "arr = [\"ab\",\"cd\",\"ab\"]\n",
    "\n",
    "sentence = ''\n",
    "\n",
    "def process(use, arr, sentence, all):\n",
    "    if len(use) == len(arr):\n",
    "        all.append(sentence)\n",
    "    else:\n",
    "        for i in range(len(arr)):\n",
    "            if i not in use:\n",
    "                use.append(i)\n",
    "                process(use, arr, sentence + arr[i], all)\n",
    "                use.remove(i) #这里注意到使用递归得到全排列的时候需要去除变量\n",
    "\n",
    "process(use, arr, sentence, all)\n",
    "\n",
    "ans = all[0]\n",
    "for i in all:\n",
    "    if ans > i:\n",
    "        ans, i = i, ans\n",
    "ans"
   ]
  },
  {
   "cell_type": "markdown",
   "metadata": {},
   "source": [
    "### 方法二"
   ]
  },
  {
   "cell_type": "code",
   "execution_count": null,
   "metadata": {},
   "outputs": [],
   "source": [
    "## 先重写排序逻辑，这里利用插入排序的方法来写\n",
    "def mysort(alist):\n",
    "    for i in range(1, len(alist)):\n",
    "        while i >= 1:\n",
    "            if alist[i] + alist[i-1] < alist[i-1] + alist[i]: # \"比较\"自己与左边的数据\n",
    "                alist[i], alist[i-1] = alist[i-1], alist[i] # 如果判定成立，交换位置\n",
    "                i -= 1 # 由于交换了位置，更新标记点\n",
    "            else:   # 该轮变换直到结束位置\n",
    "                break\n",
    "    return alist\n",
    "\n",
    "arr = [\"ab\",\"cd\",\"ane\"]\n",
    "ans = mysort(arr)\n",
    "ans"
   ]
  },
  {
   "cell_type": "markdown",
   "metadata": {},
   "source": [
    "## 问题二：[分发饼干](https://leetcode-cn.com/problems/assign-cookies/)\n",
    "\n",
    "有一群孩子和一堆饼干，每个孩子有一个饥饿度，每个饼干都有一个大小。每个孩子只能吃最多一个饼干，且只有饼干的大小大于孩子的饥饿度时，这个孩子才能吃饱。求解最多有多少孩子可以吃饱。例：输入两个数组，分别代表孩子的饥饿度\\[1,2\\]和饼干的大小\\[1,2,3\\]。输出最多有多少孩子可以吃饱的数量。可以分配为\\[1,2\\]、\\[1,3\\]、\\[2,3\\],所以可以喂饱2个小朋友。\n",
    "\n",
    "- 分析：\n",
    "    - 最多有几个能吃饱意味着，需要先满足胃口最小的小朋友，并且这并不会影响其他小朋友吃饼干。\n",
    "    - 给剩余孩子里最小饥饿度的孩子分配最小的能饱腹的饼干：先找到剩余孩子中饥饿度最小的孩子，大于等于这个孩子饥饿度的、且大小最小的饼干给这个孩子。直到剩下的饼干已经不能满足这个孩子了，则不用继续分发了，因为后面的孩子比目前的胃口还要大，所以也不可能满足。\n",
    "    - 将两个数组分别排序之后，在逐一比较，当当前饼干无法满足的时候，s指针向后移动，g不移动；直到满足，g指针和s指针同时移动，有一个到达终点则退出"
   ]
  },
  {
   "cell_type": "code",
   "execution_count": null,
   "metadata": {},
   "outputs": [],
   "source": [
    "g = [10,9,8,7] # 孩子的需求\n",
    "s = [5,6,7,8]\n",
    "def process(g, s):\n",
    "    g_copy = g.copy()\n",
    "    g_copy.sort()\n",
    "    s_copy = s.copy()\n",
    "    s_copy.sort()\n",
    "    count = 0\n",
    "    index = 0\n",
    "    while count < len(g) and index < len(s):\n",
    "        if g_copy[count] <= s_copy[index]:\n",
    "            count += 1\n",
    "        index += 1\n",
    "    return count\n",
    "process(g, s)"
   ]
  },
  {
   "cell_type": "markdown",
   "metadata": {},
   "source": [
    "## 问题三：[分发糖果](https://leetcode-cn.com/problems/candy/?)\n",
    "一群孩子站成一排，每一个孩子有自己的评分。现在需要给这些孩子发糖果，规则是如果一个孩子的评分比自己身旁的一个孩子要高，那么这个孩子就必须得到比身旁孩子更多的糖果；所有孩子至少要有一个糖果。求解最少需要多少个糖果。输入是一个评分数组\\[1,0,2\\],则返回5\n",
    "\n",
    "- 分析：\n",
    "    - 左规则： 当 arr\\[i\\] > arr\\[i-1\\],则i号孩子的糖果数 > i-1号孩子的糖果数\n",
    "    - 右规则： 当 arr\\[i\\] > arr\\[i+1\\],则i号孩子的糖果数 > i+1号孩子的糖果数\n",
    "    \n",
    "    - 只用遍历两遍就可以了，因为每个孩子至少一个糖果，因此初始化的时候都变成1个糖果。\n",
    "    - 从左往右遍历一遍，如果arr\\[i\\] > arr\\[i-1\\]，则 i号孩子的糖果数 = i-1号孩子的糖果数 + 1 (只更新右边)\n",
    "    - 在上一轮的基础上，再从右往左遍历一遍，如果arr\\[i\\] > arr\\[i+1\\] and i号孩子现有的糖果数 <= i+1号现有的糖果数(只有满足当前孩子糖果数量小于或等于i+1孩子的糖果数量我们才需要+1，不然不需要+1)，我们才更新 i的糖果数 = i+1的糖果数 + 1 (只更新左边)\n"
   ]
  },
  {
   "cell_type": "code",
   "execution_count": null,
   "metadata": {},
   "outputs": [],
   "source": [
    "def process(arr):\n",
    "    n = len(arr)\n",
    "    ans = [1 for _ in range(n)]\n",
    "    for i in range(1,n):\n",
    "        if arr[i] > arr[i-1]:\n",
    "            ans[i] = ans[i-1] + 1\n",
    "    \n",
    "    for i in range(n-2, -1, -1):\n",
    "        if arr[i] > arr[i+1] and ans[i] <= ans[i+1]:\n",
    "            ans[i] = ans[i+1] + 1\n",
    "    return sum(ans)\n",
    "arr = [1, 2, 2]\n",
    "process(arr)\n"
   ]
  },
  {
   "cell_type": "markdown",
   "metadata": {},
   "source": [
    "## 问题四：[无重叠区间](https://leetcode-cn.com/problems/non-overlapping-intervals/)\n",
    "给定多个区间，计算让这些区间互不重叠所需要移除区间的最少个数。起止相连不算重叠。\n",
    "例如：有三个区间\\[\\[1,2\\], \\[2,4\\], \\[1,3\\]\\]，但是区间之间有重叠，但是我们只需要移除区间\\[1,3\\]即可使得剩下的区间是不重叠的，因此返回1.\n",
    "\n",
    "分析:\n",
    "- 题目的要求等价于「选出最多数量的区间，使得它们互不重叠」\n",
    "- 采用贪心算法，将每个区间的右端点排序，此时我们可以说，右端点最小的那个区间一定是在我们的最优方案里的区间(因为如果存在一个\"最优方案'的最左区间k的右端点不是最小的右端点所在区间j，那么我定可以替换这个区间k变成区间j，而这个改变后的'最优化方案'一定还是成立的)。\n",
    "- 确定首个区间j之后，那继续从剩余与区间j不相交的区间中再寻找右端点最小的区间。对于这个子问题，我们无需再次进行排序，只要找出其中与首个区间不重合并且右端点最小的区间即可。\n",
    "- 实时维护上一个选择区间的右端点right。如果当前遍历到的区间\\[li, ri], \\[li, ri]与上一个区间不重合，即li >= right，那么我们就可以贪心地选择这个区间，并将right更新为ri\n",
    "- 在排序时可以直接采用sort中的key参数进行取后数位排序，也可以采用“from functools import cmp_to_key”来导入重载比较器，具体参看'比较器与堆'章节。\n"
   ]
  },
  {
   "cell_type": "code",
   "execution_count": null,
   "metadata": {},
   "outputs": [],
   "source": [
    "def process(arr):\n",
    "    arr.sort(key = lambda x: x[1])\n",
    "    right = arr[0][1]\n",
    "    n = len(arr) - 1\n",
    "    for l, r in arr[1:]:\n",
    "        if l >= right:\n",
    "            right = r\n",
    "            n -= 1\n",
    "    return n\n",
    "arr = [[1,2],[2,3],[3,4],[-100,-2],[5,7]]\n",
    "arr.sort(key = lambda x: x[1])\n",
    "process(arr)"
   ]
  },
  {
   "cell_type": "markdown",
   "metadata": {},
   "source": [
    "## 问题五: [种花问题](https://leetcode-cn.com/problems/can-place-flowers/)\n",
    "假设有一个很长的花坛，一部分地块种植了花，另一部分却没有。可是花不能种植在相邻的地块上，它们会争夺水源，两者都会死去。\n",
    "给你一个整数数组flowerbed表示花坛，由若干0和1组成，其中0表示没种植花, 1表示种植了花。另有一个数n，能否在不打破种植规则的情况下种入n朵花？能则返回 true，不能则返回false。\n",
    "\n",
    "分析：\n",
    "- 其实题目等价于在花坛中最多能插入多少朵花.\n",
    "- 每一个花的手否种植需要受到左右条件的影响，因此\n",
    "    - 左规则：i位置 = i-1位置且都为0的情况，i位置可以种植花\n",
    "    - 右规则：i位置 = i+1位置且都为1的情况，i位置种植的花需要被拔掉\n",
    "- 先从左向右遍历，按照左规则来种花，这样肯定会多种的，因此在从右向左遍历的过程中按照右规则来拔掉花。(注意在第一遍遍历中我们需要把我们认为数组外面为0，因此0位置的花一定要种)\n"
   ]
  },
  {
   "cell_type": "code",
   "execution_count": null,
   "metadata": {},
   "outputs": [],
   "source": [
    "def process(arr, number):\n",
    "    if arr[0] == 0 :\n",
    "        arr[0] = 1\n",
    "        count = 1\n",
    "    else:\n",
    "        count = 0\n",
    "    n = len(arr)\n",
    "    for i in range(1, n):\n",
    "        if arr[i] == arr[i-1] and arr[i] == 0:\n",
    "            arr[i] = 1\n",
    "            count += 1\n",
    "    for j in range(n-2, -1, -1):\n",
    "        if arr[j] == arr[j+1] and arr[j] == 1:\n",
    "            arr[j] = 0\n",
    "            count -= 1\n",
    "    return True if count >= number else False\n",
    "arr = [0,1,0]\n",
    "n = 1\n",
    "process(arr, n)"
   ]
  },
  {
   "cell_type": "markdown",
   "metadata": {},
   "source": [
    "## 问题六: [用最少数量的箭引爆气球](https://leetcode-cn.com/problems/minimum-number-of-arrows-to-burst-balloons/)\n",
    "给定气球直径的坐标范围，例如\\[\\[10,16],\\[2,8],\\[1,6],\\[7,12]\\],每个数组代表一个气球直径的开始位置j_start和结束位置j_end，现在从x轴垂直的向上射箭，当j_start <= x <= j_end, 则x这箭能射爆j这个气球。问最少几把剑能射爆所有气球？如例子中所给，我可以用x=6射爆\\[2,8],\\[1,6]两个气球，x=11射爆\\[7,12]，\\[10,16]两个气球，因此返回2.\n",
    "\n",
    "分析：\n",
    "- 问题等价于求解最多的不重叠区间个数，因为这些不重叠的区间必须要每个区间都需要一箭，而其余的区间与这些区间都是有重叠的，因此那些重叠的区间我们总能一下子射爆.\n",
    "- 求解过程类似于问题四，不过需要改下重叠的定义(端点相同也算重叠)"
   ]
  },
  {
   "cell_type": "code",
   "execution_count": null,
   "metadata": {},
   "outputs": [],
   "source": [
    "def process(arr):\n",
    "    arr.sort(key = lambda x: x[1])\n",
    "    right = arr[0][1]\n",
    "    n = 1\n",
    "    for l, r in arr[1:]:\n",
    "        if l > right:  # 此时该气球无法与前面的任意气球重合所以需要射一箭\n",
    "            right = r\n",
    "            n += 1\n",
    "    return n\n",
    "arr = [[10,16],[2,8],[1,6],[7,12]]\n",
    "process(arr)"
   ]
  },
  {
   "cell_type": "markdown",
   "metadata": {},
   "source": [
    "## 问题七: [划分字母区间](https://leetcode-cn.com/problems/partition-labels/)\n",
    "字符串S由小写字母组成。我们要把这个字符串划分为尽可能多的片段，同一字母最多出现在一个片段中。返回一个表示每个字符串片段的长度的列表，并且要求划分的段要最多。\n",
    "例如：S = \"ababcbacadefegdehijhklij\"，划分结果为 \"ababcbaca\", \"defegde\", \"hijhklij\"，当然你也可以划分成\"ababcbacadefegde\", \"hijhklij\"也是符合规则的，但是显然第一种划分能划分出3段，而第二种只能划分出2段，因此返回第一种划分的每一段的字符串个数\\[9,7,8]\n",
    "\n",
    "分析：\n",
    "- 先遍历一遍数组，记录下每个字母出现的第一个位置和第最后一个位置，那么我们切分的时候只要按照这个距离切分那么其他段里一定没有这个字母了。例如a出现在\\[0,8],只要我从8这个位置切分则一定在其他段里不会出现字母a.\n",
    "- 我们获得了所有的字母始终位置之后，就可以进行划分了\n",
    "- 先将这些数组按照起始点排序，如果区间j+1的start在区间j中，则我们不能以区间j的end来切分，而是需要以j+1的end和j的end中最大值来切分，并且还要保j+2的start不能在j+1区间中。\n",
    "    - 初始化第一个区间的start和end作为left和right，循环这个排序序列\n",
    "    - 如果j_start < right,更新right = max(right, j_end)\n",
    "    - 如果j_start > right,则此时\\[left, right]为第一个区间，并且重置left = j_start，right = j_end\n",
    "\n",
    "改进：\n",
    "- 其实我们可以不用记录每个字母的起始位置，我们在分段的时候可以让left = 0开始, 从左到右访问字符串s，每个字母c都有一个对应的end位置，更新right = max(end, right), 当遍历到right位置的时候意味着可以划分了:记录区间长度(right - left + 1), 并让left = right + 1，继续遍历即可。\n",
    "    - 可以使用函数enumerate(s),使得字符串返回一个数组\\[(),()...(i,element)...],从而来得到起始位置和终止位置\n",
    "    - 先创建一个一维数组\\[0\\]*26,用来存放26个字母，用ord(ch) - ord(\"a\")来锁定字母位置\n"
   ]
  },
  {
   "cell_type": "code",
   "execution_count": 10,
   "metadata": {},
   "outputs": [
    {
     "data": {
      "text/plain": [
       "[1, 8]"
      ]
     },
     "execution_count": 10,
     "metadata": {},
     "output_type": "execute_result"
    }
   ],
   "source": [
    "def buildArray(line):\n",
    "    dic = dict()\n",
    "    n = len(line)\n",
    "    for i in range(n):\n",
    "        if dic.get(line[i]):\n",
    "            dic[line[i]][1] = i\n",
    "        else:\n",
    "            dic[line[i]] = [i, i] \n",
    "    return list(dic.values())\n",
    "\n",
    "def process(s):\n",
    "    ans = []\n",
    "    arr = buildArray(s)  # 此处arr需不要sorted()是因为在建立字典的时候已经是按照左端点排好序了的\n",
    "    left, right = arr[0][0], arr[0][1]\n",
    "    for start, end in arr[1:]:\n",
    "        if start < right:\n",
    "            right = max(end, right)\n",
    "        else:\n",
    "            ans.append(right - left + 1)\n",
    "            left = start\n",
    "            right = end\n",
    "\n",
    "    ans.append(right-left+1) # 退出循环后最后一个right和end还没被记录\n",
    "    return ans\n",
    "\n",
    "s = \"kejjaedae\"\n",
    "process(s)\n",
    "\n",
    "\n",
    "############ 改进 ##########\n",
    "def buildArray(line):\n",
    "    dic = dict()\n",
    "    for i, ele in enumerate(line):\n",
    "        dic[ele] = i\n",
    "    return dic\n",
    "\n",
    "def process(s):\n",
    "    ans = []\n",
    "    dic = buildArray(s)  # {'k': 0, 's': 4...} \n",
    "    left, right = 0, 0\n",
    "    for i, ele in enumerate(s):\n",
    "        right = max(dic.get(ele), right)\n",
    "        if i == right:\n",
    "            ans.append(right - left + 1)\n",
    "            left = right + 1\n",
    "    return ans\n",
    "s = \"kejjaedae\"\n",
    "process(s)\n"
   ]
  },
  {
   "cell_type": "markdown",
   "metadata": {},
   "source": [
    "## 问题八：[买卖股票的最佳时机 II](https://leetcode-cn.com/problems/best-time-to-buy-and-sell-stock-ii/)\n",
    "给定一个数组prices，其中prices\\[i]是一支给定股票第 i 天的价格。设计一个算法来计算你所能获取的最大利润。你可以尽可能地完成更多的交易（多次买卖一支股票）。注意：你不能同时参与多笔交易（你必须在再次购买前出售掉之前的股票）。\n",
    "\n",
    "分析：\n",
    "- 如果数列是上升的，我们记录下上升的起点(buy)和终点(sold)来进行操作，如果序列开始下降我们将运动到下降的最低点(buy和sold同时下降)。\n",
    "- sold表示记录卖出股票的价格, buy表示买入股票的价格\n",
    "- sold, buy = 0，遍历数组，当arr\\[i+1] < arr\\[i]时，执行操作sold - buy, 并且更新sold, buy = arr\\[i+1]。当arr\\[i+1] >= arr\\[i], sold = arr\\[i+1]. "
   ]
  },
  {
   "cell_type": "code",
   "execution_count": null,
   "metadata": {},
   "outputs": [],
   "source": [
    "def process(arr):\n",
    "    n = len(arr)\n",
    "    count, sold, buy = 0, arr[0], arr[0]\n",
    "    for i in range(1,n):\n",
    "        if arr[i-1] > arr[i]:  # 当股票开始跌了就卖出,获利\n",
    "            count = count + sold - buy\n",
    "            sold, buy = arr[i], arr[i]  # 并记录买入此时的股票\n",
    "        else:\n",
    "            sold = arr[i]     # 股票处于上涨阶段，更新卖出的价格\n",
    "    count = count + buy - sold\n",
    "    return count\n",
    "arr = [7,1,5,3,6,4]\n",
    "process(arr)"
   ]
  },
  {
   "cell_type": "markdown",
   "metadata": {},
   "source": [
    "## 问题九：[根据身高重建队列](https://leetcode-cn.com/problems/queue-reconstruction-by-height/)\n",
    "假设有打乱顺序的一群人站成一个队列，数组people表示队列, 数组里每个元素people\\[i]是一个数组，表示一个人。每个people\\[i] = \\[hi, ki] 表示第 i 个人的身高为hi，前面正好有ki个身高大于或等于hi的人,但是这个people中顺序是乱的，需要返回有序的数组。例：people = \\[\\[7,0],\\[4,4],\\[7,1],\\[5,0],\\[6,1],\\[5,2]]， 显然\\[4,4]这个人位置站错了，因为他的前面只有一个人，我们最终返回的结果是:\\[\\[5,0],\\[7,0],\\[5,2],\\[6,1],\\[4,4],\\[7,1]]\n",
    "\n",
    "分析：\n",
    "- 先将数据按照第二维度优先，再第一维度优先排好序(arr.sort(key = lambda x: (x\\[1], x\\[0])))，循环这个顺序序列的每一个元素ele。\n",
    "- ele与序列中每一个比较，记录比ele\\[0]大的元素的个数，当元素个数=ele\\[1]时, 意味着在该元素后面插入ele。(若ele[1]=0则不移动)\n",
    "- python中在list对应位置插入数据可以使用arr\\[i:i] = \\[ele]（在i-1位置后插入ele，即i位置插入ele）\n",
    "- 我们可以对优先对身高降序，对人数升序，在遍历的时候，我们直接在person\\[1]位置插入person即可,因为这样保证了位置person\\[1]以前的person的身高一定是比当前person\\[0]大或等的数，即使后面有其他数据插在前面，依然不影响person位置的正确性，因为后插入的数一定比person小。\n"
   ]
  },
  {
   "cell_type": "code",
   "execution_count": 2,
   "metadata": {},
   "outputs": [
    {
     "data": {
      "text/plain": [
       "[[5, 0], [7, 0], [6, 1], [5, 3], [4, 4], [7, 1]]"
      ]
     },
     "execution_count": 2,
     "metadata": {},
     "output_type": "execute_result"
    }
   ],
   "source": [
    "arr = [[7,0],[4,4],[7,1],[5,0],[6,1],[5,3]]\n",
    "def process(arr):\n",
    "    arr.sort(key = lambda x: (-x[0], x[1])) # 第一维度降序，第二维度升序\n",
    "    ans = []\n",
    "    for person in arr:\n",
    "        ans[person[1]:person[1]] = [person]\n",
    "    return ans\n",
    "process(arr)"
   ]
  },
  {
   "cell_type": "markdown",
   "metadata": {},
   "source": [
    "## 问题十: [非递减数列](https://leetcode-cn.com/problems/non-decreasing-array/)\n",
    "给你一个长度为n的整数数组，请你判断在最多改变1个元素的情况下，该数组能否变成一个非递减数列(后一个数>=前一个数)。\n",
    "\n",
    "分析：\n",
    "- 由于只改变一个元素，所以当改变第二个元素的时候就需要返回False。\n",
    "- 循环数组当arr\\[i] > arr\\[i+1] 则我们有两种改变可以选择\n",
    "    - 改变a[i]：这里可以把a[i]改变成<=arr\\[i+1]的任意数，但是为了能让前文不受到影响(a[i] >= a[i-1])，此时还需要判断改变后a[i]之后是否满足a[i] >= a[i-1]，因此综合下来，只有当arr\\[i-1] <= arr\\[i+1] 时，才能改变a[i]使其满足非递减数列。(例如：100，110，20,我们就不可能通过改变100来使其成为非递减数列)\n",
    "    - 改变a[i+1]：这里我们可以改变arr\\[i+1]为任意>=arr\\[i]的数字, 但为了使得之后受影响最小应该改变为 a[i]，即a[i-1] = a[i]\n",
    "    - 这两个改变的顺序应该是优先采用改变1，因为这样对后续的判断影响最小(如果使a[i+1]变大,那么a[i+1] > a[i+2]的可能性会更大)\n"
   ]
  },
  {
   "cell_type": "code",
   "execution_count": 33,
   "metadata": {},
   "outputs": [
    {
     "data": {
      "text/plain": [
       "False"
      ]
     },
     "execution_count": 33,
     "metadata": {},
     "output_type": "execute_result"
    }
   ],
   "source": [
    "def process(arr):\n",
    "    n = len(arr)\n",
    "    count = 0\n",
    "    for i in range(n-1):\n",
    "        if arr[i] > arr[i+1]:\n",
    "            count += 1  # 确定需要改了\n",
    "            if count >= 2:\n",
    "                return False\n",
    "            # 判断是否能执行改变1（i = 0时候肯定能执行）\n",
    "            if arr[i-1] <= arr[i+1] or i == 0:\n",
    "                arr[i] = arr[i+1]\n",
    "            else:\n",
    "                arr[i+1] = arr[i]\n",
    "    return True\n",
    "arr = [4,2,1]\n",
    "process(arr)\n"
   ]
  },
  {
   "cell_type": "code",
   "execution_count": null,
   "metadata": {},
   "outputs": [],
   "source": []
  }
 ],
 "metadata": {
  "kernelspec": {
   "display_name": "Python 3.8.6 64-bit",
   "language": "python",
   "name": "python3"
  },
  "language_info": {
   "codemirror_mode": {
    "name": "ipython",
    "version": 3
   },
   "file_extension": ".py",
   "mimetype": "text/x-python",
   "name": "python",
   "nbconvert_exporter": "python",
   "pygments_lexer": "ipython3",
   "version": "3.8.6"
  },
  "metadata": {
   "interpreter": {
    "hash": "9afc2b4a137c1ef260a208b8b14dcafe0c511635e698b6a7b46f192005b0a3f6"
   }
  },
  "orig_nbformat": 2,
  "vscode": {
   "interpreter": {
    "hash": "0aea4d3bd9f517439094973d7e036bbe588c23e6e36cf8d45d53b47a8a90b2b4"
   }
  }
 },
 "nbformat": 4,
 "nbformat_minor": 2
}
