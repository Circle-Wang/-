{
 "cells": [
  {
   "cell_type": "code",
   "execution_count": 3,
   "metadata": {},
   "outputs": [
    {
     "name": "stdout",
     "output_type": "stream",
     "text": [
      "1.10.0+cpu\n"
     ]
    }
   ],
   "source": [
    "import torch\n",
    "print(torch.__version__)"
   ]
  },
  {
   "cell_type": "markdown",
   "metadata": {},
   "source": [
    "## 位运算\n",
    "常用算法：\n",
    "- n & (n - 1) ：可以去除 n 的位级表示中最低的那一位。例如：n=110100，n-1 = 110011，两个取与运算就可以得到110000\n",
    "- n & (-n) ：可以得到 n 的位级表示中最低的那一位。例如：n=110100，-n=001100（取反+1）,再取与运算可以得到000100\n",
    "- n & 1：检查最低位是否为1。例如：n=110100，n & 1=0"
   ]
  },
  {
   "cell_type": "markdown",
   "metadata": {},
   "source": [
    "## 问题1：[汉明距离(位计数)](https://leetcode.cn/problems/hamming-distance/)\n",
    "### 题目\n",
    "两个整数之间的“汉明距离”指的是这两个数字对应二进制位不同的位置的数目。给你两个整数x和y，计算并返回它们之间的汉明距离。\n",
    "\n",
    "### 分析\n",
    "- 首先考虑异或^，因为异或会使不同为1，相同为0，这样问题就转化为位计数问题。\n",
    "- 位计数问题：我们可以使用n&1的方式记录n的最后一位是否为1，如果为1则计数器+1，接着我们使用>>运算符，去掉n的最末尾一位，这样就能接着计数了\n",
    "\n",
    "### 注意\n",
    "- 如果输入是字符串的二进制数，我们可以使用int('1001',2)的方式把二进制字符串读取为二进制数\n",
    "- 注意n>>1位运算符需要通过赋值才能改变n，即n>>1不会改变n的值\n",
    "- bin(int)：即可返回n的二进制字符串表示\n",
    "\n",
    "### 优化\n",
    "- bin(x ^ y).count('1')"
   ]
  },
  {
   "cell_type": "code",
   "execution_count": 33,
   "metadata": {},
   "outputs": [
    {
     "data": {
      "text/plain": [
       "2"
      ]
     },
     "execution_count": 33,
     "metadata": {},
     "output_type": "execute_result"
    }
   ],
   "source": [
    "def process(a,b):\n",
    "    n = a ^ b\n",
    "    res = 0\n",
    "    while n != 0:\n",
    "        res += n&1\n",
    "        n = n>>1\n",
    "    return res\n",
    "\n",
    "process(1, 4)"
   ]
  },
  {
   "cell_type": "markdown",
   "metadata": {},
   "source": [
    "## 问题2：[比特位计数](https://leetcode.cn/problems/counting-bits/)\n",
    "### 题目\n",
    "给你一个整数n，对于0 <= i <= n中的每个i ，计算其二进制表示中1的个数，返回一个长度为n + 1的数组ans作为答案。\n",
    "\n",
    "### 分析\n",
    "- https://blog.csdn.net/weixin_45666660/article/details/114300760"
   ]
  },
  {
   "cell_type": "code",
   "execution_count": 31,
   "metadata": {},
   "outputs": [
    {
     "data": {
      "text/plain": [
       "str"
      ]
     },
     "execution_count": 31,
     "metadata": {},
     "output_type": "execute_result"
    }
   ],
   "source": [
    "bin(1 ^ 4)"
   ]
  },
  {
   "cell_type": "markdown",
   "metadata": {},
   "source": [
    "## 问题3：[]()\n",
    "### 题目"
   ]
  },
  {
   "cell_type": "code",
   "execution_count": null,
   "metadata": {},
   "outputs": [],
   "source": []
  },
  {
   "cell_type": "markdown",
   "metadata": {},
   "source": [
    "## 问题4：[]()\n",
    "### 题目"
   ]
  },
  {
   "cell_type": "code",
   "execution_count": null,
   "metadata": {},
   "outputs": [],
   "source": []
  },
  {
   "cell_type": "markdown",
   "metadata": {},
   "source": [
    "## 问题5：[]()\n",
    "### 题目"
   ]
  },
  {
   "cell_type": "code",
   "execution_count": null,
   "metadata": {},
   "outputs": [],
   "source": []
  },
  {
   "cell_type": "markdown",
   "metadata": {},
   "source": [
    "## 问题6：[]()\n",
    "### 题目"
   ]
  },
  {
   "cell_type": "code",
   "execution_count": null,
   "metadata": {},
   "outputs": [],
   "source": []
  },
  {
   "cell_type": "markdown",
   "metadata": {},
   "source": [
    "## 问题7：[]()\n",
    "### 题目"
   ]
  },
  {
   "cell_type": "code",
   "execution_count": null,
   "metadata": {},
   "outputs": [],
   "source": []
  }
 ],
 "metadata": {
  "interpreter": {
   "hash": "0aea4d3bd9f517439094973d7e036bbe588c23e6e36cf8d45d53b47a8a90b2b4"
  },
  "kernelspec": {
   "display_name": "Python 3.8.6 64-bit",
   "language": "python",
   "name": "python3"
  },
  "language_info": {
   "codemirror_mode": {
    "name": "ipython",
    "version": 3
   },
   "file_extension": ".py",
   "mimetype": "text/x-python",
   "name": "python",
   "nbconvert_exporter": "python",
   "pygments_lexer": "ipython3",
   "version": "3.8.6"
  },
  "orig_nbformat": 4
 },
 "nbformat": 4,
 "nbformat_minor": 2
}
