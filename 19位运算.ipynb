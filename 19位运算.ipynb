{
 "cells": [
  {
   "cell_type": "markdown",
   "metadata": {},
   "source": [
    "## 位运算\n",
    "常用算法：\n",
    "- n & (n - 1) ：可以去除 n 的位级表示中最低的那一位。例如：n=110100，n-1 = 110011，两个取与运算就可以得到110000\n",
    "- n & (-n) ：可以得到 n 的位级表示中最低的那一位。例如：n=110100，-n=001100（取反+1）,再取与运算可以得到000100\n",
    "- n & 1：检查最低位是否为1。例如：n=110100，n & 1=0"
   ]
  },
  {
   "cell_type": "markdown",
   "metadata": {},
   "source": [
    "## 问题1：[汉明距离(位计数)](https://leetcode.cn/problems/hamming-distance/)\n",
    "### 题目\n",
    "两个整数之间的“汉明距离”指的是这两个数字对应二进制位不同的位置的数目。给你两个整数x和y，计算并返回它们之间的汉明距离。\n",
    "\n",
    "### 分析\n",
    "- 首先考虑异或^，因为异或会使不同为1，相同为0，这样问题就转化为位计数问题。\n",
    "- 位计数问题：我们可以使用n&1的方式记录n的最后一位是否为1，如果为1则计数器+1，接着我们使用>>运算符，去掉n的最末尾一位，这样就能接着计数了\n",
    "\n",
    "### 注意\n",
    "- 如果输入是字符串的二进制数，我们可以使用int('1001',2)的方式把二进制字符串读取为二进制数\n",
    "- 注意n>>1位运算符需要通过赋值才能改变n，即n>>1不会改变n的值\n",
    "- bin(int)：即可返回n的二进制字符串表示\n",
    "\n",
    "### 优化\n",
    "- bin(x ^ y).count('1')"
   ]
  },
  {
   "cell_type": "code",
   "execution_count": 33,
   "metadata": {},
   "outputs": [
    {
     "data": {
      "text/plain": [
       "2"
      ]
     },
     "execution_count": 33,
     "metadata": {},
     "output_type": "execute_result"
    }
   ],
   "source": [
    "def process(a,b):\n",
    "    n = a ^ b\n",
    "    res = 0\n",
    "    while n != 0:\n",
    "        res += n&1\n",
    "        n = n>>1\n",
    "    return res\n",
    "\n",
    "process(1, 4)"
   ]
  },
  {
   "cell_type": "markdown",
   "metadata": {},
   "source": [
    "## 问题2：[比特位计数](https://leetcode.cn/problems/counting-bits/)\n",
    "### 题目\n",
    "给你一个整数n，对于0 <= i <= n中的每个i ，计算其二进制表示中1的个数，返回一个长度为n + 1的数组ans作为答案。\n",
    "\n",
    "### 分析\n",
    "- https://blog.csdn.net/weixin_45666660/article/details/114300760\n",
    "- bing(整数): 将一个整数转化为二进制打印"
   ]
  },
  {
   "cell_type": "code",
   "execution_count": 5,
   "metadata": {},
   "outputs": [
    {
     "data": {
      "text/plain": [
       "'0b101'"
      ]
     },
     "execution_count": 5,
     "metadata": {},
     "output_type": "execute_result"
    }
   ],
   "source": [
    "bin()"
   ]
  },
  {
   "cell_type": "markdown",
   "metadata": {},
   "source": [
    "## 问题3：[统计每个比特位是否为1](https://leetcode.cn/problems/find-the-k-or-of-an-array)\n",
    "### 题目\n",
    "给你一个下标从 0 开始的整数数组 nums 和一个整数 k 。请得到nums的K-or值.\n",
    "\n",
    "K-or值的计算方式是: 遍历nums的所有值并将其转化为二进制, 统计第0位上为1的元素有多少个, 第1位上为1的元素有多少个, 第2位上为1的元素有多少个...若第i位上为1的元素个数大于等于k个，则K-or值的第i位为1.\n",
    "\n",
    "### 分析\n",
    "- 其实就是在统计一个数组中，每个元素对应二进制数第i位为1的个数\n",
    "- x这个数在第i位上是否为1的计算: x >> i & 1\n"
   ]
  },
  {
   "cell_type": "code",
   "execution_count": null,
   "metadata": {},
   "outputs": [],
   "source": [
    "def process(nums, k):\n",
    "    ans = 0\n",
    "    for i in range(32):   # 我们查每个元素的32位\n",
    "        cnt = sum(x >> i & 1 for x in nums)   # 第i位上为1的个数\n",
    "        if cnt >= k:\n",
    "            ans |= 1 << i  # 也可以改为+=\n",
    "    return ans"
   ]
  },
  {
   "cell_type": "markdown",
   "metadata": {},
   "source": [
    "## 问题4: [找出字符串的可整除数组](https://leetcode.cn/problems/find-the-divisibility-array-of-a-string/)\n",
    "### 题目\n",
    "给你一个字符串长度为n, 由从0到9的数字组成 word。另给你一个正整数 m 。如果word的前i位组成的数字能被m整除, div[i] = 1\n",
    "否则，div[i] = 0。请返回div。\n",
    "\n",
    "### 分析\n",
    "- 使用一个count来记录不能被整除数值所组成的字符串, 如果当加入的第i号字符, 刚好能使得count被m整除, 则div[i] = 1, 并且更新count为0。否则count = count*10 + word[i]\n",
    "\n",
    "### 优化\n",
    "- 上述方法虽然可以解决问题, 但是当count越来越大时, \"模操作\"会非常花费时间。通过数学推导可以知道(a+b)%m = (a%m + b%m)%m, 因此我们count可以在过程中就取模运算, 即count = (count * 10 + i) % m, 这样就能保证count的规模一定不会大于m。"
   ]
  },
  {
   "cell_type": "code",
   "execution_count": null,
   "metadata": {},
   "outputs": [],
   "source": [
    "def process(word, m):\n",
    "    count = 0\n",
    "    div = [0 for _ in word]\n",
    "    for index, i in enumerate(word):\n",
    "        count = count * 10 + eval(i)  # 将当前数值加入count\n",
    "        if count%m == 0:\n",
    "            div[index] = 1\n",
    "            count = 0\n",
    "    return div\n",
    "\n",
    "### 优化\n",
    "def process(word, m):\n",
    "    count = 0\n",
    "    div = []\n",
    "    for i in map(int, word):\n",
    "        count = (count * 10 + i) % m  # 将当前数值加入count取模得到余数\n",
    "        div.append(1 if count == 0 else 0)\n",
    "    return div\n",
    "\n",
    "word = \"998244353\"\n",
    "m = 3\n",
    "process(word, m)"
   ]
  },
  {
   "cell_type": "markdown",
   "metadata": {},
   "source": [
    "## 问题5：[]()\n",
    "### 题目"
   ]
  },
  {
   "cell_type": "code",
   "execution_count": null,
   "metadata": {},
   "outputs": [],
   "source": []
  },
  {
   "cell_type": "markdown",
   "metadata": {},
   "source": [
    "## 问题6：[]()\n",
    "### 题目"
   ]
  },
  {
   "cell_type": "code",
   "execution_count": null,
   "metadata": {},
   "outputs": [],
   "source": []
  },
  {
   "cell_type": "markdown",
   "metadata": {},
   "source": [
    "## 问题7：[]()\n",
    "### 题目"
   ]
  },
  {
   "cell_type": "code",
   "execution_count": null,
   "metadata": {},
   "outputs": [],
   "source": []
  }
 ],
 "metadata": {
  "interpreter": {
   "hash": "0aea4d3bd9f517439094973d7e036bbe588c23e6e36cf8d45d53b47a8a90b2b4"
  },
  "kernelspec": {
   "display_name": "Python 3.8.6 64-bit",
   "language": "python",
   "name": "python3"
  },
  "language_info": {
   "codemirror_mode": {
    "name": "ipython",
    "version": 3
   },
   "file_extension": ".py",
   "mimetype": "text/x-python",
   "name": "python",
   "nbconvert_exporter": "python",
   "pygments_lexer": "ipython3",
   "version": "3.10.9"
  },
  "orig_nbformat": 4
 },
 "nbformat": 4,
 "nbformat_minor": 2
}
