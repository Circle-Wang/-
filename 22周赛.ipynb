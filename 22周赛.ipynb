{
 "cells": [
  {
   "cell_type": "markdown",
   "metadata": {},
   "source": [
    "## [412周赛](https://leetcode.cn/contest/weekly-contest-412/)"
   ]
  },
  {
   "cell_type": "markdown",
   "metadata": {},
   "source": [
    "### [统计近似相等数对 II](https://leetcode.cn/problems/count-almost-equal-pairs-ii/description/)\n",
    "### 题目\n",
    "给你一个正整数数组nums。如果我们执行以下操作至多两次可以让两个整数x和y相等，那么我们称这个数对是近似相等的：\n",
    "- 选择x或者y之一，将这个数字中的两个数位交换。\n",
    "\n",
    "请你返回nums中，下标i和j满足i < j且nums[i]和nums[j]近似相等的数对数目。注意执行操作后得到的整数可以有前导0 。\n",
    "\n",
    "\n",
    "### 分析\n",
    "- 枚举右, 维护左: 向右边遍历数组时使用哈希表维护index左边数据的状态\n",
    "- 由于可以存在前导0, 因此我们有两种做法, 一种是在每个数上加上前导0, 还有一种是交换时我们只选择长度大的进行交换(因为长度大的可以通过与0换位置得到长度小的)。这里我们为了方便选择第二种处理方法(因为每个数加上前导0会对后面造成很多麻烦), 为了能在维护左边数据状态时一定是左边数的长度小于右边的, 因此我们需要根据长度将nums进行排序\n",
    "- 此处我们维护左边数据状态的方法就是, 记录数字出现次数. 当我们遍历到numj时, 将numj经过之多两次交换能得到哪些数字用集合(用于去重)记录下来, 然后遍历集合, 看看左边的数据状态中这些数字出现了多少次, 我们的答案就需要+多少次\n",
    "- 我们可以使用暴力的做法将至多交换两次可以得到的数据放到集合中(暴力做法中注意要复原现场)\n"
   ]
  },
  {
   "cell_type": "code",
   "execution_count": null,
   "metadata": {},
   "outputs": [],
   "source": [
    "import collections\n",
    "\n",
    "def process(nums):\n",
    "    nums.sort(key=lambda x: len(str(x)))\n",
    "    ans = 0\n",
    "    cnt = collections.defaultdict(int)\n",
    "    for num in nums:\n",
    "        st = {num}  # 什么都不交换\n",
    "        s = list(str(num))  # 得到数值列表, 方便交换\n",
    "        m = len(s)\n",
    "        # 暴力交换\n",
    "        for i in range(m):\n",
    "            for j in range(i+1, m):\n",
    "                s[i], s[j] = s[j], s[i]   # 第一次交换\n",
    "                st.add(int(\"\".join(s)))\n",
    "\n",
    "                for p in range(i+1, m):   # 这里从i+1开始是为了避免和第一次交换重复(不需要再从0开始交换)\n",
    "                    for q in range(p+1, m):\n",
    "                        s[p], s[q] = s[q], s[p]  # 第二次交换\n",
    "                        st.add(int(\"\".join(s)))\n",
    "                        s[p], s[q] = s[q], s[p]  # 注意复原\n",
    "                s[i], s[j] = s[j], s[i]  # 注意复原\n",
    "        # 遍历左边数据状态得到答案\n",
    "        ans += sum(cnt[v] for v in st)\n",
    "        # 更改左边数据状态\n",
    "        cnt[num] += 1   \n",
    "    return ans\n",
    "        \n",
    "\n",
    "            \n"
   ]
  },
  {
   "cell_type": "markdown",
   "metadata": {},
   "source": [
    "### [K 次乘运算后的最终数组 II](https://leetcode.cn/problems/final-array-state-after-k-multiplication-operations-ii/description/)\n",
    "### 题目\n",
    "给你一个整数数组nums ，一个整数k和一个整数multiplier 。你需要对nums执行k次操作，每次操作中：\n",
    "- 找到 nums 中的 最小 值 x ，如果存在多个最小值，选择最 前面 的一个。\n",
    "- 将 x 替换为 x * multiplier 。\n",
    "\n",
    "k次操作以后，你需要将nums中每一个数值对 10^9 + 7 取余。请你返回最终的nums数组。(注意这里的k非常大)\n",
    "\n",
    "### 分析\n",
    "- 我们可以使用最小堆的方式, 这样可以更快的得到最小的那个数(使用heapq.heapreplace可以更高效的替换堆中最小元素). 但由于这里的K非常大, 因此我们要想办法让操作于K无关。\n",
    "- 经过分析可以知道两个结论:\n",
    "    - 1、当x,y,z很接近时, 一定是从小到大进行依次乘以m的, 根据这个规律我们可以直接得到每个元素还需要进行多少次的乘法: 如果排序后i < k%n, 则还需要执行 k//n + 1次; 如果i >= k%n, 则还需要执行k//n 次的乘法(因为此处i从0开始, 所以当k%n=0时是不需要多执行一次的)\n",
    "    - 2、对于原始数组, 我们可以先使用循环最小堆的方式, 不断将数组中每个元素乘以m, 使得他们相互靠近, 当最后出堆的是num原始中的最大值时, 此时数组就满足了结论1的先决条件: 各数组都非常靠近\n",
    "- 需要注意到一些特殊情况, 如果k比较小时可能在循环最小堆的时候就已经解决问题了, 因此循环最小堆的循环条件是k > 0 ; 当multiplier为1时, 是不可能退出得了循环最小堆的(因为最小是*1是不可能靠近最大值的)"
   ]
  },
  {
   "cell_type": "code",
   "execution_count": 2,
   "metadata": {},
   "outputs": [],
   "source": [
    "import heapq\n",
    "\n",
    "def process(nums, k, multiplier):\n",
    "    if multiplier == 1:\n",
    "        return nums\n",
    "\n",
    "    MOD = 1_000_000_000 + 7\n",
    "    n = len(nums)\n",
    "    mx = max(nums)\n",
    "    h = [(num, i) for i, num in enumerate(nums)]  # 需要保留坐标\n",
    "    heapq.heapify(h)\n",
    "\n",
    "    # 在此处可以先不进行nums的变换\n",
    "    while k > 0:\n",
    "        num, i = h[0]  # 拿到堆中最小值\n",
    "        heapq.heapreplace(h, (num*multiplier, i))   # 先pop再push, 更高效\n",
    "        k -= 1         # 注意此处要将k减小\n",
    "        if num == mx:  # 如果出堆的是原始数组中的最小值, 那么说明此时已经满足很靠近的条件了\n",
    "            break\n",
    "    \n",
    "    for i in range(n):  # 这里的i表示就是此时num中数组排续的位次\n",
    "        num, j = heapq.heappop(h)\n",
    "        nums[j] = num * pow(multiplier, k//n + (i < k%n), MOD) % MOD   # 这里使用int + bool巧妙地进行了if操作\n",
    "    return nums"
   ]
  },
  {
   "cell_type": "markdown",
   "metadata": {},
   "source": [
    "## [416周赛](https://leetcode.cn/contest/weekly-contest-416/)"
   ]
  },
  {
   "cell_type": "markdown",
   "metadata": {},
   "source": [
    "### []()\n",
    "### 题目\n",
    "\n",
    "\n",
    "\n",
    "### 分析\n"
   ]
  },
  {
   "cell_type": "code",
   "execution_count": 31,
   "metadata": {},
   "outputs": [
    {
     "name": "stdout",
     "output_type": "stream",
     "text": [
      "[(1, 1, 1), (7, 1, 7)] 0\n",
      "[(3, 2, 1), (7, 1, 7)] 1\n",
      "[(6, 3, 1), (7, 1, 7)] 3\n",
      "[(7, 1, 7), (10, 4, 1)] 6\n",
      "[(10, 4, 1), (21, 2, 7)] 7\n"
     ]
    },
    {
     "data": {
      "text/plain": [
       "10"
      ]
     },
     "execution_count": 31,
     "metadata": {},
     "output_type": "execute_result"
    }
   ],
   "source": [
    "import heapq\n",
    "def process(mountainHeight: int, workerTimes):\n",
    "    cost = []\n",
    "    for num in workerTimes:\n",
    "        heapq.heappush(cost, (num, 1, num))  # (下一次的cost, 当前次数, 索引)\n",
    "\n",
    "    ans = 0\n",
    "    while mountainHeight > 0:\n",
    "        print(cost, ans)\n",
    "        w, count, num = heapq.heappop(cost)\n",
    "        ans = max(0, w)\n",
    "        mountainHeight -= 1\n",
    "        count += 1\n",
    "        item_cost = (num+num*count)*count//2\n",
    "        heapq.heappush(cost, (item_cost, count, num))\n",
    "    return ans\n",
    "\n",
    "mountainHeight = 5\n",
    "workerTimes = [1, 7]\n",
    "process(mountainHeight, workerTimes)"
   ]
  },
  {
   "cell_type": "markdown",
   "metadata": {},
   "source": [
    "### []()\n",
    "### 题目\n",
    "\n",
    "\n",
    "\n",
    "### 分析\n"
   ]
  },
  {
   "cell_type": "code",
   "execution_count": 43,
   "metadata": {},
   "outputs": [
    {
     "name": "stdout",
     "output_type": "stream",
     "text": [
      "开始: 0 2 [1, 2]\n",
      "更新: 1 3 [2, 3]\n",
      "更新: 2 4 [3, 4]\n",
      "更新: 3 5 [4, 5]\n"
     ]
    },
    {
     "data": {
      "text/plain": [
       "10"
      ]
     },
     "execution_count": 43,
     "metadata": {},
     "output_type": "execute_result"
    }
   ],
   "source": [
    "def char_count(s):\n",
    "    result = {}\n",
    "    for char in s:\n",
    "        if char in result:\n",
    "            result[char] += 1\n",
    "        else:\n",
    "            result[char] = 1\n",
    "    return result\n",
    "\n",
    "def process(word1, word2):\n",
    "    left = []\n",
    "    word2_dict = char_count(word2)\n",
    "    you = len(word2_dict)\n",
    "    \n",
    "    for index, char in enumerate(word1):\n",
    "        if char in word2_dict:\n",
    "            left.append(index)\n",
    "            word2_dict[char] -= 1\n",
    "            if word2_dict[char] == 0:\n",
    "                you -= 1\n",
    "                if you == 0:\n",
    "                    break\n",
    "    if you != 0:\n",
    "        return 0\n",
    "    right_index = index\n",
    "    left_index = left.pop(0)\n",
    "    ans = left_index + len(word1) - right_index\n",
    "    print(\"开始:\",left_index, right_index, left)\n",
    "    for index in range(right_index+1, len(word1)):\n",
    "        \n",
    "        if word1[index] in word2_dict:\n",
    "            left.append(index)\n",
    "            if word1[index] == word1[left_index]:\n",
    "                \n",
    "                left_index = left.pop(0)\n",
    "                ans += left_index\n",
    "                print(\"更新:\",left_index, index, left)\n",
    "    return ans\n",
    "\n",
    "\n",
    "word1 = \"abcabc\"\n",
    "word2 = \"abc\"\n",
    "process(word1, word2)"
   ]
  },
  {
   "cell_type": "markdown",
   "metadata": {},
   "source": [
    "### []()\n",
    "### 题目\n",
    "\n",
    "\n",
    "\n",
    "### 分析\n"
   ]
  },
  {
   "cell_type": "code",
   "execution_count": 32,
   "metadata": {},
   "outputs": [
    {
     "data": {
      "text/plain": [
       "1"
      ]
     },
     "execution_count": 32,
     "metadata": {},
     "output_type": "execute_result"
    }
   ],
   "source": [
    "a = [1,23]\n",
    "a.pop(0)"
   ]
  },
  {
   "cell_type": "code",
   "execution_count": null,
   "metadata": {},
   "outputs": [],
   "source": []
  }
 ],
 "metadata": {
  "kernelspec": {
   "display_name": "Python 3",
   "language": "python",
   "name": "python3"
  },
  "language_info": {
   "codemirror_mode": {
    "name": "ipython",
    "version": 3
   },
   "file_extension": ".py",
   "mimetype": "text/x-python",
   "name": "python",
   "nbconvert_exporter": "python",
   "pygments_lexer": "ipython3",
   "version": "3.12.5"
  }
 },
 "nbformat": 4,
 "nbformat_minor": 2
}
