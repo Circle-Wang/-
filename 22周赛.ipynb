{
 "cells": [
  {
   "cell_type": "markdown",
   "metadata": {},
   "source": [
    "## [412周赛](https://leetcode.cn/contest/weekly-contest-412/)"
   ]
  },
  {
   "cell_type": "markdown",
   "metadata": {},
   "source": [
    "### [统计近似相等数对 II](https://leetcode.cn/problems/count-almost-equal-pairs-ii/description/)\n",
    "### 题目\n",
    "给你一个正整数数组nums。如果我们执行以下操作至多两次可以让两个整数x和y相等，那么我们称这个数对是近似相等的：\n",
    "- 选择x或者y之一，将这个数字中的两个数位交换。\n",
    "\n",
    "请你返回nums中，下标i和j满足i < j且nums[i]和nums[j]近似相等的数对数目。注意执行操作后得到的整数可以有前导0 。\n",
    "\n",
    "\n",
    "### 分析\n",
    "- 枚举右, 维护左: 向右边遍历数组时使用哈希表维护index左边数据的状态\n",
    "- 由于可以存在前导0, 因此我们有两种做法, 一种是在每个数上加上前导0, 还有一种是交换时我们只选择长度大的进行交换(因为长度大的可以通过与0换位置得到长度小的)。这里我们为了方便选择第二种处理方法(因为每个数加上前导0会对后面造成很多麻烦), 为了能在维护左边数据状态时一定是左边数的长度小于右边的, 因此我们需要根据长度将nums进行排序\n",
    "- 此处我们维护左边数据状态的方法就是, 记录数字出现次数. 当我们遍历到numj时, 将numj经过之多两次交换能得到哪些数字用集合(用于去重)记录下来, 然后遍历集合, 看看左边的数据状态中这些数字出现了多少次, 我们的答案就需要+多少次\n",
    "- 我们可以使用暴力的做法将至多交换两次可以得到的数据放到集合中(暴力做法中注意要复原现场)\n"
   ]
  },
  {
   "cell_type": "code",
   "execution_count": null,
   "metadata": {},
   "outputs": [],
   "source": [
    "import collections\n",
    "\n",
    "def process(nums):\n",
    "    nums.sort(key=lambda x: len(str(x)))\n",
    "    ans = 0\n",
    "    cnt = collections.defaultdict(int)\n",
    "    for num in nums:\n",
    "        st = {num}  # 什么都不交换\n",
    "        s = list(str(num))  # 得到数值列表, 方便交换\n",
    "        m = len(s)\n",
    "        # 暴力交换\n",
    "        for i in range(m):\n",
    "            for j in range(i+1, m):\n",
    "                s[i], s[j] = s[j], s[i]   # 第一次交换\n",
    "                st.add(int(\"\".join(s)))\n",
    "\n",
    "                for p in range(i+1, m):   # 这里从i+1开始是为了避免和第一次交换重复(不需要再从0开始交换)\n",
    "                    for q in range(p+1, m):\n",
    "                        s[p], s[q] = s[q], s[p]  # 第二次交换\n",
    "                        st.add(int(\"\".join(s)))\n",
    "                        s[p], s[q] = s[q], s[p]  # 注意复原\n",
    "                s[i], s[j] = s[j], s[i]  # 注意复原\n",
    "        # 遍历左边数据状态得到答案\n",
    "        ans += sum(cnt[v] for v in st)\n",
    "        # 更改左边数据状态\n",
    "        cnt[num] += 1   \n",
    "    return ans\n",
    "        \n",
    "\n",
    "            \n"
   ]
  },
  {
   "cell_type": "markdown",
   "metadata": {},
   "source": [
    "### [K 次乘运算后的最终数组 II](https://leetcode.cn/problems/final-array-state-after-k-multiplication-operations-ii/description/)\n",
    "### 题目\n",
    "给你一个整数数组nums ，一个整数k和一个整数multiplier 。你需要对nums执行k次操作，每次操作中：\n",
    "- 找到 nums 中的 最小 值 x ，如果存在多个最小值，选择最 前面 的一个。\n",
    "- 将 x 替换为 x * multiplier 。\n",
    "\n",
    "k次操作以后，你需要将nums中每一个数值对 10^9 + 7 取余。请你返回最终的nums数组。(注意这里的k非常大)\n",
    "\n",
    "### 分析\n",
    "- 我们可以使用最小堆的方式, 这样可以更快的得到最小的那个数(使用heapq.heapreplace可以更高效的替换堆中最小元素). 但由于这里的K非常大, 因此我们要想办法让操作于K无关。\n",
    "- 经过分析可以知道两个结论:\n",
    "    - 1、当x,y,z很接近时, 一定是从小到大进行依次乘以m的, 根据这个规律我们可以直接得到每个元素还需要进行多少次的乘法: 如果排序后i < k%n, 则还需要执行 k//n + 1次; 如果i >= k%n, 则还需要执行k//n 次的乘法(因为此处i从0开始, 所以当k%n=0时是不需要多执行一次的)\n",
    "    - 2、对于原始数组, 我们可以先使用循环最小堆的方式, 不断将数组中每个元素乘以m, 使得他们相互靠近, 当最后出堆的是num原始中的最大值时, 此时数组就满足了结论1的先决条件: 各数组都非常靠近\n",
    "- 需要注意到一些特殊情况, 如果k比较小时可能在循环最小堆的时候就已经解决问题了, 因此循环最小堆的循环条件是k > 0 ; 当multiplier为1时, 是不可能退出得了循环最小堆的(因为最小是*1是不可能靠近最大值的)"
   ]
  },
  {
   "cell_type": "code",
   "execution_count": 2,
   "metadata": {},
   "outputs": [],
   "source": [
    "import heapq\n",
    "\n",
    "def process(nums, k, multiplier):\n",
    "    if multiplier == 1:\n",
    "        return nums\n",
    "\n",
    "    MOD = 1_000_000_000 + 7\n",
    "    n = len(nums)\n",
    "    mx = max(nums)\n",
    "    h = [(num, i) for i, num in enumerate(nums)]  # 需要保留坐标\n",
    "    heapq.heapify(h)\n",
    "\n",
    "    # 在此处可以先不进行nums的变换\n",
    "    while k > 0:\n",
    "        num, i = h[0]  # 拿到堆中最小值\n",
    "        heapq.heapreplace(h, (num*multiplier, i))   # 先pop再push, 更高效\n",
    "        k -= 1         # 注意此处要将k减小\n",
    "        if num == mx:  # 如果出堆的是原始数组中的最小值, 那么说明此时已经满足很靠近的条件了\n",
    "            break\n",
    "    \n",
    "    for i in range(n):  # 这里的i表示就是此时num中数组排续的位次\n",
    "        num, j = heapq.heappop(h)\n",
    "        nums[j] = num * pow(multiplier, k//n + (i < k%n), MOD) % MOD   # 这里使用int + bool巧妙地进行了if操作\n",
    "    return nums"
   ]
  },
  {
   "cell_type": "markdown",
   "metadata": {},
   "source": [
    "## [416周赛](https://leetcode.cn/contest/weekly-contest-416/)"
   ]
  },
  {
   "cell_type": "markdown",
   "metadata": {},
   "source": [
    "### [移山所需的最少秒数](https://leetcode.cn/problems/minimum-number-of-seconds-to-make-mountain-height-zero/description/)\n",
    "### 题目\n",
    "给你一个整数 mountainHeight 表示山的高度。同时给你一个整数数组 workerTimes，表示工人们的工作时间（单位：秒）。对于工人i: 把山的高度降低x，需要花费workerTimes[i] + workerTimes[i] * 2 +...+ workerTimes[i] * x秒。例如:\n",
    "- 山的高度降低 1，需要 workerTimes[i] 秒。\n",
    "- 山的高度降低 2，需要 workerTimes[i] + workerTimes[i] * 2 秒，依此类推。\n",
    "\n",
    "返回一个整数，表示工人们使山的高度降低到0所需的最少秒数。注意: 工人们是同时进行工作的。\n",
    "\n",
    "### 分析\n",
    "- 由于工人们是同时进行工作, 所以得到每个工人工作时间列表后需要求最大值. 我们可以使用模拟堆的方式, 每次选一个「工作后总用时」最短的工人，把山的高度降低 1。因此我们的堆中元素为(工作后该员工总用时, 下一次工作的增量时间, 工人基础时间)\n",
    "- 每次工人工作后维护当前最多用时"
   ]
  },
  {
   "cell_type": "code",
   "execution_count": null,
   "metadata": {},
   "outputs": [],
   "source": [
    "import heapq\n",
    "def process(mountainHeight: int, workerTimes):\n",
    "    cost = [(num, 2*num, num) for num in workerTimes]\n",
    "    heapq.heapify(cost)\n",
    "\n",
    "    ans = 0\n",
    "    for _ in range(mountainHeight):  # 循环山的高度, 每次挑选「工作后总用时」最短的工人\n",
    "        time, delta, base = heapq.heappop(cost)\n",
    "        ans = max(0, time)\n",
    "        heapq.heappush(cost, (time+delta, delta+base, base))\n",
    "    return ans\n",
    "\n",
    "mountainHeight = 5\n",
    "workerTimes = [1, 7]\n",
    "process(mountainHeight, workerTimes)"
   ]
  },
  {
   "cell_type": "markdown",
   "metadata": {},
   "source": [
    "### [统计重新排列后包含另一个字符串的子字符串数目 I](https://leetcode.cn/problems/count-substrings-that-can-be-rearranged-to-contain-a-string-i/)\n",
    "### 题目\n",
    "给你两个字符串word1和 word2。如果一个字符串x重新排列后，word2是重排字符串的前缀，那么我们称字符串x是合法的。请你返回word1中合法子字符串的数目。\n",
    "\n",
    "### 分析\n",
    "- 使用滑动窗口公式, 在遍历右端点时, 不断统计窗口中的字母出现次数, 当窗口满足word2的所有字母时, 可以开始缩小左窗口了. 在缩小时每缩小一次即可把答案+1，因此此时的[left, right]子串就是一个有效排列, 并且[left, right], [left, right+1], ..... [left, n-1]都是有效的排列, 因此每次缩小范围时需要对ans += n - right\n",
    "- 使用collections.Counter可以快速对可迭代对象进行数量统计, 还可以进行大小统计.count1 >= count2 会以count1中每个键值作为基准去检查对应count2中的值是否满足>=关系, 如果count2中不存在键则值默认为0，遍历完count1中所有键值对后如果都满足>=关系则返回true。\n"
   ]
  },
  {
   "cell_type": "code",
   "execution_count": 5,
   "metadata": {},
   "outputs": [
    {
     "data": {
      "text/plain": [
       "10"
      ]
     },
     "execution_count": 5,
     "metadata": {},
     "output_type": "execute_result"
    }
   ],
   "source": [
    "from collections import Counter\n",
    "\n",
    "def process(word1, word2):\n",
    "    n = len(word1)\n",
    "    word1_dict = Counter()\n",
    "    word2_dict = Counter(word2)\n",
    "    left = 0   # 滑动窗口左端点\n",
    "    ans = 0 \n",
    "    # 滑动窗口右端点\n",
    "    for right, char in enumerate(word1):\n",
    "        word1_dict[char] += 1\n",
    "        # 此时窗口中为[left, right]\n",
    "\n",
    "        while word2_dict <= word1_dict:   # word2中所有出现字母数字都<=窗口中的\n",
    "            ans += n-right   # [left, right], [left, right+1], ..... [left, n-1]\n",
    "            word1_dict[word1[left]] -= 1\n",
    "            left += 1\n",
    "        # 此时[left, right] 已经不满足包含word2的结果了\n",
    "\n",
    "    return ans\n",
    "\n",
    "\n",
    "word1 = \"abcabc\"\n",
    "word2 = \"abc\"\n",
    "process(word1, word2)"
   ]
  },
  {
   "cell_type": "markdown",
   "metadata": {},
   "source": [
    "### [统计重新排列后包含另一个字符串的子字符串数目 II](https://leetcode.cn/problems/count-substrings-that-can-be-rearranged-to-contain-a-string-ii/)\n",
    "### 题目\n",
    "给你两个字符串word1和 word2。如果一个字符串x重新排列后，word2是重排字符串的前缀，那么我们称字符串x是合法的。请你返回word1中合法子字符串的数目。\n",
    "\n",
    "注意: 必须实现一个线性复杂度的解法。\n",
    "\n",
    "### 分析\n",
    "- 上一题的代码滑动窗口的时间复杂度为O(n), 而别忘了在比较word2_dict <= word1_dict时是根据哈希表挨个比较的, 因此这里的时间复杂度是26(最多26个字母), 因此上一题中时间复杂度为O(26n)\n",
    "- 我们考虑while word2_dict <= word1_dict这一行代码, 这里我们窗口中每次增加一个字母后, 却需要去比较26个字母的大小关系, 实际上我们只用比较增加的这一个字母是否会影响到我们的窗口收缩。因此我们可以使用一个标识符, 记录word1窗口中是否全部大于word2_dict中的值"
   ]
  },
  {
   "cell_type": "code",
   "execution_count": 1,
   "metadata": {},
   "outputs": [
    {
     "data": {
      "text/plain": [
       "Counter({'s': 1, 'a': 1, 'd': 1, 'b': 1})"
      ]
     },
     "execution_count": 1,
     "metadata": {},
     "output_type": "execute_result"
    }
   ],
   "source": [
    "from collections import Counter\n",
    "\n",
    "def process(word1, word2):\n",
    "    n = len(word1)\n",
    "    word2_dict = Counter(word2)\n",
    "    tag_count = len(word2_dict)\n",
    "    left = 0   # 滑动窗口左端点\n",
    "    ans = 0 \n",
    "    # 滑动窗口右端点\n",
    "    for right, char in enumerate(word1):\n",
    "        word2_dict[char] -= 1\n",
    "        # 此时窗口中为[left, right]\n",
    "        if word2_dict[char] == 0:  # char减到0了, 说明窗口中的字母已经完全匹配了\n",
    "            tag_count -= 1\n",
    "\n",
    "        while tag_count == 0:   # 如果tag_count减少到0说明窗口中的所有字母已经能覆盖住word2中所有字母\n",
    "            # 如果移除的字母是在word2中, 则意味着可能窗口中的字符会不满足条件\n",
    "            if word1[left] in word2_dict:  \n",
    "                word2_dict[word1[left]] += 1\n",
    "                if word2_dict[word1[left]] > 0:  # 说明窗口中的字母已经不满足word2了\n",
    "                    tag_count += 1\n",
    "            left += 1\n",
    "        ans += left   # [0, right], [1, right], ..... [left-1, right]都是符合条件的\n",
    "\n",
    "        # 此时[left, right] 已经不满足包含word2的结果了\n",
    "\n",
    "    return ans"
   ]
  },
  {
   "cell_type": "markdown",
   "metadata": {},
   "source": [
    "## [419周赛](https://leetcode.cn/contest/weekly-contest-419/)"
   ]
  },
  {
   "cell_type": "markdown",
   "metadata": {},
   "source": [
    "### [计算子数组的 x-sum II](https://leetcode.cn/problems/find-x-sum-of-all-k-long-subarrays-ii/description/)\n",
    "### 题目\n",
    "给你一个由n个整数组成的数组nums，以及两个整数k和x。数组的x-sum计算按照以下步骤进行:\n",
    "- 统计数组中所有元素的出现次数。\n",
    "- 仅保留出现次数最多的前x个元素的每次出现。如果两个元素的出现次数相同，则数值较大的元素被认为出现次数更多。\n",
    "\n",
    "计算结果数组的和。注意: 如果数组中的不同元素少于x个，则其 x-sum 是数组的元素总和。\n",
    "\n",
    "返回一个长度为n-k+1的整数数组answer，其中answer[i]是子数组nums[i: i + k] (长度为k的子数组) 的x-sum。\n",
    "\n",
    "\n",
    "### 分析\n",
    "- 暴力的方式: 遍历到i时, 将i-1元素从counter中去除, 将i+k-1元素加入counter中, 然后计算counter中出现次数前x的元素和, 即可完成answer[i]的计算。相当于是在使用窗口滑动, 每次滑动k个元素, 计算当前窗口内出现次数前x的元素和。但由于每次滑动后都需要对counter进行重新排序获取前x次出现次数元素, 因此时间复杂度太高\n",
    "- 由于我们需要记录前x出现的元素, 我们考虑每当遍历到i时, 进出的元素实际上只会影响到两个元素的出现次数, 从而影响到counter的排序, 但是实际上counter的排序也只会影响到2个元素, 我们考虑有没有什么方式将这个排序的消耗变得最小: 使用两个顺序列表(自动维护列表元素的排列)\n",
    "    - L: 记录出现频率前x的元素(如果频率相同, 则数值较大的元素更大)\n",
    "    - R: 记录窗口中其他的元素\n",
    "    - 由于需要进行多元素的排序, 因此L和R中的元素是(num出现次数, num)\n",
    "\n",
    "- 我们要想实现上述行为需要抽象出四个方法:\n",
    "    - add(num): 将num加入L或R中(放入窗口中), 如果L非空, 且num的出现次数比L中最小的要大, 则将num加入L, 否则加入R\n",
    "    - remove(num): 将num从L或R中移除(移出窗口), 如果num在L中, 则将其移出L, 否则将其移出R\n",
    "    - R2L: 将R中的最大元素移入L中, 保证L中元素是前x个出现次数最大的元素(平衡)\n",
    "    - L2R: 将L中的最小元素移出L, 移入R中, 保证R中元素是窗口中其他元素(平衡)\n",
    "    \n"
   ]
  },
  {
   "cell_type": "code",
   "execution_count": 1,
   "metadata": {},
   "outputs": [
    {
     "name": "stdout",
     "output_type": "stream",
     "text": [
      "SortedList: SortedList([1, 2, 5, 8])\n",
      "Is 5 in the list? True\n",
      "Index of 2: 1\n",
      "Updated SortedList: SortedList([1, 2, 5])\n",
      "Slice [1:3]: [2, 5]\n"
     ]
    }
   ],
   "source": [
    "from sortedcontainers import SortedList\n",
    "from collections import defaultdict\n",
    "\n",
    "def process(nums, k: int, x: int):\n",
    "    cnt = defaultdict(int)\n",
    "    L = SortedList()   # 保存 tuple (出现次数，元素值)\n",
    "    R = SortedList()\n",
    "    n = len(nums)\n",
    "    sum_l = 0          # L 的元素和\n",
    "    answer = [0] * (n-k+1)\n",
    "\n",
    "    def add(val: int) -> None:\n",
    "        if cnt[val] == 0:  # 防止出现次数为0的元素加入L和R中\n",
    "            return \n",
    "        p = (cnt[val], val)\n",
    "        if L and p > L[0]:  # p 比 L 中最小的还大\n",
    "            nonlocal sum_l\n",
    "            sum_l += p[0] * p[1]\n",
    "            L.add(p)\n",
    "        else:\n",
    "            R.add(p)\n",
    "\n",
    "    def remove(val: int) -> None:\n",
    "        if cnt[val] == 0:  # 如果cnt中val的出现次数已经是0了, 不能再减少了\n",
    "            return \n",
    "        p = (cnt[val], val)\n",
    "        if p in L:\n",
    "            nonlocal sum_l\n",
    "            sum_l -= p[0] * p[1]\n",
    "            L.remove(p)\n",
    "        else:\n",
    "            R.remove(p)\n",
    "\n",
    "    def L2R() -> None:\n",
    "        nonlocal sum_l\n",
    "        p = L[0]         # 找到L中最小的\n",
    "        sum_l -= p[0] * p[1]\n",
    "        L.remove(p)\n",
    "        R.add(p)\n",
    "\n",
    "    def R2L() -> None:\n",
    "        nonlocal sum_l\n",
    "        p = R[-1]        # 找到R中最大的\n",
    "        sum_l += p[0] * p[1]\n",
    "        R.remove(p)\n",
    "        L.add(p)\n",
    "    \n",
    "    for r, in_ in enumerate(nums):\n",
    "        # 移动元素前需要将in_旧状态从L和R中清除\n",
    "        remove(in_)\n",
    "        cnt[in_] += 1\n",
    "        add(in_)\n",
    "        \n",
    "        l = r - k + 1   # 出去的num坐标\n",
    "        if l < 0:       # 说明没有num需要出去\n",
    "            continue\n",
    "        \n",
    "        # 此处的窗口中才是[0 ~ k-1]的元素\n",
    "        while len(L) < x and R != []:  # 如果L中个数小于x，且R中还有元素，则将R中最大的元素加入L\n",
    "            R2L()\n",
    "        while len(L) > x and L != []:  # 如果L中个数大于x，且L中还有元素，则将L中最小的元素加入R\n",
    "            L2R()\n",
    "\n",
    "        # 记录下answer对应位置的答案\n",
    "        answer[l] = sum_l\n",
    "\n",
    "        # 移除 out\n",
    "        out = nums[l]\n",
    "        remove(out)   # 移动元素前需要将out旧状态从L和R中清除\n",
    "        cnt[out] -= 1\n",
    "        add(out)      # 移动元素后，将新状态加入L和R中\n",
    "\n",
    "    return answer\n",
    "            \n"
   ]
  },
  {
   "cell_type": "code",
   "execution_count": 3,
   "metadata": {},
   "outputs": [
    {
     "data": {
      "text/plain": [
       "False"
      ]
     },
     "execution_count": 3,
     "metadata": {},
     "output_type": "execute_result"
    }
   ],
   "source": [
    "L = SortedList()\n",
    "L is None"
   ]
  },
  {
   "cell_type": "code",
   "execution_count": 1,
   "metadata": {},
   "outputs": [
    {
     "data": {
      "text/plain": [
       "[13]"
      ]
     },
     "execution_count": 1,
     "metadata": {},
     "output_type": "execute_result"
    }
   ],
   "source": [
    "from collections import Counter\n",
    "\n",
    "def process(nums, k: int, x: int):\n",
    "    counter = Counter(nums[:k])\n",
    "    ans = []\n",
    "    n = len(nums)\n",
    "\n",
    "    sorted_items = sorted(counter.items(), key=lambda item: (-item[1], -item[0]))\n",
    "    tmp = 0\n",
    "    for _ in range(min(x,len(sorted_items))):\n",
    "        count, num = sorted_items.pop(0)\n",
    "        tmp += count * num\n",
    "    ans.append(tmp)\n",
    "\n",
    "    for i in range(1, n-k+1):\n",
    "        counter[nums[i-1]] -= 1\n",
    "        counter[nums[i+k-1]] += 1\n",
    "        sorted_items = sorted(counter.items(), key=lambda item: (-item[1], -item[0]))\n",
    "        tmp = 0\n",
    "        for _ in range(min(x,len(sorted_items))):\n",
    "            count, num = sorted_items.pop(0)\n",
    "            tmp += count * num\n",
    "        ans.append(tmp)\n",
    "    return ans\n",
    "\n",
    "nums = [9,2,2]\n",
    "k = 3\n",
    "x = 3\n",
    "process(nums,k,x)"
   ]
  },
  {
   "cell_type": "markdown",
   "metadata": {},
   "source": [
    "### [ 第 K 大的完美二叉子树的大小](https://leetcode.cn/problems/k-th-largest-perfect-subtree-size-in-binary-tree/description/)\n",
    "### 题目\n",
    "给你一棵二叉树的根节点root和一个整数k。返回第k大的完美二叉子树的大小，如果不存在则返回-1。\n",
    "\n",
    "完美二叉树: 又称为满二叉树, 是指所有叶子节点都在同一层级的树，且每个父节点恰有两个子节点。\n",
    "\n",
    "### 分析:\n",
    "- 对于满二叉树, 我们有两种判断方式: 1、根据左右子树的高度以及左右子树的节点个数来判断(2^hight - 1 = 树节点个数)。 2、根据左右子树的高度，以及左右子树是否同时为满二叉树来判断(只有当左右子树同时为满二叉树并且左右子树高度相同, 此时当前树才为满二叉树)。\n",
    "- 由于本题中只用得到第k大的子树节点大小, 实际上我们只用在遍历树的过程中记录下为完美二叉树的树的高度即可(满二叉树的高度可以得到节点个数)。因此我们的递归函数只需要返回当前树的高度+是否为满二叉树即可。(实际是实现时, 当树不为满二叉树时高度返回-1即可)\n",
    "\n",
    "\n"
   ]
  },
  {
   "cell_type": "code",
   "execution_count": null,
   "metadata": {},
   "outputs": [],
   "source": [
    "# 判断方式一: \n",
    "class Info():\n",
    "    def __init__(self, hight, number):\n",
    "        self.hight = hight\n",
    "        self.count = number\n",
    "\n",
    "# 递归函数 这个递归函数也可以用来计算一个未知二叉树的节点个数\n",
    "def process(root,k):\n",
    "    ans = []\n",
    "    # 找到满二叉数\n",
    "    def allTree(head):\n",
    "        if head == None:\n",
    "            return Info(0, 0)\n",
    "\n",
    "        leftInfo = allTree(head.left)\n",
    "        rightInfo = allTree(head.right)\n",
    "\n",
    "        hight = max(leftInfo.hight, rightInfo.hight) + 1\n",
    "        l = leftInfo.count + rightInfo.count + 1\n",
    "        if (2**hight - 1) == l:   # 判断条件: 总节点数 等于 高度*2-1\n",
    "            ans.append(l)\n",
    "        return Info(hight, l)\n",
    "    \n",
    "    allTree(root)\n",
    "    ans.sort(reverse=True)\n",
    "    return ans[k-1] if len(ans) >= k else -1 \n"
   ]
  },
  {
   "cell_type": "code",
   "execution_count": 15,
   "metadata": {},
   "outputs": [
    {
     "data": {
      "text/plain": [
       "[4, 3, 2, 1]"
      ]
     },
     "execution_count": 15,
     "metadata": {},
     "output_type": "execute_result"
    }
   ],
   "source": [
    "# 判断方式二:\n",
    "def process(root,k):\n",
    "    ans = []\n",
    "\n",
    "    def dfp(node):\n",
    "        if node == None:\n",
    "            return 0    # 说明高度为0\n",
    "        left_hight = dfp(node.left)\n",
    "        right_hight = dfp(node.right)\n",
    "\n",
    "        if left_hight < 0 or right_hight < 0:  # 说明左子树/右子树有一个不为满二叉树\n",
    "            return -1\n",
    "        if left_hight != right_hight:   # 左右子树高度不相等, 也肯定不是满二叉树\n",
    "            return -1\n",
    "        # 来到这里说明当前树为满二叉树\n",
    "        cur_hight = left_hight + 1\n",
    "        ans.append(cur_hight)\n",
    "\n",
    "        return cur_hight\n",
    "        \n",
    "    dfp(root)\n",
    "    if k > len(ans):\n",
    "        return -1\n",
    "    ans.sort()\n",
    "    return  (1<<ans[-k]) - 1   # 第k大高度, 得到第k大的节点个数\n"
   ]
  },
  {
   "cell_type": "markdown",
   "metadata": {},
   "source": [
    "### [问题3]()"
   ]
  },
  {
   "cell_type": "markdown",
   "metadata": {},
   "source": [
    "dp[i][n][0]: B表示截止到i, 总得分n次, 且最后一次出牌为F的种类数\n",
    "dp[i][n][1]: B表示截止到i, 总得分n次, 且最后一次出牌为W的种类数\n",
    "dp[i][n][2]: B表示截止到i, 总得分n次, 且最后一次出牌为E的种类数\n",
    "\n",
    "W > F; F > E; E > W\n",
    "\n",
    "当更新到i时,遍历0~i, \n",
    "假设A[i] = W \n",
    "dp[i][j][0] = dp[i-1][j][1] + dp[i-1][j][2]   : 最后一次牌为F, 说明本局输了\n",
    "dp[i][j][1] = dp[i-1][j][0] + dp[i-1][j][2]   : 最后一次牌为W, 说明不得分\n",
    "dp[i][j][2] = dp[i-1][j-1][0] + dp[i-1][j-1][1]: 最后一次牌为E, 说明赢了, 得1分\n",
    "\n",
    "假设A[i] = F\n",
    "dp[i][j][0] = dp[i-1][j][1] + dp[i-1][j][2]   : 最后一次牌为F, 不得分\n",
    "dp[i][j][1] = dp[i-1][j-1][0] + dp[i-1][j-1][2]   : 最后一次牌为W, 说明赢了, 得1分\n",
    "dp[i][j][2] = dp[i-1][j][1] + dp[i-1][j][2]: 最后一次牌为E, 说明本局输了\n",
    "\n",
    "假设A[i] = E\n",
    "dp[i][j][0] = dp[i-1][j-1][1] + dp[i-1][j-1][2]   : 最后一次牌为F, 说明赢了, 得1分\n",
    "dp[i][j][1] = dp[i-1][j][0] + dp[i-1][j][2]   : 最后一次牌为W, 本局输了不得分\n",
    "dp[i][j][2] = dp[i-1][j][0] + dp[i-1][j][1]   : 最后一次牌为E, 不得分\n",
    "\n",
    "\n",
    "相等时不得分, B最后求和时少了情况"
   ]
  },
  {
   "cell_type": "code",
   "execution_count": 25,
   "metadata": {},
   "outputs": [
    {
     "name": "stdout",
     "output_type": "stream",
     "text": [
      "i=1, j=0  1 2 1\n",
      "i=1, j=1  1 2 1\n",
      "i=2, j=0  3 2 3\n",
      "i=2, j=1  3 4 3\n",
      "i=2, j=2  0 2 0\n"
     ]
    },
    {
     "data": {
      "text/plain": [
       "2"
      ]
     },
     "execution_count": 25,
     "metadata": {},
     "output_type": "execute_result"
    }
   ],
   "source": [
    "def process(s):\n",
    "    n = len(s)\n",
    "    dp = [[ [0, 0, 0] for __ in range(n+1)] for _ in range(n)]\n",
    "    if s[0] == \"W\":\n",
    "        dp[0][0][0] = 1\n",
    "        dp[0][0][1] = 1\n",
    "        dp[0][1][2] = 1\n",
    "    if s[0] == 'F':\n",
    "        dp[0][0][0] = 1\n",
    "        dp[0][1][1] = 1\n",
    "        dp[0][0][2] = 1\n",
    "    if s[0] == 'E':\n",
    "        dp[0][1][0] = 1\n",
    "        dp[0][0][1] = 1\n",
    "        dp[0][0][2] = 1\n",
    "\n",
    "    for i in range(1, n):\n",
    "        B_car = s[i]\n",
    "        for j in range(i+1):\n",
    "            if B_car == \"W\":\n",
    "                dp[i][j][0] = dp[i-1][j][1] + dp[i-1][j][2]   \n",
    "                dp[i][j][1] = dp[i-1][j][0] + dp[i-1][j][2]   \n",
    "                dp[i][j][2] = dp[i-1][j-1][0] + dp[i-1][j-1][1] + dp[i-1][j][0] + dp[i-1][j][1]\n",
    "            if B_car == \"F\":\n",
    "                dp[i][j][0] = dp[i-1][j][1] + dp[i-1][j][2]  \n",
    "                dp[i][j][1] = dp[i-1][j-1][0] + dp[i-1][j-1][2] + dp[i-1][j][0] + dp[i-1][j][2]  \n",
    "                dp[i][j][2] = dp[i-1][j][1] + dp[i-1][j][2]\n",
    "            if B_car == \"E\":\n",
    "                dp[i][j][0] = dp[i-1][j-1][1] + dp[i-1][j-1][2] + dp[i-1][j][1] + dp[i-1][j][2] \n",
    "                dp[i][j][1] = dp[i-1][j][0] + dp[i-1][j][2]  \n",
    "                dp[i][j][2] = dp[i-1][j][0] + dp[i-1][j][1]\n",
    "            print(f\"i={i}, j={j} \",dp[i][j][0], dp[i][j][1],dp[i][j][2])\n",
    "    ans = 0\n",
    "    for j in range((n+1)//2, n+1):\n",
    "        ans += dp[n-1][j][0] + dp[n-1][j][1] + dp[n-1][j][2]\n",
    "\n",
    "    return ans\n",
    "\n",
    "s = \"FFF\"\n",
    "process(s)"
   ]
  },
  {
   "cell_type": "markdown",
   "metadata": {},
   "source": [
    "### [问题4]()"
   ]
  },
  {
   "cell_type": "code",
   "execution_count": 20,
   "metadata": {},
   "outputs": [
    {
     "data": {
      "text/plain": [
       "[3, 3, 3]"
      ]
     },
     "execution_count": 20,
     "metadata": {},
     "output_type": "execute_result"
    }
   ],
   "source": [
    "from collections import Counter\n",
    "\n",
    "def process(nums, k: int, x: int):\n",
    "    counter = Counter(nums[:k])\n",
    "    ans = []\n",
    "    n = len(nums)\n",
    "\n",
    "    sorted_items = sorted(counter.items(), key=lambda item: (-item[1], -item[0]))\n",
    "    window_len = len(sorted_items)\n",
    "    tmp = 0\n",
    "    for _ in range(min(x, window_len)):\n",
    "        count, num = sorted_items.pop(0)\n",
    "        tmp += count * num\n",
    "    ans.append(tmp)\n",
    "\n",
    "    for i in range(1, n-k+1):\n",
    "        counter[nums[i-1]] -= 1\n",
    "        counter[nums[i+k-1]] += 1\n",
    "        tmp -= nums[i-1]\n",
    "        tmp += nums[i+k-1]\n",
    "        if counter[nums[i-1]] == 0:\n",
    "            del counter[nums[i-1]]\n",
    "            window_len -= 1\n",
    "        if counter[nums[i+k-1]] == 1:\n",
    "            window_len += 1\n",
    "\n",
    "        if x > window_len:\n",
    "            pass\n",
    "        else:\n",
    "            sorted_items = sorted(counter.items(), key=lambda item: (-item[1], -item[0]))\n",
    "            tmp = 0\n",
    "            for _ in range(min(x,len(sorted_items))):\n",
    "                count, num = sorted_items.pop(0)\n",
    "                tmp += count * num\n",
    "\n",
    "        ans.append(tmp)\n",
    "    return ans\n",
    "\n",
    "nums = [1,1,1,1,1]\n",
    "k = 3\n",
    "x = 3\n",
    "process(nums,k,x)"
   ]
  },
  {
   "cell_type": "code",
   "execution_count": 16,
   "metadata": {},
   "outputs": [
    {
     "data": {
      "text/plain": [
       "Counter({2: 1, 3: 1, 4: 1})"
      ]
     },
     "execution_count": 16,
     "metadata": {},
     "output_type": "execute_result"
    }
   ],
   "source": [
    "a = Counter([1,2,3,4])\n",
    "a[1] -= 1\n",
    "if a[1] == 0:\n",
    "    del a[1]\n",
    "a"
   ]
  },
  {
   "cell_type": "markdown",
   "metadata": {},
   "source": [
    "## [xxx周赛]()"
   ]
  },
  {
   "cell_type": "code",
   "execution_count": null,
   "metadata": {},
   "outputs": [],
   "source": []
  }
 ],
 "metadata": {
  "kernelspec": {
   "display_name": "base",
   "language": "python",
   "name": "python3"
  },
  "language_info": {
   "codemirror_mode": {
    "name": "ipython",
    "version": 3
   },
   "file_extension": ".py",
   "mimetype": "text/x-python",
   "name": "python",
   "nbconvert_exporter": "python",
   "pygments_lexer": "ipython3",
   "version": "3.12.5"
  }
 },
 "nbformat": 4,
 "nbformat_minor": 2
}
