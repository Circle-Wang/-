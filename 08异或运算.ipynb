{
 "cells": [
  {
   "cell_type": "markdown",
   "metadata": {},
   "source": [
    "## 异或运算^\n",
    "### 运算规则：\n",
    "- 无进位相加\n",
    "### 运算性质：\n",
    "- 1、满足交换率和结合律\n",
    "- 2、0^N = N   \n",
    "- 3、N^N =0"
   ]
  },
  {
   "cell_type": "markdown",
   "metadata": {},
   "source": [
    "## 问题1：\n",
    "不申请额外变量，交换两个数的位置，"
   ]
  },
  {
   "cell_type": "code",
   "execution_count": null,
   "metadata": {},
   "outputs": [],
   "source": [
    "a = 23\n",
    "b = 12 \n",
    "print(a,b)\n",
    "a = a^b   # b不会变，a的值改变\n",
    "b = a^b   # 新的a与b异或=23^12^12=23,b已经变化成了23\n",
    "a = a^b   \n",
    "print(a,b)"
   ]
  },
  {
   "cell_type": "markdown",
   "metadata": {},
   "source": [
    "## 问题2：\n",
    "一个数组中一种数出现了奇数次，其他数都出现了偶数次，怎么找到这种数"
   ]
  },
  {
   "cell_type": "code",
   "execution_count": null,
   "metadata": {},
   "outputs": [],
   "source": [
    "eor = 0\n",
    "arr = [1,2,3,3,2,4,4,1,4]\n",
    "for i in arr:\n",
    "    eor = eor^i\n",
    "eor"
   ]
  },
  {
   "cell_type": "markdown",
   "metadata": {},
   "source": [
    "## 问题3：\n",
    "一个数组中2种数出现了奇数次，其他数都出现了偶数次，怎么找到这2种数\n",
    "\n",
    "技巧：&(且)\n",
    "- N & ((~N)+1)提取出一个二进制数的最右边的1，其他位全是0，例如01001000，操作完之后返回00001000\n",
    "- (N & a) != 0:如果a是只有1位上是1的数(00001000)，则该不等式表示，N与a在该位上有相同的1\n",
    "- N ^ a:如果a是只有1位上是1的数(00001000),该结果将会对N的该位进行01互换"
   ]
  },
  {
   "cell_type": "code",
   "execution_count": null,
   "metadata": {},
   "outputs": [],
   "source": [
    "arr = [1,2,3,2,3,4,4,2]\n",
    "eor1 = 0\n",
    "for i in arr:\n",
    "    eor1 ^= i # eor1最终得到的是a^b\n",
    "right_one = eor1 & ((~eor1)+1) # 获取最后一位是1的位置，意味着a和b在这一位上是不同的\n",
    "eor2 = 0\n",
    "for i in arr:\n",
    "    if i & right_one != 0 : # 根据a和b的不同区分总集合\n",
    "        eor2 ^= i # 其中一种数a\n",
    "eor1 ^= eor2\n",
    "print(eor1,eor2)\n",
    "    "
   ]
  },
  {
   "cell_type": "code",
   "execution_count": null,
   "metadata": {},
   "outputs": [],
   "source": []
  }
 ],
 "metadata": {
  "kernelspec": {
   "display_name": "Python 3.8.6 64-bit",
   "metadata": {
    "interpreter": {
     "hash": "9afc2b4a137c1ef260a208b8b14dcafe0c511635e698b6a7b46f192005b0a3f6"
    }
   },
   "name": "python3"
  },
  "language_info": {
   "codemirror_mode": {
    "name": "ipython",
    "version": 3
   },
   "file_extension": ".py",
   "mimetype": "text/x-python",
   "name": "python",
   "nbconvert_exporter": "python",
   "pygments_lexer": "ipython3",
   "version": "3.8.6-final"
  },
  "orig_nbformat": 2
 },
 "nbformat": 4,
 "nbformat_minor": 2
}
