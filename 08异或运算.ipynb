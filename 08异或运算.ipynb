{
 "cells": [
  {
   "cell_type": "markdown",
   "metadata": {},
   "source": [
    "## 异或运算^\n",
    "### 运算规则：\n",
    "- 无进位相加\n",
    "### 运算性质：\n",
    "- 1、满足交换率和结合律\n",
    "- 2、0^N = N   \n",
    "- 3、N^N =0"
   ]
  },
  {
   "attachments": {},
   "cell_type": "markdown",
   "metadata": {},
   "source": [
    "## 问题1：交换两个变量\n",
    "不申请额外变量，交换两个数的位置，"
   ]
  },
  {
   "cell_type": "code",
   "execution_count": null,
   "metadata": {},
   "outputs": [],
   "source": [
    "a = 23\n",
    "b = 12 \n",
    "print(a,b)\n",
    "a = a^b   # b不会变，a的值改变\n",
    "b = a^b   # 新的a与b异或=23^12^12=23,b已经变化成了23\n",
    "a = a^b   \n",
    "print(a, b)"
   ]
  },
  {
   "attachments": {},
   "cell_type": "markdown",
   "metadata": {},
   "source": [
    "## 问题2：出现奇数次的一个数字\n",
    "一个数组中一种数出现了奇数次，其他数都出现了偶数次，怎么找到这种数"
   ]
  },
  {
   "cell_type": "code",
   "execution_count": null,
   "metadata": {},
   "outputs": [],
   "source": [
    "eor = 0\n",
    "arr = [1,2,3,3,2,4,4,1,4]\n",
    "for i in arr:\n",
    "    eor = eor^i\n",
    "eor"
   ]
  },
  {
   "attachments": {},
   "cell_type": "markdown",
   "metadata": {},
   "source": [
    "## 问题3：出现奇数次的两个数字\n",
    "一个数组中2种数出现了奇数次，其他数都出现了偶数次，怎么找到这2种数\n",
    "\n",
    "技巧：&(且)\n",
    "- N & ((~N)+1)提取出一个二进制数的最右边的1，其他位全是0，例如01001000，操作完之后返回00001000\n",
    "- (N & a) != 0:如果a是只有1位上是1的数(00001000)，则该不等式表示，N与a在该位上有相同的1\n",
    "- N ^ a:如果a是只有1位上是1的数(00001000),该结果将会对N的该位进行01互换"
   ]
  },
  {
   "cell_type": "code",
   "execution_count": null,
   "metadata": {},
   "outputs": [],
   "source": [
    "arr = [1,2,3,2,3,4,4,2]\n",
    "eor1 = 0\n",
    "for i in arr:\n",
    "    eor1 ^= i # eor1最终得到的是a^b\n",
    "right_one = eor1 & ((~eor1)+1) # 获取最后一位是1的位置，意味着a和b在这一位上是不同的\n",
    "eor2 = 0\n",
    "for i in arr:\n",
    "    if i & right_one != 0 : # 根据a和b的不同区分总集合\n",
    "        eor2 ^= i # 其中一种数a\n",
    "eor1 ^= eor2\n",
    "print(eor1, eor2)\n",
    "    "
   ]
  },
  {
   "cell_type": "code",
   "execution_count": null,
   "metadata": {},
   "outputs": [],
   "source": []
  }
 ],
 "metadata": {
  "kernelspec": {
   "display_name": "Python 3.8.6 64-bit",
   "language": "python",
   "name": "python3"
  },
  "language_info": {
   "codemirror_mode": {
    "name": "ipython",
    "version": 3
   },
   "file_extension": ".py",
   "mimetype": "text/x-python",
   "name": "python",
   "nbconvert_exporter": "python",
   "pygments_lexer": "ipython3",
   "version": "3.8.6"
  },
  "orig_nbformat": 2,
  "vscode": {
   "interpreter": {
    "hash": "0aea4d3bd9f517439094973d7e036bbe588c23e6e36cf8d45d53b47a8a90b2b4"
   }
  }
 },
 "nbformat": 4,
 "nbformat_minor": 2
}
